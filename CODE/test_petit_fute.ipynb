{
 "cells": [
  {
   "cell_type": "code",
   "execution_count": 113,
   "metadata": {},
   "outputs": [],
   "source": [
    "import pandas as pd\n",
    "import re\n",
    "import ast\n",
    "from openpyxl import load_workbook\n",
    "import urllib.parse as ul"
   ]
  },
  {
   "cell_type": "code",
   "execution_count": 135,
   "metadata": {},
   "outputs": [
    {
     "name": "stderr",
     "output_type": "stream",
     "text": [
      "c:\\Users\\Hanaa\\AppData\\Local\\Programs\\Python\\Python312\\Lib\\site-packages\\openpyxl\\styles\\stylesheet.py:237: UserWarning: Workbook contains no default style, apply openpyxl's default\n",
      "  warn(\"Workbook contains no default style, apply openpyxl's default\")\n"
     ]
    }
   ],
   "source": [
    "liste_article_octobre = pd.read_excel(r'C:\\Users\\Hanaa\\Desktop\\PETITFUTE\\data\\exports\\listes_article_octobre.xlsx')\n",
    "stay22 = pd.read_csv(r'C:\\Users\\Hanaa\\Desktop\\PETITFUTE\\data\\exports\\Bookings from 2025-10-01 to 2025-10-29.csv',sep=',', index_col=False)\n",
    "gyg = pd.read_excel(r'C:\\Users\\Hanaa\\Desktop\\PETITFUTE\\data\\exports\\get-your-guide-gxcSWuH9.xlsx')\n",
    "booking = pd.read_csv(r'C:\\Users\\Hanaa\\Desktop\\PETITFUTE\\data\\exports\\bookingcom-Fp693Iv8.csv')\n"
   ]
  },
  {
   "cell_type": "code",
   "execution_count": 136,
   "metadata": {},
   "outputs": [],
   "source": [
    "liste_article_octobre['article_id'] = liste_article_octobre['URL'].str.extract(r'/(a\\d+)-')"
   ]
  },
  {
   "cell_type": "markdown",
   "metadata": {},
   "source": [
    "# MATCHING DIRECT"
   ]
  },
  {
   "cell_type": "markdown",
   "metadata": {},
   "source": [
    "## STAY22"
   ]
  },
  {
   "cell_type": "markdown",
   "metadata": {},
   "source": [
    "Ne garder que les liens petitfute"
   ]
  },
  {
   "cell_type": "code",
   "execution_count": 137,
   "metadata": {},
   "outputs": [],
   "source": [
    "stay22 = stay22[stay22['Campaign IDs'].fillna('').str.startswith(\"petitfute, a\")]\n",
    "\n",
    "# Extraction de l'id article \n",
    "\n",
    "stay22['article_id'] = stay22['Campaign IDs'].str.extract(r'(a\\d+)')"
   ]
  },
  {
   "cell_type": "code",
   "execution_count": 138,
   "metadata": {},
   "outputs": [],
   "source": [
    "# Agrégation des commissions par article_id\n",
    "commission_sum = stay22.groupby('article_id', as_index=False)['Commission'].sum()\n",
    "commission_sum = commission_sum.rename(columns={'Commission': 'STAY22_COMMISSION'})\n",
    "\n",
    "\n",
    "# Left join sur article_id\n",
    "merged = liste_article_octobre.merge(\n",
    "    commission_sum,\n",
    "    on='article_id',\n",
    "    how='left'\n",
    ")"
   ]
  },
  {
   "cell_type": "code",
   "execution_count": 139,
   "metadata": {},
   "outputs": [],
   "source": [
    "merged = merged[['Ville','Mois','URL','article_id','STAY22_COMMISSION']]"
   ]
  },
  {
   "cell_type": "markdown",
   "metadata": {},
   "source": [
    "## OPTI DIGITAL"
   ]
  },
  {
   "cell_type": "code",
   "execution_count": null,
   "metadata": {},
   "outputs": [],
   "source": [
    "# ===  Charger le fichier Excel avec les formules  ===\n",
    "wb = load_workbook(\n",
    "    r\"C:\\Users\\Hanaa\\Desktop\\PETITFUTE\\data\\exports\\Opti Digital Ad Manager Hub v5.0 - Petit Futé_Audience Analytics_Tableau.xlsx\",\n",
    "    data_only=False\n",
    ")\n",
    "ws = wb.active\n",
    "\n",
    "# ===  Extraire les URL ===\n",
    "urls = []\n",
    "for row in ws.iter_rows(min_col=3, max_col=3):  # colonne C\n",
    "    for cell in row:\n",
    "        if isinstance(cell.value, str) and cell.value.startswith('=HYPERLINK'):\n",
    "            match = re.search(r'\"(https?://[^\"]+)\"', cell.value)\n",
    "            url = match.group(1) if match else None\n",
    "            if isinstance(url, str) and \"google.com/url\" in url:\n",
    "                m = re.search(r\"q=(https[^&]+)\", url)\n",
    "                if m:\n",
    "                    url = ul.unquote(m.group(1))\n",
    "            urls.append(url)\n",
    "        else:\n",
    "            urls.append(cell.value)\n",
    "\n",
    "# --- Enlever la première ligne (header Excel) ---\n",
    "urls = urls[1:]\n",
    "\n",
    "# ===  Charger avec pandas ===\n",
    "opti = pd.read_excel(\n",
    "    r\"C:\\Users\\Hanaa\\Desktop\\PETITFUTE\\data\\exports\\Opti Digital Ad Manager Hub v5.0 - Petit Futé_Audience Analytics_Tableau.xlsx\"\n",
    ")\n",
    "\n",
    "# ===  Remplacer la colonne URL par les liens propres ===\n",
    "opti[\"URL\"] = urls\n",
    "\n",
    "# ===  Sélectionner les colonnes d’intérêt ===\n",
    "opti = opti[['Breakdown', 'URL', 'Net Revenue', 'Page Views', 'Pages RPM', 'Net eCPM', 'Prebid eCPM']]\n",
    "opti['article_id'] = opti['URL'].str.extract(r'/(a\\d+)-')"
   ]
  },
  {
   "cell_type": "code",
   "execution_count": 141,
   "metadata": {},
   "outputs": [],
   "source": [
    "opti = opti[opti['article_id'].notna()]\n",
    "\n",
    "# Agrégation des commissions par article_id\n",
    "commission_sum_opti = opti.groupby('article_id', as_index=False)['Net Revenue'].sum()\n",
    "commission_sum_opti = commission_sum_opti.rename(columns={'Net Revenue': 'OPTI_COMMISSION'})\n",
    "\n",
    "\n",
    "# Left join sur article_id\n",
    "merged = merged.merge(\n",
    "    commission_sum_opti,\n",
    "    on='article_id',\n",
    "    how='left'\n",
    ")"
   ]
  },
  {
   "cell_type": "code",
   "execution_count": null,
   "metadata": {},
   "outputs": [
    {
     "data": {
      "text/plain": [
       "np.float64(13144.24)"
      ]
     },
     "execution_count": 142,
     "metadata": {},
     "output_type": "execute_result"
    }
   ],
   "source": [
    "merged"
   ]
  },
  {
   "cell_type": "markdown",
   "metadata": {},
   "source": [
    "# MATCHING INDIRECT"
   ]
  },
  {
   "cell_type": "markdown",
   "metadata": {},
   "source": [
    "Création de la liste d'url de la base (ici octobre)"
   ]
  },
  {
   "cell_type": "code",
   "execution_count": 147,
   "metadata": {},
   "outputs": [],
   "source": [
    "base_URL = liste_article_octobre[['URL']]"
   ]
  },
  {
   "cell_type": "markdown",
   "metadata": {},
   "source": [
    "Code permettant pour chaque URL de la base de récupérer tous les liens booking et gyg présents\n",
    "- **Entrée** : base_URL \n",
    "    - contient tous les url de la base du mois\n",
    "- **Sortie** : df_final \n",
    "    - Contient pour chaque url de la base du mois  :  \n",
    "        - une liste des url booking \n",
    "        - une liste des url gyg"
   ]
  },
  {
   "cell_type": "code",
   "execution_count": null,
   "metadata": {},
   "outputs": [],
   "source": [
    "#!python scraping_petitfute.py"
   ]
  },
  {
   "cell_type": "markdown",
   "metadata": {},
   "source": [
    "Import du fichier généré"
   ]
  },
  {
   "cell_type": "code",
   "execution_count": 90,
   "metadata": {},
   "outputs": [],
   "source": [
    "df_final = pd.read_excel(r\"C:\\Users\\Hanaa\\Desktop\\PETITFUTE\\data\\outputs\\liens_partenaire_octobre.xlsx\")\n",
    "\n",
    "# Forcer en listes (et non str)\n",
    "df_final[\"getyourguide_links\"] = df_final[\"getyourguide_links\"].apply(\n",
    "    lambda x: ast.literal_eval(x) if isinstance(x, str) else x\n",
    ")"
   ]
  },
  {
   "cell_type": "markdown",
   "metadata": {},
   "source": [
    "## GET YOUR GUIDE"
   ]
  },
  {
   "cell_type": "code",
   "execution_count": 91,
   "metadata": {},
   "outputs": [],
   "source": [
    "def extract_gyg_ids_from_list(links):\n",
    "    \"\"\"Extrait tous les identifiants GetYourGuide (t + 5 ou 6 chiffres) d'une liste d'URLs.\"\"\"\n",
    "    if not isinstance(links, list):\n",
    "        return []\n",
    "    ids = []\n",
    "    for url in links:\n",
    "        # Cherche un motif 't' suivi de 5 ou 6 chiffres\n",
    "        match = re.search(r\"t\\d{5,6}\", url)\n",
    "        if match:\n",
    "            ids.append(match.group(0))\n",
    "    return ids"
   ]
  },
  {
   "cell_type": "code",
   "execution_count": 92,
   "metadata": {},
   "outputs": [],
   "source": [
    "# ✅ Appliquer la fonction à ta colonne existante\n",
    "df_final[\"id_getyourguide_link\"] = df_final[\"getyourguide_links\"].apply(extract_gyg_ids_from_list)"
   ]
  },
  {
   "cell_type": "code",
   "execution_count": 93,
   "metadata": {},
   "outputs": [
    {
     "data": {
      "application/vnd.microsoft.datawrangler.viewer.v0+json": {
       "columns": [
        {
         "name": "index",
         "rawType": "int64",
         "type": "integer"
        },
        {
         "name": "URL",
         "rawType": "object",
         "type": "string"
        },
        {
         "name": "getyourguide_links",
         "rawType": "object",
         "type": "unknown"
        },
        {
         "name": "booking_links",
         "rawType": "object",
         "type": "string"
        },
        {
         "name": "id_getyourguide_link",
         "rawType": "object",
         "type": "unknown"
        }
       ],
       "ref": "71bfe6e2-1918-4f12-a84d-e03e71fdd7c6",
       "rows": [
        [
         "0",
         "https://www.petitfute.com/v62250-kew/actualite/m17-top-10-insolites-voyage/a11635-que-faire-a-londres-a-noel-les-14-activites-incontournables.html",
         "['https://www.getyourguide.fr/londres-l57/londres-et-les-illuminations-de-noel-visite-a-velo-t41419/?partner_id=73QSLFK&utm_medium=online_publisher&cmp=actu-incontournables-londres_noel', 'https://www.getyourguide.fr/londres-l57/londres-illuminations-de-noel-en-bus-vintage-ouvert-t129039/?partner_id=73QSLFK&utm_medium=online_publisher&cmp=actu-incontournables-londres_noel', 'https://www.getyourguide.fr/londres-l57/harry-potter-visite-des-studios-warner-bros-a-londres-t31392/?partner_id=73QSLFK&utm_medium=online_publisher&cmp=actu-incontournables-londres_noel', 'https://www.getyourguide.fr/londres-l57/londres-visite-des-illuminations-de-noel-en-bus-t310718/?partner_id=73QSLFK&utm_medium=online_publisher&cmp=actu-incontournables-londres_noel', 'https://www.getyourguide.fr/jardins-botaniques-royaux-de-kew-l5161/londres-jardins-botaniques-royaux-de-kew-t34660/?partner_id=73QSLFK&utm_medium=online_publisher&cmp=actu-incontournables-londres_noel', 'https://www.getyourguide.fr/londres-l57/londres-visite-guidee-en-bus-a-toit-ouvert-des-lumieres-de-noel-de-nuit-t388700/?partner_id=73QSLFK&utm_medium=online_publisher&cmp=actu-incontournables-londres_noel']",
         "['https://www.booking.com/hotel/gb/ibis-london-blackfriars.fr.html?aid=356980&label=gog235jc-1FCAsoUEIXaWJpcy1sb25kb24tYmxhY2tmcmlhcnNIDVgDaE2IAQGYAQ24AQfIAQzYAQHoAQH4AQKIAgGoAgO4AqKo8LcGwAIB0gIkMjA5N2ZjNjgtZmRhYi00MzRlLThmOWYtOTYwMmFhOGRiNDk12AIF4AIB&sid=a0ed4f8119aafb08ddb2c34d69e8b88d&age=0;all_sr_blocks=42636801_94463129_2_42_0%2C42636801_94463129_2_42_0;checkin=2024-10-06;checkout=2024-10-07;dest_id=-2601889;dest_type=city;dist=0;group_adults=2;group_children=1;hapos=1;highlighted_blocks=42636801_94463129_2_42_0%2C42636801_94463129_2_42_0;hpos=1;matching_block_id=42636801_94463129_2_42_0;no_rooms=1;req_adults=2;req_age=0;req_children=1;room1=A%2CA%2C0;sb_price_type=total;sr_order=popularity;sr_pri_blocks=42636801_94463129_2_42_0__12834%2C42636801_94463129_2_42_0__12834;srepoch=1727796262;srpvid=6b066c51ed76067f;type=total;ucfs=1&#map_opened-hotel_address', 'https://www.booking.com/hotel/gb/ibis-london-blackfriars.fr.html?aid=2324560&no_rooms=1&group_adults=2&label=actu-londres-noel', 'https://www.booking.com/hotel/gb/therookery.fr.html?aid=2324560&no_rooms=1&group_adults=2&label=actu-londres-noel', 'https://www.booking.com/hotel/gb/sanderson.fr.html?aid=2324560&no_rooms=1&group_adults=2&label=actu-londres-noel']",
         "['t41419', 't129039', 't31392', 't310718', 't34660', 't388700']"
        ],
        [
         "1",
         "https://www.petitfute.com/v48299-bangli/actualite/m17-top-10-insolites-voyage/a11947-les-10-etapes-incontournables-pour-une-escapade-a-bali.html",
         "['https://www.getyourguide.fr/seminyak-l95096/kutabali-lecons-de-surf-privees-pour-debutants-et-intermediaires-t791280/?partner_id=73QSLFK&utm_medium=online_publisher&cmp=que_faire_bali', 'https://www.getyourguide.fr/bali-l347/visite-instagram-de-bali-les-endroits-les-plus-pittoresques-t162114/?partner_id=73QSLFK&utm_medium=online_publisher&cmp=que_faire_bali', 'https://www.getyourguide.fr/bali-l347/visite-de-taman-ayun-et-du-temple-de-tanah-lot-au-coucher-du-soleil-t393678/?partner_id=73QSLFK', 'https://www.getyourguide.fr/bali-l347/bali-decouverte-du-mysticisme-balinais-et-temple-de-kehen-t187641/?partner_id=73QSLFK', 'https://www.getyourguide.fr/bali-l347/le-meilleur-du-centre-de-bali-cascade-goa-gajah-rizieres-t55668/?partner_id=73QSLFK', 'https://www.getyourguide.fr/bali-l347/uluwatu-visite-a-pied-du-temple-et-de-la-falaise-de-karang-boma-avec-billet-t440490/?partner_id=73QSLFK', 'https://www.getyourguide.fr/bali-l347/bali-nord-cascades-de-sekumpul-et-temple-d-ulun-danu-t267767/?partner_id=73QSLFK', 'https://www.getyourguide.fr/bali-l347/nord-de-bali-dauphins-cascades-et-temples-a-l-aube-t101513/?partner_id=73QSLFK', 'https://www.getyourguide.fr/mont-batur-l84533/bali-mont-batur-sunrise-trek-avec-guide-t411965/?partner_id=73QSLFK']",
         "['https://www.booking.com/hotel/id/sanak-retreat-bali.fr.html?aid=2324560&no_rooms=1&group_adults=2&label=que_faire_bali', 'https://www.booking.com/hotel/id/pramana-watu-kurung-resort.fr.html?aid=2324560&no_rooms=1&group_adults=2&label=que_faire_bali', 'https://www.booking.com/hotel/id/the-sankara-suite-and-villa-ubud.fr.html?aid=2324560&no_rooms=1&group_adults=2&label=que_faire_bali']",
         "['t791280', 't162114', 't393678', 't187641', 't55668', 't440490', 't267767', 't101513', 't411965']"
        ],
        [
         "2",
         "https://www.petitfute.com/v43490-caldera-de-taburiente/actualite/m17-top-10-insolites-voyage/a12467-que-faire-aux-canaries-top-15-des-experiences-a-ne-pas-manquer.html",
         "['https://www.getyourguide.fr/tenerife-l350/visite-astronomique-du-mont-teide-t51524/?partner_id=73QSLFK&utm_medium=online_publisher&cmp=actu-incontournables-canaries', 'https://www.getyourguide.fr/tenerife-l350/depuis-adeje-visite-guidee-pour-groupes-de-photographie-t417569/?partner_id=73QSLFK&utm_medium=online_publisher&cmp=actu-incontournables-canaries', 'https://www.getyourguide.fr/el-hierro-l44931/transfert-aeroport-el-hierro-prive-t206580/?partner_id=73QSLFK&utm_medium=online_publisher&cmp=actu-incontournables-canaries', 'https://www.getyourguide.fr/tenerife-l350/depuis-arona-tour-de-la-gomera-t58006/?partner_id=73QSLFK&utm_medium=online_publisher&cmp=actu-incontournables-canaries', 'https://www.getyourguide.fr/fuerteventura-l419/fuerteventura-wild-north-tour-corralejo-combo-t534639/?partner_id=73QSLFK&utm_medium=online_publisher&cmp=actu-incontournables-canaries', 'https://www.getyourguide.fr/lanzarote-l421/tour-complet-de-lanzarote-t132558/?partner_id=73QSLFK&utm_medium=online_publisher&cmp=actu-incontournables-canaries', 'https://www.getyourguide.fr/grande-canarie-l418/dunes-de-maspalomas-promenade-a-dos-de-chameau-t212022/?partner_id=73QSLFK&utm_medium=online_publisher&cmp=Que_faire_aux_Canaries', 'https://www.getyourguide.fr/lanzarote-l421/tour-complet-de-lanzarote-t132558/?partner_id=73QSLFK&utm_medium=online_publisher&cmp=actu-incontournables-canaries']",
         "[]",
         "['t51524', 't417569', 't206580', 't58006', 't534639', 't132558', 't212022', 't132558']"
        ],
        [
         "3",
         "https://www.petitfute.com/v49846-genes/actualite/m17-top-10-insolites-voyage/a13620-que-faire-a-genes-les-17-incontournables-a-visiter.html",
         "['https://www.getyourguide.fr/genes-l1009/visite-a-pied-des-sites-incontournables-de-genes-t622176/?partner_id=73QSLFK&utm_medium=online_publisher&cmp=actu-incontournables-genes', 'https://www.getyourguide.fr/genes-l1009/genes-2-heures-de-visite-guidee-a-pied-du-centre-historique-t13191/?partner_id=73QSLFK&utm_medium=online_publisher&cmp=actu-incontournables-genes', 'https://www.getyourguide.fr/ligurie-l221/genes-billet-valable-48-h-pour-bus-a-arrets-multiples-t50734/?partner_id=73QSLFK&utm_medium=online_publisher&cmp=actu_incontournables_genes', 'https://www.getyourguide.fr/genes-l1009/visite-guidee-des-palais-rolli-de-genes-patrimoine-mondial-de-l-unesco-t29705/?partner_id=73QSLFK&utm_medium=online_publisher&cmp=actu-incontournables-genes', 'https://www.getyourguide.fr/genes-l1009/aquarium-de-genes-billet-coupe-file-t399086/?partner_id=73QSLFK&utm_medium=online_publisher&cmp=actu_incontournables_genes', 'https://www.getyourguide.fr/genes-l1009/genes-visite-culinaire-et-degustation-de-vin-a-pied-t817882/?partner_id=73QSLFK&utm_medium=online_publisher&cmp=actu-incontournables-genes', 'https://www.getyourguide.fr/genes-l1009/genes-visite-guidee-historique-de-la-maison-de-christophe-colomb-t413336/?partner_id=73QSLFK&utm_medium=online_publisher&cmp=actu_incontournables_genes', 'https://www.getyourguide.fr/genes-l1009/au-depart-de-genes-excursion-en-bateau-aller-retour-a-portofino-t414272/?partner_id=73QSLFK&utm_medium=online_publisher&cmp=actu_incontournables_genes']",
         "['https://www.booking.com/hotel/it/ostellin-genova-hostel-genoa.fr.html?aid=2324560&label=actu_incontournables_genes', 'https://www.booking.com/hotel/it/b-amp-b-genova.fr.html?aid=2324560&label=actu_incontournables_gene', 'https://www.booking.com/hotel/it/palazzo-grillo.fr.html?aid=2324560&label=actu_incontournables_genes']",
         "['t622176', 't13191', 't50734', 't29705', 't399086', 't817882', 't413336', 't414272']"
        ],
        [
         "4",
         "https://www.petitfute.com/v48986-copenhague/actualite/m17-top-10-insolites-voyage/a18238-les-incontournables-de-copenhague.html",
         "['https://www.getyourguide.fr/faelledparken-l12/copenhague-billet-d-entree-a-tivoli-t72048/?partner_id=73QSLFK&utm_medium=online_publisher&cmp=actu_incontournables_copenhague', 'https://www.getyourguide.fr/faelledparken-l12/copenhague-city-card-pass-pour-80-attractions-avec-metro-pass-t66660/?partner_id=73QSLFK&utm_medium=online_publisher&cmp=actu_incontournables_copenhague', 'https://www.getyourguide.fr/faelledparken-l12/copenhague-visite-du-quartier-de-norrebro-t504350/?partner_id=73QSLFK&utm_medium=online_publisher&cmp=actu_incontournables_copenhague', 'https://www.getyourguide.fr/faelledparken-l12/copenhague-tour-de-velo-de-90-minutes-t168407/?partner_id=73QSLFK&utm_medium=online_publisher&cmp=actu_incontournables_copenhague', 'https://www.getyourguide.fr/faelledparken-l12/copenhague-croisiere-sur-le-canal-de-gammel-strand-t37848/?partner_id=73QSLFK&utm_medium=online_publisher&cmp=actu_incontournables_copenhague', 'https://www.getyourguide.fr/faelledparken-l12/copenhague-tour-culinaire-a-velo-de-3-heures-t229054/?partner_id=73QSLFK&utm_medium=online_publisher&cmp=actu_incontournables_copenhague', 'https://www.getyourguide.fr/faelledparken-l12/copenhague-visite-de-3-h-a-velo-avec-un-guide-t168389/?partner_id=73QSLFK&utm_medium=online_publisher&cmp=actu_incontournables_copenhague']",
         "['https://www.booking.com/hotel/dk/steel-house-copenhagen.fr.html?aid=2324560&no_rooms=1&group_adults=2&label=actu_quefaire_copenhague', 'https://www.booking.com/hotel/dk/christian-iv.fr.html?aid=2324560&no_rooms=1&group_adults=2&label=actu_quefaire_copenhague', 'https://www.booking.com/hotel/dk/alexandra.fr.html?aid=2324560&no_rooms=1&group_adults=2&label=actu_quefaire_copenhague']",
         "['t72048', 't66660', 't504350', 't168407', 't37848', 't229054', 't168389']"
        ],
        [
         "5",
         "https://www.petitfute.com/v48159-marrakech/actualite/m17-top-10-insolites-voyage/a18462-que-faire-a-marrakech-les-15-incontournables.html",
         "['https://www.getyourguide.fr/marrakech-l208/jardins-de-majorelle-avec-billet-optionnel-pour-le-musee-ysl-et-le-musee-berbere-t593175/?partner_id=73QSLFK&utm_medium=online_publisher&cmp=que_faire_marrakech', 'https://www.getyourguide.fr/marrakech-l208/tombeaux-saadiens-et-palais-el-badi-et-de-la-bahia-visite-t348061/?partner_id=73QSLFK', 'https://www.getyourguide.fr/marrakech-l208/marrakech-balade-privee-a-cheval-a-la-palmeraie-avec-the-t609248/?partner_id=73QSLFK&utm_medium=online_publisher&cmp=que_faire_marrakech', 'https://www.getyourguide.fr/marrakech-l208/marrakech-palais-de-la-bahia-tombeaux-saadiens-et-mosquee-de-la-koutoubia-t348061/?partner_id=73QSLFK&utm_medium=online_publisher&cmp=que_faire_marrakech', 'https://www.getyourguide.fr/marrakech-l208/tombeaux-saadiens-et-palais-el-badi-et-de-la-bahia-visite-t348061/?partner_id=73QSLFK', 'https://www.getyourguide.fr/marrakech-l208/ballooning-vol-low-cost-marrakech-t468535/?partner_id=73QSLFK&utm_medium=online_publisher&cmp=que_faire_marrakech']",
         "['https://www.booking.com/hotel/ma/riad-le-rihani.en.html?aid=2324560', 'https://www.booking.com/hotel/ma/riad-dia.fr.html?aid=2324560&no_rooms=1&group_adults=2&label=que_faire_marrakech', 'https://www.booking.com/hotel/ma/riad-matham.fr.html?aid=2324560&no_rooms=1&group_adults=2&label=que_faire_marrakech']",
         "['t593175', 't348061', 't609248', 't348061', 't348061', 't468535']"
        ],
        [
         "6",
         "https://www.petitfute.com/v38789-palerme/actualite/m17-top-10-insolites-voyage/a19643-que-faire-que-visiter-en-sicile-les-20-incontournables.html",
         "['https://www.getyourguide.fr/palerme-l387/palerme-billet-24-h-pour-bus-a-arrets-multiples-t50725/?partner_id=73QSLFK', 'https://www.getyourguide.fr/stromboli-l109057/stromboli-randonnee-au-sommet-de-sciara-del-fuoco-t227827/?partner_id=73QSLFK&utm_medium=online_publisher&cmp=actu-incontournables-sicile', 'https://www.getyourguide.fr/catane-l258/catane-balade-a-pied-t353891/?partner_id=73QSLFK', 'https://www.getyourguide.fr/agrigente-l1158/visite-guidee-de-la-vallee-des-temples-en-coupe-file-t407067/?partner_id=73QSLFK&utm_medium=online_publisher&cmp=actu-incontournables-sicile', 'https://www.getyourguide.fr/syracuse-italie-l1115/syracuse-billet-d-entree-au-parc-archeologique-de-neapolis-t429723/?partner_id=73QSLFK', 'https://www.getyourguide.fr/catane-l258/catane-excursion-sur-l-etna-et-degustation-t395066/?partner_id=73QSLFK', 'https://www.getyourguide.fr/palerme-l387/palerme-excursion-d-une-journee-a-segesta-erice-et-les-salines-t63361/?partner_id=73QSLFK&utm_medium=online_publisher&cmp=actu-incontournables-sicile', 'https://www.getyourguide.fr/palerme-l387/palerme-excursion-d-une-journee-a-segesta-erice-et-les-salines-t63361/?partner_id=73QSLFK&utm_medium=online_publisher&cmp=actu-incontournables-sicile', 'https://www.getyourguide.fr/palerme-l387/sicile-excursion-a-monreale-et-cefalu-depuis-palerme-t63358/?partner_id=73QSLFK']",
         "[]",
         "['t50725', 't227827', 't353891', 't407067', 't429723', 't395066', 't63361', 't63361', 't63358']"
        ],
        [
         "7",
         "https://www.petitfute.com/v50211-venise/actualite/m17-top-10-insolites-voyage/a29266-que-faire-a-venise-en-3-jours-conseils-de-visites.html",
         "[]",
         "[]",
         "[]"
        ],
        [
         "8",
         "https://www.petitfute.com/v50580-valence/actualite/m17-top-10-insolites-voyage/a29645-que-faire-a-valence-en-espagne-les-19-incontournables.html",
         "['https://www.getyourguide.fr/valence-l49/valencia-bus-turistic-route-maritime-t41773/?partner_id=73QSLFK&utm_medium=online_publisher&cmp=actu-incontournables-valence', 'https://www.getyourguide.fr/valence-l49/valence-billet-pour-le-sea-life-center-de-l-oceanografic-t413877/?partner_id=73QSLFK&utm_medium=online_publisher&cmp=actu-incontournables-valence', 'https://www.getyourguide.fr/valence-l49/entree-au-musee-des-sciences-principe-felipe-a-valence-t414583/?partner_id=73QSLFK&utm_medium=online_publisher&cmp=actu-incontournables-valence', 'https://www.getyourguide.fr/valence-l49/valence-billet-pour-le-sea-life-center-de-l-oceanografic-t413877/?partner_id=73QSLFK&utm_medium=online_publisher&cmp=actu-incontournables-valence', 'https://www.getyourguide.fr/valence-l49/valence-croisiere-en-catamaran-avec-option-coucher-de-soleil-t409759/?partner_id=73QSLFK&utm_medium=online_publisher&cmp=actu-incontournables-valence', 'https://www.getyourguide.fr/valence-l49/valence-carte-touristique-de-24-48-ou-72-heures-pour-valence-t19728/?partner_id=73QSLFK&utm_medium=online_publisher&cmp=actu-incontournables-valence', 'https://www.getyourguide.fr/valence-l49/valence-visite-de-la-cathedrale-de-saint-nicolas-et-de-la-lonja-de-la-seda-t433051/?partner_id=73QSLFK&utm_medium=online_publisher&cmp=actu-incontournables-valence', 'https://www.getyourguide.fr/valence-l49/valence-3-heures-de-velo-t166100/?partner_id=73QSLFK&utm_medium=online_publisher&cmp=actu-incontournables-valence', 'https://www.getyourguide.fr/valence-l49/valence-tours-en-jet-ski-t444601/?partner_id=73QSLFK&utm_medium=online_publisher&cmp=actu-incontournables-valence', 'https://www.getyourguide.fr/valence-l49/depuis-valence-bus-croisiere-et-dejeuner-dans-le-parc-naturel-de-l-albufera-t51459/?partner_id=73QSLFK&utm_medium=online_publisher&cmp=actu-incontournables-valence', 'https://www.getyourguide.fr/valence-l49/valence-bioparc-valencia-billet-d-entree-t828748/?partner_id=73QSLFK&utm_medium=online_publisher&cmp=actu-incontournables-valence']",
         "['https://www.booking.com/hotel/es/hostal-antigua-morellana.en.html?aid=2324560&label=actu_quefaire_valence_espagne', 'https://www.booking.com/hotel/es/the-westin-alameda-valencia.en.html?aid=2324560&label=actu_quefaire_valence_espagne', 'https://www.booking.com/hotel/es/miramar-valencia.en.html?aid=2324560&label=actu_quefaire_valence_espagne', 'https://www.booking.com/hotel/es/miramar-valencia.en.html?aid=2324560']",
         "['t41773', 't413877', 't414583', 't413877', 't409759', 't19728', 't433051', 't166100', 't444601', 't51459', 't828748']"
        ],
        [
         "9",
         "https://www.petitfute.com/v39823-rome/actualite/m17-top-10-insolites-voyage/a30996-comment-visiter-rome-en-3-jours-conseils-ditineraire-a-faire.html ",
         "['https://www.getyourguide.fr/colisee-l2619/rome-coupe-file-colisee-forum-romain-et-mont-palatin-t217527/?partner_id=73QSLFK', 'https://www.getyourguide.fr/colisee-l2619/visite-guidee-du-colisee-du-forum-romain-et-du-palatin-t195566/?partner_id=73QSLFK&utm_medium=online_publisher&cmp=actu-3jours_rome', 'https://www.getyourguide.fr/rome-l33/rome-musee-romain-de-l-empire-avec-entree-hebergee-t214890/?partner_id=73QSLFK', 'https://www.getyourguide.fr/rome-l33/rome-billet-d-entree-rapide-au-pantheon-avec-audioguide-t490776/?partner_id=73QSLFK', 'https://www.getyourguide.fr/rome-l33/billets-d-entree-a-la-galerie-borghese-t719993/?partner_id=73QSLFK&utm_medium=online_publisher&cmp=actu-3jours_rome', 'https://www.getyourguide.fr/musees-du-vatican-l2738/billet-coupe-file-pour-les-musees-du-vatican-et-la-chapelle-sixtine-t62214/?partner_id=73QSLFK&utm_medium=online_publisher&cmp=actu-3jours_rome', 'https://www.getyourguide.fr/rome-l33/coupe-file-dome-saint-pierre-avec-audioguide-t53689/?partner_id=73QSLFK&utm_medium=online_publisher&cmp=actu-3jours_rome', 'https://www.getyourguide.fr/chateau-saint-ange-l2902/castel-sant-angelo-entree-coupe-file-et-audioguide-en-option-t415831/?partner_id=73QSLFK&utm_medium=online_publisher&cmp=actu-3jours_rome', 'https://www.getyourguide.fr/rome-l33/rome-trastevere-ou-visite-culinaire-du-quartier-juif-t251502/?partner_id=73QSLFK&utm_medium=online_publisher&cmp=actu-3jours_rome', 'https://www.getyourguide.fr/rome-l33/rome-visite-en-bicyclette-electrique-t401563/?partner_id=73QSLFK']",
         "['https://www.booking.com/hotel/it/locanda-carmel.fr.html?aid=2324560&label=rome-3jours', 'https://www.booking.com/hotel/it/hotelgardaroma.fr.html?aid=2324560', 'https://www.booking.com/hotel/it/grifo.fr.html?aid=2324560&label=rome-3jours']",
         "['t217527', 't195566', 't214890', 't490776', 't719993', 't62214', 't53689', 't415831', 't251502', 't401563']"
        ],
        [
         "10",
         "https://www.petitfute.com/v51354-naples/actualite/m17-top-10-insolites-voyage/a31152-comment-visiter-naples-en-3-jours-conseils-d-itineraire.html",
         "['https://www.getyourguide.fr/naples-l162/billet-de-24-heures-pour-la-visite-en-bus-a-arrets-multiples-de-naples-t50723/?partner_id=73QSLFK&utm_medium=online_publisher&cmp=actu-3jours_naples', 'https://www.getyourguide.fr/naples-l162/naples-le-mont-vesuve-billet-coupe-file-et-audioguide-t446803/?partner_id=73QSLFK&utm_medium=online_publisher&cmp=actu-3jours_naples', 'https://www.getyourguide.fr/pompei-campanie-l156880/pompei-billet-d-entree-et-visite-guidee-avec-un-archeologue-t161715/?partner_id=73QSLFK&utm_medium=online_publisher&cmp=actu-3jours_naples', 'https://www.getyourguide.fr/site-archeologique-de-pompei-l685/billet-d-entree-prioritaire-pour-pompei-t69330/?partner_id=73QSLFK&utm_medium=online_publisher&cmp=actu-3jours_naples', 'https://www.getyourguide.fr/naples-l162/herculanum-visite-guidee-en-coupe-file-avec-un-archeologue-t204331/?partner_id=73QSLFK&utm_medium=online_publisher&cmp=actu-3jours_naples', 'https://www.getyourguide.fr/naples-l162/herculanum-billet-coupe-file-et-audioguide-t563654/?partner_id=73QSLFK&utm_medium=online_publisher&cmp=actu-3jours_naples', 'https://www.getyourguide.fr/naples-l162/naples-billet-pour-le-musee-archeologique-national-t229513/?partner_id=73QSLFK', 'https://www.getyourguide.fr/naples-l162/billet-et-visite-guidee-des-catacombes-de-san-gennaro-t113923/?partner_id=73QSLFK', 'https://www.getyourguide.fr/souterrains-de-naples-l89414/billet-d-entree-pour-le-metro-de-naples-t144159/?partner_id=73QSLFK&utm_medium=online_publisher&cmp=actu-3jours_naples', 'https://www.getyourguide.com/naples-l162/']",
         "['https://www.booking.com/hotel/it/hotelcasanova.fr.html?aid=2324560', 'https://www.booking.com/hotel/it/hostelofthesunapoli.fr.html?aid=2324560&label=naples-3jours', 'https://www.booking.com/hotel/it/palazzo-alabardieri.fr.html?aid=2324560']",
         "['t50723', 't446803', 't161715', 't69330', 't204331', 't563654', 't229513', 't113923', 't144159']"
        ],
        [
         "11",
         "https://www.petitfute.com/v42286-barcelone/actualite/m17-top-10-insolites-voyage/a31405-que-faire-a-barcelone-en-3-jours-conseils-d-itineraire.html",
         "['https://www.getyourguide.fr/barcelone-l45/barcelona-card-offres-et-reductions-2-3-4-ou-5-jours-t22219/?partner_id=73QSLFK', 'https://www.getyourguide.fr/barcelone-l45/barcelone-l-experience-10d-de-la-casa-batllo-t398519/?partner_id=73QSLFK&utm_medium=online_publisher&cmp=actu-3jours_barcelone', 'https://www.getyourguide.fr/barcelone-l45/barcelone-visite-en-bus-a-arrets-a-arrets-multiples-de-24-ou-48-heures-t1225/?partner_id=73QSLFK&utm_medium=online_publisher&cmp=actu-3jours_barcelone', 'https://www.getyourguide.fr/barcelone-l45/barcelone-billet-pour-l-exposition-immersive-du-barca-t449261/?partner_id=73QSLFK&utm_medium=online_publisher&cmp=actu-3jours_barcelone', 'https://www.getyourguide.fr/sagrada-familia-l2699/sagrada-familia-billet-coupe-file-t50027/?partner_id=73QSLFK&utm_medium=online_publisher&cmp=actu-3jours_barcelone', 'https://www.getyourguide.fr/barcelone-l45/billets-coupe-file-pour-l-entree-au-parc-guell-t53791/?partner_id=73QSLFK&utm_medium=online_publisher&cmp=actu-3jours_barcelone', 'https://www.getyourguide.fr/barcelone-l45/barcelone-ticket-aller-retour-pour-le-telepherique-de-montjuic-t23477/?partner_id=73QSLFK&utm_medium=online_publisher&cmp=actu-3jours_barcelone', 'https://www.getyourguide.fr/barcelone-l45/el-born-visite-de-la-basilique-santa-maria-del-mar-et-acces-a-la-terrasse-t448206/?partner_id=73QSLFK&utm_medium=online_publisher&cmp=actu-3jours_barcelone', 'https://www.getyourguide.com/barcelone-l45/']",
         "['https://www.booking.com/hotel/es/hostal-fernando.fr.html?aid=356980&label=gog235jc-1FCAsoRkIPaG9zdGFsLWZlcm5hbmRvSA1YA2hNiAEBmAENuAEHyAEM2AEB6AEB-AECiAIBqAIDuAK6_MjABsACAdICJDZmYjlmOWVlLTAyZjgtNGRjYi05NTg4LTRmMjBkZTI2MzhjY9gCBeACAQ&sid=6638e020b5a28e553d7f5e1410fafe86&age=1&all_sr_blocks=17314803_105612970_0_2_0&checkin=2025-06-26&checkout=2025-06-29&dest_id=-372490&dest_type=city&dist=0&group_adults=2&group_children=0&hapos=1&highlighted_blocks=17314803_105612970_0_2_0&hpos=1&matching_block_id=17314803_105612970_0_2_0&no_rooms=1&req_adults=2&req_children=0&room1=A%2CA&sb_price_type=total&sr_order=popularity&sr_pri_blocks=17314803_105612970_0_2_0__54897&srepoch=1746026053&srpvid=bb756b1dff04044a&type=total&ucfs=1&#map_opened-map_trigger_header_pin', 'https://www.booking.com/hotel/es/hostal-fernando.fr.html?aid=2324560&label=3jours_barcelone', 'https://www.booking.com/hotel/es/hostal-fernando.fr.html?aid=356980&label=gog235jc-1FCAsoRkIPaG9zdGFsLWZlcm5hbmRvSA1YA2hNiAEBmAENuAEHyAEM2AEB6AEB-AECiAIBqAIDuAK6_MjABsACAdICJDZmYjlmOWVlLTAyZjgtNGRjYi05NTg4LTRmMjBkZTI2MzhjY9gCBeACAQ&sid=6638e020b5a28e553d7f5e1410fafe86&age=1&all_sr_blocks=17314803_105612970_0_2_0&checkin=2025-06-26&checkout=2025-06-29&dest_id=-372490&dest_type=city&dist=0&group_adults=2&group_children=0&hapos=1&highlighted_blocks=17314803_105612970_0_2_0&hpos=1&matching_block_id=17314803_105612970_0_2_0&no_rooms=1&req_adults=2&req_children=0&room1=A%2CA&sb_price_type=total&sr_order=popularity&sr_pri_blocks=17314803_105612970_0_2_0__54897&srepoch=1746026053&srpvid=bb756b1dff04044a&type=total&ucfs=1&#map_opened-map_trigger_header_pin', 'https://www.booking.com/hotel/es/yellow-nest-hostel.fr.html?aid=356980&label=gog235jc-1FCAsoRkISeWVsbG93LW5lc3QtaG9zdGVsSA1YA2hNiAEBmAENuAEHyAEM2AEB6AEB-AECiAIBqAIDuALl_cjABsACAdICJGY5MzA1YWI3LTI4YTctNDIyMy1iYjIwLWY5ZmFlOGYzZTc5Y9gCBeACAQ&sid=6638e020b5a28e553d7f5e1410fafe86&age=1&all_sr_blocks=31117701_170582352_0_0_0%2C31117701_170582352_0_0_0&checkin=2025-06-26&checkout=2025-06-29&dest_id=-372490&dest_type=city&dist=0&group_adults=2&group_children=0&hapos=1&highlighted_blocks=31117701_170582352_0_0_0%2C31117701_170582352_0_0_0&hpos=1&matching_block_id=31117701_170582352_0_0_0&no_rooms=1&req_adults=2&req_children=0&room1=A%2CA&sb_price_type=total&sr_order=popularity&sr_pri_blocks=31117701_170582352_0_0_0__14177%2C31117701_170582352_0_0_0__14177&srepoch=1746026224&srpvid=54b46b73b3630326&type=total&ucfs=1&#map_opened-map_trigger_header_pin', 'https://www.booking.com/hotel/es/yellow-nest-hostel.fr.html?aid=2324560&label=3jours_barcelone', 'https://www.booking.com/hotel/es/yellow-nest-hostel.fr.html?aid=356980&label=gog235jc-1FCAsoRkISeWVsbG93LW5lc3QtaG9zdGVsSA1YA2hNiAEBmAENuAEHyAEM2AEB6AEB-AECiAIBqAIDuALl_cjABsACAdICJGY5MzA1YWI3LTI4YTctNDIyMy1iYjIwLWY5ZmFlOGYzZTc5Y9gCBeACAQ&sid=6638e020b5a28e553d7f5e1410fafe86&age=1&all_sr_blocks=31117701_170582352_0_0_0%2C31117701_170582352_0_0_0&checkin=2025-06-26&checkout=2025-06-29&dest_id=-372490&dest_type=city&dist=0&group_adults=2&group_children=0&hapos=1&highlighted_blocks=31117701_170582352_0_0_0%2C31117701_170582352_0_0_0&hpos=1&matching_block_id=31117701_170582352_0_0_0&no_rooms=1&req_adults=2&req_children=0&room1=A%2CA&sb_price_type=total&sr_order=popularity&sr_pri_blocks=31117701_170582352_0_0_0__14177%2C31117701_170582352_0_0_0__14177&srepoch=1746026224&srpvid=54b46b73b3630326&type=total&ucfs=1&#map_opened-map_trigger_header_pin', 'https://www.booking.com/hotel/es/w-barcelona.fr.html?aid=2324560&label=3jours_barcelone']",
         "['t22219', 't398519', 't449261', 't50027', 't53791', 't23477', 't448206']"
        ],
        [
         "12",
         "https://www.petitfute.com/v50459-londres/actualite/m17-top-10-insolites-voyage/a31484-que-faire-a-londres-en-3-jours-conseils-ditineraire.html ",
         "['https://www.getyourguide.fr/londres-l57/londres-visite-guidee-des-points-forts-de-la-national-gallery-t415465/?partner_id=73QSLFK&utm_medium=online_publisher&cmp=actu_3jours_londres', 'https://www.getyourguide.fr/londres-l57/londres-visite-de-la-tate-modern-avec-un-expert-en-art-t494927/?partner_id=73QSLFK&utm_medium=online_publisher&cmp=actu_3jours_londres']",
         "['https://www.booking.com/hotel/gb/ibis-london-city.fr.html?aid=2324560&no_rooms=1&group_adults=2&label=actu_3jours_londres', 'https://www.booking.com/hotel/gb/blakemore.fr.html?aid=2324560&no_rooms=1&group_adults=2&label=actu_3jours_londres', 'https://www.booking.com/hotel/gb/notting-hill-hostel.fr.html?aid=2324560&no_rooms=1&group_adults=2&label=londres_3_jours']",
         "['t415465', 't494927']"
        ],
        [
         "13",
         "https://www.petitfute.com/v48153-berlin/actualite/m17-top-10-insolites-voyage/a32105-que-faire-et-que-voir-a-berlin-en-3-jours.html",
         "[]",
         "['https://www.booking.com/hotel/de/meininger-berlin-mitte.fr.html?aid=2324560&no_rooms=1&group_adults=2&label=actu_3joursberlin', 'https://www.booking.com/hotel/de/eastern-comfort-hostel-boat.fr.html?aid=2324560&no_rooms=1&group_adults=2&label=actu_3joursberlin', 'https://www.booking.com/hotel/de/nhow-berlin.fr.html?aid=2324560&no_rooms=1&group_adults=2&label=actu_3joursberlin', 'https://www.booking.com/hotel/de/meininger-berlin-mitte.fr.html?aid=2324560&no_rooms=1&group_adults=2&label=actu_3joursberlin', 'https://www.booking.com/hotel/de/eastern-comfort-hostel-boat.fr.html?aid=2324560&no_rooms=1&group_adults=2&label=actu_3joursberlin', 'https://www.booking.com/hotel/de/nhow-berlin.fr.html?aid=2324560&no_rooms=1&group_adults=2&label=actu_3joursberlin']",
         "[]"
        ],
        [
         "14",
         "https://www.petitfute.com/v11387-saint-aignan-41110/actualite/m17-top-10-insolites-voyage/a32183-que-faire-autour-du-zoo-de-beauval-17-idees-de-visites.html",
         "['https://www.getyourguide.fr/tours-france-l1320/visite-guidee-immersive-de-tours-au-13e-siecle-t495049/?partner_id=73QSLFK&utm_medium=online_publisher&cmp=actu_incontournables_autour_beauval', 'https://www.getyourguide.fr/les-chateaux-de-la-loire-l7956/chateau-de-chenonceau-billet-d-entree-t176736/?partner_id=73QSLFK&utm_medium=online_publisher&cmp=actu_incontournables_autour_beauval', 'https://www.getyourguide.fr/les-chateaux-de-la-loire-l7956/chambord-billet-coupe-file-t183794/?partner_id=73QSLFK&utm_medium=online_publisher&cmp=actu_incontournables_autour_beauval', 'https://www.getyourguide.fr/chateau-de-blois-l35246/billet-d-entree-au-chateau-de-blois-t394721/?partner_id=73QSLFK&utm_medium=online_publisher&cmp=actu_incontournables_autour_beauval']",
         "[]",
         "['t495049', 't176736', 't183794', 't394721']"
        ],
        [
         "15",
         "https://www.petitfute.com/actualite/m17-top-10-insolites-voyage/a32259-conseils-et-astuces-pour-organiser-votre-journee-au-parc-animalier-planete-sauvage.html",
         "[]",
         "[]",
         "[]"
        ],
        [
         "16",
         "https://www.petitfute.com/v18720-aigues-mortes-30220/actualite/m17-top-10-insolites-voyage/a32449-que-faire-en-camargue-les-15-plus-beaux-endroits-a-visiter.html",
         "[]",
         "[]",
         "[]"
        ],
        [
         "17",
         "https://www.petitfute.com/v41612-koh-phi-phi-leh/actualite/m17-top-10-insolites-voyage/a32655-que-faire-que-visiter-a-phuket-top-19-des-activites-incontournables.html",
         "['https://www.getyourguide.fr/phuket-l32123/excursion-d-une-demi-journee-sur-l-ile-de-phuket-avec-big-buddha-t482589/?partner_id=73QSLFK&utm_medium=online_publisher&cmp=actu_incontournables_phuket', 'https://www.getyourguide.fr/thailande-du-sud-et-cote-d-andaman-l32457/phuket-excursion-d-une-journee-sur-l-ile-de-james-bond-en-bateau-rapide-avec-dejeuner-t414764/?partner_id=73QSLFK&utm_medium=online_publisher&cmp=actu_incontournables_phuket', 'https://www.getyourguide.fr/phuket-ville-l187/phuket-explorer-decouvrez-les-charmes-de-la-ville-circuit-d-une-demi-journee-t511804/?partner_id=73QSLFK&utm_medium=online_publisher&cmp=actu_incontournables_phuket', 'https://www.getyourguide.fr/iles-phi-phi-l9477/phi-phi-excursion-privee-en-bateau-a-queue-longue-a-maya-bay-t442354/?partner_id=73QSLFK&utm_medium=online_publisher&cmp=actu_incontournables_phuket', 'https://www.getyourguide.fr/phuket-l32123/phuket-sanctuaire-de-la-jungle-des-elephants-alimentation-et-douche-t567850/?partner_id=73QSLFK&utm_medium=online_publisher&cmp=actu_incontournables_phuket', 'https://www.getyourguide.fr/phuket-l32123/phuket-billet-d-entree-pour-le-spectacle-simon-cabaret-t75342/?partner_id=73QSLFK&utm_medium=online_publisher&cmp=actu_incontournables_phuket', 'https://www.getyourguide.fr/phuket-l32123/depuis-phuketkhaolak-visite-matinale-des-iles-similan-t176829/?partner_id=73QSLFK&utm_medium=online_publisher&cmp=actu_incontournables_phuket', 'https://www.getyourguide.fr/phuket-l32123/patong-billets-transferts-bangla-boxing-stadium-t184862/?partner_id=73QSLFK&utm_medium=online_publisher&cmp=actu_incontournables_phuket', 'https://www.getyourguide.com/phuket-l32123/']",
         "['https://www.booking.com/hotel/th/the-surin-phuket.fr.html?aid=2324560&no_rooms=1&group_adults=2&label=actu_incontournables_phuket', 'https://www.booking.com/hotel/th/centara-grand-beach-resort-phuket.fr.html?aid=2324560&no_rooms=1&group_adults=2&label=actu_incontournables_phuket', 'https://www.booking.com/hotel/th/cape-panwa.fr.html?aid=2324560&no_rooms=1&group_adults=2&label=actu_incontournables_phuket']",
         "['t482589', 't414764', 't511804', 't442354', 't567850', 't75342', 't176829', 't184862']"
        ],
        [
         "18",
         "https://www.petitfute.com/d1581-paros/actualite/m17-top-10-insolites-voyage/a36143-que-faire-que-visiter-a-paros-les-15-activites-incontournables.html",
         "['https://www.getyourguide.fr/paros-l88737/cours-de-cuisine-a-paros-t453303/?partner_id=73QSLFK&utm_medium=online_publisher&cmp=actu-incontournables-paros', 'https://www.getyourguide.fr/naousa-l165327/paros-excursion-avec-peche-et-degustation-a-naoussa-t705253/?partner_id=73QSLFK&utm_medium=online_publisher&cmp=actu-incontournables-paros', 'https://www.getyourguide.fr/paros-l88737/paros-degustation-de-vin-vin-naturel-t714534/?partner_id=73QSLFK&utm_medium=online_publisher&cmp=actu-incontournables-paros', 'https://www.getyourguide.fr/antiparos-l163280/tour-de-paros-et-antiparos-traversee-en-ferry-villages-et-plages-t765017/?partner_id=73QSLFK&utm_medium=online_publisher&cmp=actu-incontournables-paros', 'https://www.getyourguide.fr/paros-l88737/paros-randonnee-a-cheval-au-coucher-du-soleil-t917314/?partner_id=73QSLFK&utm_medium=online_publisher&cmp=actu-incontournables-paros', 'https://www.getyourguide.fr/paros-l88737/paros-journee-entiere-de-location-de-petits-bateaux-avec-conduite-autonome-t399872/?partner_id=73QSLFK&utm_medium=online_publisher&cmp=actu-incontournables-paros', 'https://www.getyourguide.fr/paros-l88737/au-depart-de-paros-croisiere-de-baignade-autour-d-antiparos-et-du-despotiko-t509492/?partner_id=73QSLFK&utm_medium=online_publisher&cmp=actu-incontournables-paros', 'https://www.getyourguide.fr/krotiri-l193769/visite-des-iles-paros-et-antiparos-avec-guide-anglophone-t550730/?partner_id=73QSLFK&utm_medium=online_publisher&cmp=actu-incontournables-paros']",
         "['https://www.booking.com/hotel/gr/akrotiri-akrotiri.fr.html?aid=2324560&no_rooms=1&group_adults=2&label=actu_incontournables_paros', 'https://www.booking.com/hotel/gr/kanale-s-rooms-suites-naoussa.fr.html?aid=2324560&no_rooms=1&group_adults=2&label=actu_incontournables_paros', 'https://www.booking.com/hotel/gr/aloni.fr.html?aid=2324560&no_rooms=1&group_adults=2&label=actu_incontournables_paros']",
         "['t453303', 't705253', 't714534', 't765017', 't917314', 't399872', 't509492', 't550730']"
        ],
        [
         "19",
         "https://www.petitfute.com/v44465-hammamet-8050/actualite/m17-top-10-insolites-voyage/a36296-que-visiter-a-hammamet-les-11-incontournables-a-faire-2.html",
         "['https://www.getyourguide.com/hammamet-l303/']",
         "['https://www.booking.com/hotel/tn/le-sultan.fr.html?aid=2324560&no_rooms=1&group_adults=2&label=actu_incontournables_hammamet', 'https://www.booking.com/hotel/tn/the-sindbad-hammamet.fr.html?aid=2324560&no_rooms=1&group_adults=2&label=actu_incontournables_hammamet', 'https://www.booking.com/hotel/tn/palace-hammamet-marhaba.fr.html?aid=2324560&no_rooms=1&group_adults=2&label=actu_incontournables_hammamet']",
         "[]"
        ],
        [
         "20",
         "https://www.petitfute.com/v45247-amsterdam/actualite/m17-top-10-insolites-voyage/a36350-que-faire-que-visiter-a-amsterdam-en-2-ou-3-jours-conseils-ditineraire.html",
         "['https://www.getyourguide.fr/amsterdam-l36/palais-royal-d-amsterdam-billet-coupe-file-et-audio-guide-t131313/?partner_id=73QSLFK&utm_medium=online_publisher&cmp=actu_incontournables_3_jours_amsterdam', 'https://www.getyourguide.fr/amsterdam-l36/amsterdam-visite-a-pied-themes-anne-frank-et-2nde-guerre-t250362/?partner_id=73QSLFK&utm_medium=online_publisher&cmp=actu_incontournables_3_jours_amsterdam', 'https://www.getyourguide.fr/amsterdam-l36/croisiere-sur-les-canaux-d-amsterdam-t56671/?partner_id=73QSLFK&utm_medium=online_publisher&cmp=amsterdam_3_jours', 'https://www.getyourguide.fr/amsterdam-l36/amsterdam-entree-prioritaire-au-rijksmuseum-t7135/?partner_id=73QSLFK&utm_medium=online_publisher&cmp=actu_incontournables_3_jours_amsterdam', 'https://www.getyourguide.fr/s?partner_id=73QSLFK&utm_medium=online_publisher&cmp=actu_incontournables_3_jours_amsterdam&q=Amsterdam&et=68975&lc=36', 'https://www.getyourguide.fr/amsterdam-l36/amsterdam-billet-d-entree-autoguide-au-musee-artis-groote-t326194/?partner_id=73QSLFK&utm_medium=online_publisher&cmp=actu_incontournables_3_jours_amsterdam', 'https://www.getyourguide.com/amsterdam-l36/']",
         "['https://www.booking.com/hotel/nl/modern-times-amsterdam.fr.html?aid=2324560&no_rooms=1&group_adults=2&label=amsterdam_3_jours', 'https://www.booking.com/hotel/nl/this-hos-t-el.fr.html?aid=2324560&no_rooms=1&group_adults=2&label=amsterdam_3_jours', 'https://www.booking.com/hotel/nl/bwdelphihotel.fr.html?aid=2324560&no_rooms=1&group_adults=2&label=amsterdam_3_jours', 'https://www.booking.com/hotel/nl/modern-times-amsterdam.fr.html?aid=2324560&no_rooms=1&group_adults=2&label=amsterdam_3_jours', 'https://www.booking.com/hotel/nl/this-hos-t-el.fr.html?aid=2324560&no_rooms=1&group_adults=2&label=amsterdam_3_jours', 'https://www.booking.com/hotel/nl/bwdelphihotel.fr.html?aid=2324560&no_rooms=1&group_adults=2&label=amsterdam_3_jours']",
         "['t131313', 't250362', 't56671', 't326194']"
        ],
        [
         "21",
         "https://www.petitfute.com/v51713-vienne/actualite/m17-top-10-insolites-voyage/a36390-que-faire-que-visiter-a-vienne-en-2-ou-3-jours-conseils-ditineraire.html",
         "['https://www.getyourguide.fr/vienne-l7/schonbrunn-visite-guidee-du-chateau-et-des-jardins-t494393/?partner_id=73QSLFK&utm_medium=online_publisher&cmp=actu_3jours_vienne', 'https://www.getyourguide.fr/vienne-l7/visite-guidee-du-palais-du-belvedere-superieur-vienne-t504451/?partner_id=73QSLFK&utm_medium=online_publisher&cmp=actu_3jours_vienne', 'https://www.getyourguide.fr/ecole-espagnole-d-equitation-l4623/vienne-entrainement-de-l-ecole-espagnole-d-equitation-t42136/?partner_id=73QSLFK&utm_medium=online_publisher&cmp=actu_3jours_vienne', 'https://www.getyourguide.fr/vienne-l7/visite-guidee-du-musee-sisi-de-la-hofburg-et-des-jardins-de-vienne-t471440/?partner_id=73QSLFK&utm_medium=online_publisher&cmp=actu_3jours_vienne', 'https://www.getyourguide.fr/vienne-l7/billet-pour-le-musee-d-histoire-de-l-art-de-vienne-t128454/?partner_id=73QSLFK&utm_medium=online_publisher&cmp=actu_3jours_vienne', 'https://www.getyourguide.com/vienne-l7/']",
         "['https://www.booking.com/hotel/at/best-western-beethoven.fr.html?aid=2324560&no_rooms=1&group_adults=2&label=actu_3jours-vienne', 'https://www.booking.com/hotel/at/easy-vienna-apartments.fr.html?aid=2324560&no_rooms=1&group_adults=2&label=vienne_3_jours', 'https://www.booking.com/hotel/at/wombats-hostels-vienna-naschmarkt.fr.html?aid=2324560&no_rooms=1&group_adults=2&label=vienne_3_jours']",
         "['t494393', 't504451', 't42136', 't471440', 't128454']"
        ],
        [
         "22",
         "https://www.petitfute.com/v51354-naples/actualite/m17-top-10-insolites-voyage/a36441-comment-visiter-le-mont-vesuve-nos-conseils-pour-lascension.html",
         "['https://www.getyourguide.fr/ercolano-l114887/parc-national-du-vesuve-billet-d-entree-et-audioguide-t929176/?partner_id=73QSLFK&utm_medium=online_publisher&cmp=actu-lien-texte-visiter-vesuve', 'https://www.getyourguide.fr/ercolano-l114887/parc-national-du-vesuve-billet-d-entree-et-audioguide-t929176/?partner_id=73QSLFK&utm_medium=online_publisher&cmp=actu-lien-texte-visiter-vesuve', 'https://www.getyourguide.com/naples-l162/', 'https://www.getyourguide.fr/vesuve-l689/au-depart-de-naples-excursion-tout-compris-d-une-demi-journee-au-vesuve-t382619/?partner_id=73QSLFK&utm_medium=online_publisher&cmp=actu-lien-texte-visiter-vesuve', 'https://www.getyourguide.fr/naples-l162/naples-ou-sorrente-visite-d-une-jounee-a-pompei-et-au-vesuve-t387994/?partner_id=73QSLFK&utm_medium=online_publisher&cmp=actu-lien-texte-visiter-vesuve', 'https://www.getyourguide.fr/ercolano-l114887/parc-national-du-vesuve-billet-d-entree-et-audioguide-t929176/?partner_id=73QSLFK&utm_medium=online_publisher&cmp=actu-lien-texte-visiter-vesuve', 'https://www.getyourguide.com/vesuve-l689/']",
         "['https://www.booking.com/hotel/it/vesuvius-palace.fr.html?aid=2324560&label=actu-conseils-visiter-vesuve', 'https://www.booking.com/hotel/it/il-san-cristoforo.fr.html?aid=2324560&label=actu-conseils-visiter-vesuve']",
         "['t929176', 't929176', 't382619', 't387994', 't929176']"
        ],
        [
         "23",
         "https://www.petitfute.com/actualite/m17-top-10-insolites-voyage/a36549-faire-lascension-du-piton-de-la-fournaise-ce-quil-faut-savoir.html",
         "['https://www.getyourguide.fr/piton-de-la-fournaise-l122505/randonnee-guidee-publique-volcan-du-piton-de-la-fournaise-t363475/?partner_id=73QSLFK&utm_medium=online_publisher&cmp=actu-lientexte-ascension-piton-fournaise', 'https://www.getyourguide.fr/piton-de-la-fournaise-l122505/randonnee-guidee-publique-volcan-du-piton-de-la-fournaise-t363475/?partner_id=73QSLFK&utm_medium=online_publisher&cmp=actu-lientexte-ascension-piton-fournaise', 'https://www.getyourguide.fr/piton-de-la-fournaise-l122505/randonnee-guidee-publique-volcan-du-piton-de-la-fournaise-t363475/?partner_id=73QSLFK&utm_medium=online_publisher&cmp=actu-lientexte-ascension-piton-fournaise']",
         "['https://www.booking.com/hotel/re/ha-tel-l-ecrin.fr.html?aid=2324560&label=actu-conseils-ascension-piton-fournaise', 'https://www.booking.com/hotel/re/matilona-sainte-rose.fr.html?aid=2324560&label=actu-conseils-ascension-piton-fournaise']",
         "['t363475', 't363475', 't363475']"
        ],
        [
         "24",
         "https://www.petitfute.com/v38887-catane/actualite/m17-top-10-insolites-voyage/a36556-comment-visiter-letna-ce-quil-faut-savoir-pour-lascension.html",
         "['https://www.getyourguide.fr/catane-l258/originaux-excursion-a-l-etna-t395066/?partner_id=73QSLFK&utm_medium=online_publisher&cmp=actu_visiter-etna', 'https://www.getyourguide.fr/catane-l258/originaux-excursion-a-l-etna-t395066/?partner_id=73QSLFK&utm_medium=online_publisher&cmp=actu_visiter-etna', 'https://www.getyourguide.fr/fiumefreddo-di-sicilia-l192676/30-minutes-d-helicoptere-prive-sur-l-etna-depuis-fiumefreddo-t519727/?ranking_uuid=dd02eec0-e700-4add-8776-ae873f94ac59', 'https://www.getyourguide.com/catane-l258/', 'https://www.getyourguide.fr/catane-l258/originaux-excursion-a-l-etna-t395066/?partner_id=73QSLFK&utm_medium=online_publisher&cmp=actu_visiter-etna', 'https://www.getyourguide.fr/catane-l258/originaux-excursion-a-l-etna-t395066/?partner_id=73QSLFK&utm_medium=online_publisher&cmp=actu-lien-texte-visiter-etna', 'https://www.getyourguide.fr/catane-l258/originaux-excursion-a-l-etna-t395066/?partner_id=73QSLFK&utm_medium=online_publisher&cmp=actu-lien-texte-visiter-etna', 'https://www.getyourguide.com/etna-l1901/']",
         "['https://www.booking.com/hotel/it/etna.fr.html?aid=2324560&label=actu-conseils-ascension-etna', 'https://www.booking.com/hotel/it/alle-falde-dell-etna.fr.html?aid=2324560&label=actu-conseils-ascension-etna']",
         "['t395066', 't395066', 't519727', 't395066', 't395066', 't395066']"
        ],
        [
         "25",
         "https://www.petitfute.com/v51354-naples/actualite/m17-top-10-insolites-voyage/a36713-visiter-pompei-les-infos-pratiques-a-savoir-2.html",
         "['https://www.getyourguide.fr/pompei-italie-l156880/visite-des-ruines-de-pompei-en-petit-groupe-avec-archeologue-t161715/?partner_id=73QSLFK&utm_medium=online_publisher&cmp=actu_conseilsvisite_pompei', 'https://www.getyourguide.fr/site-archeologique-de-pompei-l685/billet-d-entree-prioritaire-pour-pompei-t69330/?partner_id=73QSLFK&utm_medium=online_publisher&cmp=actu-visiter-pompei', 'https://www.getyourguide.fr/pompei-campanie-l156880/pompei-billet-d-entree-sautez-la-ligne-t922255/?partner_id=73QSLFK&utm_medium=online_publisher&cmp=actu-visiter-pompei', 'https://www.getyourguide.fr/pompei-l685/pompei-billet-d-entree-avec-acces-prioritaire-t69330/?partner_id=73QSLFK&utm_medium=online_publisher&cmp=actu_conseilsvisite_pompei', 'https://www.getyourguide.fr/site-archeologique-de-pompei-l685/billet-d-entree-prioritaire-pour-pompei-t69330/?partner_id=73QSLFK&utm_medium=online_publisher&cmp=actu-visiter-pompei', 'https://www.getyourguide.fr/pompei-italie-l156880/visite-des-ruines-de-pompei-en-petit-groupe-avec-archeologue-t161715/?partner_id=73QSLFK&utm_medium=online_publisher&cmp=actu_conseilsvisite_pompei', 'https://www.getyourguide.fr/naples-l162/une-journee-au-mont-vesuve-et-aux-ruines-de-pompei-t11049/?partner_id=73QSLFK&utm_medium=online_publisher&cmp=actu_conseilsvisite_pompei', 'https://www.getyourguide.fr/pompei-italie-l156880/visite-des-ruines-de-pompei-en-petit-groupe-avec-archeologue-t161715/?partner_id=73QSLFK&utm_medium=online_publisher&cmp=actu_conseilsvisite_pompei', 'https://www.getyourguide.fr/site-archeologique-de-pompei-l685/billet-d-entree-prioritaire-pour-pompei-t69330/?partner_id=73QSLFK&utm_medium=online_publisher&cmp=actu-visiter-pompei']",
         "[]",
         "['t161715', 't69330', 't922255', 't69330', 't69330', 't161715', 't11049', 't161715', 't69330']"
        ],
        [
         "26",
         "https://www.petitfute.com/v17231-17284-paris-75010/actualite/m17-top-10-insolites-voyage/a36857-visiter-le-louvre-nos-conseils-pour-preparer-votre-visite.html",
         "['https://www.getyourguide.fr/paris-l16/billet-d-entree-coupe-file-au-musee-du-louvre-t145779/?partner_id=73QSLFK&utm_medium=online_publisher&cmp=actu_conseils_visite_louvre', 'https://www.getyourguide.fr/paris-l16/billet-d-entree-coupe-file-au-musee-du-louvre-t145779/?partner_id=73QSLFK&utm_medium=online_publisher&cmp=actu_conseils_visite_louvre', 'https://www.getyourguide.fr/musee-du-louvre-l3224/paris-musee-du-louvre-billet-d-entree-a-heure-fixe-audioguide-t405076/?partner_id=73QSLFK&utm_medium=online_publisher&cmp=actu_conseils_visite_louvre', 'https://www.getyourguide.fr/paris-l16/musee-du-louvre-visite-guidee-de-15-h-des-incontournables-t186384/?partner_id=73QSLFK&utm_medium=online_publisher&cmp=actu_conseils_visite_louvre']",
         "[]",
         "['t145779', 't145779', 't405076', 't186384']"
        ],
        [
         "27",
         "https://www.petitfute.com/v51354-naples/actualite/m17-top-10-insolites-voyage/a36862-visiter-herculanum-les-infos-pratiques-a-savoir.html",
         "['https://www.getyourguide.fr/herculanum-l687/ercolano-billet-d-entree-skip-the-line-avec-audioguide-t453717/?partner_id=73QSLFK&utm_medium=online_publisher&cmp=actu_conseils_herculanum', 'https://www.getyourguide.fr/herculanum-l687/ercolano-billet-d-entree-skip-the-line-avec-audioguide-t453717/?partner_id=73QSLFK&utm_medium=online_publisher&cmp=actu_conseils_herculanum', 'https://www.getyourguide.fr/naples-l162/naples-visite-coupe-file-de-l-ercolano-avec-un-archeologue-t204331/?partner_id=73QSLFK&utm_medium=online_publisher&cmp=actu_conseils_herculanum', 'https://www.getyourguide.fr/naples-l162/excursion-d-une-journee-au-depart-de-naples-pompei-herculanum-et-le-vesuve-t507872/?partner_id=73QSLFK&utm_medium=online_publisher&cmp=actu_conseils_herculanum']",
         "[]",
         "['t453717', 't453717', 't204331', 't507872']"
        ],
        [
         "28",
         "https://www.petitfute.com/v58633-porto/actualite/m17-top-10-insolites-voyage/a36956-que-faire-que-visiter-a-porto-en-2-ou-3-jours-conseils-ditineraire.html",
         "['https://www.getyourguide.fr/porto-l151/porto-visite-guidee-de-3-h-en-velo-electrique-t181475/?partner_id=73QSLFK&utm_medium=online_publisher&cmp=actu_weekend_porto', 'https://www.getyourguide.fr/porto-l151/porto-card-avec-transport-1-2-3-ou-4-jours-t63774/?partner_id=73QSLFK&utm_medium=online_publisher&cmp=actu_weekend_porto', 'https://www.getyourguide.fr/porto-l151/porto-croisiere-des-6-ponts-t183308/?partner_id=73QSLFK&utm_medium=online_publisher&cmp=actu_weekend_porto', 'https://www.getyourguide.fr/porto-l151/porto-spectacle-de-fado-en-direct-avec-un-verre-de-vin-de-porto-t390159/?partner_id=73QSLFK&utm_medium=online_publisher&cmp=actu_weekend_porto', 'https://www.getyourguide.fr/cave-calem-l12082/caves-de-calem-visite-guidee-et-degustations-t175041/?partner_id=73QSLFK&utm_medium=online_publisher&cmp=actu_weekend_porto', 'https://www.getyourguide.fr/porto-l151/porto-billet-d-entree-a-la-tour-des-clercs-t57114/?partner_id=73QSLFK&utm_medium=online_publisher&cmp=actu_weekend_porto']",
         "['https://www.booking.com/hotel/pt/yotel-porto-porto.fr.html?aid=2324560&no_rooms=1&group_adults=2&label=actu-weekend_porto', 'https://www.booking.com/hotel/pt/the-passenger-hostel.fr.html?aid=2324560&no_rooms=1&group_adults=2&label=porto_3_jours', 'https://www.booking.com/hotel/pt/grande-paris-by-stay-hotels.fr.html?aid=2324560&no_rooms=1&group_adults=2&label=actu-weekend_porto']",
         "['t181475', 't63774', 't183308', 't390159', 't175041', 't57114']"
        ],
        [
         "29",
         "https://www.petitfute.com/v73452-almada/actualite/m17-top-10-insolites-voyage/a36982-que-faire-que-visiter-a-lisbonne-en-2-ou-3-jours-conseils-ditineraire.html",
         "[]",
         "[]",
         "[]"
        ],
        [
         "30",
         "https://www.petitfute.com/v50174-milan/actualite/m17-top-10-insolites-voyage/a37051-que-faire-que-visiter-a-milan-en-2-ou-3-jours-conseils-ditineraire.html",
         "['https://www.getyourguide.fr/milan-l139/milan-visite-audio-guidee-du-duomo-et-des-terrasses-t153354/?partner_id=73QSLFK&utm_medium=online_publisher&cmp=actu-3jours_milan', 'https://www.getyourguide.fr/milan-l139/milan-visite-du-theatre-et-du-musee-de-la-scala-t24640/?partner_id=73QSLFK&utm_medium=online_publisher&cmp=actu-3jours_milan', 'https://www.getyourguide.fr/milan-l139/milan-billet-d-entree-au-chateau-sforza-et-visite-audio-auto-guidee-t414400/?partner_id=73QSLFK&utm_medium=online_publisher&cmp=actu-3jours_milan', 'https://www.getyourguide.fr/musee-des-sciences-et-des-techniques-leonard-de-vinci-l21627/milan-science-et-technologie-entree-du-musee-leonardo-da-vinci-t367900/?partner_id=73QSLFK&utm_medium=online_publisher&cmp=actu-3jours_milan', 'https://www.getyourguide.fr/la-cene-l4955/milan-visite-guidee-a-la-decouverte-de-la-cene-de-de-vinci-t179522/?partner_id=73QSLFK&utm_medium=online_publisher&cmp=actu-3jours_milan']",
         "['https://www.booking.com/hotel/it/excelsior-hotel-gallia.fr.html?aid=2324560&no_rooms=1&group_adults=2&label=actu_3jours_milan', 'https://www.booking.com/hotel/it/westinpalacemilano.fr.html?aid=2324560&no_rooms=1&group_adults=2&label=actu_3jours_milan', 'https://www.booking.com/hotel/it/abacus-sesto-sasn-giovanni.fr.html?aid=2324560&no_rooms=1&group_adults=2&label=actu_3jours_milan']",
         "['t153354', 't24640', 't414400', 't367900', 't179522']"
        ],
        [
         "31",
         "https://www.petitfute.com/v39757-madrid/actualite/m17-top-10-insolites-voyage/a37057-que-faire-que-visiter-a-madrid-en-2-ou-3-jours-conseils-ditineraire.html   ",
         "['https://www.getyourguide.fr/palais-royal-madrid-l3611/madrid-billet-d-entree-rapide-au-palais-royal-t393230/?partner_id=73QSLFK&utm_medium=online_publisher&cmp=actu-3jours_madrid', 'https://www.getyourguide.fr/madrid-l46/madrid-1-ou-2-jours-d-excursion-en-bus-touristique-avec-montee-et-descente-rapides-t1251/?partner_id=73QSLFK&utm_medium=online_publisher&cmp=actu-3jours_madrid', 'https://www.getyourguide.fr/s?partner_id=73QSLFK&utm_medium=online_publisher&cmp=actu-3jours_madrid&q=Madrid&et=32264&lc=46', 'https://www.getyourguide.fr/madrid-l46/madrid-billet-d-entree-au-parc-warner-t400697/?partner_id=73QSLFK&utm_medium=online_publisher&cmp=actu-3jours_madrid']",
         "['https://www.booking.com/hotel/es/the-hat.fr.html?aid=2324560&no_rooms=1&group_adults=2&label=madrid_3_jours', 'https://www.booking.com/hotel/es/petit-palace-savoy-alfonso-xii.fr.html?aid=2324560&no_rooms=1&group_adults=2&label=actu_3jours_madrid', 'https://www.booking.com/hotel/es/hostal-regio.fr.html?aid=2324560&no_rooms=1&group_adults=2&label=actu_3jours_madrid', 'https://www.booking.com/hotel/es/the-hat.fr.html?aid=2324560&no_rooms=1&group_adults=2&label=madrid_3_jours', 'https://www.booking.com/hotel/es/petit-palace-savoy-alfonso-xii.fr.html?aid=2324560&no_rooms=1&group_adults=2&label=actu_3jours_madrid', 'https://www.booking.com/hotel/es/hostal-regio.fr.html?aid=2324560&no_rooms=1&group_adults=2&label=actu_3jours_madrid']",
         "['t393230', 't400697']"
        ],
        [
         "32",
         "https://www.petitfute.com/v42793-dubrovnik/actualite/m17-top-10-insolites-voyage/a37062-que-faire-a-dubrovnik-en-2-ou-3-jours-le-temps-dun-week-end.html",
         "['https://www.getyourguide.fr/dubrovnik-l513/dubrovnik-visite-a-pied-des-remparts-au-coucher-du-soleil-t146235/?partner_id=73QSLFK&utm_medium=online_publisher&cmp=actu-3jours_dubrovnik', 'https://www.getyourguide.fr/dubrovnik-l513/depuis-dubrovnik-visite-game-of-thrones-et-ile-de-lokrum-t217212/?partner_id=73QSLFK&utm_medium=online_publisher&cmp=actu-3jours_dubrovnik', 'https://www.getyourguide.fr/dubrovnik-l513/ile-de-lokrum-plage-de-st-jacobs-et-grotte-de-betina-4h-de-bateau-t447389/?partner_id=73QSLFK&utm_medium=online_publisher&cmp=actu-3jours_dubrovnik', 'https://www.getyourguide.com/dubrovnik-l513/']",
         "['https://www.booking.com/hotel/hr/edi-sea-view-rooms.fr.html?aid=2324560&label=actu_3jours_dubrovnik', 'https://www.booking.com/hotel/hr/stari-grad.fr.html?aid=2324560&label=actu_3jours_dubrovnik']",
         "['t146235', 't217212', 't447389']"
        ],
        [
         "33",
         "https://www.petitfute.com/v50233-florence-firenze/actualite/m17-top-10-insolites-voyage/a37068-que-faire-que-visiter-a-florence-en-2-ou-3-jours-conseils-ditineraire.html",
         "['https://www.getyourguide.fr/florence-l32/florence-entree-au-david-de-michel-ange-t61153/?partner_id=73QSLFK&utm_medium=online_publisher&cmp=actu-3jours_florence', 'https://www.getyourguide.fr/florence-l32/florence-visite-guidee-de-la-cathedrale-duomo-t412688/?partner_id=73QSLFK&utm_medium=online_publisher&cmp=actu_3jours_florence', 'https://www.getyourguide.fr/florence-l32/florence-billet-coupe-file-pour-santa-maria-novella-t68294/?partner_id=73QSLFK&utm_medium=online_publisher&cmp=actu_3jours_florence', 'https://www.getyourguide.fr/chapelles-des-medicis-l5147/florence-billet-d-entree-reserve-aux-chapelles-des-medicis-t61210/?partner_id=73QSLFK&utm_medium=online_publisher&cmp=actu_3jours_florence', 'https://www.getyourguide.fr/florence-l32/florence-entree-reservee-a-la-galerie-des-offices-t57076/?partner_id=73QSLFK&utm_medium=online_publisher&cmp=actu-3jours_florence', 'https://www.getyourguide.fr/musee-national-du-bargello-l5146/florence-billet-d-entree-reserve-au-musee-du-bargello-t61213/?partner_id=73QSLFK&utm_medium=online_publisher&cmp=actu_3jours_florence', 'https://www.getyourguide.fr/florence-l32/visite-guidee-de-la-basilique-de-santa-croce-t632223/?partner_id=73QSLFK&utm_medium=online_publisher&cmp=actu_3jours_florence', 'https://www.getyourguide.fr/palais-pitti-l3957/florence-billet-d-entree-au-palais-pitti-t61191/?partner_id=73QSLFK&utm_medium=online_publisher&cmp=actu_3jours_florence', 'https://www.getyourguide.fr/jardin-de-boboli-l3959/florence-billet-d-entree-reserve-aux-jardins-de-boboli-t61154/?partner_id=73QSLFK&utm_medium=online_publisher&cmp=actu_3jours_florence', 'https://www.getyourguide.fr/jardin-de-boboli-l3959/florence-billet-d-entree-reserve-aux-jardins-de-boboli-t61154/?partner_id=73QSLFK&utm_medium=online_publisher&cmp=actu_3jours_florence']",
         "['https://www.booking.com/hotel/it/merlini.fr.html?aid=2324560&label=actu_3jours_florence', 'https://www.booking.com/hotel/it/hostel-santa-monaca.fr.html?aid=2324560&label=actu_3jours-florence', 'https://www.booking.com/hotel/it/axial.fr.html?aid=2324560&no_rooms=1&group_adults=2&label=actu_3jours_florence']",
         "['t61153', 't412688', 't68294', 't61210', 't57076', 't61213', 't632223', 't61191', 't61154', 't61154']"
        ],
        [
         "34",
         "https://www.petitfute.com/v38377-seville/actualite/m17-top-10-insolites-voyage/a37095-que-faire-que-visiter-a-seville-en-2-ou-3-jours-conseils-ditineraire.html",
         "['https://www.getyourguide.fr/alcazar-de-seville-l4542/l-alcazar-de-seville-billet-coupe-file-t131232/?partner_id=73QSLFK&utm_medium=online_publisher&cmp=actu-3jours_seville', 'https://www.getyourguide.fr/la-cathedrale-de-seville-l4543/seville-billet-d-entree-pour-la-cathedrale-et-la-giralda-t131913/?partner_id=73QSLFK&utm_medium=online_publisher&cmp=seville_2_3_jours', 'https://www.getyourguide.fr/seville-l48/visite-de-seville-en-segway-t313493/?partner_id=73QSLFK&utm_medium=online_publisher&cmp=actu-3jours_seville', 'https://www.getyourguide.fr/seville-l48/seville-visite-guidee-du-musee-des-beaux-arts-t407350/?partner_id=73QSLFK&utm_medium=online_publisher&cmp=actu-3jours_seville', 'https://www.getyourguide.fr/seville-l48/seville-croisiere-ecologique-touristique-d-une-heure-sur-le-fleuve-guadalquivir-t418722/?partner_id=73QSLFK&utm_medium=online_publisher&cmp=seville_2_3_jours', 'https://www.getyourguide.com/seville-l48/']",
         "['https://www.booking.com/hotel/es/hotel-las-casas-de-la-juderia.fr.html?aid=2403366&no_rooms=1&group_adults=2&label=actu_3jours-seville', 'https://www.booking.com/hotel/es/patio-de-cruces.fr.html?aid=2324560&no_rooms=1&group_adults=2&label=seville_2_3_jours', 'https://www.booking.com/hotel/es/montetrianasevilla.fr.html?aid=2403366&no_rooms=1&group_adults=2&label=actu_3jours-seville']",
         "['t131232', 't131913', 't313493', 't407350', 't418722']"
        ],
        [
         "35",
         "https://www.petitfute.com/v43955-cagliari/actualite/m17-top-10-insolites-voyage/a37150-que-faire-que-visiter-a-cagliari-les-15-incontournables.html",
         "['https://www.getyourguide.fr/cagliari-l820/cagliari-visite-a-pied-de-la-vieille-ville-t214287/?partner_id=73QSLFK&utm_medium=online_publisher&cmp=actu-incontournables-cagliari', 'https://www.getyourguide.fr/cagliari-l820/cagliari-ville-souterraine-et-visite-a-pied-facultative-de-la-vieille-ville-t213225/?partner_id=73QSLFK&utm_medium=online_publisher&cmp=actu-incontournables-cagliari', 'https://www.getyourguide.fr/cagliari-l820/excursion-en-bateau-a-sella-del-diavolo-avec-aperitif-et-collations-t464694/?partner_id=73QSLFK&utm_medium=online_publisher&cmp=actu-incontournables-cagliari', 'https://www.getyourguide.fr/cagliari-l820/partage-d-une-demi-journee-de-visite-de-la-baie-de-cagliari-t438319/?partner_id=73QSLFK&utm_medium=online_publisher&cmp=actu-incontournables-cagliari', 'https://www.getyourguide.fr/cagliari-l820/cagliari-visite-en-segway-du-parc-naturel-de-molentargius-avec-cafe-t420329/?partner_id=73QSLFK&utm_medium=online_publisher&cmp=actu-incontournables-cagliari', 'https://www.getyourguide.com/cagliari-l820/']",
         "['https://www.booking.com/hotel/it/thotelcagliari.fr.html?aid=2324560&no_rooms=1&group_adults=2&label=actu_incontournables_cagliari', 'https://www.booking.com/hotel/it/hotelreginamargheritacagliari.fr.html?aid=2324560&no_rooms=1&group_adults=2&label=actu_incontournables_cagliari', 'https://www.booking.com/hotel/it/italia-cagliari.fr.html?aid=2324560&no_rooms=1&group_adults=2&label=actu_incontournables_cagliari']",
         "['t214287', 't213225', 't464694', 't438319', 't420329']"
        ],
        [
         "36",
         "https://www.petitfute.com/v42351-istanbul/actualite/m17-top-10-insolites-voyage/a37155-que-faire-a-istanbul-en-3-ou-4-jours-conseils-de-visite.html",
         "['https://www.getyourguide.fr/istanbul-l56/istanbul-sainte-sophie-et-mosquee-bleue-en-petit-groupe-t204412/?partner_id=73QSLFK&utm_medium=online_publisher&cmp=actu-3jours_istanbul', 'https://www.getyourguide.fr/istanbul-l56/billet-et-visite-du-palais-de-topkapi-et-du-harem-t127010/?partner_id=73QSLFK&utm_medium=online_publisher&cmp=actu-3jours_istanbul', 'https://www.getyourguide.fr/istanbul-l56/musee-d-art-turc-et-islamique-billet-d-entree-et-visite-guidee-t192921/?partner_id=73QSLFK&utm_medium=online_publisher&cmp=actu-3jours_istanbul', 'https://www.getyourguide.fr/istanbul-l56/istanbul-diner-croisiere-sur-le-bosphore-avec-divertissement-en-direct-t415437/?partner_id=73QSLFK&utm_medium=online_publisher&cmp=actu-3jours_istanbul', 'https://www.getyourguide.fr/istanbul-l56/spectacle-de-l-ordre-mevlevi-derviches-tourneurs-t21283/?partner_id=73QSLFK&utm_medium=online_publisher&cmp=actu-3jours_istanbul', 'https://www.getyourguide.fr/istanbul-l56/istanbul-billet-d-entree-aux-musees-archeologiques-et-visite-guidee-t406328/?partner_id=73QSLFK&utm_medium=online_publisher&cmp=actu-3jours_istanbul', 'https://www.getyourguide.com/istanbul-l56/']",
         "['https://www.booking.com/hotel/tr/sultanhan.fr.html?aid=2324560&no_rooms=1&group_adults=2&label=actu_incontournables_istanbul', 'https://www.booking.com/hotel/tr/yasmak.fr.html?aid=2324560&no_rooms=1&group_adults=2&label=actu_incontournables_istanbul', 'https://www.booking.com/hotel/tr/hypnos-istanbul.fr.html?aid=2324560&no_rooms=1&group_adults=2&label=actu_incontournables_istanbul']",
         "['t204412', 't127010', 't192921', 't415437', 't21283', 't406328']"
        ],
        [
         "37",
         "https://www.petitfute.com/v49513-dublin/actualite/m17-top-10-insolites-voyage/a37354-que-faire-que-visiter-a-dublin-en-2-ou-3-jours-conseils-ditineraire.html ",
         "['https://www.getyourguide.fr/dublin-l31/pass-dublin-visite-en-bus-entree-gratuite-a-33-sites-t50032/?partner_id=73QSLFK&utm_medium=online_publisher&cmp=actu-3jours_dublin', 'https://www.getyourguide.fr/dublin-l31/original-dublin-walking-tour-points-forts-et-joyaux-caches-t436227/?partner_id=73QSLFK&utm_medium=online_publisher&cmp=actu-3jours_dublin', 'https://www.getyourguide.fr/cathedrale-saint-patrick-de-dublin-l5082/cathedrale-saint-patrick-visite-libre-t119026/?partner_id=73QSLFK&utm_medium=online_publisher&cmp=actu-3jours_dublin', 'https://www.getyourguide.fr/dublin-l31/guinness-storehouse-entree-prioritaire-et-pinte-t45105/?partner_id=73QSLFK&utm_medium=online_publisher&cmp=actu-3jours_dublin', 'https://www.getyourguide.fr/dublin-l31/livre-de-kells-et-visite-du-chateau-de-dublin-coupe-file-t53768/?partner_id=73QSLFK&utm_medium=online_publisher&cmp=actu-3jours_dublin', 'https://www.getyourguide.fr/dublin-l31/de-dublin-excursion-d-une-demi-journee-en-bus-sur-la-cote-de-howth-t419281/?partner_id=73QSLFK&utm_medium=online_publisher&cmp=actu-3jours_dublin', 'https://www.getyourguide.com/dublin-l31/']",
         "['https://www.booking.com/hotel/ie/jacobs-inn.fr.html?aid=2324560&no_rooms=1&group_adults=2&label=dublin_3_jours', 'https://www.booking.com/hotel/ie/beckett-locke.fr.html?aid=2324560&no_rooms=1&group_adults=2&label=dublin_3_jours', 'https://www.booking.com/hotel/ie/the-fitzwilliam.fr.html?aid=2324560&no_rooms=1&group_adults=2&label=actu_3jours-dublin', 'https://www.booking.com/hotel/ie/beckett-locke.fr.html?aid=2324560&no_rooms=1&group_adults=2&label=dublin_3_jours', 'https://www.booking.com/hotel/ie/jacobs-inn.fr.html?aid=2324560&no_rooms=1&group_adults=2&label=dublin_3_jours', 'https://www.booking.com/hotel/ie/the-fitzwilliam.fr.html?aid=2324560&no_rooms=1&group_adults=2&label=actu_3jours-dublin']",
         "['t50032', 't436227', 't119026', 't45105', 't53768', 't419281']"
        ],
        [
         "38",
         "https://www.petitfute.com/v44683-budapest/actualite/m17-top-10-insolites-voyage/a37406-que-faire-que-visiter-a-budapest-en-2-ou-3-jours-conseils-ditineraire.html",
         "['https://www.getyourguide.fr/budapest-l29/budapest-visite-classique-a-pied-du-chateau-de-buda-t157275/?partner_id=73QSLFK&utm_medium=online_publisher&cmp=actu-3jours_budapest', 'https://www.getyourguide.fr/basilique-de-saint-etienne-l3697/budapest-basilique-saint-etienne-avec-acces-a-la-tour-t278292/?partner_id=73QSLFK&utm_medium=online_publisher&cmp=actu-3jours_budapest', 'https://www.getyourguide.fr/budapest-l29/billet-1-journee-les-bains-thermaux-de-szechenyi-t4139/?partner_id=73QSLFK&utm_medium=online_publisher&cmp=actu-3jours_budapest', 'https://www.getyourguide.fr/budapest-l29/croisiere-a-budapest-avec-cocktail-t73250/?partner_id=73QSLFK&utm_medium=online_publisher&cmp=actu-3jours_budapest']",
         "['https://www.booking.com/hotel/hu/corinthiaroyal.fr.html?aid=2324560&no_rooms=1&group_adults=2&label=actu_3jours_budapest', 'https://www.booking.com/hotel/hu/dormero-budapest.en.html?aid=2324560&no_rooms=1&group_adults=2', 'https://www.booking.com/hotel/hu/maverick-city-lodge.en.html?aid=2324560&no_rooms=1&group_adults=2']",
         "['t157275', 't278292', 't73250']"
        ],
        [
         "39",
         "https://www.petitfute.com/v41858-sofia/actualite/m17-top-10-insolites-voyage/a37595-que-faire-que-visiter-a-sofia-en-2-ou-3-jours-conseils-ditineraire.html",
         "['https://www.getyourguide.fr/sofia-l158/depuis-sofia-monastere-de-rila-et-eglise-de-bojana-t50410/?partner_id=73QSLFK&utm_medium=online_publisher&cmp=actu-3jours_sofia', 'https://www.getyourguide.fr/sofia-l158/excursion-d-une-journee-a-vitosha-a-l-eglise-de-boyana-et-au-monastere-de-dragalevtsi-t133935/?partner_id=73QSLFK&utm_medium=online_publisher&cmp=actu-3jours_sofia']",
         "['https://www.booking.com/hotel/bg/sense-sofia.fr.html?aid=2324560&no_rooms=1&group_adults=2&label=actu_3jours-sofia', 'https://www.booking.com/hotel/bg/triada.fr.html?aid=2324560&no_rooms=1&group_adults=2&label=actu_3jours-sofia', 'https://www.booking.com/hotel/bg/anel.fr.html?aid=2324560&no_rooms=1&group_adults=2&label=actu_3jours-sofia']",
         "['t50410', 't133935']"
        ],
        [
         "40",
         "https://www.petitfute.com/v43431-prague/actualite/m17-top-10-insolites-voyage/a37644-que-faire-que-visiter-a-prague-en-2-ou-3-jours-conseils-ditineraire.html",
         "['https://www.getyourguide.fr/prague-l10/prague-city-card-2-3-ou-4-jours-t66055/?partner_id=73QSLFK&utm_medium=online_publisher&cmp=actu-3jours_prague', 'https://www.getyourguide.fr/prague-l10/vieille-ville-et-chateau-de-prague-visite-a-pied-t42322/?partner_id=73QSLFK&utm_medium=online_publisher&cmp=actu-3jours_prague', 'https://www.getyourguide.fr/prague-l10/prague-billet-hotel-de-ville-et-horloge-astronomique-t209055/?partner_id=73QSLFK&utm_medium=online_publisher&cmp=actu-3jours_prague', 'https://www.getyourguide.fr/prague-l10/prague-billet-hotel-de-ville-et-horloge-astronomique-t209055/?partner_id=73QSLFK&utm_medium=online_publisher&cmp=actu-3jours_prague', 'https://www.getyourguide.fr/prague-l10/prague-billets-d-entree-pour-le-quartier-juif-t51182/?partner_id=73QSLFK&utm_medium=online_publisher&cmp=actu-3jours_prague', 'https://www.getyourguide.com/prague-l10/', 'https://www.getyourguide.fr/prague-l10/chateau-de-prague-entree-et-visite-guidee-en-petit-groupe-t219531/?partner_id=73QSLFK&utm_medium=online_publisher&cmp=actu-3jours_prague', 'https://www.getyourguide.fr/prague-l10/prague-croisiere-de-50-mn-en-soiree-t357390/?partner_id=73QSLFK&utm_medium=online_publisher&cmp=actu-3jours_prague', 'https://www.getyourguide.com/prague-l10/']",
         "['https://www.booking.com/hotel/cz/corinthiapanorama.fr.html?aid=2324560&no_rooms=1&group_adults=2&label=actu-3jours-prague', 'https://www.booking.com/hotel/cz/rott.fr.html?aid=2324560&no_rooms=1&group_adults=2&label=actu-3jours-prague', 'https://www.booking.com/hotel/cz/hotelmelantrich.fr.html?aid=2324560&no_rooms=1&group_adults=2&label=actu-3jours-prague', 'https://www.booking.com/hotel/cz/corinthiapanorama.fr.html?aid=2324560&no_rooms=1&group_adults=2&label=actu-3jours-prague', 'https://www.booking.com/hotel/cz/rott.fr.html?aid=2324560&no_rooms=1&group_adults=2&label=actu-3jours-prague', 'https://www.booking.com/hotel/cz/hotelmelantrich.fr.html?aid=2324560&no_rooms=1&group_adults=2&label=actu-3jours-prague']",
         "['t66055', 't42322', 't209055', 't209055', 't51182', 't219531', 't357390']"
        ],
        [
         "41",
         "https://www.petitfute.com/v38469-cordoue-cordoba/actualite/m17-top-10-insolites-voyage/a37705-que-faire-que-visiter-a-cordoue-top-15-des-incontournables.html",
         "['https://www.getyourguide.fr/cordoue-l1689/cordoue-visite-guidee-de-l-alcazar-avec-billet-coupe-file-t57526/?partner_id=73QSLFK&utm_medium=online_publisher&cmp=actu-quefaire-cordoue&deeplink_id=2d96d6e1-3530-5ef0-a48c-e3728e765281&page_id=2c2ff77c-81f4-53d6-bada-5847ceb53165', 'https://www.getyourguide.fr/cordoue-l1689/cordoue-visite-en-bus-a-arrets-multiples-billet-24-h-t36318/?partner_id=73QSLFK&utm_medium=online_publisher&cmp=actu-incontournables-cordoue', 'https://www.getyourguide.fr/cordoue-l1689/cordoue-acces-coupe-file-visite-de-la-mosquee-cathedrale-t131952/?partner_id=73QSLFK&utm_medium=online_publisher&cmp=actu-incontournables-cordoue', 'https://www.getyourguide.fr/cordoue-l1689/visite-a-pied-des-monuments-de-cordoue-t28530/?partner_id=73QSLFK&utm_medium=online_publisher&cmp=actu-incontournables-cordoue', 'https://www.getyourguide.fr/cordoue-l1689/cordoue-visite-guidee-de-madinat-al-zahra-t40387/?ranking_uuid=8bf4417f-e465-40ba-8818-4254281f40a6', 'https://www.getyourguide.fr/cordoue-l1689/cordoue-billet-d-entree-au-palais-de-viana-t392790/?partner_id=73QSLFK&utm_medium=online_publisher&cmp=actu-incontournables-cordoue']",
         "['https://www.booking.com/hotel/es/los-omeyas.fr.html?aid=2324560&no_rooms=1&group_adults=2&label=actu_quefaire_cordoue', 'https://www.booking.com/hotel/es/las-casas-de-la-juderia.fr.html?aid=2324560&no_rooms=1&group_adults=2&label=actu_quefaire_cordoue', 'https://www.booking.com/hotel/es/mezquita-s-l.fr.html?aid=2324560&no_rooms=1&group_adults=2&label=actu_quefaire_cordoue']",
         "['t57526', 't36318', 't131952', 't28530', 't40387', 't392790']"
        ],
        [
         "42",
         "https://www.petitfute.com/v42921-thessalonique-thessaloniki/actualite/m17-top-10-insolites-voyage/a37758-visiter-les-monasteres-des-meteores-en-grece-le-guide.html",
         "['https://www.getyourguide.fr/athenes-l91/au-depart-d-athenes-tour-des-meteores-en-une-journee-en-train-t227236/?partner_id=73QSLFK&utm_medium=online_publisher&cmp=actu-conseilsvisite-meteores', 'https://www.getyourguide.fr/thessalonique-l115/depuis-thessalonique-visite-guidee-des-meteores-t134685/?partner_id=73QSLFK&utm_medium=online_publisher&cmp=actu-conseilsvisite-meteores', 'https://www.getyourguide.com/athenes-l91/']",
         "[]",
         "['t227236', 't134685']"
        ],
        [
         "43",
         "https://www.petitfute.com/v45404-albufeira/actualite/m17-top-10-insolites-voyage/a38018-que-faire-que-visiter-en-algarve-les-19-plus-beaux-endroits.html",
         "[]",
         "[]",
         "[]"
        ],
        [
         "44",
         "https://www.petitfute.com/v57799-agadir/actualite/m17-top-10-insolites-voyage/a38703-que-faire-que-visiter-a-agadir-les-17-incontournables.html",
         "['https://www.getyourguide.fr/agadir-l1413/visite-touristique-a-la-decouverte-d-agadir-t28770/?partner_id=73QSLFK&utm_medium=online_publisher&cmp=actu-incontournables-agadir', 'https://www.getyourguide.fr/tiznit-l143195/visite-touristique-d-agadir-avec-l-oufella-et-le-souk-d-agadir-t651532/?partner_id=73QSLFK&utm_medium=online_publisher&cmp=actu-incontournables-agadir', 'https://www.getyourguide.fr/agadir-l1413/sautez-la-file-d-attente-billet-d-entree-a-crocoparc-t607895/?partner_id=73QSLFK&utm_medium=online_publisher&cmp=actu-incontournables-agadir', 'https://www.getyourguide.fr/agadir-l1413/agadir-billet-de-telepherique-sky-network-avec-transport-a-l-hotel-t421389/?partner_id=73QSLFK&utm_medium=online_publisher&cmp=actu-incontournables-agadir', 'https://www.getyourguide.fr/agadir-l1413/agadir-ou-taghazout-randonnee-dans-la-vallee-du-paradis-avec-dejeuner-t428380/?partner_id=73QSLFK&utm_medium=online_publisher&cmp=actu-incontournables-agadir', 'https://www.getyourguide.fr/agadir-l1413/excursion-d-une-journee-a-taroudant-et-tiout-avec-couscous-et-tajine-t454069/?partner_id=73QSLFK&utm_medium=online_publisher&cmp=actu-incontournables-agadir', 'https://www.getyourguide.fr/agadir-l1413/excursion-d-une-demi-journee-dans-le-parc-national-de-la-faune-et-de-la-flore-y-compris-le-dejeuner-t492325/?partner_id=73QSLFK&utm_medium=online_publisher&cmp=actu-incontournables-agadir', 'https://www.getyourguide.fr/agadir-l1413/tour-de-chameau-au-coucher-du-soleil-sur-la-plage-t245142/?partner_id=73QSLFK&utm_medium=online_publisher&cmp=actu-incontournables-agadir', 'https://www.getyourguide.com/agadir-l1413/']",
         "['https://www.booking.com/hotel/ma/maison-d-hotes-les-chtis-d-agadir.fr.html?aid=2324560&no_rooms=1&group_adults=2&label=actu-quefaire-agadir', 'https://www.booking.com/hotel/ma/atlas-kasbah.fr.html?aid=2324560&no_rooms=1&group_adults=2&label=actu-quefaire-agadir', 'https://www.booking.com/hotel/ma/sofitel-agadir-thalassa-sea.fr.html?aid=2324560&no_rooms=1&group_adults=2&label=actu-quefaire-agadir']",
         "['t28770', 't651532', 't607895', 't421389', 't428380', 't454069', 't492325', 't245142']"
        ],
        [
         "45",
         "https://www.petitfute.com/v50596-alicante/actualite/m17-top-10-insolites-voyage/a38859-que-faire-que-visiter-a-alicante-les-15-incontournables.html",
         "['https://www.getyourguide.fr/alicante-l414/alicante-degustation-de-vins-du-chateau-de-santa-barbara-avec-charcuterie-t487547/?partner_id=73QSLFK&utm_medium=online_publisher&cmp=actu-incontournables-alicante', 'https://www.getyourguide.fr/alicante-l414/alicante-circuit-de-decouverte-des-sept-secrets-d-alicante-t371261/?partner_id=73QSLFK&utm_medium=online_publisher&cmp=actu-incontournables-alicante', 'https://www.getyourguide.fr/alicante-l414/visite-des-arenes-d-alicante-et-du-musee-de-la-tauromachie-t524767/?partner_id=73QSLFK&utm_medium=online_publisher&cmp=actu-incontournables-alicante', 'https://www.getyourguide.fr/alicante-l414/alicante-visite-gourmande-avec-tapas-t371281/?partner_id=73QSLFK&utm_medium=online_publisher&cmp=actu-incontournables-alicante', 'https://www.getyourguide.fr/alicante-l414/alicante-promenade-en-bateau-et-experience-de-parachutisme-avec-boisson-t414977/?partner_id=73QSLFK&utm_medium=online_publisher&cmp=actu-incontournables-alicante', 'https://www.getyourguide.fr/alicante-l414/depuis-alicante-aller-retour-a-l-ile-de-tabarca-t449685/?partner_id=73QSLFK&utm_medium=online_publisher&cmp=actu-incontournables-alicante', 'https://www.getyourguide.fr/alicante-l414/depuis-alicante-billet-de-ferry-aller-retour-pour-l-ile-de-tabarca-t449685/?partner_id=73QSLFK&utm_medium=online_publisher&cmp=actu-incontournables-alicante', 'https://www.getyourguide.fr/denia-l101088/denia-plongee-sous-marine-t450143/?partner_id=73QSLFK&utm_medium=online_publisher&cmp=actu-incontournables-alicante', 'https://www.getyourguide.com/alicante-l414/']",
         "['https://www.booking.com/hotel/es/hostel-la-milagrosa.fr.html?aid=2324560&no_rooms=1&group_adults=2&label=actu-quefaire-alicante', 'https://www.booking.com/hotel/es/hostal-les-monges-palace.fr.html?aid=2324560&no_rooms=1&group_adults=2&label=actu-quefaire-alicante', 'https://www.booking.com/hotel/es/eurostars-lucentum.fr.html?aid=2324560&no_rooms=1&group_adults=2&label=actu-quefaire-alicante']",
         "['t487547', 't371261', 't524767', 't371281', 't414977', 't449685', 't449685', 't450143']"
        ],
        [
         "46",
         "https://www.petitfute.com/v43385-lefkada/actualite/m17-top-10-insolites-voyage/a39016-que-faire-que-visiter-a-leucade-lefkada-les-15-incontournables.html",
         "['https://www.getyourguide.fr/nydri-l146600/au-depart-de-lefkada-croisiere-de-snorkeling-en-groupe-ou-privee-et-dejeuner-t418658/?partner_id=73QSLFK&utm_medium=online_publisher&cmp=actu-incontournables-leucade', 'https://www.getyourguide.fr/lefkada-l89339/iles-oubliees-de-lefkada-croisiere-d-une-journee-avec-dejeuner-t143067/?partner_id=73QSLFK&utm_medium=online_publisher&cmp=actu-incontournables-leucade', 'https://www.getyourguide.fr/nydri-l146600/experience-privee-de-gastronomie-grecque-durable-t436984/?partner_id=73QSLFK&utm_medium=online_publisher&cmp=actu-incontournables-leucade', 'https://www.getyourguide.fr/lefkada-l89339/lefkada-visite-guidee-d-une-micro-ferme-avec-degustation-de-produits-t436975/?partner_id=73QSLFK&utm_medium=online_publisher&cmp=actu-incontournables-leucade']",
         "['https://www.booking.com/hotel/gr/red-tower.fr.html?aid=2324560&no_rooms=1&group_adults=2&label=actu-quefaire-leucade', 'https://www.booking.com/hotel/gr/athos.fr.html?aid=311089&label=athos-8TTa%2ARoib3V6cLYLiTWzIQS267495846935%3Apl%3Ata%3Ap1%3Ap2%3Aac%3Aap%3Aneg%3Afi%3Atikwd-307145310921%3Alp9056139%3Ali%3Adec%3Adm%3Appccp%3DUmFuZG9tSVYkc2RlIyh9Yf23yREhrOV9DIzdQnby_R8&sid=c900dadc5b80ae2d66c4c7d53072faa7&age=1;checkin=2024-07-07;checkout=2024-07-08;dest_id=-824809;dest_type=city;dist=0;group_adults=2;group_children=0;hapos=1;hpos=1;no_rooms=1;req_adults=2;req_children=0;room1=A%2CA;sb_price_type=total;soh=1;sr_order=popularity;srepoch=1720102808;srpvid=42c064cae3b100f8;type=total;ucfs=1&#map_opened-hotel_address', 'https://www.booking.com/hotel/gr/athos.fr.html?aid=2324560&no_rooms=1&group_adults=2&label=actu-quefaire-leucade', 'https://www.booking.com/hotel/gr/pavezzo-country-retreat.fr.html?aid=311089&label=pavezzo-country-retreat-WPoqSJyGsCDRg1lfEBO3gAS434588767622%3Apl%3Ata%3Ap1%3Ap2%3Aac%3Aap%3Aneg%3Afi%3Atikwd-3733780206%3Alp9056139%3Ali%3Adec%3Adm%3Appccp%3DUmFuZG9tSVYkc2RlIyh9Yf23yREhrOV9DIzdQnby_R8&sid=c900dadc5b80ae2d66c4c7d53072faa7&age=0;all_sr_blocks=38627706_88566893_2_1_0;checkin=2024-07-07;checkout=2024-07-08;dest_id=-819722;dest_type=city;dist=0;group_adults=2;group_children=0;hapos=1;highlighted_blocks=38627706_88566893_2_1_0;hpos=1;matching_block_id=38627706_88566893_2_1_0;no_rooms=1;req_adults=2;req_children=0;room1=A%2CA;sb_price_type=total;sr_order=popularity;sr_pri_blocks=38627706_88566893_2_1_0__17150;srepoch=1720102958;srpvid=1c07651449a70d6e;type=total;ucfs=1&#map_opened-hotel_address', 'https://www.booking.com/hotel/gr/pavezzo-country-retreat.fr.html?aid=2324560&no_rooms=1&group_adults=2&label=actu-quefaire-leucade']",
         "['t418658', 't143067', 't436984', 't436975']"
        ],
        [
         "47",
         "https://www.petitfute.com/d524-tenerife/actualite/m17-top-10-insolites-voyage/a39324-que-faire-que-visiter-a-tenerife-les-17-incontournables.html",
         "['https://www.getyourguide.fr/tenerife-l350/tenerife-visite-du-parc-national-du-teide-t56481/?partner_id=73QSLFK&utm_medium=online_publisher&cmp=actu-incontournables-tenerife', 'https://www.getyourguide.fr/tenerife-l350/tenerife-experience-du-tour-en-buggy-du-teide-t369566/?partner_id=73QSLFK&utm_medium=online_publisher&cmp=actu-incontournables-tenerife', 'https://www.getyourguide.fr/tenerife-l350/tenerife-croisiere-en-catamaran-avec-brunch-et-boissons-illimitees-t439164/?partner_id=73QSLFK&utm_medium=online_publisher&cmp=actu-incontournables-tenerife', 'https://www.getyourguide.fr/tenerife-l350/tenerife-jet-ski-visite-guidee-decouverte-de-la-cote-t516154/?partner_id=73QSLFK&utm_medium=online_publisher&cmp=actu-incontournables-tenerife', 'https://www.getyourguide.fr/tenerife-l350/tenerife-plongee-sous-marine-de-3-h-pour-debutants-t105191/?partner_id=73QSLFK&utm_medium=online_publisher&cmp=actu-incontournables-tenerife', 'https://www.getyourguide.fr/tenerife-l350/vol-en-parapente-au-dessus-des-montagnes-et-des-cotes-du-sud-de-tenerife-t493960/?partner_id=73QSLFK&utm_medium=online_publisher&cmp=actu-incontournables-tenerife', 'https://www.getyourguide.fr/tenerife-l350/tenerife-billet-d-une-journee-pour-siam-park-t407436/?partner_id=73QSLFK&utm_medium=online_publisher&cmp=actu-incontournables-tenerife', 'https://www.getyourguide.fr/tenerife-l350/tenerife-parc-national-de-teide-coucher-de-soleil-et-observation-des-etoiles-t457265/?partner_id=73QSLFK&utm_medium=online_publisher&cmp=actu-incontournables-tenerife', 'https://www.getyourguide.com/tenerife-l350/']",
         "['https://www.booking.com/hotel/es/san-roque-garachico.fr.html?aid=2324560&no_rooms=1&group_adults=2&label=actu-quefaire-tenerife', 'https://www.booking.com/hotel/es/botanico-y-oriental-spa-garden.fr.html?aid=2324560&no_rooms=1&group_adults=2&label=actu-quefaire-tenerife', 'https://www.booking.com/hotel/es/buenavista-ibiza.fr.html?aid=2324560&no_rooms=1&group_adults=2&label=actu-quefaire-tenerife']",
         "['t56481', 't369566', 't439164', 't516154', 't105191', 't493960', 't407436', 't457265']"
        ],
        [
         "48",
         "https://www.petitfute.com/v38930-cefalu/actualite/m17-top-10-insolites-voyage/a39488-que-faire-que-visiter-a-cefalu-les-17-incontournables.html",
         "['https://www.getyourguide.fr/cefalu-l2176/visite-des-coins-caches-et-des-legendes-de-cefalu-t637006/?partner_id=73QSLFK&utm_medium=online_publisher&cmp=que_faire_cefalu', 'https://www.getyourguide.fr/cefalu-l2176/excursion-en-bateau-le-long-de-la-cote-de-cefalu-t600715/?partner_id=73QSLFK&utm_medium=online_publisher&cmp=que_faire_cefalu']",
         "['https://www.booking.com/hotel/it/glialberidelparadiso.fr.html?aid=2324560&no_rooms=1&group_adults=2&label=que_faire_cefalu', 'https://www.booking.com/hotel/it/hotellecalette.fr.html?aid=2324560&no_rooms=1&group_adults=2&label=que_faire_cefalu', 'https://www.booking.com/hotel/it/al-pescatore.fr.html?aid=2324560&no_rooms=1&group_adults=2&label=que_faire_cefalu']",
         "['t637006', 't600715']"
        ],
        [
         "49",
         "https://www.petitfute.com/v38864-syracuse-siracusa/actualite/m17-top-10-insolites-voyage/a39641-que-faire-que-visiter-a-syracuse-les-11-incontournables.html",
         "['https://www.getyourguide.fr/sicile-l65/syracuse-excursion-en-bateau-vers-l-ile-d-ortigia-avec-ses-grottes-t397117/?partner_id=73QSLFK&utm_medium=online_publisher&cmp=actu_incontournables-syracuse']",
         "['https://www.booking.com/hotel/it/lol-hostel-siracusa.fr.html?aid=2324560&label=actu_incontournables_syracuse', 'https://www.booking.com/hotel/it/roma-siracusa.fr.html?aid=2324560&label=actu_incontournables_syracuse', 'https://www.booking.com/hotel/it/domus-mariae-benessere.fr.html?aid=2324560&label=actu_incontournables_syracuse']",
         "['t397117']"
        ]
       ],
       "shape": {
        "columns": 4,
        "rows": 99
       }
      },
      "text/html": [
       "<div>\n",
       "<style scoped>\n",
       "    .dataframe tbody tr th:only-of-type {\n",
       "        vertical-align: middle;\n",
       "    }\n",
       "\n",
       "    .dataframe tbody tr th {\n",
       "        vertical-align: top;\n",
       "    }\n",
       "\n",
       "    .dataframe thead th {\n",
       "        text-align: right;\n",
       "    }\n",
       "</style>\n",
       "<table border=\"1\" class=\"dataframe\">\n",
       "  <thead>\n",
       "    <tr style=\"text-align: right;\">\n",
       "      <th></th>\n",
       "      <th>URL</th>\n",
       "      <th>getyourguide_links</th>\n",
       "      <th>booking_links</th>\n",
       "      <th>id_getyourguide_link</th>\n",
       "    </tr>\n",
       "  </thead>\n",
       "  <tbody>\n",
       "    <tr>\n",
       "      <th>0</th>\n",
       "      <td>https://www.petitfute.com/v62250-kew/actualite...</td>\n",
       "      <td>[https://www.getyourguide.fr/londres-l57/londr...</td>\n",
       "      <td>['https://www.booking.com/hotel/gb/ibis-london...</td>\n",
       "      <td>[t41419, t129039, t31392, t310718, t34660, t38...</td>\n",
       "    </tr>\n",
       "    <tr>\n",
       "      <th>1</th>\n",
       "      <td>https://www.petitfute.com/v48299-bangli/actual...</td>\n",
       "      <td>[https://www.getyourguide.fr/seminyak-l95096/k...</td>\n",
       "      <td>['https://www.booking.com/hotel/id/sanak-retre...</td>\n",
       "      <td>[t791280, t162114, t393678, t187641, t55668, t...</td>\n",
       "    </tr>\n",
       "    <tr>\n",
       "      <th>2</th>\n",
       "      <td>https://www.petitfute.com/v43490-caldera-de-ta...</td>\n",
       "      <td>[https://www.getyourguide.fr/tenerife-l350/vis...</td>\n",
       "      <td>[]</td>\n",
       "      <td>[t51524, t417569, t206580, t58006, t534639, t1...</td>\n",
       "    </tr>\n",
       "    <tr>\n",
       "      <th>3</th>\n",
       "      <td>https://www.petitfute.com/v49846-genes/actuali...</td>\n",
       "      <td>[https://www.getyourguide.fr/genes-l1009/visit...</td>\n",
       "      <td>['https://www.booking.com/hotel/it/ostellin-ge...</td>\n",
       "      <td>[t622176, t13191, t50734, t29705, t399086, t81...</td>\n",
       "    </tr>\n",
       "    <tr>\n",
       "      <th>4</th>\n",
       "      <td>https://www.petitfute.com/v48986-copenhague/ac...</td>\n",
       "      <td>[https://www.getyourguide.fr/faelledparken-l12...</td>\n",
       "      <td>['https://www.booking.com/hotel/dk/steel-house...</td>\n",
       "      <td>[t72048, t66660, t504350, t168407, t37848, t22...</td>\n",
       "    </tr>\n",
       "    <tr>\n",
       "      <th>...</th>\n",
       "      <td>...</td>\n",
       "      <td>...</td>\n",
       "      <td>...</td>\n",
       "      <td>...</td>\n",
       "    </tr>\n",
       "    <tr>\n",
       "      <th>94</th>\n",
       "      <td>https://www.petitfute.com/v42470-bodrum/actual...</td>\n",
       "      <td>[https://www.getyourguide.fr/bodrum-l846/tour-...</td>\n",
       "      <td>['https://www.booking.com/hotel/tr/seckin-kona...</td>\n",
       "      <td>[t653504, t103136, t476435, t467340]</td>\n",
       "    </tr>\n",
       "    <tr>\n",
       "      <th>95</th>\n",
       "      <td>https://www.petitfute.com/v42420-antalya/actua...</td>\n",
       "      <td>[https://www.getyourguide.fr/antalya-l172/anta...</td>\n",
       "      <td>['https://www.booking.com/hotel/tr/argos.fr.ht...</td>\n",
       "      <td>[t950470, t469125, t468561, t975032, t949847, ...</td>\n",
       "    </tr>\n",
       "    <tr>\n",
       "      <th>96</th>\n",
       "      <td>https://www.petitfute.com/v41475-chiang-rai/ac...</td>\n",
       "      <td>[https://www.getyourguide.fr/bangkok-l169/bang...</td>\n",
       "      <td>['https://www.booking.com/hotel/th/baan-noppaw...</td>\n",
       "      <td>[t417016, t425854, t128406, t417017, t52629, t...</td>\n",
       "    </tr>\n",
       "    <tr>\n",
       "      <th>97</th>\n",
       "      <td>https://www.petitfute.com/v48393-seoul/actuali...</td>\n",
       "      <td>[https://www.getyourguide.fr/seoul-l197/palais...</td>\n",
       "      <td>['https://www.booking.com/hotel/kr/grand-hyatt...</td>\n",
       "      <td>[t467593, t63107, t113551, t492074, t440500, t...</td>\n",
       "    </tr>\n",
       "    <tr>\n",
       "      <th>98</th>\n",
       "      <td>https://www.petitfute.com/v52913-varsovie-wars...</td>\n",
       "      <td>[https://www.getyourguide.fr/varsovie-l41/vars...</td>\n",
       "      <td>['https://www.booking.com/hotel/pl/novotelwars...</td>\n",
       "      <td>[t26241, t211323, t223920, t25314, t581276, t2...</td>\n",
       "    </tr>\n",
       "  </tbody>\n",
       "</table>\n",
       "<p>99 rows × 4 columns</p>\n",
       "</div>"
      ],
      "text/plain": [
       "                                                  URL  \\\n",
       "0   https://www.petitfute.com/v62250-kew/actualite...   \n",
       "1   https://www.petitfute.com/v48299-bangli/actual...   \n",
       "2   https://www.petitfute.com/v43490-caldera-de-ta...   \n",
       "3   https://www.petitfute.com/v49846-genes/actuali...   \n",
       "4   https://www.petitfute.com/v48986-copenhague/ac...   \n",
       "..                                                ...   \n",
       "94  https://www.petitfute.com/v42470-bodrum/actual...   \n",
       "95  https://www.petitfute.com/v42420-antalya/actua...   \n",
       "96  https://www.petitfute.com/v41475-chiang-rai/ac...   \n",
       "97  https://www.petitfute.com/v48393-seoul/actuali...   \n",
       "98  https://www.petitfute.com/v52913-varsovie-wars...   \n",
       "\n",
       "                                   getyourguide_links  \\\n",
       "0   [https://www.getyourguide.fr/londres-l57/londr...   \n",
       "1   [https://www.getyourguide.fr/seminyak-l95096/k...   \n",
       "2   [https://www.getyourguide.fr/tenerife-l350/vis...   \n",
       "3   [https://www.getyourguide.fr/genes-l1009/visit...   \n",
       "4   [https://www.getyourguide.fr/faelledparken-l12...   \n",
       "..                                                ...   \n",
       "94  [https://www.getyourguide.fr/bodrum-l846/tour-...   \n",
       "95  [https://www.getyourguide.fr/antalya-l172/anta...   \n",
       "96  [https://www.getyourguide.fr/bangkok-l169/bang...   \n",
       "97  [https://www.getyourguide.fr/seoul-l197/palais...   \n",
       "98  [https://www.getyourguide.fr/varsovie-l41/vars...   \n",
       "\n",
       "                                        booking_links  \\\n",
       "0   ['https://www.booking.com/hotel/gb/ibis-london...   \n",
       "1   ['https://www.booking.com/hotel/id/sanak-retre...   \n",
       "2                                                  []   \n",
       "3   ['https://www.booking.com/hotel/it/ostellin-ge...   \n",
       "4   ['https://www.booking.com/hotel/dk/steel-house...   \n",
       "..                                                ...   \n",
       "94  ['https://www.booking.com/hotel/tr/seckin-kona...   \n",
       "95  ['https://www.booking.com/hotel/tr/argos.fr.ht...   \n",
       "96  ['https://www.booking.com/hotel/th/baan-noppaw...   \n",
       "97  ['https://www.booking.com/hotel/kr/grand-hyatt...   \n",
       "98  ['https://www.booking.com/hotel/pl/novotelwars...   \n",
       "\n",
       "                                 id_getyourguide_link  \n",
       "0   [t41419, t129039, t31392, t310718, t34660, t38...  \n",
       "1   [t791280, t162114, t393678, t187641, t55668, t...  \n",
       "2   [t51524, t417569, t206580, t58006, t534639, t1...  \n",
       "3   [t622176, t13191, t50734, t29705, t399086, t81...  \n",
       "4   [t72048, t66660, t504350, t168407, t37848, t22...  \n",
       "..                                                ...  \n",
       "94               [t653504, t103136, t476435, t467340]  \n",
       "95  [t950470, t469125, t468561, t975032, t949847, ...  \n",
       "96  [t417016, t425854, t128406, t417017, t52629, t...  \n",
       "97  [t467593, t63107, t113551, t492074, t440500, t...  \n",
       "98  [t26241, t211323, t223920, t25314, t581276, t2...  \n",
       "\n",
       "[99 rows x 4 columns]"
      ]
     },
     "execution_count": 93,
     "metadata": {},
     "output_type": "execute_result"
    }
   ],
   "source": [
    "df_final "
   ]
  },
  {
   "cell_type": "code",
   "execution_count": 94,
   "metadata": {},
   "outputs": [],
   "source": [
    "gyg_activity = gyg[['View activity', 'Potential income']]"
   ]
  },
  {
   "cell_type": "code",
   "execution_count": 95,
   "metadata": {},
   "outputs": [
    {
     "name": "stderr",
     "output_type": "stream",
     "text": [
      "C:\\Users\\Hanaa\\AppData\\Local\\Temp\\ipykernel_17716\\426062652.py:9: SettingWithCopyWarning: \n",
      "A value is trying to be set on a copy of a slice from a DataFrame.\n",
      "Try using .loc[row_indexer,col_indexer] = value instead\n",
      "\n",
      "See the caveats in the documentation: https://pandas.pydata.org/pandas-docs/stable/user_guide/indexing.html#returning-a-view-versus-a-copy\n",
      "  gyg_activity[\"id_gyg\"] = gyg_activity[\"View activity\"].apply(extract_gyg_id)\n"
     ]
    }
   ],
   "source": [
    "def extract_gyg_id(url):\n",
    "    \"\"\"Retourne l’identifiant GetYourGuide (t + 5 ou 6 chiffres) trouvé dans l’URL.\"\"\"\n",
    "    if not isinstance(url, str):\n",
    "        return None\n",
    "    match = re.search(r\"t\\d{5,6}\", url)\n",
    "    return match.group(0) if match else None\n",
    "\n",
    "# Appliquer la fonction\n",
    "gyg_activity[\"id_gyg\"] = gyg_activity[\"View activity\"].apply(extract_gyg_id)"
   ]
  },
  {
   "cell_type": "code",
   "execution_count": 97,
   "metadata": {},
   "outputs": [
    {
     "name": "stderr",
     "output_type": "stream",
     "text": [
      "C:\\Users\\Hanaa\\AppData\\Local\\Temp\\ipykernel_17716\\2979681287.py:1: SettingWithCopyWarning: \n",
      "A value is trying to be set on a copy of a slice from a DataFrame.\n",
      "Try using .loc[row_indexer,col_indexer] = value instead\n",
      "\n",
      "See the caveats in the documentation: https://pandas.pydata.org/pandas-docs/stable/user_guide/indexing.html#returning-a-view-versus-a-copy\n",
      "  gyg_activity[\"Potential income\"] = pd.to_numeric(\n"
     ]
    }
   ],
   "source": [
    "gyg_activity[\"Potential income\"] = pd.to_numeric(\n",
    "    gyg_activity[\"Potential income\"], errors=\"coerce\"\n",
    ").fillna(0)\n"
   ]
  },
  {
   "cell_type": "code",
   "execution_count": 98,
   "metadata": {},
   "outputs": [],
   "source": [
    "# --- Fonction pour calculer la somme du revenu GYG par ligne ---\n",
    "def calc_revenu_gyg(ids, df_ref):\n",
    "    \"\"\"Somme des potential_income pour une liste d'IDs à partir du df_ref.\"\"\"\n",
    "    if not isinstance(ids, list) or len(ids) == 0:\n",
    "        return 0.0\n",
    "    subset = df_ref[df_ref[\"id_gyg\"].isin(ids)]\n",
    "    return subset[\"Potential income\"].sum()\n",
    "\n",
    "# --- Application à la table Petit Futé ---\n",
    "df_final[\"revenu_gyg\"] = df_final[\"id_getyourguide_link\"].apply(lambda ids: calc_revenu_gyg(ids, gyg_activity))\n",
    "\n"
   ]
  },
  {
   "cell_type": "code",
   "execution_count": 100,
   "metadata": {},
   "outputs": [
    {
     "name": "stdout",
     "output_type": "stream",
     "text": [
      "172.92000000000002\n"
     ]
    },
    {
     "data": {
      "application/vnd.microsoft.datawrangler.viewer.v0+json": {
       "columns": [
        {
         "name": "revenu_gyg",
         "rawType": "float64",
         "type": "float"
        },
        {
         "name": "count",
         "rawType": "int64",
         "type": "integer"
        }
       ],
       "ref": "16d008bc-4355-40c4-88bf-ef0b5a6d9a5c",
       "rows": [
        [
         "0.0",
         "86"
        ],
        [
         "6.72",
         "2"
        ],
        [
         "6.45",
         "1"
        ],
        [
         "7.51",
         "1"
        ],
        [
         "4.06",
         "1"
        ],
        [
         "71.68",
         "1"
        ],
        [
         "2.8",
         "1"
        ],
        [
         "4.48",
         "1"
        ],
        [
         "10.5",
         "1"
        ],
        [
         "8.4",
         "1"
        ],
        [
         "31.36",
         "1"
        ],
        [
         "11.4",
         "1"
        ],
        [
         "0.84",
         "1"
        ]
       ],
       "shape": {
        "columns": 1,
        "rows": 13
       }
      },
      "text/plain": [
       "revenu_gyg\n",
       "0.00     86\n",
       "6.72      2\n",
       "6.45      1\n",
       "7.51      1\n",
       "4.06      1\n",
       "71.68     1\n",
       "2.80      1\n",
       "4.48      1\n",
       "10.50     1\n",
       "8.40      1\n",
       "31.36     1\n",
       "11.40     1\n",
       "0.84      1\n",
       "Name: count, dtype: int64"
      ]
     },
     "execution_count": 100,
     "metadata": {},
     "output_type": "execute_result"
    }
   ],
   "source": [
    "print(df_final['revenu_gyg'].sum())\n",
    "df_final['revenu_gyg'].value_counts()\n"
   ]
  },
  {
   "cell_type": "code",
   "execution_count": 101,
   "metadata": {},
   "outputs": [
    {
     "data": {
      "application/vnd.microsoft.datawrangler.viewer.v0+json": {
       "columns": [
        {
         "name": "index",
         "rawType": "int64",
         "type": "integer"
        },
        {
         "name": "URL",
         "rawType": "object",
         "type": "string"
        },
        {
         "name": "getyourguide_links",
         "rawType": "object",
         "type": "unknown"
        },
        {
         "name": "booking_links",
         "rawType": "object",
         "type": "string"
        },
        {
         "name": "id_getyourguide_link",
         "rawType": "object",
         "type": "unknown"
        },
        {
         "name": "revenu_gyg",
         "rawType": "float64",
         "type": "float"
        }
       ],
       "ref": "07f0765e-fdbc-461f-9143-78670d666f51",
       "rows": [
        [
         "0",
         "https://www.petitfute.com/v62250-kew/actualite/m17-top-10-insolites-voyage/a11635-que-faire-a-londres-a-noel-les-14-activites-incontournables.html",
         "['https://www.getyourguide.fr/londres-l57/londres-et-les-illuminations-de-noel-visite-a-velo-t41419/?partner_id=73QSLFK&utm_medium=online_publisher&cmp=actu-incontournables-londres_noel', 'https://www.getyourguide.fr/londres-l57/londres-illuminations-de-noel-en-bus-vintage-ouvert-t129039/?partner_id=73QSLFK&utm_medium=online_publisher&cmp=actu-incontournables-londres_noel', 'https://www.getyourguide.fr/londres-l57/harry-potter-visite-des-studios-warner-bros-a-londres-t31392/?partner_id=73QSLFK&utm_medium=online_publisher&cmp=actu-incontournables-londres_noel', 'https://www.getyourguide.fr/londres-l57/londres-visite-des-illuminations-de-noel-en-bus-t310718/?partner_id=73QSLFK&utm_medium=online_publisher&cmp=actu-incontournables-londres_noel', 'https://www.getyourguide.fr/jardins-botaniques-royaux-de-kew-l5161/londres-jardins-botaniques-royaux-de-kew-t34660/?partner_id=73QSLFK&utm_medium=online_publisher&cmp=actu-incontournables-londres_noel', 'https://www.getyourguide.fr/londres-l57/londres-visite-guidee-en-bus-a-toit-ouvert-des-lumieres-de-noel-de-nuit-t388700/?partner_id=73QSLFK&utm_medium=online_publisher&cmp=actu-incontournables-londres_noel']",
         "['https://www.booking.com/hotel/gb/ibis-london-blackfriars.fr.html?aid=356980&label=gog235jc-1FCAsoUEIXaWJpcy1sb25kb24tYmxhY2tmcmlhcnNIDVgDaE2IAQGYAQ24AQfIAQzYAQHoAQH4AQKIAgGoAgO4AqKo8LcGwAIB0gIkMjA5N2ZjNjgtZmRhYi00MzRlLThmOWYtOTYwMmFhOGRiNDk12AIF4AIB&sid=a0ed4f8119aafb08ddb2c34d69e8b88d&age=0;all_sr_blocks=42636801_94463129_2_42_0%2C42636801_94463129_2_42_0;checkin=2024-10-06;checkout=2024-10-07;dest_id=-2601889;dest_type=city;dist=0;group_adults=2;group_children=1;hapos=1;highlighted_blocks=42636801_94463129_2_42_0%2C42636801_94463129_2_42_0;hpos=1;matching_block_id=42636801_94463129_2_42_0;no_rooms=1;req_adults=2;req_age=0;req_children=1;room1=A%2CA%2C0;sb_price_type=total;sr_order=popularity;sr_pri_blocks=42636801_94463129_2_42_0__12834%2C42636801_94463129_2_42_0__12834;srepoch=1727796262;srpvid=6b066c51ed76067f;type=total;ucfs=1&#map_opened-hotel_address', 'https://www.booking.com/hotel/gb/ibis-london-blackfriars.fr.html?aid=2324560&no_rooms=1&group_adults=2&label=actu-londres-noel', 'https://www.booking.com/hotel/gb/therookery.fr.html?aid=2324560&no_rooms=1&group_adults=2&label=actu-londres-noel', 'https://www.booking.com/hotel/gb/sanderson.fr.html?aid=2324560&no_rooms=1&group_adults=2&label=actu-londres-noel']",
         "['t41419', 't129039', 't31392', 't310718', 't34660', 't388700']",
         "6.45"
        ],
        [
         "1",
         "https://www.petitfute.com/v48299-bangli/actualite/m17-top-10-insolites-voyage/a11947-les-10-etapes-incontournables-pour-une-escapade-a-bali.html",
         "['https://www.getyourguide.fr/seminyak-l95096/kutabali-lecons-de-surf-privees-pour-debutants-et-intermediaires-t791280/?partner_id=73QSLFK&utm_medium=online_publisher&cmp=que_faire_bali', 'https://www.getyourguide.fr/bali-l347/visite-instagram-de-bali-les-endroits-les-plus-pittoresques-t162114/?partner_id=73QSLFK&utm_medium=online_publisher&cmp=que_faire_bali', 'https://www.getyourguide.fr/bali-l347/visite-de-taman-ayun-et-du-temple-de-tanah-lot-au-coucher-du-soleil-t393678/?partner_id=73QSLFK', 'https://www.getyourguide.fr/bali-l347/bali-decouverte-du-mysticisme-balinais-et-temple-de-kehen-t187641/?partner_id=73QSLFK', 'https://www.getyourguide.fr/bali-l347/le-meilleur-du-centre-de-bali-cascade-goa-gajah-rizieres-t55668/?partner_id=73QSLFK', 'https://www.getyourguide.fr/bali-l347/uluwatu-visite-a-pied-du-temple-et-de-la-falaise-de-karang-boma-avec-billet-t440490/?partner_id=73QSLFK', 'https://www.getyourguide.fr/bali-l347/bali-nord-cascades-de-sekumpul-et-temple-d-ulun-danu-t267767/?partner_id=73QSLFK', 'https://www.getyourguide.fr/bali-l347/nord-de-bali-dauphins-cascades-et-temples-a-l-aube-t101513/?partner_id=73QSLFK', 'https://www.getyourguide.fr/mont-batur-l84533/bali-mont-batur-sunrise-trek-avec-guide-t411965/?partner_id=73QSLFK']",
         "['https://www.booking.com/hotel/id/sanak-retreat-bali.fr.html?aid=2324560&no_rooms=1&group_adults=2&label=que_faire_bali', 'https://www.booking.com/hotel/id/pramana-watu-kurung-resort.fr.html?aid=2324560&no_rooms=1&group_adults=2&label=que_faire_bali', 'https://www.booking.com/hotel/id/the-sankara-suite-and-villa-ubud.fr.html?aid=2324560&no_rooms=1&group_adults=2&label=que_faire_bali']",
         "['t791280', 't162114', 't393678', 't187641', 't55668', 't440490', 't267767', 't101513', 't411965']",
         "0.0"
        ],
        [
         "2",
         "https://www.petitfute.com/v43490-caldera-de-taburiente/actualite/m17-top-10-insolites-voyage/a12467-que-faire-aux-canaries-top-15-des-experiences-a-ne-pas-manquer.html",
         "['https://www.getyourguide.fr/tenerife-l350/visite-astronomique-du-mont-teide-t51524/?partner_id=73QSLFK&utm_medium=online_publisher&cmp=actu-incontournables-canaries', 'https://www.getyourguide.fr/tenerife-l350/depuis-adeje-visite-guidee-pour-groupes-de-photographie-t417569/?partner_id=73QSLFK&utm_medium=online_publisher&cmp=actu-incontournables-canaries', 'https://www.getyourguide.fr/el-hierro-l44931/transfert-aeroport-el-hierro-prive-t206580/?partner_id=73QSLFK&utm_medium=online_publisher&cmp=actu-incontournables-canaries', 'https://www.getyourguide.fr/tenerife-l350/depuis-arona-tour-de-la-gomera-t58006/?partner_id=73QSLFK&utm_medium=online_publisher&cmp=actu-incontournables-canaries', 'https://www.getyourguide.fr/fuerteventura-l419/fuerteventura-wild-north-tour-corralejo-combo-t534639/?partner_id=73QSLFK&utm_medium=online_publisher&cmp=actu-incontournables-canaries', 'https://www.getyourguide.fr/lanzarote-l421/tour-complet-de-lanzarote-t132558/?partner_id=73QSLFK&utm_medium=online_publisher&cmp=actu-incontournables-canaries', 'https://www.getyourguide.fr/grande-canarie-l418/dunes-de-maspalomas-promenade-a-dos-de-chameau-t212022/?partner_id=73QSLFK&utm_medium=online_publisher&cmp=Que_faire_aux_Canaries', 'https://www.getyourguide.fr/lanzarote-l421/tour-complet-de-lanzarote-t132558/?partner_id=73QSLFK&utm_medium=online_publisher&cmp=actu-incontournables-canaries']",
         "[]",
         "['t51524', 't417569', 't206580', 't58006', 't534639', 't132558', 't212022', 't132558']",
         "0.0"
        ],
        [
         "3",
         "https://www.petitfute.com/v49846-genes/actualite/m17-top-10-insolites-voyage/a13620-que-faire-a-genes-les-17-incontournables-a-visiter.html",
         "['https://www.getyourguide.fr/genes-l1009/visite-a-pied-des-sites-incontournables-de-genes-t622176/?partner_id=73QSLFK&utm_medium=online_publisher&cmp=actu-incontournables-genes', 'https://www.getyourguide.fr/genes-l1009/genes-2-heures-de-visite-guidee-a-pied-du-centre-historique-t13191/?partner_id=73QSLFK&utm_medium=online_publisher&cmp=actu-incontournables-genes', 'https://www.getyourguide.fr/ligurie-l221/genes-billet-valable-48-h-pour-bus-a-arrets-multiples-t50734/?partner_id=73QSLFK&utm_medium=online_publisher&cmp=actu_incontournables_genes', 'https://www.getyourguide.fr/genes-l1009/visite-guidee-des-palais-rolli-de-genes-patrimoine-mondial-de-l-unesco-t29705/?partner_id=73QSLFK&utm_medium=online_publisher&cmp=actu-incontournables-genes', 'https://www.getyourguide.fr/genes-l1009/aquarium-de-genes-billet-coupe-file-t399086/?partner_id=73QSLFK&utm_medium=online_publisher&cmp=actu_incontournables_genes', 'https://www.getyourguide.fr/genes-l1009/genes-visite-culinaire-et-degustation-de-vin-a-pied-t817882/?partner_id=73QSLFK&utm_medium=online_publisher&cmp=actu-incontournables-genes', 'https://www.getyourguide.fr/genes-l1009/genes-visite-guidee-historique-de-la-maison-de-christophe-colomb-t413336/?partner_id=73QSLFK&utm_medium=online_publisher&cmp=actu_incontournables_genes', 'https://www.getyourguide.fr/genes-l1009/au-depart-de-genes-excursion-en-bateau-aller-retour-a-portofino-t414272/?partner_id=73QSLFK&utm_medium=online_publisher&cmp=actu_incontournables_genes']",
         "['https://www.booking.com/hotel/it/ostellin-genova-hostel-genoa.fr.html?aid=2324560&label=actu_incontournables_genes', 'https://www.booking.com/hotel/it/b-amp-b-genova.fr.html?aid=2324560&label=actu_incontournables_gene', 'https://www.booking.com/hotel/it/palazzo-grillo.fr.html?aid=2324560&label=actu_incontournables_genes']",
         "['t622176', 't13191', 't50734', 't29705', 't399086', 't817882', 't413336', 't414272']",
         "0.0"
        ],
        [
         "4",
         "https://www.petitfute.com/v48986-copenhague/actualite/m17-top-10-insolites-voyage/a18238-les-incontournables-de-copenhague.html",
         "['https://www.getyourguide.fr/faelledparken-l12/copenhague-billet-d-entree-a-tivoli-t72048/?partner_id=73QSLFK&utm_medium=online_publisher&cmp=actu_incontournables_copenhague', 'https://www.getyourguide.fr/faelledparken-l12/copenhague-city-card-pass-pour-80-attractions-avec-metro-pass-t66660/?partner_id=73QSLFK&utm_medium=online_publisher&cmp=actu_incontournables_copenhague', 'https://www.getyourguide.fr/faelledparken-l12/copenhague-visite-du-quartier-de-norrebro-t504350/?partner_id=73QSLFK&utm_medium=online_publisher&cmp=actu_incontournables_copenhague', 'https://www.getyourguide.fr/faelledparken-l12/copenhague-tour-de-velo-de-90-minutes-t168407/?partner_id=73QSLFK&utm_medium=online_publisher&cmp=actu_incontournables_copenhague', 'https://www.getyourguide.fr/faelledparken-l12/copenhague-croisiere-sur-le-canal-de-gammel-strand-t37848/?partner_id=73QSLFK&utm_medium=online_publisher&cmp=actu_incontournables_copenhague', 'https://www.getyourguide.fr/faelledparken-l12/copenhague-tour-culinaire-a-velo-de-3-heures-t229054/?partner_id=73QSLFK&utm_medium=online_publisher&cmp=actu_incontournables_copenhague', 'https://www.getyourguide.fr/faelledparken-l12/copenhague-visite-de-3-h-a-velo-avec-un-guide-t168389/?partner_id=73QSLFK&utm_medium=online_publisher&cmp=actu_incontournables_copenhague']",
         "['https://www.booking.com/hotel/dk/steel-house-copenhagen.fr.html?aid=2324560&no_rooms=1&group_adults=2&label=actu_quefaire_copenhague', 'https://www.booking.com/hotel/dk/christian-iv.fr.html?aid=2324560&no_rooms=1&group_adults=2&label=actu_quefaire_copenhague', 'https://www.booking.com/hotel/dk/alexandra.fr.html?aid=2324560&no_rooms=1&group_adults=2&label=actu_quefaire_copenhague']",
         "['t72048', 't66660', 't504350', 't168407', 't37848', 't229054', 't168389']",
         "0.0"
        ],
        [
         "5",
         "https://www.petitfute.com/v48159-marrakech/actualite/m17-top-10-insolites-voyage/a18462-que-faire-a-marrakech-les-15-incontournables.html",
         "['https://www.getyourguide.fr/marrakech-l208/jardins-de-majorelle-avec-billet-optionnel-pour-le-musee-ysl-et-le-musee-berbere-t593175/?partner_id=73QSLFK&utm_medium=online_publisher&cmp=que_faire_marrakech', 'https://www.getyourguide.fr/marrakech-l208/tombeaux-saadiens-et-palais-el-badi-et-de-la-bahia-visite-t348061/?partner_id=73QSLFK', 'https://www.getyourguide.fr/marrakech-l208/marrakech-balade-privee-a-cheval-a-la-palmeraie-avec-the-t609248/?partner_id=73QSLFK&utm_medium=online_publisher&cmp=que_faire_marrakech', 'https://www.getyourguide.fr/marrakech-l208/marrakech-palais-de-la-bahia-tombeaux-saadiens-et-mosquee-de-la-koutoubia-t348061/?partner_id=73QSLFK&utm_medium=online_publisher&cmp=que_faire_marrakech', 'https://www.getyourguide.fr/marrakech-l208/tombeaux-saadiens-et-palais-el-badi-et-de-la-bahia-visite-t348061/?partner_id=73QSLFK', 'https://www.getyourguide.fr/marrakech-l208/ballooning-vol-low-cost-marrakech-t468535/?partner_id=73QSLFK&utm_medium=online_publisher&cmp=que_faire_marrakech']",
         "['https://www.booking.com/hotel/ma/riad-le-rihani.en.html?aid=2324560', 'https://www.booking.com/hotel/ma/riad-dia.fr.html?aid=2324560&no_rooms=1&group_adults=2&label=que_faire_marrakech', 'https://www.booking.com/hotel/ma/riad-matham.fr.html?aid=2324560&no_rooms=1&group_adults=2&label=que_faire_marrakech']",
         "['t593175', 't348061', 't609248', 't348061', 't348061', 't468535']",
         "0.0"
        ],
        [
         "6",
         "https://www.petitfute.com/v38789-palerme/actualite/m17-top-10-insolites-voyage/a19643-que-faire-que-visiter-en-sicile-les-20-incontournables.html",
         "['https://www.getyourguide.fr/palerme-l387/palerme-billet-24-h-pour-bus-a-arrets-multiples-t50725/?partner_id=73QSLFK', 'https://www.getyourguide.fr/stromboli-l109057/stromboli-randonnee-au-sommet-de-sciara-del-fuoco-t227827/?partner_id=73QSLFK&utm_medium=online_publisher&cmp=actu-incontournables-sicile', 'https://www.getyourguide.fr/catane-l258/catane-balade-a-pied-t353891/?partner_id=73QSLFK', 'https://www.getyourguide.fr/agrigente-l1158/visite-guidee-de-la-vallee-des-temples-en-coupe-file-t407067/?partner_id=73QSLFK&utm_medium=online_publisher&cmp=actu-incontournables-sicile', 'https://www.getyourguide.fr/syracuse-italie-l1115/syracuse-billet-d-entree-au-parc-archeologique-de-neapolis-t429723/?partner_id=73QSLFK', 'https://www.getyourguide.fr/catane-l258/catane-excursion-sur-l-etna-et-degustation-t395066/?partner_id=73QSLFK', 'https://www.getyourguide.fr/palerme-l387/palerme-excursion-d-une-journee-a-segesta-erice-et-les-salines-t63361/?partner_id=73QSLFK&utm_medium=online_publisher&cmp=actu-incontournables-sicile', 'https://www.getyourguide.fr/palerme-l387/palerme-excursion-d-une-journee-a-segesta-erice-et-les-salines-t63361/?partner_id=73QSLFK&utm_medium=online_publisher&cmp=actu-incontournables-sicile', 'https://www.getyourguide.fr/palerme-l387/sicile-excursion-a-monreale-et-cefalu-depuis-palerme-t63358/?partner_id=73QSLFK']",
         "[]",
         "['t50725', 't227827', 't353891', 't407067', 't429723', 't395066', 't63361', 't63361', 't63358']",
         "0.0"
        ],
        [
         "7",
         "https://www.petitfute.com/v50211-venise/actualite/m17-top-10-insolites-voyage/a29266-que-faire-a-venise-en-3-jours-conseils-de-visites.html",
         "[]",
         "[]",
         "[]",
         "0.0"
        ],
        [
         "8",
         "https://www.petitfute.com/v50580-valence/actualite/m17-top-10-insolites-voyage/a29645-que-faire-a-valence-en-espagne-les-19-incontournables.html",
         "['https://www.getyourguide.fr/valence-l49/valencia-bus-turistic-route-maritime-t41773/?partner_id=73QSLFK&utm_medium=online_publisher&cmp=actu-incontournables-valence', 'https://www.getyourguide.fr/valence-l49/valence-billet-pour-le-sea-life-center-de-l-oceanografic-t413877/?partner_id=73QSLFK&utm_medium=online_publisher&cmp=actu-incontournables-valence', 'https://www.getyourguide.fr/valence-l49/entree-au-musee-des-sciences-principe-felipe-a-valence-t414583/?partner_id=73QSLFK&utm_medium=online_publisher&cmp=actu-incontournables-valence', 'https://www.getyourguide.fr/valence-l49/valence-billet-pour-le-sea-life-center-de-l-oceanografic-t413877/?partner_id=73QSLFK&utm_medium=online_publisher&cmp=actu-incontournables-valence', 'https://www.getyourguide.fr/valence-l49/valence-croisiere-en-catamaran-avec-option-coucher-de-soleil-t409759/?partner_id=73QSLFK&utm_medium=online_publisher&cmp=actu-incontournables-valence', 'https://www.getyourguide.fr/valence-l49/valence-carte-touristique-de-24-48-ou-72-heures-pour-valence-t19728/?partner_id=73QSLFK&utm_medium=online_publisher&cmp=actu-incontournables-valence', 'https://www.getyourguide.fr/valence-l49/valence-visite-de-la-cathedrale-de-saint-nicolas-et-de-la-lonja-de-la-seda-t433051/?partner_id=73QSLFK&utm_medium=online_publisher&cmp=actu-incontournables-valence', 'https://www.getyourguide.fr/valence-l49/valence-3-heures-de-velo-t166100/?partner_id=73QSLFK&utm_medium=online_publisher&cmp=actu-incontournables-valence', 'https://www.getyourguide.fr/valence-l49/valence-tours-en-jet-ski-t444601/?partner_id=73QSLFK&utm_medium=online_publisher&cmp=actu-incontournables-valence', 'https://www.getyourguide.fr/valence-l49/depuis-valence-bus-croisiere-et-dejeuner-dans-le-parc-naturel-de-l-albufera-t51459/?partner_id=73QSLFK&utm_medium=online_publisher&cmp=actu-incontournables-valence', 'https://www.getyourguide.fr/valence-l49/valence-bioparc-valencia-billet-d-entree-t828748/?partner_id=73QSLFK&utm_medium=online_publisher&cmp=actu-incontournables-valence']",
         "['https://www.booking.com/hotel/es/hostal-antigua-morellana.en.html?aid=2324560&label=actu_quefaire_valence_espagne', 'https://www.booking.com/hotel/es/the-westin-alameda-valencia.en.html?aid=2324560&label=actu_quefaire_valence_espagne', 'https://www.booking.com/hotel/es/miramar-valencia.en.html?aid=2324560&label=actu_quefaire_valence_espagne', 'https://www.booking.com/hotel/es/miramar-valencia.en.html?aid=2324560']",
         "['t41773', 't413877', 't414583', 't413877', 't409759', 't19728', 't433051', 't166100', 't444601', 't51459', 't828748']",
         "0.0"
        ],
        [
         "9",
         "https://www.petitfute.com/v39823-rome/actualite/m17-top-10-insolites-voyage/a30996-comment-visiter-rome-en-3-jours-conseils-ditineraire-a-faire.html ",
         "['https://www.getyourguide.fr/colisee-l2619/rome-coupe-file-colisee-forum-romain-et-mont-palatin-t217527/?partner_id=73QSLFK', 'https://www.getyourguide.fr/colisee-l2619/visite-guidee-du-colisee-du-forum-romain-et-du-palatin-t195566/?partner_id=73QSLFK&utm_medium=online_publisher&cmp=actu-3jours_rome', 'https://www.getyourguide.fr/rome-l33/rome-musee-romain-de-l-empire-avec-entree-hebergee-t214890/?partner_id=73QSLFK', 'https://www.getyourguide.fr/rome-l33/rome-billet-d-entree-rapide-au-pantheon-avec-audioguide-t490776/?partner_id=73QSLFK', 'https://www.getyourguide.fr/rome-l33/billets-d-entree-a-la-galerie-borghese-t719993/?partner_id=73QSLFK&utm_medium=online_publisher&cmp=actu-3jours_rome', 'https://www.getyourguide.fr/musees-du-vatican-l2738/billet-coupe-file-pour-les-musees-du-vatican-et-la-chapelle-sixtine-t62214/?partner_id=73QSLFK&utm_medium=online_publisher&cmp=actu-3jours_rome', 'https://www.getyourguide.fr/rome-l33/coupe-file-dome-saint-pierre-avec-audioguide-t53689/?partner_id=73QSLFK&utm_medium=online_publisher&cmp=actu-3jours_rome', 'https://www.getyourguide.fr/chateau-saint-ange-l2902/castel-sant-angelo-entree-coupe-file-et-audioguide-en-option-t415831/?partner_id=73QSLFK&utm_medium=online_publisher&cmp=actu-3jours_rome', 'https://www.getyourguide.fr/rome-l33/rome-trastevere-ou-visite-culinaire-du-quartier-juif-t251502/?partner_id=73QSLFK&utm_medium=online_publisher&cmp=actu-3jours_rome', 'https://www.getyourguide.fr/rome-l33/rome-visite-en-bicyclette-electrique-t401563/?partner_id=73QSLFK']",
         "['https://www.booking.com/hotel/it/locanda-carmel.fr.html?aid=2324560&label=rome-3jours', 'https://www.booking.com/hotel/it/hotelgardaroma.fr.html?aid=2324560', 'https://www.booking.com/hotel/it/grifo.fr.html?aid=2324560&label=rome-3jours']",
         "['t217527', 't195566', 't214890', 't490776', 't719993', 't62214', 't53689', 't415831', 't251502', 't401563']",
         "0.0"
        ],
        [
         "10",
         "https://www.petitfute.com/v51354-naples/actualite/m17-top-10-insolites-voyage/a31152-comment-visiter-naples-en-3-jours-conseils-d-itineraire.html",
         "['https://www.getyourguide.fr/naples-l162/billet-de-24-heures-pour-la-visite-en-bus-a-arrets-multiples-de-naples-t50723/?partner_id=73QSLFK&utm_medium=online_publisher&cmp=actu-3jours_naples', 'https://www.getyourguide.fr/naples-l162/naples-le-mont-vesuve-billet-coupe-file-et-audioguide-t446803/?partner_id=73QSLFK&utm_medium=online_publisher&cmp=actu-3jours_naples', 'https://www.getyourguide.fr/pompei-campanie-l156880/pompei-billet-d-entree-et-visite-guidee-avec-un-archeologue-t161715/?partner_id=73QSLFK&utm_medium=online_publisher&cmp=actu-3jours_naples', 'https://www.getyourguide.fr/site-archeologique-de-pompei-l685/billet-d-entree-prioritaire-pour-pompei-t69330/?partner_id=73QSLFK&utm_medium=online_publisher&cmp=actu-3jours_naples', 'https://www.getyourguide.fr/naples-l162/herculanum-visite-guidee-en-coupe-file-avec-un-archeologue-t204331/?partner_id=73QSLFK&utm_medium=online_publisher&cmp=actu-3jours_naples', 'https://www.getyourguide.fr/naples-l162/herculanum-billet-coupe-file-et-audioguide-t563654/?partner_id=73QSLFK&utm_medium=online_publisher&cmp=actu-3jours_naples', 'https://www.getyourguide.fr/naples-l162/naples-billet-pour-le-musee-archeologique-national-t229513/?partner_id=73QSLFK', 'https://www.getyourguide.fr/naples-l162/billet-et-visite-guidee-des-catacombes-de-san-gennaro-t113923/?partner_id=73QSLFK', 'https://www.getyourguide.fr/souterrains-de-naples-l89414/billet-d-entree-pour-le-metro-de-naples-t144159/?partner_id=73QSLFK&utm_medium=online_publisher&cmp=actu-3jours_naples', 'https://www.getyourguide.com/naples-l162/']",
         "['https://www.booking.com/hotel/it/hotelcasanova.fr.html?aid=2324560', 'https://www.booking.com/hotel/it/hostelofthesunapoli.fr.html?aid=2324560&label=naples-3jours', 'https://www.booking.com/hotel/it/palazzo-alabardieri.fr.html?aid=2324560']",
         "['t50723', 't446803', 't161715', 't69330', 't204331', 't563654', 't229513', 't113923', 't144159']",
         "6.72"
        ],
        [
         "11",
         "https://www.petitfute.com/v42286-barcelone/actualite/m17-top-10-insolites-voyage/a31405-que-faire-a-barcelone-en-3-jours-conseils-d-itineraire.html",
         "['https://www.getyourguide.fr/barcelone-l45/barcelona-card-offres-et-reductions-2-3-4-ou-5-jours-t22219/?partner_id=73QSLFK', 'https://www.getyourguide.fr/barcelone-l45/barcelone-l-experience-10d-de-la-casa-batllo-t398519/?partner_id=73QSLFK&utm_medium=online_publisher&cmp=actu-3jours_barcelone', 'https://www.getyourguide.fr/barcelone-l45/barcelone-visite-en-bus-a-arrets-a-arrets-multiples-de-24-ou-48-heures-t1225/?partner_id=73QSLFK&utm_medium=online_publisher&cmp=actu-3jours_barcelone', 'https://www.getyourguide.fr/barcelone-l45/barcelone-billet-pour-l-exposition-immersive-du-barca-t449261/?partner_id=73QSLFK&utm_medium=online_publisher&cmp=actu-3jours_barcelone', 'https://www.getyourguide.fr/sagrada-familia-l2699/sagrada-familia-billet-coupe-file-t50027/?partner_id=73QSLFK&utm_medium=online_publisher&cmp=actu-3jours_barcelone', 'https://www.getyourguide.fr/barcelone-l45/billets-coupe-file-pour-l-entree-au-parc-guell-t53791/?partner_id=73QSLFK&utm_medium=online_publisher&cmp=actu-3jours_barcelone', 'https://www.getyourguide.fr/barcelone-l45/barcelone-ticket-aller-retour-pour-le-telepherique-de-montjuic-t23477/?partner_id=73QSLFK&utm_medium=online_publisher&cmp=actu-3jours_barcelone', 'https://www.getyourguide.fr/barcelone-l45/el-born-visite-de-la-basilique-santa-maria-del-mar-et-acces-a-la-terrasse-t448206/?partner_id=73QSLFK&utm_medium=online_publisher&cmp=actu-3jours_barcelone', 'https://www.getyourguide.com/barcelone-l45/']",
         "['https://www.booking.com/hotel/es/hostal-fernando.fr.html?aid=356980&label=gog235jc-1FCAsoRkIPaG9zdGFsLWZlcm5hbmRvSA1YA2hNiAEBmAENuAEHyAEM2AEB6AEB-AECiAIBqAIDuAK6_MjABsACAdICJDZmYjlmOWVlLTAyZjgtNGRjYi05NTg4LTRmMjBkZTI2MzhjY9gCBeACAQ&sid=6638e020b5a28e553d7f5e1410fafe86&age=1&all_sr_blocks=17314803_105612970_0_2_0&checkin=2025-06-26&checkout=2025-06-29&dest_id=-372490&dest_type=city&dist=0&group_adults=2&group_children=0&hapos=1&highlighted_blocks=17314803_105612970_0_2_0&hpos=1&matching_block_id=17314803_105612970_0_2_0&no_rooms=1&req_adults=2&req_children=0&room1=A%2CA&sb_price_type=total&sr_order=popularity&sr_pri_blocks=17314803_105612970_0_2_0__54897&srepoch=1746026053&srpvid=bb756b1dff04044a&type=total&ucfs=1&#map_opened-map_trigger_header_pin', 'https://www.booking.com/hotel/es/hostal-fernando.fr.html?aid=2324560&label=3jours_barcelone', 'https://www.booking.com/hotel/es/hostal-fernando.fr.html?aid=356980&label=gog235jc-1FCAsoRkIPaG9zdGFsLWZlcm5hbmRvSA1YA2hNiAEBmAENuAEHyAEM2AEB6AEB-AECiAIBqAIDuAK6_MjABsACAdICJDZmYjlmOWVlLTAyZjgtNGRjYi05NTg4LTRmMjBkZTI2MzhjY9gCBeACAQ&sid=6638e020b5a28e553d7f5e1410fafe86&age=1&all_sr_blocks=17314803_105612970_0_2_0&checkin=2025-06-26&checkout=2025-06-29&dest_id=-372490&dest_type=city&dist=0&group_adults=2&group_children=0&hapos=1&highlighted_blocks=17314803_105612970_0_2_0&hpos=1&matching_block_id=17314803_105612970_0_2_0&no_rooms=1&req_adults=2&req_children=0&room1=A%2CA&sb_price_type=total&sr_order=popularity&sr_pri_blocks=17314803_105612970_0_2_0__54897&srepoch=1746026053&srpvid=bb756b1dff04044a&type=total&ucfs=1&#map_opened-map_trigger_header_pin', 'https://www.booking.com/hotel/es/yellow-nest-hostel.fr.html?aid=356980&label=gog235jc-1FCAsoRkISeWVsbG93LW5lc3QtaG9zdGVsSA1YA2hNiAEBmAENuAEHyAEM2AEB6AEB-AECiAIBqAIDuALl_cjABsACAdICJGY5MzA1YWI3LTI4YTctNDIyMy1iYjIwLWY5ZmFlOGYzZTc5Y9gCBeACAQ&sid=6638e020b5a28e553d7f5e1410fafe86&age=1&all_sr_blocks=31117701_170582352_0_0_0%2C31117701_170582352_0_0_0&checkin=2025-06-26&checkout=2025-06-29&dest_id=-372490&dest_type=city&dist=0&group_adults=2&group_children=0&hapos=1&highlighted_blocks=31117701_170582352_0_0_0%2C31117701_170582352_0_0_0&hpos=1&matching_block_id=31117701_170582352_0_0_0&no_rooms=1&req_adults=2&req_children=0&room1=A%2CA&sb_price_type=total&sr_order=popularity&sr_pri_blocks=31117701_170582352_0_0_0__14177%2C31117701_170582352_0_0_0__14177&srepoch=1746026224&srpvid=54b46b73b3630326&type=total&ucfs=1&#map_opened-map_trigger_header_pin', 'https://www.booking.com/hotel/es/yellow-nest-hostel.fr.html?aid=2324560&label=3jours_barcelone', 'https://www.booking.com/hotel/es/yellow-nest-hostel.fr.html?aid=356980&label=gog235jc-1FCAsoRkISeWVsbG93LW5lc3QtaG9zdGVsSA1YA2hNiAEBmAENuAEHyAEM2AEB6AEB-AECiAIBqAIDuALl_cjABsACAdICJGY5MzA1YWI3LTI4YTctNDIyMy1iYjIwLWY5ZmFlOGYzZTc5Y9gCBeACAQ&sid=6638e020b5a28e553d7f5e1410fafe86&age=1&all_sr_blocks=31117701_170582352_0_0_0%2C31117701_170582352_0_0_0&checkin=2025-06-26&checkout=2025-06-29&dest_id=-372490&dest_type=city&dist=0&group_adults=2&group_children=0&hapos=1&highlighted_blocks=31117701_170582352_0_0_0%2C31117701_170582352_0_0_0&hpos=1&matching_block_id=31117701_170582352_0_0_0&no_rooms=1&req_adults=2&req_children=0&room1=A%2CA&sb_price_type=total&sr_order=popularity&sr_pri_blocks=31117701_170582352_0_0_0__14177%2C31117701_170582352_0_0_0__14177&srepoch=1746026224&srpvid=54b46b73b3630326&type=total&ucfs=1&#map_opened-map_trigger_header_pin', 'https://www.booking.com/hotel/es/w-barcelona.fr.html?aid=2324560&label=3jours_barcelone']",
         "['t22219', 't398519', 't449261', 't50027', 't53791', 't23477', 't448206']",
         "0.0"
        ],
        [
         "12",
         "https://www.petitfute.com/v50459-londres/actualite/m17-top-10-insolites-voyage/a31484-que-faire-a-londres-en-3-jours-conseils-ditineraire.html ",
         "['https://www.getyourguide.fr/londres-l57/londres-visite-guidee-des-points-forts-de-la-national-gallery-t415465/?partner_id=73QSLFK&utm_medium=online_publisher&cmp=actu_3jours_londres', 'https://www.getyourguide.fr/londres-l57/londres-visite-de-la-tate-modern-avec-un-expert-en-art-t494927/?partner_id=73QSLFK&utm_medium=online_publisher&cmp=actu_3jours_londres']",
         "['https://www.booking.com/hotel/gb/ibis-london-city.fr.html?aid=2324560&no_rooms=1&group_adults=2&label=actu_3jours_londres', 'https://www.booking.com/hotel/gb/blakemore.fr.html?aid=2324560&no_rooms=1&group_adults=2&label=actu_3jours_londres', 'https://www.booking.com/hotel/gb/notting-hill-hostel.fr.html?aid=2324560&no_rooms=1&group_adults=2&label=londres_3_jours']",
         "['t415465', 't494927']",
         "0.0"
        ],
        [
         "13",
         "https://www.petitfute.com/v48153-berlin/actualite/m17-top-10-insolites-voyage/a32105-que-faire-et-que-voir-a-berlin-en-3-jours.html",
         "[]",
         "['https://www.booking.com/hotel/de/meininger-berlin-mitte.fr.html?aid=2324560&no_rooms=1&group_adults=2&label=actu_3joursberlin', 'https://www.booking.com/hotel/de/eastern-comfort-hostel-boat.fr.html?aid=2324560&no_rooms=1&group_adults=2&label=actu_3joursberlin', 'https://www.booking.com/hotel/de/nhow-berlin.fr.html?aid=2324560&no_rooms=1&group_adults=2&label=actu_3joursberlin', 'https://www.booking.com/hotel/de/meininger-berlin-mitte.fr.html?aid=2324560&no_rooms=1&group_adults=2&label=actu_3joursberlin', 'https://www.booking.com/hotel/de/eastern-comfort-hostel-boat.fr.html?aid=2324560&no_rooms=1&group_adults=2&label=actu_3joursberlin', 'https://www.booking.com/hotel/de/nhow-berlin.fr.html?aid=2324560&no_rooms=1&group_adults=2&label=actu_3joursberlin']",
         "[]",
         "0.0"
        ],
        [
         "14",
         "https://www.petitfute.com/v11387-saint-aignan-41110/actualite/m17-top-10-insolites-voyage/a32183-que-faire-autour-du-zoo-de-beauval-17-idees-de-visites.html",
         "['https://www.getyourguide.fr/tours-france-l1320/visite-guidee-immersive-de-tours-au-13e-siecle-t495049/?partner_id=73QSLFK&utm_medium=online_publisher&cmp=actu_incontournables_autour_beauval', 'https://www.getyourguide.fr/les-chateaux-de-la-loire-l7956/chateau-de-chenonceau-billet-d-entree-t176736/?partner_id=73QSLFK&utm_medium=online_publisher&cmp=actu_incontournables_autour_beauval', 'https://www.getyourguide.fr/les-chateaux-de-la-loire-l7956/chambord-billet-coupe-file-t183794/?partner_id=73QSLFK&utm_medium=online_publisher&cmp=actu_incontournables_autour_beauval', 'https://www.getyourguide.fr/chateau-de-blois-l35246/billet-d-entree-au-chateau-de-blois-t394721/?partner_id=73QSLFK&utm_medium=online_publisher&cmp=actu_incontournables_autour_beauval']",
         "[]",
         "['t495049', 't176736', 't183794', 't394721']",
         "0.0"
        ],
        [
         "15",
         "https://www.petitfute.com/actualite/m17-top-10-insolites-voyage/a32259-conseils-et-astuces-pour-organiser-votre-journee-au-parc-animalier-planete-sauvage.html",
         "[]",
         "[]",
         "[]",
         "0.0"
        ],
        [
         "16",
         "https://www.petitfute.com/v18720-aigues-mortes-30220/actualite/m17-top-10-insolites-voyage/a32449-que-faire-en-camargue-les-15-plus-beaux-endroits-a-visiter.html",
         "[]",
         "[]",
         "[]",
         "0.0"
        ],
        [
         "17",
         "https://www.petitfute.com/v41612-koh-phi-phi-leh/actualite/m17-top-10-insolites-voyage/a32655-que-faire-que-visiter-a-phuket-top-19-des-activites-incontournables.html",
         "['https://www.getyourguide.fr/phuket-l32123/excursion-d-une-demi-journee-sur-l-ile-de-phuket-avec-big-buddha-t482589/?partner_id=73QSLFK&utm_medium=online_publisher&cmp=actu_incontournables_phuket', 'https://www.getyourguide.fr/thailande-du-sud-et-cote-d-andaman-l32457/phuket-excursion-d-une-journee-sur-l-ile-de-james-bond-en-bateau-rapide-avec-dejeuner-t414764/?partner_id=73QSLFK&utm_medium=online_publisher&cmp=actu_incontournables_phuket', 'https://www.getyourguide.fr/phuket-ville-l187/phuket-explorer-decouvrez-les-charmes-de-la-ville-circuit-d-une-demi-journee-t511804/?partner_id=73QSLFK&utm_medium=online_publisher&cmp=actu_incontournables_phuket', 'https://www.getyourguide.fr/iles-phi-phi-l9477/phi-phi-excursion-privee-en-bateau-a-queue-longue-a-maya-bay-t442354/?partner_id=73QSLFK&utm_medium=online_publisher&cmp=actu_incontournables_phuket', 'https://www.getyourguide.fr/phuket-l32123/phuket-sanctuaire-de-la-jungle-des-elephants-alimentation-et-douche-t567850/?partner_id=73QSLFK&utm_medium=online_publisher&cmp=actu_incontournables_phuket', 'https://www.getyourguide.fr/phuket-l32123/phuket-billet-d-entree-pour-le-spectacle-simon-cabaret-t75342/?partner_id=73QSLFK&utm_medium=online_publisher&cmp=actu_incontournables_phuket', 'https://www.getyourguide.fr/phuket-l32123/depuis-phuketkhaolak-visite-matinale-des-iles-similan-t176829/?partner_id=73QSLFK&utm_medium=online_publisher&cmp=actu_incontournables_phuket', 'https://www.getyourguide.fr/phuket-l32123/patong-billets-transferts-bangla-boxing-stadium-t184862/?partner_id=73QSLFK&utm_medium=online_publisher&cmp=actu_incontournables_phuket', 'https://www.getyourguide.com/phuket-l32123/']",
         "['https://www.booking.com/hotel/th/the-surin-phuket.fr.html?aid=2324560&no_rooms=1&group_adults=2&label=actu_incontournables_phuket', 'https://www.booking.com/hotel/th/centara-grand-beach-resort-phuket.fr.html?aid=2324560&no_rooms=1&group_adults=2&label=actu_incontournables_phuket', 'https://www.booking.com/hotel/th/cape-panwa.fr.html?aid=2324560&no_rooms=1&group_adults=2&label=actu_incontournables_phuket']",
         "['t482589', 't414764', 't511804', 't442354', 't567850', 't75342', 't176829', 't184862']",
         "0.0"
        ],
        [
         "18",
         "https://www.petitfute.com/d1581-paros/actualite/m17-top-10-insolites-voyage/a36143-que-faire-que-visiter-a-paros-les-15-activites-incontournables.html",
         "['https://www.getyourguide.fr/paros-l88737/cours-de-cuisine-a-paros-t453303/?partner_id=73QSLFK&utm_medium=online_publisher&cmp=actu-incontournables-paros', 'https://www.getyourguide.fr/naousa-l165327/paros-excursion-avec-peche-et-degustation-a-naoussa-t705253/?partner_id=73QSLFK&utm_medium=online_publisher&cmp=actu-incontournables-paros', 'https://www.getyourguide.fr/paros-l88737/paros-degustation-de-vin-vin-naturel-t714534/?partner_id=73QSLFK&utm_medium=online_publisher&cmp=actu-incontournables-paros', 'https://www.getyourguide.fr/antiparos-l163280/tour-de-paros-et-antiparos-traversee-en-ferry-villages-et-plages-t765017/?partner_id=73QSLFK&utm_medium=online_publisher&cmp=actu-incontournables-paros', 'https://www.getyourguide.fr/paros-l88737/paros-randonnee-a-cheval-au-coucher-du-soleil-t917314/?partner_id=73QSLFK&utm_medium=online_publisher&cmp=actu-incontournables-paros', 'https://www.getyourguide.fr/paros-l88737/paros-journee-entiere-de-location-de-petits-bateaux-avec-conduite-autonome-t399872/?partner_id=73QSLFK&utm_medium=online_publisher&cmp=actu-incontournables-paros', 'https://www.getyourguide.fr/paros-l88737/au-depart-de-paros-croisiere-de-baignade-autour-d-antiparos-et-du-despotiko-t509492/?partner_id=73QSLFK&utm_medium=online_publisher&cmp=actu-incontournables-paros', 'https://www.getyourguide.fr/krotiri-l193769/visite-des-iles-paros-et-antiparos-avec-guide-anglophone-t550730/?partner_id=73QSLFK&utm_medium=online_publisher&cmp=actu-incontournables-paros']",
         "['https://www.booking.com/hotel/gr/akrotiri-akrotiri.fr.html?aid=2324560&no_rooms=1&group_adults=2&label=actu_incontournables_paros', 'https://www.booking.com/hotel/gr/kanale-s-rooms-suites-naoussa.fr.html?aid=2324560&no_rooms=1&group_adults=2&label=actu_incontournables_paros', 'https://www.booking.com/hotel/gr/aloni.fr.html?aid=2324560&no_rooms=1&group_adults=2&label=actu_incontournables_paros']",
         "['t453303', 't705253', 't714534', 't765017', 't917314', 't399872', 't509492', 't550730']",
         "0.0"
        ],
        [
         "19",
         "https://www.petitfute.com/v44465-hammamet-8050/actualite/m17-top-10-insolites-voyage/a36296-que-visiter-a-hammamet-les-11-incontournables-a-faire-2.html",
         "['https://www.getyourguide.com/hammamet-l303/']",
         "['https://www.booking.com/hotel/tn/le-sultan.fr.html?aid=2324560&no_rooms=1&group_adults=2&label=actu_incontournables_hammamet', 'https://www.booking.com/hotel/tn/the-sindbad-hammamet.fr.html?aid=2324560&no_rooms=1&group_adults=2&label=actu_incontournables_hammamet', 'https://www.booking.com/hotel/tn/palace-hammamet-marhaba.fr.html?aid=2324560&no_rooms=1&group_adults=2&label=actu_incontournables_hammamet']",
         "[]",
         "0.0"
        ],
        [
         "20",
         "https://www.petitfute.com/v45247-amsterdam/actualite/m17-top-10-insolites-voyage/a36350-que-faire-que-visiter-a-amsterdam-en-2-ou-3-jours-conseils-ditineraire.html",
         "['https://www.getyourguide.fr/amsterdam-l36/palais-royal-d-amsterdam-billet-coupe-file-et-audio-guide-t131313/?partner_id=73QSLFK&utm_medium=online_publisher&cmp=actu_incontournables_3_jours_amsterdam', 'https://www.getyourguide.fr/amsterdam-l36/amsterdam-visite-a-pied-themes-anne-frank-et-2nde-guerre-t250362/?partner_id=73QSLFK&utm_medium=online_publisher&cmp=actu_incontournables_3_jours_amsterdam', 'https://www.getyourguide.fr/amsterdam-l36/croisiere-sur-les-canaux-d-amsterdam-t56671/?partner_id=73QSLFK&utm_medium=online_publisher&cmp=amsterdam_3_jours', 'https://www.getyourguide.fr/amsterdam-l36/amsterdam-entree-prioritaire-au-rijksmuseum-t7135/?partner_id=73QSLFK&utm_medium=online_publisher&cmp=actu_incontournables_3_jours_amsterdam', 'https://www.getyourguide.fr/s?partner_id=73QSLFK&utm_medium=online_publisher&cmp=actu_incontournables_3_jours_amsterdam&q=Amsterdam&et=68975&lc=36', 'https://www.getyourguide.fr/amsterdam-l36/amsterdam-billet-d-entree-autoguide-au-musee-artis-groote-t326194/?partner_id=73QSLFK&utm_medium=online_publisher&cmp=actu_incontournables_3_jours_amsterdam', 'https://www.getyourguide.com/amsterdam-l36/']",
         "['https://www.booking.com/hotel/nl/modern-times-amsterdam.fr.html?aid=2324560&no_rooms=1&group_adults=2&label=amsterdam_3_jours', 'https://www.booking.com/hotel/nl/this-hos-t-el.fr.html?aid=2324560&no_rooms=1&group_adults=2&label=amsterdam_3_jours', 'https://www.booking.com/hotel/nl/bwdelphihotel.fr.html?aid=2324560&no_rooms=1&group_adults=2&label=amsterdam_3_jours', 'https://www.booking.com/hotel/nl/modern-times-amsterdam.fr.html?aid=2324560&no_rooms=1&group_adults=2&label=amsterdam_3_jours', 'https://www.booking.com/hotel/nl/this-hos-t-el.fr.html?aid=2324560&no_rooms=1&group_adults=2&label=amsterdam_3_jours', 'https://www.booking.com/hotel/nl/bwdelphihotel.fr.html?aid=2324560&no_rooms=1&group_adults=2&label=amsterdam_3_jours']",
         "['t131313', 't250362', 't56671', 't326194']",
         "7.51"
        ],
        [
         "21",
         "https://www.petitfute.com/v51713-vienne/actualite/m17-top-10-insolites-voyage/a36390-que-faire-que-visiter-a-vienne-en-2-ou-3-jours-conseils-ditineraire.html",
         "['https://www.getyourguide.fr/vienne-l7/schonbrunn-visite-guidee-du-chateau-et-des-jardins-t494393/?partner_id=73QSLFK&utm_medium=online_publisher&cmp=actu_3jours_vienne', 'https://www.getyourguide.fr/vienne-l7/visite-guidee-du-palais-du-belvedere-superieur-vienne-t504451/?partner_id=73QSLFK&utm_medium=online_publisher&cmp=actu_3jours_vienne', 'https://www.getyourguide.fr/ecole-espagnole-d-equitation-l4623/vienne-entrainement-de-l-ecole-espagnole-d-equitation-t42136/?partner_id=73QSLFK&utm_medium=online_publisher&cmp=actu_3jours_vienne', 'https://www.getyourguide.fr/vienne-l7/visite-guidee-du-musee-sisi-de-la-hofburg-et-des-jardins-de-vienne-t471440/?partner_id=73QSLFK&utm_medium=online_publisher&cmp=actu_3jours_vienne', 'https://www.getyourguide.fr/vienne-l7/billet-pour-le-musee-d-histoire-de-l-art-de-vienne-t128454/?partner_id=73QSLFK&utm_medium=online_publisher&cmp=actu_3jours_vienne', 'https://www.getyourguide.com/vienne-l7/']",
         "['https://www.booking.com/hotel/at/best-western-beethoven.fr.html?aid=2324560&no_rooms=1&group_adults=2&label=actu_3jours-vienne', 'https://www.booking.com/hotel/at/easy-vienna-apartments.fr.html?aid=2324560&no_rooms=1&group_adults=2&label=vienne_3_jours', 'https://www.booking.com/hotel/at/wombats-hostels-vienna-naschmarkt.fr.html?aid=2324560&no_rooms=1&group_adults=2&label=vienne_3_jours']",
         "['t494393', 't504451', 't42136', 't471440', 't128454']",
         "4.06"
        ],
        [
         "22",
         "https://www.petitfute.com/v51354-naples/actualite/m17-top-10-insolites-voyage/a36441-comment-visiter-le-mont-vesuve-nos-conseils-pour-lascension.html",
         "['https://www.getyourguide.fr/ercolano-l114887/parc-national-du-vesuve-billet-d-entree-et-audioguide-t929176/?partner_id=73QSLFK&utm_medium=online_publisher&cmp=actu-lien-texte-visiter-vesuve', 'https://www.getyourguide.fr/ercolano-l114887/parc-national-du-vesuve-billet-d-entree-et-audioguide-t929176/?partner_id=73QSLFK&utm_medium=online_publisher&cmp=actu-lien-texte-visiter-vesuve', 'https://www.getyourguide.com/naples-l162/', 'https://www.getyourguide.fr/vesuve-l689/au-depart-de-naples-excursion-tout-compris-d-une-demi-journee-au-vesuve-t382619/?partner_id=73QSLFK&utm_medium=online_publisher&cmp=actu-lien-texte-visiter-vesuve', 'https://www.getyourguide.fr/naples-l162/naples-ou-sorrente-visite-d-une-jounee-a-pompei-et-au-vesuve-t387994/?partner_id=73QSLFK&utm_medium=online_publisher&cmp=actu-lien-texte-visiter-vesuve', 'https://www.getyourguide.fr/ercolano-l114887/parc-national-du-vesuve-billet-d-entree-et-audioguide-t929176/?partner_id=73QSLFK&utm_medium=online_publisher&cmp=actu-lien-texte-visiter-vesuve', 'https://www.getyourguide.com/vesuve-l689/']",
         "['https://www.booking.com/hotel/it/vesuvius-palace.fr.html?aid=2324560&label=actu-conseils-visiter-vesuve', 'https://www.booking.com/hotel/it/il-san-cristoforo.fr.html?aid=2324560&label=actu-conseils-visiter-vesuve']",
         "['t929176', 't929176', 't382619', 't387994', 't929176']",
         "0.0"
        ],
        [
         "23",
         "https://www.petitfute.com/actualite/m17-top-10-insolites-voyage/a36549-faire-lascension-du-piton-de-la-fournaise-ce-quil-faut-savoir.html",
         "['https://www.getyourguide.fr/piton-de-la-fournaise-l122505/randonnee-guidee-publique-volcan-du-piton-de-la-fournaise-t363475/?partner_id=73QSLFK&utm_medium=online_publisher&cmp=actu-lientexte-ascension-piton-fournaise', 'https://www.getyourguide.fr/piton-de-la-fournaise-l122505/randonnee-guidee-publique-volcan-du-piton-de-la-fournaise-t363475/?partner_id=73QSLFK&utm_medium=online_publisher&cmp=actu-lientexte-ascension-piton-fournaise', 'https://www.getyourguide.fr/piton-de-la-fournaise-l122505/randonnee-guidee-publique-volcan-du-piton-de-la-fournaise-t363475/?partner_id=73QSLFK&utm_medium=online_publisher&cmp=actu-lientexte-ascension-piton-fournaise']",
         "['https://www.booking.com/hotel/re/ha-tel-l-ecrin.fr.html?aid=2324560&label=actu-conseils-ascension-piton-fournaise', 'https://www.booking.com/hotel/re/matilona-sainte-rose.fr.html?aid=2324560&label=actu-conseils-ascension-piton-fournaise']",
         "['t363475', 't363475', 't363475']",
         "0.0"
        ],
        [
         "24",
         "https://www.petitfute.com/v38887-catane/actualite/m17-top-10-insolites-voyage/a36556-comment-visiter-letna-ce-quil-faut-savoir-pour-lascension.html",
         "['https://www.getyourguide.fr/catane-l258/originaux-excursion-a-l-etna-t395066/?partner_id=73QSLFK&utm_medium=online_publisher&cmp=actu_visiter-etna', 'https://www.getyourguide.fr/catane-l258/originaux-excursion-a-l-etna-t395066/?partner_id=73QSLFK&utm_medium=online_publisher&cmp=actu_visiter-etna', 'https://www.getyourguide.fr/fiumefreddo-di-sicilia-l192676/30-minutes-d-helicoptere-prive-sur-l-etna-depuis-fiumefreddo-t519727/?ranking_uuid=dd02eec0-e700-4add-8776-ae873f94ac59', 'https://www.getyourguide.com/catane-l258/', 'https://www.getyourguide.fr/catane-l258/originaux-excursion-a-l-etna-t395066/?partner_id=73QSLFK&utm_medium=online_publisher&cmp=actu_visiter-etna', 'https://www.getyourguide.fr/catane-l258/originaux-excursion-a-l-etna-t395066/?partner_id=73QSLFK&utm_medium=online_publisher&cmp=actu-lien-texte-visiter-etna', 'https://www.getyourguide.fr/catane-l258/originaux-excursion-a-l-etna-t395066/?partner_id=73QSLFK&utm_medium=online_publisher&cmp=actu-lien-texte-visiter-etna', 'https://www.getyourguide.com/etna-l1901/']",
         "['https://www.booking.com/hotel/it/etna.fr.html?aid=2324560&label=actu-conseils-ascension-etna', 'https://www.booking.com/hotel/it/alle-falde-dell-etna.fr.html?aid=2324560&label=actu-conseils-ascension-etna']",
         "['t395066', 't395066', 't519727', 't395066', 't395066', 't395066']",
         "0.0"
        ],
        [
         "25",
         "https://www.petitfute.com/v51354-naples/actualite/m17-top-10-insolites-voyage/a36713-visiter-pompei-les-infos-pratiques-a-savoir-2.html",
         "['https://www.getyourguide.fr/pompei-italie-l156880/visite-des-ruines-de-pompei-en-petit-groupe-avec-archeologue-t161715/?partner_id=73QSLFK&utm_medium=online_publisher&cmp=actu_conseilsvisite_pompei', 'https://www.getyourguide.fr/site-archeologique-de-pompei-l685/billet-d-entree-prioritaire-pour-pompei-t69330/?partner_id=73QSLFK&utm_medium=online_publisher&cmp=actu-visiter-pompei', 'https://www.getyourguide.fr/pompei-campanie-l156880/pompei-billet-d-entree-sautez-la-ligne-t922255/?partner_id=73QSLFK&utm_medium=online_publisher&cmp=actu-visiter-pompei', 'https://www.getyourguide.fr/pompei-l685/pompei-billet-d-entree-avec-acces-prioritaire-t69330/?partner_id=73QSLFK&utm_medium=online_publisher&cmp=actu_conseilsvisite_pompei', 'https://www.getyourguide.fr/site-archeologique-de-pompei-l685/billet-d-entree-prioritaire-pour-pompei-t69330/?partner_id=73QSLFK&utm_medium=online_publisher&cmp=actu-visiter-pompei', 'https://www.getyourguide.fr/pompei-italie-l156880/visite-des-ruines-de-pompei-en-petit-groupe-avec-archeologue-t161715/?partner_id=73QSLFK&utm_medium=online_publisher&cmp=actu_conseilsvisite_pompei', 'https://www.getyourguide.fr/naples-l162/une-journee-au-mont-vesuve-et-aux-ruines-de-pompei-t11049/?partner_id=73QSLFK&utm_medium=online_publisher&cmp=actu_conseilsvisite_pompei', 'https://www.getyourguide.fr/pompei-italie-l156880/visite-des-ruines-de-pompei-en-petit-groupe-avec-archeologue-t161715/?partner_id=73QSLFK&utm_medium=online_publisher&cmp=actu_conseilsvisite_pompei', 'https://www.getyourguide.fr/site-archeologique-de-pompei-l685/billet-d-entree-prioritaire-pour-pompei-t69330/?partner_id=73QSLFK&utm_medium=online_publisher&cmp=actu-visiter-pompei']",
         "[]",
         "['t161715', 't69330', 't922255', 't69330', 't69330', 't161715', 't11049', 't161715', 't69330']",
         "0.0"
        ],
        [
         "26",
         "https://www.petitfute.com/v17231-17284-paris-75010/actualite/m17-top-10-insolites-voyage/a36857-visiter-le-louvre-nos-conseils-pour-preparer-votre-visite.html",
         "['https://www.getyourguide.fr/paris-l16/billet-d-entree-coupe-file-au-musee-du-louvre-t145779/?partner_id=73QSLFK&utm_medium=online_publisher&cmp=actu_conseils_visite_louvre', 'https://www.getyourguide.fr/paris-l16/billet-d-entree-coupe-file-au-musee-du-louvre-t145779/?partner_id=73QSLFK&utm_medium=online_publisher&cmp=actu_conseils_visite_louvre', 'https://www.getyourguide.fr/musee-du-louvre-l3224/paris-musee-du-louvre-billet-d-entree-a-heure-fixe-audioguide-t405076/?partner_id=73QSLFK&utm_medium=online_publisher&cmp=actu_conseils_visite_louvre', 'https://www.getyourguide.fr/paris-l16/musee-du-louvre-visite-guidee-de-15-h-des-incontournables-t186384/?partner_id=73QSLFK&utm_medium=online_publisher&cmp=actu_conseils_visite_louvre']",
         "[]",
         "['t145779', 't145779', 't405076', 't186384']",
         "0.0"
        ],
        [
         "27",
         "https://www.petitfute.com/v51354-naples/actualite/m17-top-10-insolites-voyage/a36862-visiter-herculanum-les-infos-pratiques-a-savoir.html",
         "['https://www.getyourguide.fr/herculanum-l687/ercolano-billet-d-entree-skip-the-line-avec-audioguide-t453717/?partner_id=73QSLFK&utm_medium=online_publisher&cmp=actu_conseils_herculanum', 'https://www.getyourguide.fr/herculanum-l687/ercolano-billet-d-entree-skip-the-line-avec-audioguide-t453717/?partner_id=73QSLFK&utm_medium=online_publisher&cmp=actu_conseils_herculanum', 'https://www.getyourguide.fr/naples-l162/naples-visite-coupe-file-de-l-ercolano-avec-un-archeologue-t204331/?partner_id=73QSLFK&utm_medium=online_publisher&cmp=actu_conseils_herculanum', 'https://www.getyourguide.fr/naples-l162/excursion-d-une-journee-au-depart-de-naples-pompei-herculanum-et-le-vesuve-t507872/?partner_id=73QSLFK&utm_medium=online_publisher&cmp=actu_conseils_herculanum']",
         "[]",
         "['t453717', 't453717', 't204331', 't507872']",
         "0.0"
        ],
        [
         "28",
         "https://www.petitfute.com/v58633-porto/actualite/m17-top-10-insolites-voyage/a36956-que-faire-que-visiter-a-porto-en-2-ou-3-jours-conseils-ditineraire.html",
         "['https://www.getyourguide.fr/porto-l151/porto-visite-guidee-de-3-h-en-velo-electrique-t181475/?partner_id=73QSLFK&utm_medium=online_publisher&cmp=actu_weekend_porto', 'https://www.getyourguide.fr/porto-l151/porto-card-avec-transport-1-2-3-ou-4-jours-t63774/?partner_id=73QSLFK&utm_medium=online_publisher&cmp=actu_weekend_porto', 'https://www.getyourguide.fr/porto-l151/porto-croisiere-des-6-ponts-t183308/?partner_id=73QSLFK&utm_medium=online_publisher&cmp=actu_weekend_porto', 'https://www.getyourguide.fr/porto-l151/porto-spectacle-de-fado-en-direct-avec-un-verre-de-vin-de-porto-t390159/?partner_id=73QSLFK&utm_medium=online_publisher&cmp=actu_weekend_porto', 'https://www.getyourguide.fr/cave-calem-l12082/caves-de-calem-visite-guidee-et-degustations-t175041/?partner_id=73QSLFK&utm_medium=online_publisher&cmp=actu_weekend_porto', 'https://www.getyourguide.fr/porto-l151/porto-billet-d-entree-a-la-tour-des-clercs-t57114/?partner_id=73QSLFK&utm_medium=online_publisher&cmp=actu_weekend_porto']",
         "['https://www.booking.com/hotel/pt/yotel-porto-porto.fr.html?aid=2324560&no_rooms=1&group_adults=2&label=actu-weekend_porto', 'https://www.booking.com/hotel/pt/the-passenger-hostel.fr.html?aid=2324560&no_rooms=1&group_adults=2&label=porto_3_jours', 'https://www.booking.com/hotel/pt/grande-paris-by-stay-hotels.fr.html?aid=2324560&no_rooms=1&group_adults=2&label=actu-weekend_porto']",
         "['t181475', 't63774', 't183308', 't390159', 't175041', 't57114']",
         "71.68"
        ],
        [
         "29",
         "https://www.petitfute.com/v73452-almada/actualite/m17-top-10-insolites-voyage/a36982-que-faire-que-visiter-a-lisbonne-en-2-ou-3-jours-conseils-ditineraire.html",
         "[]",
         "[]",
         "[]",
         "0.0"
        ],
        [
         "30",
         "https://www.petitfute.com/v50174-milan/actualite/m17-top-10-insolites-voyage/a37051-que-faire-que-visiter-a-milan-en-2-ou-3-jours-conseils-ditineraire.html",
         "['https://www.getyourguide.fr/milan-l139/milan-visite-audio-guidee-du-duomo-et-des-terrasses-t153354/?partner_id=73QSLFK&utm_medium=online_publisher&cmp=actu-3jours_milan', 'https://www.getyourguide.fr/milan-l139/milan-visite-du-theatre-et-du-musee-de-la-scala-t24640/?partner_id=73QSLFK&utm_medium=online_publisher&cmp=actu-3jours_milan', 'https://www.getyourguide.fr/milan-l139/milan-billet-d-entree-au-chateau-sforza-et-visite-audio-auto-guidee-t414400/?partner_id=73QSLFK&utm_medium=online_publisher&cmp=actu-3jours_milan', 'https://www.getyourguide.fr/musee-des-sciences-et-des-techniques-leonard-de-vinci-l21627/milan-science-et-technologie-entree-du-musee-leonardo-da-vinci-t367900/?partner_id=73QSLFK&utm_medium=online_publisher&cmp=actu-3jours_milan', 'https://www.getyourguide.fr/la-cene-l4955/milan-visite-guidee-a-la-decouverte-de-la-cene-de-de-vinci-t179522/?partner_id=73QSLFK&utm_medium=online_publisher&cmp=actu-3jours_milan']",
         "['https://www.booking.com/hotel/it/excelsior-hotel-gallia.fr.html?aid=2324560&no_rooms=1&group_adults=2&label=actu_3jours_milan', 'https://www.booking.com/hotel/it/westinpalacemilano.fr.html?aid=2324560&no_rooms=1&group_adults=2&label=actu_3jours_milan', 'https://www.booking.com/hotel/it/abacus-sesto-sasn-giovanni.fr.html?aid=2324560&no_rooms=1&group_adults=2&label=actu_3jours_milan']",
         "['t153354', 't24640', 't414400', 't367900', 't179522']",
         "2.8"
        ],
        [
         "31",
         "https://www.petitfute.com/v39757-madrid/actualite/m17-top-10-insolites-voyage/a37057-que-faire-que-visiter-a-madrid-en-2-ou-3-jours-conseils-ditineraire.html   ",
         "['https://www.getyourguide.fr/palais-royal-madrid-l3611/madrid-billet-d-entree-rapide-au-palais-royal-t393230/?partner_id=73QSLFK&utm_medium=online_publisher&cmp=actu-3jours_madrid', 'https://www.getyourguide.fr/madrid-l46/madrid-1-ou-2-jours-d-excursion-en-bus-touristique-avec-montee-et-descente-rapides-t1251/?partner_id=73QSLFK&utm_medium=online_publisher&cmp=actu-3jours_madrid', 'https://www.getyourguide.fr/s?partner_id=73QSLFK&utm_medium=online_publisher&cmp=actu-3jours_madrid&q=Madrid&et=32264&lc=46', 'https://www.getyourguide.fr/madrid-l46/madrid-billet-d-entree-au-parc-warner-t400697/?partner_id=73QSLFK&utm_medium=online_publisher&cmp=actu-3jours_madrid']",
         "['https://www.booking.com/hotel/es/the-hat.fr.html?aid=2324560&no_rooms=1&group_adults=2&label=madrid_3_jours', 'https://www.booking.com/hotel/es/petit-palace-savoy-alfonso-xii.fr.html?aid=2324560&no_rooms=1&group_adults=2&label=actu_3jours_madrid', 'https://www.booking.com/hotel/es/hostal-regio.fr.html?aid=2324560&no_rooms=1&group_adults=2&label=actu_3jours_madrid', 'https://www.booking.com/hotel/es/the-hat.fr.html?aid=2324560&no_rooms=1&group_adults=2&label=madrid_3_jours', 'https://www.booking.com/hotel/es/petit-palace-savoy-alfonso-xii.fr.html?aid=2324560&no_rooms=1&group_adults=2&label=actu_3jours_madrid', 'https://www.booking.com/hotel/es/hostal-regio.fr.html?aid=2324560&no_rooms=1&group_adults=2&label=actu_3jours_madrid']",
         "['t393230', 't400697']",
         "0.0"
        ],
        [
         "32",
         "https://www.petitfute.com/v42793-dubrovnik/actualite/m17-top-10-insolites-voyage/a37062-que-faire-a-dubrovnik-en-2-ou-3-jours-le-temps-dun-week-end.html",
         "['https://www.getyourguide.fr/dubrovnik-l513/dubrovnik-visite-a-pied-des-remparts-au-coucher-du-soleil-t146235/?partner_id=73QSLFK&utm_medium=online_publisher&cmp=actu-3jours_dubrovnik', 'https://www.getyourguide.fr/dubrovnik-l513/depuis-dubrovnik-visite-game-of-thrones-et-ile-de-lokrum-t217212/?partner_id=73QSLFK&utm_medium=online_publisher&cmp=actu-3jours_dubrovnik', 'https://www.getyourguide.fr/dubrovnik-l513/ile-de-lokrum-plage-de-st-jacobs-et-grotte-de-betina-4h-de-bateau-t447389/?partner_id=73QSLFK&utm_medium=online_publisher&cmp=actu-3jours_dubrovnik', 'https://www.getyourguide.com/dubrovnik-l513/']",
         "['https://www.booking.com/hotel/hr/edi-sea-view-rooms.fr.html?aid=2324560&label=actu_3jours_dubrovnik', 'https://www.booking.com/hotel/hr/stari-grad.fr.html?aid=2324560&label=actu_3jours_dubrovnik']",
         "['t146235', 't217212', 't447389']",
         "0.0"
        ],
        [
         "33",
         "https://www.petitfute.com/v50233-florence-firenze/actualite/m17-top-10-insolites-voyage/a37068-que-faire-que-visiter-a-florence-en-2-ou-3-jours-conseils-ditineraire.html",
         "['https://www.getyourguide.fr/florence-l32/florence-entree-au-david-de-michel-ange-t61153/?partner_id=73QSLFK&utm_medium=online_publisher&cmp=actu-3jours_florence', 'https://www.getyourguide.fr/florence-l32/florence-visite-guidee-de-la-cathedrale-duomo-t412688/?partner_id=73QSLFK&utm_medium=online_publisher&cmp=actu_3jours_florence', 'https://www.getyourguide.fr/florence-l32/florence-billet-coupe-file-pour-santa-maria-novella-t68294/?partner_id=73QSLFK&utm_medium=online_publisher&cmp=actu_3jours_florence', 'https://www.getyourguide.fr/chapelles-des-medicis-l5147/florence-billet-d-entree-reserve-aux-chapelles-des-medicis-t61210/?partner_id=73QSLFK&utm_medium=online_publisher&cmp=actu_3jours_florence', 'https://www.getyourguide.fr/florence-l32/florence-entree-reservee-a-la-galerie-des-offices-t57076/?partner_id=73QSLFK&utm_medium=online_publisher&cmp=actu-3jours_florence', 'https://www.getyourguide.fr/musee-national-du-bargello-l5146/florence-billet-d-entree-reserve-au-musee-du-bargello-t61213/?partner_id=73QSLFK&utm_medium=online_publisher&cmp=actu_3jours_florence', 'https://www.getyourguide.fr/florence-l32/visite-guidee-de-la-basilique-de-santa-croce-t632223/?partner_id=73QSLFK&utm_medium=online_publisher&cmp=actu_3jours_florence', 'https://www.getyourguide.fr/palais-pitti-l3957/florence-billet-d-entree-au-palais-pitti-t61191/?partner_id=73QSLFK&utm_medium=online_publisher&cmp=actu_3jours_florence', 'https://www.getyourguide.fr/jardin-de-boboli-l3959/florence-billet-d-entree-reserve-aux-jardins-de-boboli-t61154/?partner_id=73QSLFK&utm_medium=online_publisher&cmp=actu_3jours_florence', 'https://www.getyourguide.fr/jardin-de-boboli-l3959/florence-billet-d-entree-reserve-aux-jardins-de-boboli-t61154/?partner_id=73QSLFK&utm_medium=online_publisher&cmp=actu_3jours_florence']",
         "['https://www.booking.com/hotel/it/merlini.fr.html?aid=2324560&label=actu_3jours_florence', 'https://www.booking.com/hotel/it/hostel-santa-monaca.fr.html?aid=2324560&label=actu_3jours-florence', 'https://www.booking.com/hotel/it/axial.fr.html?aid=2324560&no_rooms=1&group_adults=2&label=actu_3jours_florence']",
         "['t61153', 't412688', 't68294', 't61210', 't57076', 't61213', 't632223', 't61191', 't61154', 't61154']",
         "4.48"
        ],
        [
         "34",
         "https://www.petitfute.com/v38377-seville/actualite/m17-top-10-insolites-voyage/a37095-que-faire-que-visiter-a-seville-en-2-ou-3-jours-conseils-ditineraire.html",
         "['https://www.getyourguide.fr/alcazar-de-seville-l4542/l-alcazar-de-seville-billet-coupe-file-t131232/?partner_id=73QSLFK&utm_medium=online_publisher&cmp=actu-3jours_seville', 'https://www.getyourguide.fr/la-cathedrale-de-seville-l4543/seville-billet-d-entree-pour-la-cathedrale-et-la-giralda-t131913/?partner_id=73QSLFK&utm_medium=online_publisher&cmp=seville_2_3_jours', 'https://www.getyourguide.fr/seville-l48/visite-de-seville-en-segway-t313493/?partner_id=73QSLFK&utm_medium=online_publisher&cmp=actu-3jours_seville', 'https://www.getyourguide.fr/seville-l48/seville-visite-guidee-du-musee-des-beaux-arts-t407350/?partner_id=73QSLFK&utm_medium=online_publisher&cmp=actu-3jours_seville', 'https://www.getyourguide.fr/seville-l48/seville-croisiere-ecologique-touristique-d-une-heure-sur-le-fleuve-guadalquivir-t418722/?partner_id=73QSLFK&utm_medium=online_publisher&cmp=seville_2_3_jours', 'https://www.getyourguide.com/seville-l48/']",
         "['https://www.booking.com/hotel/es/hotel-las-casas-de-la-juderia.fr.html?aid=2403366&no_rooms=1&group_adults=2&label=actu_3jours-seville', 'https://www.booking.com/hotel/es/patio-de-cruces.fr.html?aid=2324560&no_rooms=1&group_adults=2&label=seville_2_3_jours', 'https://www.booking.com/hotel/es/montetrianasevilla.fr.html?aid=2403366&no_rooms=1&group_adults=2&label=actu_3jours-seville']",
         "['t131232', 't131913', 't313493', 't407350', 't418722']",
         "10.5"
        ],
        [
         "35",
         "https://www.petitfute.com/v43955-cagliari/actualite/m17-top-10-insolites-voyage/a37150-que-faire-que-visiter-a-cagliari-les-15-incontournables.html",
         "['https://www.getyourguide.fr/cagliari-l820/cagliari-visite-a-pied-de-la-vieille-ville-t214287/?partner_id=73QSLFK&utm_medium=online_publisher&cmp=actu-incontournables-cagliari', 'https://www.getyourguide.fr/cagliari-l820/cagliari-ville-souterraine-et-visite-a-pied-facultative-de-la-vieille-ville-t213225/?partner_id=73QSLFK&utm_medium=online_publisher&cmp=actu-incontournables-cagliari', 'https://www.getyourguide.fr/cagliari-l820/excursion-en-bateau-a-sella-del-diavolo-avec-aperitif-et-collations-t464694/?partner_id=73QSLFK&utm_medium=online_publisher&cmp=actu-incontournables-cagliari', 'https://www.getyourguide.fr/cagliari-l820/partage-d-une-demi-journee-de-visite-de-la-baie-de-cagliari-t438319/?partner_id=73QSLFK&utm_medium=online_publisher&cmp=actu-incontournables-cagliari', 'https://www.getyourguide.fr/cagliari-l820/cagliari-visite-en-segway-du-parc-naturel-de-molentargius-avec-cafe-t420329/?partner_id=73QSLFK&utm_medium=online_publisher&cmp=actu-incontournables-cagliari', 'https://www.getyourguide.com/cagliari-l820/']",
         "['https://www.booking.com/hotel/it/thotelcagliari.fr.html?aid=2324560&no_rooms=1&group_adults=2&label=actu_incontournables_cagliari', 'https://www.booking.com/hotel/it/hotelreginamargheritacagliari.fr.html?aid=2324560&no_rooms=1&group_adults=2&label=actu_incontournables_cagliari', 'https://www.booking.com/hotel/it/italia-cagliari.fr.html?aid=2324560&no_rooms=1&group_adults=2&label=actu_incontournables_cagliari']",
         "['t214287', 't213225', 't464694', 't438319', 't420329']",
         "0.0"
        ],
        [
         "36",
         "https://www.petitfute.com/v42351-istanbul/actualite/m17-top-10-insolites-voyage/a37155-que-faire-a-istanbul-en-3-ou-4-jours-conseils-de-visite.html",
         "['https://www.getyourguide.fr/istanbul-l56/istanbul-sainte-sophie-et-mosquee-bleue-en-petit-groupe-t204412/?partner_id=73QSLFK&utm_medium=online_publisher&cmp=actu-3jours_istanbul', 'https://www.getyourguide.fr/istanbul-l56/billet-et-visite-du-palais-de-topkapi-et-du-harem-t127010/?partner_id=73QSLFK&utm_medium=online_publisher&cmp=actu-3jours_istanbul', 'https://www.getyourguide.fr/istanbul-l56/musee-d-art-turc-et-islamique-billet-d-entree-et-visite-guidee-t192921/?partner_id=73QSLFK&utm_medium=online_publisher&cmp=actu-3jours_istanbul', 'https://www.getyourguide.fr/istanbul-l56/istanbul-diner-croisiere-sur-le-bosphore-avec-divertissement-en-direct-t415437/?partner_id=73QSLFK&utm_medium=online_publisher&cmp=actu-3jours_istanbul', 'https://www.getyourguide.fr/istanbul-l56/spectacle-de-l-ordre-mevlevi-derviches-tourneurs-t21283/?partner_id=73QSLFK&utm_medium=online_publisher&cmp=actu-3jours_istanbul', 'https://www.getyourguide.fr/istanbul-l56/istanbul-billet-d-entree-aux-musees-archeologiques-et-visite-guidee-t406328/?partner_id=73QSLFK&utm_medium=online_publisher&cmp=actu-3jours_istanbul', 'https://www.getyourguide.com/istanbul-l56/']",
         "['https://www.booking.com/hotel/tr/sultanhan.fr.html?aid=2324560&no_rooms=1&group_adults=2&label=actu_incontournables_istanbul', 'https://www.booking.com/hotel/tr/yasmak.fr.html?aid=2324560&no_rooms=1&group_adults=2&label=actu_incontournables_istanbul', 'https://www.booking.com/hotel/tr/hypnos-istanbul.fr.html?aid=2324560&no_rooms=1&group_adults=2&label=actu_incontournables_istanbul']",
         "['t204412', 't127010', 't192921', 't415437', 't21283', 't406328']",
         "0.0"
        ],
        [
         "37",
         "https://www.petitfute.com/v49513-dublin/actualite/m17-top-10-insolites-voyage/a37354-que-faire-que-visiter-a-dublin-en-2-ou-3-jours-conseils-ditineraire.html ",
         "['https://www.getyourguide.fr/dublin-l31/pass-dublin-visite-en-bus-entree-gratuite-a-33-sites-t50032/?partner_id=73QSLFK&utm_medium=online_publisher&cmp=actu-3jours_dublin', 'https://www.getyourguide.fr/dublin-l31/original-dublin-walking-tour-points-forts-et-joyaux-caches-t436227/?partner_id=73QSLFK&utm_medium=online_publisher&cmp=actu-3jours_dublin', 'https://www.getyourguide.fr/cathedrale-saint-patrick-de-dublin-l5082/cathedrale-saint-patrick-visite-libre-t119026/?partner_id=73QSLFK&utm_medium=online_publisher&cmp=actu-3jours_dublin', 'https://www.getyourguide.fr/dublin-l31/guinness-storehouse-entree-prioritaire-et-pinte-t45105/?partner_id=73QSLFK&utm_medium=online_publisher&cmp=actu-3jours_dublin', 'https://www.getyourguide.fr/dublin-l31/livre-de-kells-et-visite-du-chateau-de-dublin-coupe-file-t53768/?partner_id=73QSLFK&utm_medium=online_publisher&cmp=actu-3jours_dublin', 'https://www.getyourguide.fr/dublin-l31/de-dublin-excursion-d-une-demi-journee-en-bus-sur-la-cote-de-howth-t419281/?partner_id=73QSLFK&utm_medium=online_publisher&cmp=actu-3jours_dublin', 'https://www.getyourguide.com/dublin-l31/']",
         "['https://www.booking.com/hotel/ie/jacobs-inn.fr.html?aid=2324560&no_rooms=1&group_adults=2&label=dublin_3_jours', 'https://www.booking.com/hotel/ie/beckett-locke.fr.html?aid=2324560&no_rooms=1&group_adults=2&label=dublin_3_jours', 'https://www.booking.com/hotel/ie/the-fitzwilliam.fr.html?aid=2324560&no_rooms=1&group_adults=2&label=actu_3jours-dublin', 'https://www.booking.com/hotel/ie/beckett-locke.fr.html?aid=2324560&no_rooms=1&group_adults=2&label=dublin_3_jours', 'https://www.booking.com/hotel/ie/jacobs-inn.fr.html?aid=2324560&no_rooms=1&group_adults=2&label=dublin_3_jours', 'https://www.booking.com/hotel/ie/the-fitzwilliam.fr.html?aid=2324560&no_rooms=1&group_adults=2&label=actu_3jours-dublin']",
         "['t50032', 't436227', 't119026', 't45105', 't53768', 't419281']",
         "8.4"
        ],
        [
         "38",
         "https://www.petitfute.com/v44683-budapest/actualite/m17-top-10-insolites-voyage/a37406-que-faire-que-visiter-a-budapest-en-2-ou-3-jours-conseils-ditineraire.html",
         "['https://www.getyourguide.fr/budapest-l29/budapest-visite-classique-a-pied-du-chateau-de-buda-t157275/?partner_id=73QSLFK&utm_medium=online_publisher&cmp=actu-3jours_budapest', 'https://www.getyourguide.fr/basilique-de-saint-etienne-l3697/budapest-basilique-saint-etienne-avec-acces-a-la-tour-t278292/?partner_id=73QSLFK&utm_medium=online_publisher&cmp=actu-3jours_budapest', 'https://www.getyourguide.fr/budapest-l29/billet-1-journee-les-bains-thermaux-de-szechenyi-t4139/?partner_id=73QSLFK&utm_medium=online_publisher&cmp=actu-3jours_budapest', 'https://www.getyourguide.fr/budapest-l29/croisiere-a-budapest-avec-cocktail-t73250/?partner_id=73QSLFK&utm_medium=online_publisher&cmp=actu-3jours_budapest']",
         "['https://www.booking.com/hotel/hu/corinthiaroyal.fr.html?aid=2324560&no_rooms=1&group_adults=2&label=actu_3jours_budapest', 'https://www.booking.com/hotel/hu/dormero-budapest.en.html?aid=2324560&no_rooms=1&group_adults=2', 'https://www.booking.com/hotel/hu/maverick-city-lodge.en.html?aid=2324560&no_rooms=1&group_adults=2']",
         "['t157275', 't278292', 't73250']",
         "0.0"
        ],
        [
         "39",
         "https://www.petitfute.com/v41858-sofia/actualite/m17-top-10-insolites-voyage/a37595-que-faire-que-visiter-a-sofia-en-2-ou-3-jours-conseils-ditineraire.html",
         "['https://www.getyourguide.fr/sofia-l158/depuis-sofia-monastere-de-rila-et-eglise-de-bojana-t50410/?partner_id=73QSLFK&utm_medium=online_publisher&cmp=actu-3jours_sofia', 'https://www.getyourguide.fr/sofia-l158/excursion-d-une-journee-a-vitosha-a-l-eglise-de-boyana-et-au-monastere-de-dragalevtsi-t133935/?partner_id=73QSLFK&utm_medium=online_publisher&cmp=actu-3jours_sofia']",
         "['https://www.booking.com/hotel/bg/sense-sofia.fr.html?aid=2324560&no_rooms=1&group_adults=2&label=actu_3jours-sofia', 'https://www.booking.com/hotel/bg/triada.fr.html?aid=2324560&no_rooms=1&group_adults=2&label=actu_3jours-sofia', 'https://www.booking.com/hotel/bg/anel.fr.html?aid=2324560&no_rooms=1&group_adults=2&label=actu_3jours-sofia']",
         "['t50410', 't133935']",
         "6.72"
        ],
        [
         "40",
         "https://www.petitfute.com/v43431-prague/actualite/m17-top-10-insolites-voyage/a37644-que-faire-que-visiter-a-prague-en-2-ou-3-jours-conseils-ditineraire.html",
         "['https://www.getyourguide.fr/prague-l10/prague-city-card-2-3-ou-4-jours-t66055/?partner_id=73QSLFK&utm_medium=online_publisher&cmp=actu-3jours_prague', 'https://www.getyourguide.fr/prague-l10/vieille-ville-et-chateau-de-prague-visite-a-pied-t42322/?partner_id=73QSLFK&utm_medium=online_publisher&cmp=actu-3jours_prague', 'https://www.getyourguide.fr/prague-l10/prague-billet-hotel-de-ville-et-horloge-astronomique-t209055/?partner_id=73QSLFK&utm_medium=online_publisher&cmp=actu-3jours_prague', 'https://www.getyourguide.fr/prague-l10/prague-billet-hotel-de-ville-et-horloge-astronomique-t209055/?partner_id=73QSLFK&utm_medium=online_publisher&cmp=actu-3jours_prague', 'https://www.getyourguide.fr/prague-l10/prague-billets-d-entree-pour-le-quartier-juif-t51182/?partner_id=73QSLFK&utm_medium=online_publisher&cmp=actu-3jours_prague', 'https://www.getyourguide.com/prague-l10/', 'https://www.getyourguide.fr/prague-l10/chateau-de-prague-entree-et-visite-guidee-en-petit-groupe-t219531/?partner_id=73QSLFK&utm_medium=online_publisher&cmp=actu-3jours_prague', 'https://www.getyourguide.fr/prague-l10/prague-croisiere-de-50-mn-en-soiree-t357390/?partner_id=73QSLFK&utm_medium=online_publisher&cmp=actu-3jours_prague', 'https://www.getyourguide.com/prague-l10/']",
         "['https://www.booking.com/hotel/cz/corinthiapanorama.fr.html?aid=2324560&no_rooms=1&group_adults=2&label=actu-3jours-prague', 'https://www.booking.com/hotel/cz/rott.fr.html?aid=2324560&no_rooms=1&group_adults=2&label=actu-3jours-prague', 'https://www.booking.com/hotel/cz/hotelmelantrich.fr.html?aid=2324560&no_rooms=1&group_adults=2&label=actu-3jours-prague', 'https://www.booking.com/hotel/cz/corinthiapanorama.fr.html?aid=2324560&no_rooms=1&group_adults=2&label=actu-3jours-prague', 'https://www.booking.com/hotel/cz/rott.fr.html?aid=2324560&no_rooms=1&group_adults=2&label=actu-3jours-prague', 'https://www.booking.com/hotel/cz/hotelmelantrich.fr.html?aid=2324560&no_rooms=1&group_adults=2&label=actu-3jours-prague']",
         "['t66055', 't42322', 't209055', 't209055', 't51182', 't219531', 't357390']",
         "31.36"
        ],
        [
         "41",
         "https://www.petitfute.com/v38469-cordoue-cordoba/actualite/m17-top-10-insolites-voyage/a37705-que-faire-que-visiter-a-cordoue-top-15-des-incontournables.html",
         "['https://www.getyourguide.fr/cordoue-l1689/cordoue-visite-guidee-de-l-alcazar-avec-billet-coupe-file-t57526/?partner_id=73QSLFK&utm_medium=online_publisher&cmp=actu-quefaire-cordoue&deeplink_id=2d96d6e1-3530-5ef0-a48c-e3728e765281&page_id=2c2ff77c-81f4-53d6-bada-5847ceb53165', 'https://www.getyourguide.fr/cordoue-l1689/cordoue-visite-en-bus-a-arrets-multiples-billet-24-h-t36318/?partner_id=73QSLFK&utm_medium=online_publisher&cmp=actu-incontournables-cordoue', 'https://www.getyourguide.fr/cordoue-l1689/cordoue-acces-coupe-file-visite-de-la-mosquee-cathedrale-t131952/?partner_id=73QSLFK&utm_medium=online_publisher&cmp=actu-incontournables-cordoue', 'https://www.getyourguide.fr/cordoue-l1689/visite-a-pied-des-monuments-de-cordoue-t28530/?partner_id=73QSLFK&utm_medium=online_publisher&cmp=actu-incontournables-cordoue', 'https://www.getyourguide.fr/cordoue-l1689/cordoue-visite-guidee-de-madinat-al-zahra-t40387/?ranking_uuid=8bf4417f-e465-40ba-8818-4254281f40a6', 'https://www.getyourguide.fr/cordoue-l1689/cordoue-billet-d-entree-au-palais-de-viana-t392790/?partner_id=73QSLFK&utm_medium=online_publisher&cmp=actu-incontournables-cordoue']",
         "['https://www.booking.com/hotel/es/los-omeyas.fr.html?aid=2324560&no_rooms=1&group_adults=2&label=actu_quefaire_cordoue', 'https://www.booking.com/hotel/es/las-casas-de-la-juderia.fr.html?aid=2324560&no_rooms=1&group_adults=2&label=actu_quefaire_cordoue', 'https://www.booking.com/hotel/es/mezquita-s-l.fr.html?aid=2324560&no_rooms=1&group_adults=2&label=actu_quefaire_cordoue']",
         "['t57526', 't36318', 't131952', 't28530', 't40387', 't392790']",
         "0.0"
        ],
        [
         "42",
         "https://www.petitfute.com/v42921-thessalonique-thessaloniki/actualite/m17-top-10-insolites-voyage/a37758-visiter-les-monasteres-des-meteores-en-grece-le-guide.html",
         "['https://www.getyourguide.fr/athenes-l91/au-depart-d-athenes-tour-des-meteores-en-une-journee-en-train-t227236/?partner_id=73QSLFK&utm_medium=online_publisher&cmp=actu-conseilsvisite-meteores', 'https://www.getyourguide.fr/thessalonique-l115/depuis-thessalonique-visite-guidee-des-meteores-t134685/?partner_id=73QSLFK&utm_medium=online_publisher&cmp=actu-conseilsvisite-meteores', 'https://www.getyourguide.com/athenes-l91/']",
         "[]",
         "['t227236', 't134685']",
         "0.0"
        ],
        [
         "43",
         "https://www.petitfute.com/v45404-albufeira/actualite/m17-top-10-insolites-voyage/a38018-que-faire-que-visiter-en-algarve-les-19-plus-beaux-endroits.html",
         "[]",
         "[]",
         "[]",
         "0.0"
        ],
        [
         "44",
         "https://www.petitfute.com/v57799-agadir/actualite/m17-top-10-insolites-voyage/a38703-que-faire-que-visiter-a-agadir-les-17-incontournables.html",
         "['https://www.getyourguide.fr/agadir-l1413/visite-touristique-a-la-decouverte-d-agadir-t28770/?partner_id=73QSLFK&utm_medium=online_publisher&cmp=actu-incontournables-agadir', 'https://www.getyourguide.fr/tiznit-l143195/visite-touristique-d-agadir-avec-l-oufella-et-le-souk-d-agadir-t651532/?partner_id=73QSLFK&utm_medium=online_publisher&cmp=actu-incontournables-agadir', 'https://www.getyourguide.fr/agadir-l1413/sautez-la-file-d-attente-billet-d-entree-a-crocoparc-t607895/?partner_id=73QSLFK&utm_medium=online_publisher&cmp=actu-incontournables-agadir', 'https://www.getyourguide.fr/agadir-l1413/agadir-billet-de-telepherique-sky-network-avec-transport-a-l-hotel-t421389/?partner_id=73QSLFK&utm_medium=online_publisher&cmp=actu-incontournables-agadir', 'https://www.getyourguide.fr/agadir-l1413/agadir-ou-taghazout-randonnee-dans-la-vallee-du-paradis-avec-dejeuner-t428380/?partner_id=73QSLFK&utm_medium=online_publisher&cmp=actu-incontournables-agadir', 'https://www.getyourguide.fr/agadir-l1413/excursion-d-une-journee-a-taroudant-et-tiout-avec-couscous-et-tajine-t454069/?partner_id=73QSLFK&utm_medium=online_publisher&cmp=actu-incontournables-agadir', 'https://www.getyourguide.fr/agadir-l1413/excursion-d-une-demi-journee-dans-le-parc-national-de-la-faune-et-de-la-flore-y-compris-le-dejeuner-t492325/?partner_id=73QSLFK&utm_medium=online_publisher&cmp=actu-incontournables-agadir', 'https://www.getyourguide.fr/agadir-l1413/tour-de-chameau-au-coucher-du-soleil-sur-la-plage-t245142/?partner_id=73QSLFK&utm_medium=online_publisher&cmp=actu-incontournables-agadir', 'https://www.getyourguide.com/agadir-l1413/']",
         "['https://www.booking.com/hotel/ma/maison-d-hotes-les-chtis-d-agadir.fr.html?aid=2324560&no_rooms=1&group_adults=2&label=actu-quefaire-agadir', 'https://www.booking.com/hotel/ma/atlas-kasbah.fr.html?aid=2324560&no_rooms=1&group_adults=2&label=actu-quefaire-agadir', 'https://www.booking.com/hotel/ma/sofitel-agadir-thalassa-sea.fr.html?aid=2324560&no_rooms=1&group_adults=2&label=actu-quefaire-agadir']",
         "['t28770', 't651532', 't607895', 't421389', 't428380', 't454069', 't492325', 't245142']",
         "0.0"
        ],
        [
         "45",
         "https://www.petitfute.com/v50596-alicante/actualite/m17-top-10-insolites-voyage/a38859-que-faire-que-visiter-a-alicante-les-15-incontournables.html",
         "['https://www.getyourguide.fr/alicante-l414/alicante-degustation-de-vins-du-chateau-de-santa-barbara-avec-charcuterie-t487547/?partner_id=73QSLFK&utm_medium=online_publisher&cmp=actu-incontournables-alicante', 'https://www.getyourguide.fr/alicante-l414/alicante-circuit-de-decouverte-des-sept-secrets-d-alicante-t371261/?partner_id=73QSLFK&utm_medium=online_publisher&cmp=actu-incontournables-alicante', 'https://www.getyourguide.fr/alicante-l414/visite-des-arenes-d-alicante-et-du-musee-de-la-tauromachie-t524767/?partner_id=73QSLFK&utm_medium=online_publisher&cmp=actu-incontournables-alicante', 'https://www.getyourguide.fr/alicante-l414/alicante-visite-gourmande-avec-tapas-t371281/?partner_id=73QSLFK&utm_medium=online_publisher&cmp=actu-incontournables-alicante', 'https://www.getyourguide.fr/alicante-l414/alicante-promenade-en-bateau-et-experience-de-parachutisme-avec-boisson-t414977/?partner_id=73QSLFK&utm_medium=online_publisher&cmp=actu-incontournables-alicante', 'https://www.getyourguide.fr/alicante-l414/depuis-alicante-aller-retour-a-l-ile-de-tabarca-t449685/?partner_id=73QSLFK&utm_medium=online_publisher&cmp=actu-incontournables-alicante', 'https://www.getyourguide.fr/alicante-l414/depuis-alicante-billet-de-ferry-aller-retour-pour-l-ile-de-tabarca-t449685/?partner_id=73QSLFK&utm_medium=online_publisher&cmp=actu-incontournables-alicante', 'https://www.getyourguide.fr/denia-l101088/denia-plongee-sous-marine-t450143/?partner_id=73QSLFK&utm_medium=online_publisher&cmp=actu-incontournables-alicante', 'https://www.getyourguide.com/alicante-l414/']",
         "['https://www.booking.com/hotel/es/hostel-la-milagrosa.fr.html?aid=2324560&no_rooms=1&group_adults=2&label=actu-quefaire-alicante', 'https://www.booking.com/hotel/es/hostal-les-monges-palace.fr.html?aid=2324560&no_rooms=1&group_adults=2&label=actu-quefaire-alicante', 'https://www.booking.com/hotel/es/eurostars-lucentum.fr.html?aid=2324560&no_rooms=1&group_adults=2&label=actu-quefaire-alicante']",
         "['t487547', 't371261', 't524767', 't371281', 't414977', 't449685', 't449685', 't450143']",
         "0.0"
        ],
        [
         "46",
         "https://www.petitfute.com/v43385-lefkada/actualite/m17-top-10-insolites-voyage/a39016-que-faire-que-visiter-a-leucade-lefkada-les-15-incontournables.html",
         "['https://www.getyourguide.fr/nydri-l146600/au-depart-de-lefkada-croisiere-de-snorkeling-en-groupe-ou-privee-et-dejeuner-t418658/?partner_id=73QSLFK&utm_medium=online_publisher&cmp=actu-incontournables-leucade', 'https://www.getyourguide.fr/lefkada-l89339/iles-oubliees-de-lefkada-croisiere-d-une-journee-avec-dejeuner-t143067/?partner_id=73QSLFK&utm_medium=online_publisher&cmp=actu-incontournables-leucade', 'https://www.getyourguide.fr/nydri-l146600/experience-privee-de-gastronomie-grecque-durable-t436984/?partner_id=73QSLFK&utm_medium=online_publisher&cmp=actu-incontournables-leucade', 'https://www.getyourguide.fr/lefkada-l89339/lefkada-visite-guidee-d-une-micro-ferme-avec-degustation-de-produits-t436975/?partner_id=73QSLFK&utm_medium=online_publisher&cmp=actu-incontournables-leucade']",
         "['https://www.booking.com/hotel/gr/red-tower.fr.html?aid=2324560&no_rooms=1&group_adults=2&label=actu-quefaire-leucade', 'https://www.booking.com/hotel/gr/athos.fr.html?aid=311089&label=athos-8TTa%2ARoib3V6cLYLiTWzIQS267495846935%3Apl%3Ata%3Ap1%3Ap2%3Aac%3Aap%3Aneg%3Afi%3Atikwd-307145310921%3Alp9056139%3Ali%3Adec%3Adm%3Appccp%3DUmFuZG9tSVYkc2RlIyh9Yf23yREhrOV9DIzdQnby_R8&sid=c900dadc5b80ae2d66c4c7d53072faa7&age=1;checkin=2024-07-07;checkout=2024-07-08;dest_id=-824809;dest_type=city;dist=0;group_adults=2;group_children=0;hapos=1;hpos=1;no_rooms=1;req_adults=2;req_children=0;room1=A%2CA;sb_price_type=total;soh=1;sr_order=popularity;srepoch=1720102808;srpvid=42c064cae3b100f8;type=total;ucfs=1&#map_opened-hotel_address', 'https://www.booking.com/hotel/gr/athos.fr.html?aid=2324560&no_rooms=1&group_adults=2&label=actu-quefaire-leucade', 'https://www.booking.com/hotel/gr/pavezzo-country-retreat.fr.html?aid=311089&label=pavezzo-country-retreat-WPoqSJyGsCDRg1lfEBO3gAS434588767622%3Apl%3Ata%3Ap1%3Ap2%3Aac%3Aap%3Aneg%3Afi%3Atikwd-3733780206%3Alp9056139%3Ali%3Adec%3Adm%3Appccp%3DUmFuZG9tSVYkc2RlIyh9Yf23yREhrOV9DIzdQnby_R8&sid=c900dadc5b80ae2d66c4c7d53072faa7&age=0;all_sr_blocks=38627706_88566893_2_1_0;checkin=2024-07-07;checkout=2024-07-08;dest_id=-819722;dest_type=city;dist=0;group_adults=2;group_children=0;hapos=1;highlighted_blocks=38627706_88566893_2_1_0;hpos=1;matching_block_id=38627706_88566893_2_1_0;no_rooms=1;req_adults=2;req_children=0;room1=A%2CA;sb_price_type=total;sr_order=popularity;sr_pri_blocks=38627706_88566893_2_1_0__17150;srepoch=1720102958;srpvid=1c07651449a70d6e;type=total;ucfs=1&#map_opened-hotel_address', 'https://www.booking.com/hotel/gr/pavezzo-country-retreat.fr.html?aid=2324560&no_rooms=1&group_adults=2&label=actu-quefaire-leucade']",
         "['t418658', 't143067', 't436984', 't436975']",
         "0.0"
        ],
        [
         "47",
         "https://www.petitfute.com/d524-tenerife/actualite/m17-top-10-insolites-voyage/a39324-que-faire-que-visiter-a-tenerife-les-17-incontournables.html",
         "['https://www.getyourguide.fr/tenerife-l350/tenerife-visite-du-parc-national-du-teide-t56481/?partner_id=73QSLFK&utm_medium=online_publisher&cmp=actu-incontournables-tenerife', 'https://www.getyourguide.fr/tenerife-l350/tenerife-experience-du-tour-en-buggy-du-teide-t369566/?partner_id=73QSLFK&utm_medium=online_publisher&cmp=actu-incontournables-tenerife', 'https://www.getyourguide.fr/tenerife-l350/tenerife-croisiere-en-catamaran-avec-brunch-et-boissons-illimitees-t439164/?partner_id=73QSLFK&utm_medium=online_publisher&cmp=actu-incontournables-tenerife', 'https://www.getyourguide.fr/tenerife-l350/tenerife-jet-ski-visite-guidee-decouverte-de-la-cote-t516154/?partner_id=73QSLFK&utm_medium=online_publisher&cmp=actu-incontournables-tenerife', 'https://www.getyourguide.fr/tenerife-l350/tenerife-plongee-sous-marine-de-3-h-pour-debutants-t105191/?partner_id=73QSLFK&utm_medium=online_publisher&cmp=actu-incontournables-tenerife', 'https://www.getyourguide.fr/tenerife-l350/vol-en-parapente-au-dessus-des-montagnes-et-des-cotes-du-sud-de-tenerife-t493960/?partner_id=73QSLFK&utm_medium=online_publisher&cmp=actu-incontournables-tenerife', 'https://www.getyourguide.fr/tenerife-l350/tenerife-billet-d-une-journee-pour-siam-park-t407436/?partner_id=73QSLFK&utm_medium=online_publisher&cmp=actu-incontournables-tenerife', 'https://www.getyourguide.fr/tenerife-l350/tenerife-parc-national-de-teide-coucher-de-soleil-et-observation-des-etoiles-t457265/?partner_id=73QSLFK&utm_medium=online_publisher&cmp=actu-incontournables-tenerife', 'https://www.getyourguide.com/tenerife-l350/']",
         "['https://www.booking.com/hotel/es/san-roque-garachico.fr.html?aid=2324560&no_rooms=1&group_adults=2&label=actu-quefaire-tenerife', 'https://www.booking.com/hotel/es/botanico-y-oriental-spa-garden.fr.html?aid=2324560&no_rooms=1&group_adults=2&label=actu-quefaire-tenerife', 'https://www.booking.com/hotel/es/buenavista-ibiza.fr.html?aid=2324560&no_rooms=1&group_adults=2&label=actu-quefaire-tenerife']",
         "['t56481', 't369566', 't439164', 't516154', 't105191', 't493960', 't407436', 't457265']",
         "0.0"
        ],
        [
         "48",
         "https://www.petitfute.com/v38930-cefalu/actualite/m17-top-10-insolites-voyage/a39488-que-faire-que-visiter-a-cefalu-les-17-incontournables.html",
         "['https://www.getyourguide.fr/cefalu-l2176/visite-des-coins-caches-et-des-legendes-de-cefalu-t637006/?partner_id=73QSLFK&utm_medium=online_publisher&cmp=que_faire_cefalu', 'https://www.getyourguide.fr/cefalu-l2176/excursion-en-bateau-le-long-de-la-cote-de-cefalu-t600715/?partner_id=73QSLFK&utm_medium=online_publisher&cmp=que_faire_cefalu']",
         "['https://www.booking.com/hotel/it/glialberidelparadiso.fr.html?aid=2324560&no_rooms=1&group_adults=2&label=que_faire_cefalu', 'https://www.booking.com/hotel/it/hotellecalette.fr.html?aid=2324560&no_rooms=1&group_adults=2&label=que_faire_cefalu', 'https://www.booking.com/hotel/it/al-pescatore.fr.html?aid=2324560&no_rooms=1&group_adults=2&label=que_faire_cefalu']",
         "['t637006', 't600715']",
         "0.0"
        ],
        [
         "49",
         "https://www.petitfute.com/v38864-syracuse-siracusa/actualite/m17-top-10-insolites-voyage/a39641-que-faire-que-visiter-a-syracuse-les-11-incontournables.html",
         "['https://www.getyourguide.fr/sicile-l65/syracuse-excursion-en-bateau-vers-l-ile-d-ortigia-avec-ses-grottes-t397117/?partner_id=73QSLFK&utm_medium=online_publisher&cmp=actu_incontournables-syracuse']",
         "['https://www.booking.com/hotel/it/lol-hostel-siracusa.fr.html?aid=2324560&label=actu_incontournables_syracuse', 'https://www.booking.com/hotel/it/roma-siracusa.fr.html?aid=2324560&label=actu_incontournables_syracuse', 'https://www.booking.com/hotel/it/domus-mariae-benessere.fr.html?aid=2324560&label=actu_incontournables_syracuse']",
         "['t397117']",
         "0.0"
        ]
       ],
       "shape": {
        "columns": 5,
        "rows": 99
       }
      },
      "text/html": [
       "<div>\n",
       "<style scoped>\n",
       "    .dataframe tbody tr th:only-of-type {\n",
       "        vertical-align: middle;\n",
       "    }\n",
       "\n",
       "    .dataframe tbody tr th {\n",
       "        vertical-align: top;\n",
       "    }\n",
       "\n",
       "    .dataframe thead th {\n",
       "        text-align: right;\n",
       "    }\n",
       "</style>\n",
       "<table border=\"1\" class=\"dataframe\">\n",
       "  <thead>\n",
       "    <tr style=\"text-align: right;\">\n",
       "      <th></th>\n",
       "      <th>URL</th>\n",
       "      <th>getyourguide_links</th>\n",
       "      <th>booking_links</th>\n",
       "      <th>id_getyourguide_link</th>\n",
       "      <th>revenu_gyg</th>\n",
       "    </tr>\n",
       "  </thead>\n",
       "  <tbody>\n",
       "    <tr>\n",
       "      <th>0</th>\n",
       "      <td>https://www.petitfute.com/v62250-kew/actualite...</td>\n",
       "      <td>[https://www.getyourguide.fr/londres-l57/londr...</td>\n",
       "      <td>['https://www.booking.com/hotel/gb/ibis-london...</td>\n",
       "      <td>[t41419, t129039, t31392, t310718, t34660, t38...</td>\n",
       "      <td>6.45</td>\n",
       "    </tr>\n",
       "    <tr>\n",
       "      <th>1</th>\n",
       "      <td>https://www.petitfute.com/v48299-bangli/actual...</td>\n",
       "      <td>[https://www.getyourguide.fr/seminyak-l95096/k...</td>\n",
       "      <td>['https://www.booking.com/hotel/id/sanak-retre...</td>\n",
       "      <td>[t791280, t162114, t393678, t187641, t55668, t...</td>\n",
       "      <td>0.00</td>\n",
       "    </tr>\n",
       "    <tr>\n",
       "      <th>2</th>\n",
       "      <td>https://www.petitfute.com/v43490-caldera-de-ta...</td>\n",
       "      <td>[https://www.getyourguide.fr/tenerife-l350/vis...</td>\n",
       "      <td>[]</td>\n",
       "      <td>[t51524, t417569, t206580, t58006, t534639, t1...</td>\n",
       "      <td>0.00</td>\n",
       "    </tr>\n",
       "    <tr>\n",
       "      <th>3</th>\n",
       "      <td>https://www.petitfute.com/v49846-genes/actuali...</td>\n",
       "      <td>[https://www.getyourguide.fr/genes-l1009/visit...</td>\n",
       "      <td>['https://www.booking.com/hotel/it/ostellin-ge...</td>\n",
       "      <td>[t622176, t13191, t50734, t29705, t399086, t81...</td>\n",
       "      <td>0.00</td>\n",
       "    </tr>\n",
       "    <tr>\n",
       "      <th>4</th>\n",
       "      <td>https://www.petitfute.com/v48986-copenhague/ac...</td>\n",
       "      <td>[https://www.getyourguide.fr/faelledparken-l12...</td>\n",
       "      <td>['https://www.booking.com/hotel/dk/steel-house...</td>\n",
       "      <td>[t72048, t66660, t504350, t168407, t37848, t22...</td>\n",
       "      <td>0.00</td>\n",
       "    </tr>\n",
       "    <tr>\n",
       "      <th>...</th>\n",
       "      <td>...</td>\n",
       "      <td>...</td>\n",
       "      <td>...</td>\n",
       "      <td>...</td>\n",
       "      <td>...</td>\n",
       "    </tr>\n",
       "    <tr>\n",
       "      <th>94</th>\n",
       "      <td>https://www.petitfute.com/v42470-bodrum/actual...</td>\n",
       "      <td>[https://www.getyourguide.fr/bodrum-l846/tour-...</td>\n",
       "      <td>['https://www.booking.com/hotel/tr/seckin-kona...</td>\n",
       "      <td>[t653504, t103136, t476435, t467340]</td>\n",
       "      <td>0.00</td>\n",
       "    </tr>\n",
       "    <tr>\n",
       "      <th>95</th>\n",
       "      <td>https://www.petitfute.com/v42420-antalya/actua...</td>\n",
       "      <td>[https://www.getyourguide.fr/antalya-l172/anta...</td>\n",
       "      <td>['https://www.booking.com/hotel/tr/argos.fr.ht...</td>\n",
       "      <td>[t950470, t469125, t468561, t975032, t949847, ...</td>\n",
       "      <td>0.00</td>\n",
       "    </tr>\n",
       "    <tr>\n",
       "      <th>96</th>\n",
       "      <td>https://www.petitfute.com/v41475-chiang-rai/ac...</td>\n",
       "      <td>[https://www.getyourguide.fr/bangkok-l169/bang...</td>\n",
       "      <td>['https://www.booking.com/hotel/th/baan-noppaw...</td>\n",
       "      <td>[t417016, t425854, t128406, t417017, t52629, t...</td>\n",
       "      <td>0.00</td>\n",
       "    </tr>\n",
       "    <tr>\n",
       "      <th>97</th>\n",
       "      <td>https://www.petitfute.com/v48393-seoul/actuali...</td>\n",
       "      <td>[https://www.getyourguide.fr/seoul-l197/palais...</td>\n",
       "      <td>['https://www.booking.com/hotel/kr/grand-hyatt...</td>\n",
       "      <td>[t467593, t63107, t113551, t492074, t440500, t...</td>\n",
       "      <td>0.00</td>\n",
       "    </tr>\n",
       "    <tr>\n",
       "      <th>98</th>\n",
       "      <td>https://www.petitfute.com/v52913-varsovie-wars...</td>\n",
       "      <td>[https://www.getyourguide.fr/varsovie-l41/vars...</td>\n",
       "      <td>['https://www.booking.com/hotel/pl/novotelwars...</td>\n",
       "      <td>[t26241, t211323, t223920, t25314, t581276, t2...</td>\n",
       "      <td>0.00</td>\n",
       "    </tr>\n",
       "  </tbody>\n",
       "</table>\n",
       "<p>99 rows × 5 columns</p>\n",
       "</div>"
      ],
      "text/plain": [
       "                                                  URL  \\\n",
       "0   https://www.petitfute.com/v62250-kew/actualite...   \n",
       "1   https://www.petitfute.com/v48299-bangli/actual...   \n",
       "2   https://www.petitfute.com/v43490-caldera-de-ta...   \n",
       "3   https://www.petitfute.com/v49846-genes/actuali...   \n",
       "4   https://www.petitfute.com/v48986-copenhague/ac...   \n",
       "..                                                ...   \n",
       "94  https://www.petitfute.com/v42470-bodrum/actual...   \n",
       "95  https://www.petitfute.com/v42420-antalya/actua...   \n",
       "96  https://www.petitfute.com/v41475-chiang-rai/ac...   \n",
       "97  https://www.petitfute.com/v48393-seoul/actuali...   \n",
       "98  https://www.petitfute.com/v52913-varsovie-wars...   \n",
       "\n",
       "                                   getyourguide_links  \\\n",
       "0   [https://www.getyourguide.fr/londres-l57/londr...   \n",
       "1   [https://www.getyourguide.fr/seminyak-l95096/k...   \n",
       "2   [https://www.getyourguide.fr/tenerife-l350/vis...   \n",
       "3   [https://www.getyourguide.fr/genes-l1009/visit...   \n",
       "4   [https://www.getyourguide.fr/faelledparken-l12...   \n",
       "..                                                ...   \n",
       "94  [https://www.getyourguide.fr/bodrum-l846/tour-...   \n",
       "95  [https://www.getyourguide.fr/antalya-l172/anta...   \n",
       "96  [https://www.getyourguide.fr/bangkok-l169/bang...   \n",
       "97  [https://www.getyourguide.fr/seoul-l197/palais...   \n",
       "98  [https://www.getyourguide.fr/varsovie-l41/vars...   \n",
       "\n",
       "                                        booking_links  \\\n",
       "0   ['https://www.booking.com/hotel/gb/ibis-london...   \n",
       "1   ['https://www.booking.com/hotel/id/sanak-retre...   \n",
       "2                                                  []   \n",
       "3   ['https://www.booking.com/hotel/it/ostellin-ge...   \n",
       "4   ['https://www.booking.com/hotel/dk/steel-house...   \n",
       "..                                                ...   \n",
       "94  ['https://www.booking.com/hotel/tr/seckin-kona...   \n",
       "95  ['https://www.booking.com/hotel/tr/argos.fr.ht...   \n",
       "96  ['https://www.booking.com/hotel/th/baan-noppaw...   \n",
       "97  ['https://www.booking.com/hotel/kr/grand-hyatt...   \n",
       "98  ['https://www.booking.com/hotel/pl/novotelwars...   \n",
       "\n",
       "                                 id_getyourguide_link  revenu_gyg  \n",
       "0   [t41419, t129039, t31392, t310718, t34660, t38...        6.45  \n",
       "1   [t791280, t162114, t393678, t187641, t55668, t...        0.00  \n",
       "2   [t51524, t417569, t206580, t58006, t534639, t1...        0.00  \n",
       "3   [t622176, t13191, t50734, t29705, t399086, t81...        0.00  \n",
       "4   [t72048, t66660, t504350, t168407, t37848, t22...        0.00  \n",
       "..                                                ...         ...  \n",
       "94               [t653504, t103136, t476435, t467340]        0.00  \n",
       "95  [t950470, t469125, t468561, t975032, t949847, ...        0.00  \n",
       "96  [t417016, t425854, t128406, t417017, t52629, t...        0.00  \n",
       "97  [t467593, t63107, t113551, t492074, t440500, t...        0.00  \n",
       "98  [t26241, t211323, t223920, t25314, t581276, t2...        0.00  \n",
       "\n",
       "[99 rows x 5 columns]"
      ]
     },
     "execution_count": 101,
     "metadata": {},
     "output_type": "execute_result"
    }
   ],
   "source": [
    "df_final"
   ]
  },
  {
   "cell_type": "markdown",
   "metadata": {},
   "source": [
    "# BOOKING"
   ]
  },
  {
   "cell_type": "code",
   "execution_count": 16,
   "metadata": {},
   "outputs": [
    {
     "data": {
      "application/vnd.microsoft.datawrangler.viewer.v0+json": {
       "columns": [
        {
         "name": "index",
         "rawType": "int64",
         "type": "integer"
        },
        {
         "name": "URL",
         "rawType": "object",
         "type": "string"
        }
       ],
       "ref": "5ed4eacc-38df-462e-b4e0-586e7f046009",
       "rows": [
        [
         "0",
         "https://www.petitfute.com/v62250-kew/actualite/m17-top-10-insolites-voyage/a11635-que-faire-a-londres-a-noel-les-14-activites-incontournables.html"
        ],
        [
         "1",
         "https://www.petitfute.com/v48299-bangli/actualite/m17-top-10-insolites-voyage/a11947-les-10-etapes-incontournables-pour-une-escapade-a-bali.html"
        ],
        [
         "2",
         "https://www.petitfute.com/v43490-caldera-de-taburiente/actualite/m17-top-10-insolites-voyage/a12467-que-faire-aux-canaries-top-15-des-experiences-a-ne-pas-manquer.html"
        ],
        [
         "3",
         "https://www.petitfute.com/v49846-genes/actualite/m17-top-10-insolites-voyage/a13620-que-faire-a-genes-les-17-incontournables-a-visiter.html"
        ],
        [
         "4",
         "https://www.petitfute.com/v48986-copenhague/actualite/m17-top-10-insolites-voyage/a18238-les-incontournables-de-copenhague.html"
        ],
        [
         "5",
         "https://www.petitfute.com/v48159-marrakech/actualite/m17-top-10-insolites-voyage/a18462-que-faire-a-marrakech-les-15-incontournables.html"
        ],
        [
         "6",
         "https://www.petitfute.com/v38789-palerme/actualite/m17-top-10-insolites-voyage/a19643-que-faire-que-visiter-en-sicile-les-20-incontournables.html"
        ],
        [
         "7",
         "https://www.petitfute.com/v50211-venise/actualite/m17-top-10-insolites-voyage/a29266-que-faire-a-venise-en-3-jours-conseils-de-visites.html"
        ],
        [
         "8",
         "https://www.petitfute.com/v50580-valence/actualite/m17-top-10-insolites-voyage/a29645-que-faire-a-valence-en-espagne-les-19-incontournables.html"
        ],
        [
         "9",
         "https://www.petitfute.com/v39823-rome/actualite/m17-top-10-insolites-voyage/a30996-comment-visiter-rome-en-3-jours-conseils-ditineraire-a-faire.html "
        ],
        [
         "10",
         "https://www.petitfute.com/v51354-naples/actualite/m17-top-10-insolites-voyage/a31152-comment-visiter-naples-en-3-jours-conseils-d-itineraire.html"
        ],
        [
         "11",
         "https://www.petitfute.com/v42286-barcelone/actualite/m17-top-10-insolites-voyage/a31405-que-faire-a-barcelone-en-3-jours-conseils-d-itineraire.html"
        ],
        [
         "12",
         "https://www.petitfute.com/v50459-londres/actualite/m17-top-10-insolites-voyage/a31484-que-faire-a-londres-en-3-jours-conseils-ditineraire.html "
        ],
        [
         "13",
         "https://www.petitfute.com/v48153-berlin/actualite/m17-top-10-insolites-voyage/a32105-que-faire-et-que-voir-a-berlin-en-3-jours.html"
        ],
        [
         "14",
         "https://www.petitfute.com/v11387-saint-aignan-41110/actualite/m17-top-10-insolites-voyage/a32183-que-faire-autour-du-zoo-de-beauval-17-idees-de-visites.html"
        ],
        [
         "15",
         "https://www.petitfute.com/actualite/m17-top-10-insolites-voyage/a32259-conseils-et-astuces-pour-organiser-votre-journee-au-parc-animalier-planete-sauvage.html"
        ],
        [
         "16",
         "https://www.petitfute.com/v18720-aigues-mortes-30220/actualite/m17-top-10-insolites-voyage/a32449-que-faire-en-camargue-les-15-plus-beaux-endroits-a-visiter.html"
        ],
        [
         "17",
         "https://www.petitfute.com/v41612-koh-phi-phi-leh/actualite/m17-top-10-insolites-voyage/a32655-que-faire-que-visiter-a-phuket-top-19-des-activites-incontournables.html"
        ],
        [
         "18",
         "https://www.petitfute.com/d1581-paros/actualite/m17-top-10-insolites-voyage/a36143-que-faire-que-visiter-a-paros-les-15-activites-incontournables.html"
        ],
        [
         "19",
         "https://www.petitfute.com/v44465-hammamet-8050/actualite/m17-top-10-insolites-voyage/a36296-que-visiter-a-hammamet-les-11-incontournables-a-faire-2.html"
        ],
        [
         "20",
         "https://www.petitfute.com/v45247-amsterdam/actualite/m17-top-10-insolites-voyage/a36350-que-faire-que-visiter-a-amsterdam-en-2-ou-3-jours-conseils-ditineraire.html"
        ],
        [
         "21",
         "https://www.petitfute.com/v51713-vienne/actualite/m17-top-10-insolites-voyage/a36390-que-faire-que-visiter-a-vienne-en-2-ou-3-jours-conseils-ditineraire.html"
        ],
        [
         "22",
         "https://www.petitfute.com/v51354-naples/actualite/m17-top-10-insolites-voyage/a36441-comment-visiter-le-mont-vesuve-nos-conseils-pour-lascension.html"
        ],
        [
         "23",
         "https://www.petitfute.com/actualite/m17-top-10-insolites-voyage/a36549-faire-lascension-du-piton-de-la-fournaise-ce-quil-faut-savoir.html"
        ],
        [
         "24",
         "https://www.petitfute.com/v38887-catane/actualite/m17-top-10-insolites-voyage/a36556-comment-visiter-letna-ce-quil-faut-savoir-pour-lascension.html"
        ],
        [
         "25",
         "https://www.petitfute.com/v51354-naples/actualite/m17-top-10-insolites-voyage/a36713-visiter-pompei-les-infos-pratiques-a-savoir-2.html"
        ],
        [
         "26",
         "https://www.petitfute.com/v17231-17284-paris-75010/actualite/m17-top-10-insolites-voyage/a36857-visiter-le-louvre-nos-conseils-pour-preparer-votre-visite.html"
        ],
        [
         "27",
         "https://www.petitfute.com/v51354-naples/actualite/m17-top-10-insolites-voyage/a36862-visiter-herculanum-les-infos-pratiques-a-savoir.html"
        ],
        [
         "28",
         "https://www.petitfute.com/v58633-porto/actualite/m17-top-10-insolites-voyage/a36956-que-faire-que-visiter-a-porto-en-2-ou-3-jours-conseils-ditineraire.html"
        ],
        [
         "29",
         "https://www.petitfute.com/v73452-almada/actualite/m17-top-10-insolites-voyage/a36982-que-faire-que-visiter-a-lisbonne-en-2-ou-3-jours-conseils-ditineraire.html"
        ],
        [
         "30",
         "https://www.petitfute.com/v50174-milan/actualite/m17-top-10-insolites-voyage/a37051-que-faire-que-visiter-a-milan-en-2-ou-3-jours-conseils-ditineraire.html"
        ],
        [
         "31",
         "https://www.petitfute.com/v39757-madrid/actualite/m17-top-10-insolites-voyage/a37057-que-faire-que-visiter-a-madrid-en-2-ou-3-jours-conseils-ditineraire.html   "
        ],
        [
         "32",
         "https://www.petitfute.com/v42793-dubrovnik/actualite/m17-top-10-insolites-voyage/a37062-que-faire-a-dubrovnik-en-2-ou-3-jours-le-temps-dun-week-end.html"
        ],
        [
         "33",
         "https://www.petitfute.com/v50233-florence-firenze/actualite/m17-top-10-insolites-voyage/a37068-que-faire-que-visiter-a-florence-en-2-ou-3-jours-conseils-ditineraire.html"
        ],
        [
         "34",
         "https://www.petitfute.com/v38377-seville/actualite/m17-top-10-insolites-voyage/a37095-que-faire-que-visiter-a-seville-en-2-ou-3-jours-conseils-ditineraire.html"
        ],
        [
         "35",
         "https://www.petitfute.com/v43955-cagliari/actualite/m17-top-10-insolites-voyage/a37150-que-faire-que-visiter-a-cagliari-les-15-incontournables.html"
        ],
        [
         "36",
         "https://www.petitfute.com/v42351-istanbul/actualite/m17-top-10-insolites-voyage/a37155-que-faire-a-istanbul-en-3-ou-4-jours-conseils-de-visite.html"
        ],
        [
         "37",
         "https://www.petitfute.com/v49513-dublin/actualite/m17-top-10-insolites-voyage/a37354-que-faire-que-visiter-a-dublin-en-2-ou-3-jours-conseils-ditineraire.html "
        ],
        [
         "38",
         "https://www.petitfute.com/v44683-budapest/actualite/m17-top-10-insolites-voyage/a37406-que-faire-que-visiter-a-budapest-en-2-ou-3-jours-conseils-ditineraire.html"
        ],
        [
         "39",
         "https://www.petitfute.com/v41858-sofia/actualite/m17-top-10-insolites-voyage/a37595-que-faire-que-visiter-a-sofia-en-2-ou-3-jours-conseils-ditineraire.html"
        ],
        [
         "40",
         "https://www.petitfute.com/v43431-prague/actualite/m17-top-10-insolites-voyage/a37644-que-faire-que-visiter-a-prague-en-2-ou-3-jours-conseils-ditineraire.html"
        ],
        [
         "41",
         "https://www.petitfute.com/v38469-cordoue-cordoba/actualite/m17-top-10-insolites-voyage/a37705-que-faire-que-visiter-a-cordoue-top-15-des-incontournables.html"
        ],
        [
         "42",
         "https://www.petitfute.com/v42921-thessalonique-thessaloniki/actualite/m17-top-10-insolites-voyage/a37758-visiter-les-monasteres-des-meteores-en-grece-le-guide.html"
        ],
        [
         "43",
         "https://www.petitfute.com/v45404-albufeira/actualite/m17-top-10-insolites-voyage/a38018-que-faire-que-visiter-en-algarve-les-19-plus-beaux-endroits.html"
        ],
        [
         "44",
         "https://www.petitfute.com/v57799-agadir/actualite/m17-top-10-insolites-voyage/a38703-que-faire-que-visiter-a-agadir-les-17-incontournables.html"
        ],
        [
         "45",
         "https://www.petitfute.com/v50596-alicante/actualite/m17-top-10-insolites-voyage/a38859-que-faire-que-visiter-a-alicante-les-15-incontournables.html"
        ],
        [
         "46",
         "https://www.petitfute.com/v43385-lefkada/actualite/m17-top-10-insolites-voyage/a39016-que-faire-que-visiter-a-leucade-lefkada-les-15-incontournables.html"
        ],
        [
         "47",
         "https://www.petitfute.com/d524-tenerife/actualite/m17-top-10-insolites-voyage/a39324-que-faire-que-visiter-a-tenerife-les-17-incontournables.html"
        ],
        [
         "48",
         "https://www.petitfute.com/v38930-cefalu/actualite/m17-top-10-insolites-voyage/a39488-que-faire-que-visiter-a-cefalu-les-17-incontournables.html"
        ],
        [
         "49",
         "https://www.petitfute.com/v38864-syracuse-siracusa/actualite/m17-top-10-insolites-voyage/a39641-que-faire-que-visiter-a-syracuse-les-11-incontournables.html"
        ]
       ],
       "shape": {
        "columns": 1,
        "rows": 99
       }
      },
      "text/html": [
       "<div>\n",
       "<style scoped>\n",
       "    .dataframe tbody tr th:only-of-type {\n",
       "        vertical-align: middle;\n",
       "    }\n",
       "\n",
       "    .dataframe tbody tr th {\n",
       "        vertical-align: top;\n",
       "    }\n",
       "\n",
       "    .dataframe thead th {\n",
       "        text-align: right;\n",
       "    }\n",
       "</style>\n",
       "<table border=\"1\" class=\"dataframe\">\n",
       "  <thead>\n",
       "    <tr style=\"text-align: right;\">\n",
       "      <th></th>\n",
       "      <th>URL</th>\n",
       "    </tr>\n",
       "  </thead>\n",
       "  <tbody>\n",
       "    <tr>\n",
       "      <th>0</th>\n",
       "      <td>https://www.petitfute.com/v62250-kew/actualite...</td>\n",
       "    </tr>\n",
       "    <tr>\n",
       "      <th>1</th>\n",
       "      <td>https://www.petitfute.com/v48299-bangli/actual...</td>\n",
       "    </tr>\n",
       "    <tr>\n",
       "      <th>2</th>\n",
       "      <td>https://www.petitfute.com/v43490-caldera-de-ta...</td>\n",
       "    </tr>\n",
       "    <tr>\n",
       "      <th>3</th>\n",
       "      <td>https://www.petitfute.com/v49846-genes/actuali...</td>\n",
       "    </tr>\n",
       "    <tr>\n",
       "      <th>4</th>\n",
       "      <td>https://www.petitfute.com/v48986-copenhague/ac...</td>\n",
       "    </tr>\n",
       "    <tr>\n",
       "      <th>...</th>\n",
       "      <td>...</td>\n",
       "    </tr>\n",
       "    <tr>\n",
       "      <th>94</th>\n",
       "      <td>https://www.petitfute.com/v42470-bodrum/actual...</td>\n",
       "    </tr>\n",
       "    <tr>\n",
       "      <th>95</th>\n",
       "      <td>https://www.petitfute.com/v42420-antalya/actua...</td>\n",
       "    </tr>\n",
       "    <tr>\n",
       "      <th>96</th>\n",
       "      <td>https://www.petitfute.com/v41475-chiang-rai/ac...</td>\n",
       "    </tr>\n",
       "    <tr>\n",
       "      <th>97</th>\n",
       "      <td>https://www.petitfute.com/v48393-seoul/actuali...</td>\n",
       "    </tr>\n",
       "    <tr>\n",
       "      <th>98</th>\n",
       "      <td>https://www.petitfute.com/v52913-varsovie-wars...</td>\n",
       "    </tr>\n",
       "  </tbody>\n",
       "</table>\n",
       "<p>99 rows × 1 columns</p>\n",
       "</div>"
      ],
      "text/plain": [
       "                                                  URL\n",
       "0   https://www.petitfute.com/v62250-kew/actualite...\n",
       "1   https://www.petitfute.com/v48299-bangli/actual...\n",
       "2   https://www.petitfute.com/v43490-caldera-de-ta...\n",
       "3   https://www.petitfute.com/v49846-genes/actuali...\n",
       "4   https://www.petitfute.com/v48986-copenhague/ac...\n",
       "..                                                ...\n",
       "94  https://www.petitfute.com/v42470-bodrum/actual...\n",
       "95  https://www.petitfute.com/v42420-antalya/actua...\n",
       "96  https://www.petitfute.com/v41475-chiang-rai/ac...\n",
       "97  https://www.petitfute.com/v48393-seoul/actuali...\n",
       "98  https://www.petitfute.com/v52913-varsovie-wars...\n",
       "\n",
       "[99 rows x 1 columns]"
      ]
     },
     "execution_count": 16,
     "metadata": {},
     "output_type": "execute_result"
    }
   ],
   "source": [
    "base_URL"
   ]
  },
  {
   "cell_type": "code",
   "execution_count": 17,
   "metadata": {},
   "outputs": [
    {
     "data": {
      "application/vnd.microsoft.datawrangler.viewer.v0+json": {
       "columns": [
        {
         "name": "index",
         "rawType": "int64",
         "type": "integer"
        },
        {
         "name": "URL",
         "rawType": "object",
         "type": "string"
        },
        {
         "name": "getyourguide_links",
         "rawType": "object",
         "type": "string"
        },
        {
         "name": "booking_links",
         "rawType": "object",
         "type": "string"
        }
       ],
       "ref": "7668b17d-a24f-4fd0-87fd-df0d12cac857",
       "rows": [
        [
         "0",
         "https://www.petitfute.com/v62250-kew/actualite/m17-top-10-insolites-voyage/a11635-que-faire-a-londres-a-noel-les-14-activites-incontournables.html",
         "['https://www.getyourguide.fr/londres-l57/londres-et-les-illuminations-de-noel-visite-a-velo-t41419/?partner_id=73QSLFK&utm_medium=online_publisher&cmp=actu-incontournables-londres_noel', 'https://www.getyourguide.fr/londres-l57/londres-illuminations-de-noel-en-bus-vintage-ouvert-t129039/?partner_id=73QSLFK&utm_medium=online_publisher&cmp=actu-incontournables-londres_noel', 'https://www.getyourguide.fr/londres-l57/harry-potter-visite-des-studios-warner-bros-a-londres-t31392/?partner_id=73QSLFK&utm_medium=online_publisher&cmp=actu-incontournables-londres_noel', 'https://www.getyourguide.fr/londres-l57/londres-visite-des-illuminations-de-noel-en-bus-t310718/?partner_id=73QSLFK&utm_medium=online_publisher&cmp=actu-incontournables-londres_noel', 'https://www.getyourguide.fr/jardins-botaniques-royaux-de-kew-l5161/londres-jardins-botaniques-royaux-de-kew-t34660/?partner_id=73QSLFK&utm_medium=online_publisher&cmp=actu-incontournables-londres_noel', 'https://www.getyourguide.fr/londres-l57/londres-visite-guidee-en-bus-a-toit-ouvert-des-lumieres-de-noel-de-nuit-t388700/?partner_id=73QSLFK&utm_medium=online_publisher&cmp=actu-incontournables-londres_noel']",
         "['https://www.booking.com/hotel/gb/ibis-london-blackfriars.fr.html?aid=356980&label=gog235jc-1FCAsoUEIXaWJpcy1sb25kb24tYmxhY2tmcmlhcnNIDVgDaE2IAQGYAQ24AQfIAQzYAQHoAQH4AQKIAgGoAgO4AqKo8LcGwAIB0gIkMjA5N2ZjNjgtZmRhYi00MzRlLThmOWYtOTYwMmFhOGRiNDk12AIF4AIB&sid=a0ed4f8119aafb08ddb2c34d69e8b88d&age=0;all_sr_blocks=42636801_94463129_2_42_0%2C42636801_94463129_2_42_0;checkin=2024-10-06;checkout=2024-10-07;dest_id=-2601889;dest_type=city;dist=0;group_adults=2;group_children=1;hapos=1;highlighted_blocks=42636801_94463129_2_42_0%2C42636801_94463129_2_42_0;hpos=1;matching_block_id=42636801_94463129_2_42_0;no_rooms=1;req_adults=2;req_age=0;req_children=1;room1=A%2CA%2C0;sb_price_type=total;sr_order=popularity;sr_pri_blocks=42636801_94463129_2_42_0__12834%2C42636801_94463129_2_42_0__12834;srepoch=1727796262;srpvid=6b066c51ed76067f;type=total;ucfs=1&#map_opened-hotel_address', 'https://www.booking.com/hotel/gb/ibis-london-blackfriars.fr.html?aid=2324560&no_rooms=1&group_adults=2&label=actu-londres-noel', 'https://www.booking.com/hotel/gb/therookery.fr.html?aid=2324560&no_rooms=1&group_adults=2&label=actu-londres-noel', 'https://www.booking.com/hotel/gb/sanderson.fr.html?aid=2324560&no_rooms=1&group_adults=2&label=actu-londres-noel']"
        ],
        [
         "1",
         "https://www.petitfute.com/v48299-bangli/actualite/m17-top-10-insolites-voyage/a11947-les-10-etapes-incontournables-pour-une-escapade-a-bali.html",
         "['https://www.getyourguide.fr/seminyak-l95096/kutabali-lecons-de-surf-privees-pour-debutants-et-intermediaires-t791280/?partner_id=73QSLFK&utm_medium=online_publisher&cmp=que_faire_bali', 'https://www.getyourguide.fr/bali-l347/visite-instagram-de-bali-les-endroits-les-plus-pittoresques-t162114/?partner_id=73QSLFK&utm_medium=online_publisher&cmp=que_faire_bali', 'https://www.getyourguide.fr/bali-l347/visite-de-taman-ayun-et-du-temple-de-tanah-lot-au-coucher-du-soleil-t393678/?partner_id=73QSLFK', 'https://www.getyourguide.fr/bali-l347/bali-decouverte-du-mysticisme-balinais-et-temple-de-kehen-t187641/?partner_id=73QSLFK', 'https://www.getyourguide.fr/bali-l347/le-meilleur-du-centre-de-bali-cascade-goa-gajah-rizieres-t55668/?partner_id=73QSLFK', 'https://www.getyourguide.fr/bali-l347/uluwatu-visite-a-pied-du-temple-et-de-la-falaise-de-karang-boma-avec-billet-t440490/?partner_id=73QSLFK', 'https://www.getyourguide.fr/bali-l347/bali-nord-cascades-de-sekumpul-et-temple-d-ulun-danu-t267767/?partner_id=73QSLFK', 'https://www.getyourguide.fr/bali-l347/nord-de-bali-dauphins-cascades-et-temples-a-l-aube-t101513/?partner_id=73QSLFK', 'https://www.getyourguide.fr/mont-batur-l84533/bali-mont-batur-sunrise-trek-avec-guide-t411965/?partner_id=73QSLFK']",
         "['https://www.booking.com/hotel/id/sanak-retreat-bali.fr.html?aid=2324560&no_rooms=1&group_adults=2&label=que_faire_bali', 'https://www.booking.com/hotel/id/pramana-watu-kurung-resort.fr.html?aid=2324560&no_rooms=1&group_adults=2&label=que_faire_bali', 'https://www.booking.com/hotel/id/the-sankara-suite-and-villa-ubud.fr.html?aid=2324560&no_rooms=1&group_adults=2&label=que_faire_bali']"
        ],
        [
         "2",
         "https://www.petitfute.com/v43490-caldera-de-taburiente/actualite/m17-top-10-insolites-voyage/a12467-que-faire-aux-canaries-top-15-des-experiences-a-ne-pas-manquer.html",
         "['https://www.getyourguide.fr/tenerife-l350/visite-astronomique-du-mont-teide-t51524/?partner_id=73QSLFK&utm_medium=online_publisher&cmp=actu-incontournables-canaries', 'https://www.getyourguide.fr/tenerife-l350/depuis-adeje-visite-guidee-pour-groupes-de-photographie-t417569/?partner_id=73QSLFK&utm_medium=online_publisher&cmp=actu-incontournables-canaries', 'https://www.getyourguide.fr/el-hierro-l44931/transfert-aeroport-el-hierro-prive-t206580/?partner_id=73QSLFK&utm_medium=online_publisher&cmp=actu-incontournables-canaries', 'https://www.getyourguide.fr/tenerife-l350/depuis-arona-tour-de-la-gomera-t58006/?partner_id=73QSLFK&utm_medium=online_publisher&cmp=actu-incontournables-canaries', 'https://www.getyourguide.fr/fuerteventura-l419/fuerteventura-wild-north-tour-corralejo-combo-t534639/?partner_id=73QSLFK&utm_medium=online_publisher&cmp=actu-incontournables-canaries', 'https://www.getyourguide.fr/lanzarote-l421/tour-complet-de-lanzarote-t132558/?partner_id=73QSLFK&utm_medium=online_publisher&cmp=actu-incontournables-canaries', 'https://www.getyourguide.fr/grande-canarie-l418/dunes-de-maspalomas-promenade-a-dos-de-chameau-t212022/?partner_id=73QSLFK&utm_medium=online_publisher&cmp=Que_faire_aux_Canaries', 'https://www.getyourguide.fr/lanzarote-l421/tour-complet-de-lanzarote-t132558/?partner_id=73QSLFK&utm_medium=online_publisher&cmp=actu-incontournables-canaries']",
         "[]"
        ],
        [
         "3",
         "https://www.petitfute.com/v49846-genes/actualite/m17-top-10-insolites-voyage/a13620-que-faire-a-genes-les-17-incontournables-a-visiter.html",
         "['https://www.getyourguide.fr/genes-l1009/visite-a-pied-des-sites-incontournables-de-genes-t622176/?partner_id=73QSLFK&utm_medium=online_publisher&cmp=actu-incontournables-genes', 'https://www.getyourguide.fr/genes-l1009/genes-2-heures-de-visite-guidee-a-pied-du-centre-historique-t13191/?partner_id=73QSLFK&utm_medium=online_publisher&cmp=actu-incontournables-genes', 'https://www.getyourguide.fr/ligurie-l221/genes-billet-valable-48-h-pour-bus-a-arrets-multiples-t50734/?partner_id=73QSLFK&utm_medium=online_publisher&cmp=actu_incontournables_genes', 'https://www.getyourguide.fr/genes-l1009/visite-guidee-des-palais-rolli-de-genes-patrimoine-mondial-de-l-unesco-t29705/?partner_id=73QSLFK&utm_medium=online_publisher&cmp=actu-incontournables-genes', 'https://www.getyourguide.fr/genes-l1009/aquarium-de-genes-billet-coupe-file-t399086/?partner_id=73QSLFK&utm_medium=online_publisher&cmp=actu_incontournables_genes', 'https://www.getyourguide.fr/genes-l1009/genes-visite-culinaire-et-degustation-de-vin-a-pied-t817882/?partner_id=73QSLFK&utm_medium=online_publisher&cmp=actu-incontournables-genes', 'https://www.getyourguide.fr/genes-l1009/genes-visite-guidee-historique-de-la-maison-de-christophe-colomb-t413336/?partner_id=73QSLFK&utm_medium=online_publisher&cmp=actu_incontournables_genes', 'https://www.getyourguide.fr/genes-l1009/au-depart-de-genes-excursion-en-bateau-aller-retour-a-portofino-t414272/?partner_id=73QSLFK&utm_medium=online_publisher&cmp=actu_incontournables_genes']",
         "['https://www.booking.com/hotel/it/ostellin-genova-hostel-genoa.fr.html?aid=2324560&label=actu_incontournables_genes', 'https://www.booking.com/hotel/it/b-amp-b-genova.fr.html?aid=2324560&label=actu_incontournables_gene', 'https://www.booking.com/hotel/it/palazzo-grillo.fr.html?aid=2324560&label=actu_incontournables_genes']"
        ],
        [
         "4",
         "https://www.petitfute.com/v48986-copenhague/actualite/m17-top-10-insolites-voyage/a18238-les-incontournables-de-copenhague.html",
         "['https://www.getyourguide.fr/faelledparken-l12/copenhague-billet-d-entree-a-tivoli-t72048/?partner_id=73QSLFK&utm_medium=online_publisher&cmp=actu_incontournables_copenhague', 'https://www.getyourguide.fr/faelledparken-l12/copenhague-city-card-pass-pour-80-attractions-avec-metro-pass-t66660/?partner_id=73QSLFK&utm_medium=online_publisher&cmp=actu_incontournables_copenhague', 'https://www.getyourguide.fr/faelledparken-l12/copenhague-visite-du-quartier-de-norrebro-t504350/?partner_id=73QSLFK&utm_medium=online_publisher&cmp=actu_incontournables_copenhague', 'https://www.getyourguide.fr/faelledparken-l12/copenhague-tour-de-velo-de-90-minutes-t168407/?partner_id=73QSLFK&utm_medium=online_publisher&cmp=actu_incontournables_copenhague', 'https://www.getyourguide.fr/faelledparken-l12/copenhague-croisiere-sur-le-canal-de-gammel-strand-t37848/?partner_id=73QSLFK&utm_medium=online_publisher&cmp=actu_incontournables_copenhague', 'https://www.getyourguide.fr/faelledparken-l12/copenhague-tour-culinaire-a-velo-de-3-heures-t229054/?partner_id=73QSLFK&utm_medium=online_publisher&cmp=actu_incontournables_copenhague', 'https://www.getyourguide.fr/faelledparken-l12/copenhague-visite-de-3-h-a-velo-avec-un-guide-t168389/?partner_id=73QSLFK&utm_medium=online_publisher&cmp=actu_incontournables_copenhague']",
         "['https://www.booking.com/hotel/dk/steel-house-copenhagen.fr.html?aid=2324560&no_rooms=1&group_adults=2&label=actu_quefaire_copenhague', 'https://www.booking.com/hotel/dk/christian-iv.fr.html?aid=2324560&no_rooms=1&group_adults=2&label=actu_quefaire_copenhague', 'https://www.booking.com/hotel/dk/alexandra.fr.html?aid=2324560&no_rooms=1&group_adults=2&label=actu_quefaire_copenhague']"
        ]
       ],
       "shape": {
        "columns": 3,
        "rows": 5
       }
      },
      "text/html": [
       "<div>\n",
       "<style scoped>\n",
       "    .dataframe tbody tr th:only-of-type {\n",
       "        vertical-align: middle;\n",
       "    }\n",
       "\n",
       "    .dataframe tbody tr th {\n",
       "        vertical-align: top;\n",
       "    }\n",
       "\n",
       "    .dataframe thead th {\n",
       "        text-align: right;\n",
       "    }\n",
       "</style>\n",
       "<table border=\"1\" class=\"dataframe\">\n",
       "  <thead>\n",
       "    <tr style=\"text-align: right;\">\n",
       "      <th></th>\n",
       "      <th>URL</th>\n",
       "      <th>getyourguide_links</th>\n",
       "      <th>booking_links</th>\n",
       "    </tr>\n",
       "  </thead>\n",
       "  <tbody>\n",
       "    <tr>\n",
       "      <th>0</th>\n",
       "      <td>https://www.petitfute.com/v62250-kew/actualite...</td>\n",
       "      <td>['https://www.getyourguide.fr/londres-l57/lond...</td>\n",
       "      <td>['https://www.booking.com/hotel/gb/ibis-london...</td>\n",
       "    </tr>\n",
       "    <tr>\n",
       "      <th>1</th>\n",
       "      <td>https://www.petitfute.com/v48299-bangli/actual...</td>\n",
       "      <td>['https://www.getyourguide.fr/seminyak-l95096/...</td>\n",
       "      <td>['https://www.booking.com/hotel/id/sanak-retre...</td>\n",
       "    </tr>\n",
       "    <tr>\n",
       "      <th>2</th>\n",
       "      <td>https://www.petitfute.com/v43490-caldera-de-ta...</td>\n",
       "      <td>['https://www.getyourguide.fr/tenerife-l350/vi...</td>\n",
       "      <td>[]</td>\n",
       "    </tr>\n",
       "    <tr>\n",
       "      <th>3</th>\n",
       "      <td>https://www.petitfute.com/v49846-genes/actuali...</td>\n",
       "      <td>['https://www.getyourguide.fr/genes-l1009/visi...</td>\n",
       "      <td>['https://www.booking.com/hotel/it/ostellin-ge...</td>\n",
       "    </tr>\n",
       "    <tr>\n",
       "      <th>4</th>\n",
       "      <td>https://www.petitfute.com/v48986-copenhague/ac...</td>\n",
       "      <td>['https://www.getyourguide.fr/faelledparken-l1...</td>\n",
       "      <td>['https://www.booking.com/hotel/dk/steel-house...</td>\n",
       "    </tr>\n",
       "  </tbody>\n",
       "</table>\n",
       "</div>"
      ],
      "text/plain": [
       "                                                 URL  \\\n",
       "0  https://www.petitfute.com/v62250-kew/actualite...   \n",
       "1  https://www.petitfute.com/v48299-bangli/actual...   \n",
       "2  https://www.petitfute.com/v43490-caldera-de-ta...   \n",
       "3  https://www.petitfute.com/v49846-genes/actuali...   \n",
       "4  https://www.petitfute.com/v48986-copenhague/ac...   \n",
       "\n",
       "                                  getyourguide_links  \\\n",
       "0  ['https://www.getyourguide.fr/londres-l57/lond...   \n",
       "1  ['https://www.getyourguide.fr/seminyak-l95096/...   \n",
       "2  ['https://www.getyourguide.fr/tenerife-l350/vi...   \n",
       "3  ['https://www.getyourguide.fr/genes-l1009/visi...   \n",
       "4  ['https://www.getyourguide.fr/faelledparken-l1...   \n",
       "\n",
       "                                       booking_links  \n",
       "0  ['https://www.booking.com/hotel/gb/ibis-london...  \n",
       "1  ['https://www.booking.com/hotel/id/sanak-retre...  \n",
       "2                                                 []  \n",
       "3  ['https://www.booking.com/hotel/it/ostellin-ge...  \n",
       "4  ['https://www.booking.com/hotel/dk/steel-house...  "
      ]
     },
     "execution_count": 17,
     "metadata": {},
     "output_type": "execute_result"
    }
   ],
   "source": [
    "df_liens = pd.read_excel(r\"C:\\Users\\Hanaa\\Desktop\\PETITFUTE\\data\\outputs\\liens_partenaire_octobre.xlsx\")\n",
    "df_liens.head()"
   ]
  },
  {
   "cell_type": "code",
   "execution_count": 34,
   "metadata": {},
   "outputs": [
    {
     "data": {
      "application/vnd.microsoft.datawrangler.viewer.v0+json": {
       "columns": [
        {
         "name": "index",
         "rawType": "int64",
         "type": "integer"
        },
        {
         "name": "URL",
         "rawType": "object",
         "type": "string"
        },
        {
         "name": "getyourguide_links",
         "rawType": "object",
         "type": "string"
        },
        {
         "name": "booking_links",
         "rawType": "object",
         "type": "string"
        },
        {
         "name": "type",
         "rawType": "object",
         "type": "unknown"
        }
       ],
       "ref": "b09ab6f2-29c0-4dce-a441-d1a6cb626a4c",
       "rows": [
        [
         "0",
         "https://www.petitfute.com/v62250-kew/actualite/m17-top-10-insolites-voyage/a11635-que-faire-a-londres-a-noel-les-14-activites-incontournables.html",
         "['https://www.getyourguide.fr/londres-l57/londres-et-les-illuminations-de-noel-visite-a-velo-t41419/?partner_id=73QSLFK&utm_medium=online_publisher&cmp=actu-incontournables-londres_noel', 'https://www.getyourguide.fr/londres-l57/londres-illuminations-de-noel-en-bus-vintage-ouvert-t129039/?partner_id=73QSLFK&utm_medium=online_publisher&cmp=actu-incontournables-londres_noel', 'https://www.getyourguide.fr/londres-l57/harry-potter-visite-des-studios-warner-bros-a-londres-t31392/?partner_id=73QSLFK&utm_medium=online_publisher&cmp=actu-incontournables-londres_noel', 'https://www.getyourguide.fr/londres-l57/londres-visite-des-illuminations-de-noel-en-bus-t310718/?partner_id=73QSLFK&utm_medium=online_publisher&cmp=actu-incontournables-londres_noel', 'https://www.getyourguide.fr/jardins-botaniques-royaux-de-kew-l5161/londres-jardins-botaniques-royaux-de-kew-t34660/?partner_id=73QSLFK&utm_medium=online_publisher&cmp=actu-incontournables-londres_noel', 'https://www.getyourguide.fr/londres-l57/londres-visite-guidee-en-bus-a-toit-ouvert-des-lumieres-de-noel-de-nuit-t388700/?partner_id=73QSLFK&utm_medium=online_publisher&cmp=actu-incontournables-londres_noel']",
         "['https://www.booking.com/hotel/gb/ibis-london-blackfriars.fr.html?aid=356980&label=gog235jc-1FCAsoUEIXaWJpcy1sb25kb24tYmxhY2tmcmlhcnNIDVgDaE2IAQGYAQ24AQfIAQzYAQHoAQH4AQKIAgGoAgO4AqKo8LcGwAIB0gIkMjA5N2ZjNjgtZmRhYi00MzRlLThmOWYtOTYwMmFhOGRiNDk12AIF4AIB&sid=a0ed4f8119aafb08ddb2c34d69e8b88d&age=0;all_sr_blocks=42636801_94463129_2_42_0%2C42636801_94463129_2_42_0;checkin=2024-10-06;checkout=2024-10-07;dest_id=-2601889;dest_type=city;dist=0;group_adults=2;group_children=1;hapos=1;highlighted_blocks=42636801_94463129_2_42_0%2C42636801_94463129_2_42_0;hpos=1;matching_block_id=42636801_94463129_2_42_0;no_rooms=1;req_adults=2;req_age=0;req_children=1;room1=A%2CA%2C0;sb_price_type=total;sr_order=popularity;sr_pri_blocks=42636801_94463129_2_42_0__12834%2C42636801_94463129_2_42_0__12834;srepoch=1727796262;srpvid=6b066c51ed76067f;type=total;ucfs=1&#map_opened-hotel_address', 'https://www.booking.com/hotel/gb/ibis-london-blackfriars.fr.html?aid=2324560&no_rooms=1&group_adults=2&label=actu-londres-noel', 'https://www.booking.com/hotel/gb/therookery.fr.html?aid=2324560&no_rooms=1&group_adults=2&label=actu-londres-noel', 'https://www.booking.com/hotel/gb/sanderson.fr.html?aid=2324560&no_rooms=1&group_adults=2&label=actu-londres-noel']",
         null
        ],
        [
         "1",
         "https://www.petitfute.com/v48299-bangli/actualite/m17-top-10-insolites-voyage/a11947-les-10-etapes-incontournables-pour-une-escapade-a-bali.html",
         "['https://www.getyourguide.fr/seminyak-l95096/kutabali-lecons-de-surf-privees-pour-debutants-et-intermediaires-t791280/?partner_id=73QSLFK&utm_medium=online_publisher&cmp=que_faire_bali', 'https://www.getyourguide.fr/bali-l347/visite-instagram-de-bali-les-endroits-les-plus-pittoresques-t162114/?partner_id=73QSLFK&utm_medium=online_publisher&cmp=que_faire_bali', 'https://www.getyourguide.fr/bali-l347/visite-de-taman-ayun-et-du-temple-de-tanah-lot-au-coucher-du-soleil-t393678/?partner_id=73QSLFK', 'https://www.getyourguide.fr/bali-l347/bali-decouverte-du-mysticisme-balinais-et-temple-de-kehen-t187641/?partner_id=73QSLFK', 'https://www.getyourguide.fr/bali-l347/le-meilleur-du-centre-de-bali-cascade-goa-gajah-rizieres-t55668/?partner_id=73QSLFK', 'https://www.getyourguide.fr/bali-l347/uluwatu-visite-a-pied-du-temple-et-de-la-falaise-de-karang-boma-avec-billet-t440490/?partner_id=73QSLFK', 'https://www.getyourguide.fr/bali-l347/bali-nord-cascades-de-sekumpul-et-temple-d-ulun-danu-t267767/?partner_id=73QSLFK', 'https://www.getyourguide.fr/bali-l347/nord-de-bali-dauphins-cascades-et-temples-a-l-aube-t101513/?partner_id=73QSLFK', 'https://www.getyourguide.fr/mont-batur-l84533/bali-mont-batur-sunrise-trek-avec-guide-t411965/?partner_id=73QSLFK']",
         "['https://www.booking.com/hotel/id/sanak-retreat-bali.fr.html?aid=2324560&no_rooms=1&group_adults=2&label=que_faire_bali', 'https://www.booking.com/hotel/id/pramana-watu-kurung-resort.fr.html?aid=2324560&no_rooms=1&group_adults=2&label=que_faire_bali', 'https://www.booking.com/hotel/id/the-sankara-suite-and-villa-ubud.fr.html?aid=2324560&no_rooms=1&group_adults=2&label=que_faire_bali']",
         null
        ],
        [
         "2",
         "https://www.petitfute.com/v43490-caldera-de-taburiente/actualite/m17-top-10-insolites-voyage/a12467-que-faire-aux-canaries-top-15-des-experiences-a-ne-pas-manquer.html",
         "['https://www.getyourguide.fr/tenerife-l350/visite-astronomique-du-mont-teide-t51524/?partner_id=73QSLFK&utm_medium=online_publisher&cmp=actu-incontournables-canaries', 'https://www.getyourguide.fr/tenerife-l350/depuis-adeje-visite-guidee-pour-groupes-de-photographie-t417569/?partner_id=73QSLFK&utm_medium=online_publisher&cmp=actu-incontournables-canaries', 'https://www.getyourguide.fr/el-hierro-l44931/transfert-aeroport-el-hierro-prive-t206580/?partner_id=73QSLFK&utm_medium=online_publisher&cmp=actu-incontournables-canaries', 'https://www.getyourguide.fr/tenerife-l350/depuis-arona-tour-de-la-gomera-t58006/?partner_id=73QSLFK&utm_medium=online_publisher&cmp=actu-incontournables-canaries', 'https://www.getyourguide.fr/fuerteventura-l419/fuerteventura-wild-north-tour-corralejo-combo-t534639/?partner_id=73QSLFK&utm_medium=online_publisher&cmp=actu-incontournables-canaries', 'https://www.getyourguide.fr/lanzarote-l421/tour-complet-de-lanzarote-t132558/?partner_id=73QSLFK&utm_medium=online_publisher&cmp=actu-incontournables-canaries', 'https://www.getyourguide.fr/grande-canarie-l418/dunes-de-maspalomas-promenade-a-dos-de-chameau-t212022/?partner_id=73QSLFK&utm_medium=online_publisher&cmp=Que_faire_aux_Canaries', 'https://www.getyourguide.fr/lanzarote-l421/tour-complet-de-lanzarote-t132558/?partner_id=73QSLFK&utm_medium=online_publisher&cmp=actu-incontournables-canaries']",
         "[]",
         null
        ],
        [
         "3",
         "https://www.petitfute.com/v49846-genes/actualite/m17-top-10-insolites-voyage/a13620-que-faire-a-genes-les-17-incontournables-a-visiter.html",
         "['https://www.getyourguide.fr/genes-l1009/visite-a-pied-des-sites-incontournables-de-genes-t622176/?partner_id=73QSLFK&utm_medium=online_publisher&cmp=actu-incontournables-genes', 'https://www.getyourguide.fr/genes-l1009/genes-2-heures-de-visite-guidee-a-pied-du-centre-historique-t13191/?partner_id=73QSLFK&utm_medium=online_publisher&cmp=actu-incontournables-genes', 'https://www.getyourguide.fr/ligurie-l221/genes-billet-valable-48-h-pour-bus-a-arrets-multiples-t50734/?partner_id=73QSLFK&utm_medium=online_publisher&cmp=actu_incontournables_genes', 'https://www.getyourguide.fr/genes-l1009/visite-guidee-des-palais-rolli-de-genes-patrimoine-mondial-de-l-unesco-t29705/?partner_id=73QSLFK&utm_medium=online_publisher&cmp=actu-incontournables-genes', 'https://www.getyourguide.fr/genes-l1009/aquarium-de-genes-billet-coupe-file-t399086/?partner_id=73QSLFK&utm_medium=online_publisher&cmp=actu_incontournables_genes', 'https://www.getyourguide.fr/genes-l1009/genes-visite-culinaire-et-degustation-de-vin-a-pied-t817882/?partner_id=73QSLFK&utm_medium=online_publisher&cmp=actu-incontournables-genes', 'https://www.getyourguide.fr/genes-l1009/genes-visite-guidee-historique-de-la-maison-de-christophe-colomb-t413336/?partner_id=73QSLFK&utm_medium=online_publisher&cmp=actu_incontournables_genes', 'https://www.getyourguide.fr/genes-l1009/au-depart-de-genes-excursion-en-bateau-aller-retour-a-portofino-t414272/?partner_id=73QSLFK&utm_medium=online_publisher&cmp=actu_incontournables_genes']",
         "['https://www.booking.com/hotel/it/ostellin-genova-hostel-genoa.fr.html?aid=2324560&label=actu_incontournables_genes', 'https://www.booking.com/hotel/it/b-amp-b-genova.fr.html?aid=2324560&label=actu_incontournables_gene', 'https://www.booking.com/hotel/it/palazzo-grillo.fr.html?aid=2324560&label=actu_incontournables_genes']",
         null
        ],
        [
         "4",
         "https://www.petitfute.com/v48986-copenhague/actualite/m17-top-10-insolites-voyage/a18238-les-incontournables-de-copenhague.html",
         "['https://www.getyourguide.fr/faelledparken-l12/copenhague-billet-d-entree-a-tivoli-t72048/?partner_id=73QSLFK&utm_medium=online_publisher&cmp=actu_incontournables_copenhague', 'https://www.getyourguide.fr/faelledparken-l12/copenhague-city-card-pass-pour-80-attractions-avec-metro-pass-t66660/?partner_id=73QSLFK&utm_medium=online_publisher&cmp=actu_incontournables_copenhague', 'https://www.getyourguide.fr/faelledparken-l12/copenhague-visite-du-quartier-de-norrebro-t504350/?partner_id=73QSLFK&utm_medium=online_publisher&cmp=actu_incontournables_copenhague', 'https://www.getyourguide.fr/faelledparken-l12/copenhague-tour-de-velo-de-90-minutes-t168407/?partner_id=73QSLFK&utm_medium=online_publisher&cmp=actu_incontournables_copenhague', 'https://www.getyourguide.fr/faelledparken-l12/copenhague-croisiere-sur-le-canal-de-gammel-strand-t37848/?partner_id=73QSLFK&utm_medium=online_publisher&cmp=actu_incontournables_copenhague', 'https://www.getyourguide.fr/faelledparken-l12/copenhague-tour-culinaire-a-velo-de-3-heures-t229054/?partner_id=73QSLFK&utm_medium=online_publisher&cmp=actu_incontournables_copenhague', 'https://www.getyourguide.fr/faelledparken-l12/copenhague-visite-de-3-h-a-velo-avec-un-guide-t168389/?partner_id=73QSLFK&utm_medium=online_publisher&cmp=actu_incontournables_copenhague']",
         "['https://www.booking.com/hotel/dk/steel-house-copenhagen.fr.html?aid=2324560&no_rooms=1&group_adults=2&label=actu_quefaire_copenhague', 'https://www.booking.com/hotel/dk/christian-iv.fr.html?aid=2324560&no_rooms=1&group_adults=2&label=actu_quefaire_copenhague', 'https://www.booking.com/hotel/dk/alexandra.fr.html?aid=2324560&no_rooms=1&group_adults=2&label=actu_quefaire_copenhague']",
         null
        ],
        [
         "5",
         "https://www.petitfute.com/v48159-marrakech/actualite/m17-top-10-insolites-voyage/a18462-que-faire-a-marrakech-les-15-incontournables.html",
         "['https://www.getyourguide.fr/marrakech-l208/jardins-de-majorelle-avec-billet-optionnel-pour-le-musee-ysl-et-le-musee-berbere-t593175/?partner_id=73QSLFK&utm_medium=online_publisher&cmp=que_faire_marrakech', 'https://www.getyourguide.fr/marrakech-l208/tombeaux-saadiens-et-palais-el-badi-et-de-la-bahia-visite-t348061/?partner_id=73QSLFK', 'https://www.getyourguide.fr/marrakech-l208/marrakech-balade-privee-a-cheval-a-la-palmeraie-avec-the-t609248/?partner_id=73QSLFK&utm_medium=online_publisher&cmp=que_faire_marrakech', 'https://www.getyourguide.fr/marrakech-l208/marrakech-palais-de-la-bahia-tombeaux-saadiens-et-mosquee-de-la-koutoubia-t348061/?partner_id=73QSLFK&utm_medium=online_publisher&cmp=que_faire_marrakech', 'https://www.getyourguide.fr/marrakech-l208/tombeaux-saadiens-et-palais-el-badi-et-de-la-bahia-visite-t348061/?partner_id=73QSLFK', 'https://www.getyourguide.fr/marrakech-l208/ballooning-vol-low-cost-marrakech-t468535/?partner_id=73QSLFK&utm_medium=online_publisher&cmp=que_faire_marrakech']",
         "['https://www.booking.com/hotel/ma/riad-le-rihani.en.html?aid=2324560', 'https://www.booking.com/hotel/ma/riad-dia.fr.html?aid=2324560&no_rooms=1&group_adults=2&label=que_faire_marrakech', 'https://www.booking.com/hotel/ma/riad-matham.fr.html?aid=2324560&no_rooms=1&group_adults=2&label=que_faire_marrakech']",
         null
        ],
        [
         "6",
         "https://www.petitfute.com/v38789-palerme/actualite/m17-top-10-insolites-voyage/a19643-que-faire-que-visiter-en-sicile-les-20-incontournables.html",
         "['https://www.getyourguide.fr/palerme-l387/palerme-billet-24-h-pour-bus-a-arrets-multiples-t50725/?partner_id=73QSLFK', 'https://www.getyourguide.fr/stromboli-l109057/stromboli-randonnee-au-sommet-de-sciara-del-fuoco-t227827/?partner_id=73QSLFK&utm_medium=online_publisher&cmp=actu-incontournables-sicile', 'https://www.getyourguide.fr/catane-l258/catane-balade-a-pied-t353891/?partner_id=73QSLFK', 'https://www.getyourguide.fr/agrigente-l1158/visite-guidee-de-la-vallee-des-temples-en-coupe-file-t407067/?partner_id=73QSLFK&utm_medium=online_publisher&cmp=actu-incontournables-sicile', 'https://www.getyourguide.fr/syracuse-italie-l1115/syracuse-billet-d-entree-au-parc-archeologique-de-neapolis-t429723/?partner_id=73QSLFK', 'https://www.getyourguide.fr/catane-l258/catane-excursion-sur-l-etna-et-degustation-t395066/?partner_id=73QSLFK', 'https://www.getyourguide.fr/palerme-l387/palerme-excursion-d-une-journee-a-segesta-erice-et-les-salines-t63361/?partner_id=73QSLFK&utm_medium=online_publisher&cmp=actu-incontournables-sicile', 'https://www.getyourguide.fr/palerme-l387/palerme-excursion-d-une-journee-a-segesta-erice-et-les-salines-t63361/?partner_id=73QSLFK&utm_medium=online_publisher&cmp=actu-incontournables-sicile', 'https://www.getyourguide.fr/palerme-l387/sicile-excursion-a-monreale-et-cefalu-depuis-palerme-t63358/?partner_id=73QSLFK']",
         "[]",
         null
        ],
        [
         "7",
         "https://www.petitfute.com/v50211-venise/actualite/m17-top-10-insolites-voyage/a29266-que-faire-a-venise-en-3-jours-conseils-de-visites.html",
         "[]",
         "[]",
         null
        ],
        [
         "8",
         "https://www.petitfute.com/v50580-valence/actualite/m17-top-10-insolites-voyage/a29645-que-faire-a-valence-en-espagne-les-19-incontournables.html",
         "['https://www.getyourguide.fr/valence-l49/valencia-bus-turistic-route-maritime-t41773/?partner_id=73QSLFK&utm_medium=online_publisher&cmp=actu-incontournables-valence', 'https://www.getyourguide.fr/valence-l49/valence-billet-pour-le-sea-life-center-de-l-oceanografic-t413877/?partner_id=73QSLFK&utm_medium=online_publisher&cmp=actu-incontournables-valence', 'https://www.getyourguide.fr/valence-l49/entree-au-musee-des-sciences-principe-felipe-a-valence-t414583/?partner_id=73QSLFK&utm_medium=online_publisher&cmp=actu-incontournables-valence', 'https://www.getyourguide.fr/valence-l49/valence-billet-pour-le-sea-life-center-de-l-oceanografic-t413877/?partner_id=73QSLFK&utm_medium=online_publisher&cmp=actu-incontournables-valence', 'https://www.getyourguide.fr/valence-l49/valence-croisiere-en-catamaran-avec-option-coucher-de-soleil-t409759/?partner_id=73QSLFK&utm_medium=online_publisher&cmp=actu-incontournables-valence', 'https://www.getyourguide.fr/valence-l49/valence-carte-touristique-de-24-48-ou-72-heures-pour-valence-t19728/?partner_id=73QSLFK&utm_medium=online_publisher&cmp=actu-incontournables-valence', 'https://www.getyourguide.fr/valence-l49/valence-visite-de-la-cathedrale-de-saint-nicolas-et-de-la-lonja-de-la-seda-t433051/?partner_id=73QSLFK&utm_medium=online_publisher&cmp=actu-incontournables-valence', 'https://www.getyourguide.fr/valence-l49/valence-3-heures-de-velo-t166100/?partner_id=73QSLFK&utm_medium=online_publisher&cmp=actu-incontournables-valence', 'https://www.getyourguide.fr/valence-l49/valence-tours-en-jet-ski-t444601/?partner_id=73QSLFK&utm_medium=online_publisher&cmp=actu-incontournables-valence', 'https://www.getyourguide.fr/valence-l49/depuis-valence-bus-croisiere-et-dejeuner-dans-le-parc-naturel-de-l-albufera-t51459/?partner_id=73QSLFK&utm_medium=online_publisher&cmp=actu-incontournables-valence', 'https://www.getyourguide.fr/valence-l49/valence-bioparc-valencia-billet-d-entree-t828748/?partner_id=73QSLFK&utm_medium=online_publisher&cmp=actu-incontournables-valence']",
         "['https://www.booking.com/hotel/es/hostal-antigua-morellana.en.html?aid=2324560&label=actu_quefaire_valence_espagne', 'https://www.booking.com/hotel/es/the-westin-alameda-valencia.en.html?aid=2324560&label=actu_quefaire_valence_espagne', 'https://www.booking.com/hotel/es/miramar-valencia.en.html?aid=2324560&label=actu_quefaire_valence_espagne', 'https://www.booking.com/hotel/es/miramar-valencia.en.html?aid=2324560']",
         null
        ],
        [
         "9",
         "https://www.petitfute.com/v39823-rome/actualite/m17-top-10-insolites-voyage/a30996-comment-visiter-rome-en-3-jours-conseils-ditineraire-a-faire.html ",
         "['https://www.getyourguide.fr/colisee-l2619/rome-coupe-file-colisee-forum-romain-et-mont-palatin-t217527/?partner_id=73QSLFK', 'https://www.getyourguide.fr/colisee-l2619/visite-guidee-du-colisee-du-forum-romain-et-du-palatin-t195566/?partner_id=73QSLFK&utm_medium=online_publisher&cmp=actu-3jours_rome', 'https://www.getyourguide.fr/rome-l33/rome-musee-romain-de-l-empire-avec-entree-hebergee-t214890/?partner_id=73QSLFK', 'https://www.getyourguide.fr/rome-l33/rome-billet-d-entree-rapide-au-pantheon-avec-audioguide-t490776/?partner_id=73QSLFK', 'https://www.getyourguide.fr/rome-l33/billets-d-entree-a-la-galerie-borghese-t719993/?partner_id=73QSLFK&utm_medium=online_publisher&cmp=actu-3jours_rome', 'https://www.getyourguide.fr/musees-du-vatican-l2738/billet-coupe-file-pour-les-musees-du-vatican-et-la-chapelle-sixtine-t62214/?partner_id=73QSLFK&utm_medium=online_publisher&cmp=actu-3jours_rome', 'https://www.getyourguide.fr/rome-l33/coupe-file-dome-saint-pierre-avec-audioguide-t53689/?partner_id=73QSLFK&utm_medium=online_publisher&cmp=actu-3jours_rome', 'https://www.getyourguide.fr/chateau-saint-ange-l2902/castel-sant-angelo-entree-coupe-file-et-audioguide-en-option-t415831/?partner_id=73QSLFK&utm_medium=online_publisher&cmp=actu-3jours_rome', 'https://www.getyourguide.fr/rome-l33/rome-trastevere-ou-visite-culinaire-du-quartier-juif-t251502/?partner_id=73QSLFK&utm_medium=online_publisher&cmp=actu-3jours_rome', 'https://www.getyourguide.fr/rome-l33/rome-visite-en-bicyclette-electrique-t401563/?partner_id=73QSLFK']",
         "['https://www.booking.com/hotel/it/locanda-carmel.fr.html?aid=2324560&label=rome-3jours', 'https://www.booking.com/hotel/it/hotelgardaroma.fr.html?aid=2324560', 'https://www.booking.com/hotel/it/grifo.fr.html?aid=2324560&label=rome-3jours']",
         null
        ],
        [
         "10",
         "https://www.petitfute.com/v51354-naples/actualite/m17-top-10-insolites-voyage/a31152-comment-visiter-naples-en-3-jours-conseils-d-itineraire.html",
         "['https://www.getyourguide.fr/naples-l162/billet-de-24-heures-pour-la-visite-en-bus-a-arrets-multiples-de-naples-t50723/?partner_id=73QSLFK&utm_medium=online_publisher&cmp=actu-3jours_naples', 'https://www.getyourguide.fr/naples-l162/naples-le-mont-vesuve-billet-coupe-file-et-audioguide-t446803/?partner_id=73QSLFK&utm_medium=online_publisher&cmp=actu-3jours_naples', 'https://www.getyourguide.fr/pompei-campanie-l156880/pompei-billet-d-entree-et-visite-guidee-avec-un-archeologue-t161715/?partner_id=73QSLFK&utm_medium=online_publisher&cmp=actu-3jours_naples', 'https://www.getyourguide.fr/site-archeologique-de-pompei-l685/billet-d-entree-prioritaire-pour-pompei-t69330/?partner_id=73QSLFK&utm_medium=online_publisher&cmp=actu-3jours_naples', 'https://www.getyourguide.fr/naples-l162/herculanum-visite-guidee-en-coupe-file-avec-un-archeologue-t204331/?partner_id=73QSLFK&utm_medium=online_publisher&cmp=actu-3jours_naples', 'https://www.getyourguide.fr/naples-l162/herculanum-billet-coupe-file-et-audioguide-t563654/?partner_id=73QSLFK&utm_medium=online_publisher&cmp=actu-3jours_naples', 'https://www.getyourguide.fr/naples-l162/naples-billet-pour-le-musee-archeologique-national-t229513/?partner_id=73QSLFK', 'https://www.getyourguide.fr/naples-l162/billet-et-visite-guidee-des-catacombes-de-san-gennaro-t113923/?partner_id=73QSLFK', 'https://www.getyourguide.fr/souterrains-de-naples-l89414/billet-d-entree-pour-le-metro-de-naples-t144159/?partner_id=73QSLFK&utm_medium=online_publisher&cmp=actu-3jours_naples', 'https://www.getyourguide.com/naples-l162/']",
         "['https://www.booking.com/hotel/it/hotelcasanova.fr.html?aid=2324560', 'https://www.booking.com/hotel/it/hostelofthesunapoli.fr.html?aid=2324560&label=naples-3jours', 'https://www.booking.com/hotel/it/palazzo-alabardieri.fr.html?aid=2324560']",
         null
        ],
        [
         "11",
         "https://www.petitfute.com/v42286-barcelone/actualite/m17-top-10-insolites-voyage/a31405-que-faire-a-barcelone-en-3-jours-conseils-d-itineraire.html",
         "['https://www.getyourguide.fr/barcelone-l45/barcelona-card-offres-et-reductions-2-3-4-ou-5-jours-t22219/?partner_id=73QSLFK', 'https://www.getyourguide.fr/barcelone-l45/barcelone-l-experience-10d-de-la-casa-batllo-t398519/?partner_id=73QSLFK&utm_medium=online_publisher&cmp=actu-3jours_barcelone', 'https://www.getyourguide.fr/barcelone-l45/barcelone-visite-en-bus-a-arrets-a-arrets-multiples-de-24-ou-48-heures-t1225/?partner_id=73QSLFK&utm_medium=online_publisher&cmp=actu-3jours_barcelone', 'https://www.getyourguide.fr/barcelone-l45/barcelone-billet-pour-l-exposition-immersive-du-barca-t449261/?partner_id=73QSLFK&utm_medium=online_publisher&cmp=actu-3jours_barcelone', 'https://www.getyourguide.fr/sagrada-familia-l2699/sagrada-familia-billet-coupe-file-t50027/?partner_id=73QSLFK&utm_medium=online_publisher&cmp=actu-3jours_barcelone', 'https://www.getyourguide.fr/barcelone-l45/billets-coupe-file-pour-l-entree-au-parc-guell-t53791/?partner_id=73QSLFK&utm_medium=online_publisher&cmp=actu-3jours_barcelone', 'https://www.getyourguide.fr/barcelone-l45/barcelone-ticket-aller-retour-pour-le-telepherique-de-montjuic-t23477/?partner_id=73QSLFK&utm_medium=online_publisher&cmp=actu-3jours_barcelone', 'https://www.getyourguide.fr/barcelone-l45/el-born-visite-de-la-basilique-santa-maria-del-mar-et-acces-a-la-terrasse-t448206/?partner_id=73QSLFK&utm_medium=online_publisher&cmp=actu-3jours_barcelone', 'https://www.getyourguide.com/barcelone-l45/']",
         "['https://www.booking.com/hotel/es/hostal-fernando.fr.html?aid=356980&label=gog235jc-1FCAsoRkIPaG9zdGFsLWZlcm5hbmRvSA1YA2hNiAEBmAENuAEHyAEM2AEB6AEB-AECiAIBqAIDuAK6_MjABsACAdICJDZmYjlmOWVlLTAyZjgtNGRjYi05NTg4LTRmMjBkZTI2MzhjY9gCBeACAQ&sid=6638e020b5a28e553d7f5e1410fafe86&age=1&all_sr_blocks=17314803_105612970_0_2_0&checkin=2025-06-26&checkout=2025-06-29&dest_id=-372490&dest_type=city&dist=0&group_adults=2&group_children=0&hapos=1&highlighted_blocks=17314803_105612970_0_2_0&hpos=1&matching_block_id=17314803_105612970_0_2_0&no_rooms=1&req_adults=2&req_children=0&room1=A%2CA&sb_price_type=total&sr_order=popularity&sr_pri_blocks=17314803_105612970_0_2_0__54897&srepoch=1746026053&srpvid=bb756b1dff04044a&type=total&ucfs=1&#map_opened-map_trigger_header_pin', 'https://www.booking.com/hotel/es/hostal-fernando.fr.html?aid=2324560&label=3jours_barcelone', 'https://www.booking.com/hotel/es/hostal-fernando.fr.html?aid=356980&label=gog235jc-1FCAsoRkIPaG9zdGFsLWZlcm5hbmRvSA1YA2hNiAEBmAENuAEHyAEM2AEB6AEB-AECiAIBqAIDuAK6_MjABsACAdICJDZmYjlmOWVlLTAyZjgtNGRjYi05NTg4LTRmMjBkZTI2MzhjY9gCBeACAQ&sid=6638e020b5a28e553d7f5e1410fafe86&age=1&all_sr_blocks=17314803_105612970_0_2_0&checkin=2025-06-26&checkout=2025-06-29&dest_id=-372490&dest_type=city&dist=0&group_adults=2&group_children=0&hapos=1&highlighted_blocks=17314803_105612970_0_2_0&hpos=1&matching_block_id=17314803_105612970_0_2_0&no_rooms=1&req_adults=2&req_children=0&room1=A%2CA&sb_price_type=total&sr_order=popularity&sr_pri_blocks=17314803_105612970_0_2_0__54897&srepoch=1746026053&srpvid=bb756b1dff04044a&type=total&ucfs=1&#map_opened-map_trigger_header_pin', 'https://www.booking.com/hotel/es/yellow-nest-hostel.fr.html?aid=356980&label=gog235jc-1FCAsoRkISeWVsbG93LW5lc3QtaG9zdGVsSA1YA2hNiAEBmAENuAEHyAEM2AEB6AEB-AECiAIBqAIDuALl_cjABsACAdICJGY5MzA1YWI3LTI4YTctNDIyMy1iYjIwLWY5ZmFlOGYzZTc5Y9gCBeACAQ&sid=6638e020b5a28e553d7f5e1410fafe86&age=1&all_sr_blocks=31117701_170582352_0_0_0%2C31117701_170582352_0_0_0&checkin=2025-06-26&checkout=2025-06-29&dest_id=-372490&dest_type=city&dist=0&group_adults=2&group_children=0&hapos=1&highlighted_blocks=31117701_170582352_0_0_0%2C31117701_170582352_0_0_0&hpos=1&matching_block_id=31117701_170582352_0_0_0&no_rooms=1&req_adults=2&req_children=0&room1=A%2CA&sb_price_type=total&sr_order=popularity&sr_pri_blocks=31117701_170582352_0_0_0__14177%2C31117701_170582352_0_0_0__14177&srepoch=1746026224&srpvid=54b46b73b3630326&type=total&ucfs=1&#map_opened-map_trigger_header_pin', 'https://www.booking.com/hotel/es/yellow-nest-hostel.fr.html?aid=2324560&label=3jours_barcelone', 'https://www.booking.com/hotel/es/yellow-nest-hostel.fr.html?aid=356980&label=gog235jc-1FCAsoRkISeWVsbG93LW5lc3QtaG9zdGVsSA1YA2hNiAEBmAENuAEHyAEM2AEB6AEB-AECiAIBqAIDuALl_cjABsACAdICJGY5MzA1YWI3LTI4YTctNDIyMy1iYjIwLWY5ZmFlOGYzZTc5Y9gCBeACAQ&sid=6638e020b5a28e553d7f5e1410fafe86&age=1&all_sr_blocks=31117701_170582352_0_0_0%2C31117701_170582352_0_0_0&checkin=2025-06-26&checkout=2025-06-29&dest_id=-372490&dest_type=city&dist=0&group_adults=2&group_children=0&hapos=1&highlighted_blocks=31117701_170582352_0_0_0%2C31117701_170582352_0_0_0&hpos=1&matching_block_id=31117701_170582352_0_0_0&no_rooms=1&req_adults=2&req_children=0&room1=A%2CA&sb_price_type=total&sr_order=popularity&sr_pri_blocks=31117701_170582352_0_0_0__14177%2C31117701_170582352_0_0_0__14177&srepoch=1746026224&srpvid=54b46b73b3630326&type=total&ucfs=1&#map_opened-map_trigger_header_pin', 'https://www.booking.com/hotel/es/w-barcelona.fr.html?aid=2324560&label=3jours_barcelone']",
         null
        ],
        [
         "12",
         "https://www.petitfute.com/v50459-londres/actualite/m17-top-10-insolites-voyage/a31484-que-faire-a-londres-en-3-jours-conseils-ditineraire.html ",
         "['https://www.getyourguide.fr/londres-l57/londres-visite-guidee-des-points-forts-de-la-national-gallery-t415465/?partner_id=73QSLFK&utm_medium=online_publisher&cmp=actu_3jours_londres', 'https://www.getyourguide.fr/londres-l57/londres-visite-de-la-tate-modern-avec-un-expert-en-art-t494927/?partner_id=73QSLFK&utm_medium=online_publisher&cmp=actu_3jours_londres']",
         "['https://www.booking.com/hotel/gb/ibis-london-city.fr.html?aid=2324560&no_rooms=1&group_adults=2&label=actu_3jours_londres', 'https://www.booking.com/hotel/gb/blakemore.fr.html?aid=2324560&no_rooms=1&group_adults=2&label=actu_3jours_londres', 'https://www.booking.com/hotel/gb/notting-hill-hostel.fr.html?aid=2324560&no_rooms=1&group_adults=2&label=londres_3_jours']",
         null
        ],
        [
         "13",
         "https://www.petitfute.com/v48153-berlin/actualite/m17-top-10-insolites-voyage/a32105-que-faire-et-que-voir-a-berlin-en-3-jours.html",
         "[]",
         "['https://www.booking.com/hotel/de/meininger-berlin-mitte.fr.html?aid=2324560&no_rooms=1&group_adults=2&label=actu_3joursberlin', 'https://www.booking.com/hotel/de/eastern-comfort-hostel-boat.fr.html?aid=2324560&no_rooms=1&group_adults=2&label=actu_3joursberlin', 'https://www.booking.com/hotel/de/nhow-berlin.fr.html?aid=2324560&no_rooms=1&group_adults=2&label=actu_3joursberlin', 'https://www.booking.com/hotel/de/meininger-berlin-mitte.fr.html?aid=2324560&no_rooms=1&group_adults=2&label=actu_3joursberlin', 'https://www.booking.com/hotel/de/eastern-comfort-hostel-boat.fr.html?aid=2324560&no_rooms=1&group_adults=2&label=actu_3joursberlin', 'https://www.booking.com/hotel/de/nhow-berlin.fr.html?aid=2324560&no_rooms=1&group_adults=2&label=actu_3joursberlin']",
         null
        ],
        [
         "14",
         "https://www.petitfute.com/v11387-saint-aignan-41110/actualite/m17-top-10-insolites-voyage/a32183-que-faire-autour-du-zoo-de-beauval-17-idees-de-visites.html",
         "['https://www.getyourguide.fr/tours-france-l1320/visite-guidee-immersive-de-tours-au-13e-siecle-t495049/?partner_id=73QSLFK&utm_medium=online_publisher&cmp=actu_incontournables_autour_beauval', 'https://www.getyourguide.fr/les-chateaux-de-la-loire-l7956/chateau-de-chenonceau-billet-d-entree-t176736/?partner_id=73QSLFK&utm_medium=online_publisher&cmp=actu_incontournables_autour_beauval', 'https://www.getyourguide.fr/les-chateaux-de-la-loire-l7956/chambord-billet-coupe-file-t183794/?partner_id=73QSLFK&utm_medium=online_publisher&cmp=actu_incontournables_autour_beauval', 'https://www.getyourguide.fr/chateau-de-blois-l35246/billet-d-entree-au-chateau-de-blois-t394721/?partner_id=73QSLFK&utm_medium=online_publisher&cmp=actu_incontournables_autour_beauval']",
         "[]",
         null
        ],
        [
         "15",
         "https://www.petitfute.com/actualite/m17-top-10-insolites-voyage/a32259-conseils-et-astuces-pour-organiser-votre-journee-au-parc-animalier-planete-sauvage.html",
         "[]",
         "[]",
         null
        ],
        [
         "16",
         "https://www.petitfute.com/v18720-aigues-mortes-30220/actualite/m17-top-10-insolites-voyage/a32449-que-faire-en-camargue-les-15-plus-beaux-endroits-a-visiter.html",
         "[]",
         "[]",
         null
        ],
        [
         "17",
         "https://www.petitfute.com/v41612-koh-phi-phi-leh/actualite/m17-top-10-insolites-voyage/a32655-que-faire-que-visiter-a-phuket-top-19-des-activites-incontournables.html",
         "['https://www.getyourguide.fr/phuket-l32123/excursion-d-une-demi-journee-sur-l-ile-de-phuket-avec-big-buddha-t482589/?partner_id=73QSLFK&utm_medium=online_publisher&cmp=actu_incontournables_phuket', 'https://www.getyourguide.fr/thailande-du-sud-et-cote-d-andaman-l32457/phuket-excursion-d-une-journee-sur-l-ile-de-james-bond-en-bateau-rapide-avec-dejeuner-t414764/?partner_id=73QSLFK&utm_medium=online_publisher&cmp=actu_incontournables_phuket', 'https://www.getyourguide.fr/phuket-ville-l187/phuket-explorer-decouvrez-les-charmes-de-la-ville-circuit-d-une-demi-journee-t511804/?partner_id=73QSLFK&utm_medium=online_publisher&cmp=actu_incontournables_phuket', 'https://www.getyourguide.fr/iles-phi-phi-l9477/phi-phi-excursion-privee-en-bateau-a-queue-longue-a-maya-bay-t442354/?partner_id=73QSLFK&utm_medium=online_publisher&cmp=actu_incontournables_phuket', 'https://www.getyourguide.fr/phuket-l32123/phuket-sanctuaire-de-la-jungle-des-elephants-alimentation-et-douche-t567850/?partner_id=73QSLFK&utm_medium=online_publisher&cmp=actu_incontournables_phuket', 'https://www.getyourguide.fr/phuket-l32123/phuket-billet-d-entree-pour-le-spectacle-simon-cabaret-t75342/?partner_id=73QSLFK&utm_medium=online_publisher&cmp=actu_incontournables_phuket', 'https://www.getyourguide.fr/phuket-l32123/depuis-phuketkhaolak-visite-matinale-des-iles-similan-t176829/?partner_id=73QSLFK&utm_medium=online_publisher&cmp=actu_incontournables_phuket', 'https://www.getyourguide.fr/phuket-l32123/patong-billets-transferts-bangla-boxing-stadium-t184862/?partner_id=73QSLFK&utm_medium=online_publisher&cmp=actu_incontournables_phuket', 'https://www.getyourguide.com/phuket-l32123/']",
         "['https://www.booking.com/hotel/th/the-surin-phuket.fr.html?aid=2324560&no_rooms=1&group_adults=2&label=actu_incontournables_phuket', 'https://www.booking.com/hotel/th/centara-grand-beach-resort-phuket.fr.html?aid=2324560&no_rooms=1&group_adults=2&label=actu_incontournables_phuket', 'https://www.booking.com/hotel/th/cape-panwa.fr.html?aid=2324560&no_rooms=1&group_adults=2&label=actu_incontournables_phuket']",
         null
        ],
        [
         "18",
         "https://www.petitfute.com/d1581-paros/actualite/m17-top-10-insolites-voyage/a36143-que-faire-que-visiter-a-paros-les-15-activites-incontournables.html",
         "['https://www.getyourguide.fr/paros-l88737/cours-de-cuisine-a-paros-t453303/?partner_id=73QSLFK&utm_medium=online_publisher&cmp=actu-incontournables-paros', 'https://www.getyourguide.fr/naousa-l165327/paros-excursion-avec-peche-et-degustation-a-naoussa-t705253/?partner_id=73QSLFK&utm_medium=online_publisher&cmp=actu-incontournables-paros', 'https://www.getyourguide.fr/paros-l88737/paros-degustation-de-vin-vin-naturel-t714534/?partner_id=73QSLFK&utm_medium=online_publisher&cmp=actu-incontournables-paros', 'https://www.getyourguide.fr/antiparos-l163280/tour-de-paros-et-antiparos-traversee-en-ferry-villages-et-plages-t765017/?partner_id=73QSLFK&utm_medium=online_publisher&cmp=actu-incontournables-paros', 'https://www.getyourguide.fr/paros-l88737/paros-randonnee-a-cheval-au-coucher-du-soleil-t917314/?partner_id=73QSLFK&utm_medium=online_publisher&cmp=actu-incontournables-paros', 'https://www.getyourguide.fr/paros-l88737/paros-journee-entiere-de-location-de-petits-bateaux-avec-conduite-autonome-t399872/?partner_id=73QSLFK&utm_medium=online_publisher&cmp=actu-incontournables-paros', 'https://www.getyourguide.fr/paros-l88737/au-depart-de-paros-croisiere-de-baignade-autour-d-antiparos-et-du-despotiko-t509492/?partner_id=73QSLFK&utm_medium=online_publisher&cmp=actu-incontournables-paros', 'https://www.getyourguide.fr/krotiri-l193769/visite-des-iles-paros-et-antiparos-avec-guide-anglophone-t550730/?partner_id=73QSLFK&utm_medium=online_publisher&cmp=actu-incontournables-paros']",
         "['https://www.booking.com/hotel/gr/akrotiri-akrotiri.fr.html?aid=2324560&no_rooms=1&group_adults=2&label=actu_incontournables_paros', 'https://www.booking.com/hotel/gr/kanale-s-rooms-suites-naoussa.fr.html?aid=2324560&no_rooms=1&group_adults=2&label=actu_incontournables_paros', 'https://www.booking.com/hotel/gr/aloni.fr.html?aid=2324560&no_rooms=1&group_adults=2&label=actu_incontournables_paros']",
         null
        ],
        [
         "19",
         "https://www.petitfute.com/v44465-hammamet-8050/actualite/m17-top-10-insolites-voyage/a36296-que-visiter-a-hammamet-les-11-incontournables-a-faire-2.html",
         "['https://www.getyourguide.com/hammamet-l303/']",
         "['https://www.booking.com/hotel/tn/le-sultan.fr.html?aid=2324560&no_rooms=1&group_adults=2&label=actu_incontournables_hammamet', 'https://www.booking.com/hotel/tn/the-sindbad-hammamet.fr.html?aid=2324560&no_rooms=1&group_adults=2&label=actu_incontournables_hammamet', 'https://www.booking.com/hotel/tn/palace-hammamet-marhaba.fr.html?aid=2324560&no_rooms=1&group_adults=2&label=actu_incontournables_hammamet']",
         null
        ],
        [
         "20",
         "https://www.petitfute.com/v45247-amsterdam/actualite/m17-top-10-insolites-voyage/a36350-que-faire-que-visiter-a-amsterdam-en-2-ou-3-jours-conseils-ditineraire.html",
         "['https://www.getyourguide.fr/amsterdam-l36/palais-royal-d-amsterdam-billet-coupe-file-et-audio-guide-t131313/?partner_id=73QSLFK&utm_medium=online_publisher&cmp=actu_incontournables_3_jours_amsterdam', 'https://www.getyourguide.fr/amsterdam-l36/amsterdam-visite-a-pied-themes-anne-frank-et-2nde-guerre-t250362/?partner_id=73QSLFK&utm_medium=online_publisher&cmp=actu_incontournables_3_jours_amsterdam', 'https://www.getyourguide.fr/amsterdam-l36/croisiere-sur-les-canaux-d-amsterdam-t56671/?partner_id=73QSLFK&utm_medium=online_publisher&cmp=amsterdam_3_jours', 'https://www.getyourguide.fr/amsterdam-l36/amsterdam-entree-prioritaire-au-rijksmuseum-t7135/?partner_id=73QSLFK&utm_medium=online_publisher&cmp=actu_incontournables_3_jours_amsterdam', 'https://www.getyourguide.fr/s?partner_id=73QSLFK&utm_medium=online_publisher&cmp=actu_incontournables_3_jours_amsterdam&q=Amsterdam&et=68975&lc=36', 'https://www.getyourguide.fr/amsterdam-l36/amsterdam-billet-d-entree-autoguide-au-musee-artis-groote-t326194/?partner_id=73QSLFK&utm_medium=online_publisher&cmp=actu_incontournables_3_jours_amsterdam', 'https://www.getyourguide.com/amsterdam-l36/']",
         "['https://www.booking.com/hotel/nl/modern-times-amsterdam.fr.html?aid=2324560&no_rooms=1&group_adults=2&label=amsterdam_3_jours', 'https://www.booking.com/hotel/nl/this-hos-t-el.fr.html?aid=2324560&no_rooms=1&group_adults=2&label=amsterdam_3_jours', 'https://www.booking.com/hotel/nl/bwdelphihotel.fr.html?aid=2324560&no_rooms=1&group_adults=2&label=amsterdam_3_jours', 'https://www.booking.com/hotel/nl/modern-times-amsterdam.fr.html?aid=2324560&no_rooms=1&group_adults=2&label=amsterdam_3_jours', 'https://www.booking.com/hotel/nl/this-hos-t-el.fr.html?aid=2324560&no_rooms=1&group_adults=2&label=amsterdam_3_jours', 'https://www.booking.com/hotel/nl/bwdelphihotel.fr.html?aid=2324560&no_rooms=1&group_adults=2&label=amsterdam_3_jours']",
         null
        ],
        [
         "21",
         "https://www.petitfute.com/v51713-vienne/actualite/m17-top-10-insolites-voyage/a36390-que-faire-que-visiter-a-vienne-en-2-ou-3-jours-conseils-ditineraire.html",
         "['https://www.getyourguide.fr/vienne-l7/schonbrunn-visite-guidee-du-chateau-et-des-jardins-t494393/?partner_id=73QSLFK&utm_medium=online_publisher&cmp=actu_3jours_vienne', 'https://www.getyourguide.fr/vienne-l7/visite-guidee-du-palais-du-belvedere-superieur-vienne-t504451/?partner_id=73QSLFK&utm_medium=online_publisher&cmp=actu_3jours_vienne', 'https://www.getyourguide.fr/ecole-espagnole-d-equitation-l4623/vienne-entrainement-de-l-ecole-espagnole-d-equitation-t42136/?partner_id=73QSLFK&utm_medium=online_publisher&cmp=actu_3jours_vienne', 'https://www.getyourguide.fr/vienne-l7/visite-guidee-du-musee-sisi-de-la-hofburg-et-des-jardins-de-vienne-t471440/?partner_id=73QSLFK&utm_medium=online_publisher&cmp=actu_3jours_vienne', 'https://www.getyourguide.fr/vienne-l7/billet-pour-le-musee-d-histoire-de-l-art-de-vienne-t128454/?partner_id=73QSLFK&utm_medium=online_publisher&cmp=actu_3jours_vienne', 'https://www.getyourguide.com/vienne-l7/']",
         "['https://www.booking.com/hotel/at/best-western-beethoven.fr.html?aid=2324560&no_rooms=1&group_adults=2&label=actu_3jours-vienne', 'https://www.booking.com/hotel/at/easy-vienna-apartments.fr.html?aid=2324560&no_rooms=1&group_adults=2&label=vienne_3_jours', 'https://www.booking.com/hotel/at/wombats-hostels-vienna-naschmarkt.fr.html?aid=2324560&no_rooms=1&group_adults=2&label=vienne_3_jours']",
         null
        ],
        [
         "22",
         "https://www.petitfute.com/v51354-naples/actualite/m17-top-10-insolites-voyage/a36441-comment-visiter-le-mont-vesuve-nos-conseils-pour-lascension.html",
         "['https://www.getyourguide.fr/ercolano-l114887/parc-national-du-vesuve-billet-d-entree-et-audioguide-t929176/?partner_id=73QSLFK&utm_medium=online_publisher&cmp=actu-lien-texte-visiter-vesuve', 'https://www.getyourguide.fr/ercolano-l114887/parc-national-du-vesuve-billet-d-entree-et-audioguide-t929176/?partner_id=73QSLFK&utm_medium=online_publisher&cmp=actu-lien-texte-visiter-vesuve', 'https://www.getyourguide.com/naples-l162/', 'https://www.getyourguide.fr/vesuve-l689/au-depart-de-naples-excursion-tout-compris-d-une-demi-journee-au-vesuve-t382619/?partner_id=73QSLFK&utm_medium=online_publisher&cmp=actu-lien-texte-visiter-vesuve', 'https://www.getyourguide.fr/naples-l162/naples-ou-sorrente-visite-d-une-jounee-a-pompei-et-au-vesuve-t387994/?partner_id=73QSLFK&utm_medium=online_publisher&cmp=actu-lien-texte-visiter-vesuve', 'https://www.getyourguide.fr/ercolano-l114887/parc-national-du-vesuve-billet-d-entree-et-audioguide-t929176/?partner_id=73QSLFK&utm_medium=online_publisher&cmp=actu-lien-texte-visiter-vesuve', 'https://www.getyourguide.com/vesuve-l689/']",
         "['https://www.booking.com/hotel/it/vesuvius-palace.fr.html?aid=2324560&label=actu-conseils-visiter-vesuve', 'https://www.booking.com/hotel/it/il-san-cristoforo.fr.html?aid=2324560&label=actu-conseils-visiter-vesuve']",
         null
        ],
        [
         "23",
         "https://www.petitfute.com/actualite/m17-top-10-insolites-voyage/a36549-faire-lascension-du-piton-de-la-fournaise-ce-quil-faut-savoir.html",
         "['https://www.getyourguide.fr/piton-de-la-fournaise-l122505/randonnee-guidee-publique-volcan-du-piton-de-la-fournaise-t363475/?partner_id=73QSLFK&utm_medium=online_publisher&cmp=actu-lientexte-ascension-piton-fournaise', 'https://www.getyourguide.fr/piton-de-la-fournaise-l122505/randonnee-guidee-publique-volcan-du-piton-de-la-fournaise-t363475/?partner_id=73QSLFK&utm_medium=online_publisher&cmp=actu-lientexte-ascension-piton-fournaise', 'https://www.getyourguide.fr/piton-de-la-fournaise-l122505/randonnee-guidee-publique-volcan-du-piton-de-la-fournaise-t363475/?partner_id=73QSLFK&utm_medium=online_publisher&cmp=actu-lientexte-ascension-piton-fournaise']",
         "['https://www.booking.com/hotel/re/ha-tel-l-ecrin.fr.html?aid=2324560&label=actu-conseils-ascension-piton-fournaise', 'https://www.booking.com/hotel/re/matilona-sainte-rose.fr.html?aid=2324560&label=actu-conseils-ascension-piton-fournaise']",
         null
        ],
        [
         "24",
         "https://www.petitfute.com/v38887-catane/actualite/m17-top-10-insolites-voyage/a36556-comment-visiter-letna-ce-quil-faut-savoir-pour-lascension.html",
         "['https://www.getyourguide.fr/catane-l258/originaux-excursion-a-l-etna-t395066/?partner_id=73QSLFK&utm_medium=online_publisher&cmp=actu_visiter-etna', 'https://www.getyourguide.fr/catane-l258/originaux-excursion-a-l-etna-t395066/?partner_id=73QSLFK&utm_medium=online_publisher&cmp=actu_visiter-etna', 'https://www.getyourguide.fr/fiumefreddo-di-sicilia-l192676/30-minutes-d-helicoptere-prive-sur-l-etna-depuis-fiumefreddo-t519727/?ranking_uuid=dd02eec0-e700-4add-8776-ae873f94ac59', 'https://www.getyourguide.com/catane-l258/', 'https://www.getyourguide.fr/catane-l258/originaux-excursion-a-l-etna-t395066/?partner_id=73QSLFK&utm_medium=online_publisher&cmp=actu_visiter-etna', 'https://www.getyourguide.fr/catane-l258/originaux-excursion-a-l-etna-t395066/?partner_id=73QSLFK&utm_medium=online_publisher&cmp=actu-lien-texte-visiter-etna', 'https://www.getyourguide.fr/catane-l258/originaux-excursion-a-l-etna-t395066/?partner_id=73QSLFK&utm_medium=online_publisher&cmp=actu-lien-texte-visiter-etna', 'https://www.getyourguide.com/etna-l1901/']",
         "['https://www.booking.com/hotel/it/etna.fr.html?aid=2324560&label=actu-conseils-ascension-etna', 'https://www.booking.com/hotel/it/alle-falde-dell-etna.fr.html?aid=2324560&label=actu-conseils-ascension-etna']",
         null
        ],
        [
         "25",
         "https://www.petitfute.com/v51354-naples/actualite/m17-top-10-insolites-voyage/a36713-visiter-pompei-les-infos-pratiques-a-savoir-2.html",
         "['https://www.getyourguide.fr/pompei-italie-l156880/visite-des-ruines-de-pompei-en-petit-groupe-avec-archeologue-t161715/?partner_id=73QSLFK&utm_medium=online_publisher&cmp=actu_conseilsvisite_pompei', 'https://www.getyourguide.fr/site-archeologique-de-pompei-l685/billet-d-entree-prioritaire-pour-pompei-t69330/?partner_id=73QSLFK&utm_medium=online_publisher&cmp=actu-visiter-pompei', 'https://www.getyourguide.fr/pompei-campanie-l156880/pompei-billet-d-entree-sautez-la-ligne-t922255/?partner_id=73QSLFK&utm_medium=online_publisher&cmp=actu-visiter-pompei', 'https://www.getyourguide.fr/pompei-l685/pompei-billet-d-entree-avec-acces-prioritaire-t69330/?partner_id=73QSLFK&utm_medium=online_publisher&cmp=actu_conseilsvisite_pompei', 'https://www.getyourguide.fr/site-archeologique-de-pompei-l685/billet-d-entree-prioritaire-pour-pompei-t69330/?partner_id=73QSLFK&utm_medium=online_publisher&cmp=actu-visiter-pompei', 'https://www.getyourguide.fr/pompei-italie-l156880/visite-des-ruines-de-pompei-en-petit-groupe-avec-archeologue-t161715/?partner_id=73QSLFK&utm_medium=online_publisher&cmp=actu_conseilsvisite_pompei', 'https://www.getyourguide.fr/naples-l162/une-journee-au-mont-vesuve-et-aux-ruines-de-pompei-t11049/?partner_id=73QSLFK&utm_medium=online_publisher&cmp=actu_conseilsvisite_pompei', 'https://www.getyourguide.fr/pompei-italie-l156880/visite-des-ruines-de-pompei-en-petit-groupe-avec-archeologue-t161715/?partner_id=73QSLFK&utm_medium=online_publisher&cmp=actu_conseilsvisite_pompei', 'https://www.getyourguide.fr/site-archeologique-de-pompei-l685/billet-d-entree-prioritaire-pour-pompei-t69330/?partner_id=73QSLFK&utm_medium=online_publisher&cmp=actu-visiter-pompei']",
         "[]",
         null
        ],
        [
         "26",
         "https://www.petitfute.com/v17231-17284-paris-75010/actualite/m17-top-10-insolites-voyage/a36857-visiter-le-louvre-nos-conseils-pour-preparer-votre-visite.html",
         "['https://www.getyourguide.fr/paris-l16/billet-d-entree-coupe-file-au-musee-du-louvre-t145779/?partner_id=73QSLFK&utm_medium=online_publisher&cmp=actu_conseils_visite_louvre', 'https://www.getyourguide.fr/paris-l16/billet-d-entree-coupe-file-au-musee-du-louvre-t145779/?partner_id=73QSLFK&utm_medium=online_publisher&cmp=actu_conseils_visite_louvre', 'https://www.getyourguide.fr/musee-du-louvre-l3224/paris-musee-du-louvre-billet-d-entree-a-heure-fixe-audioguide-t405076/?partner_id=73QSLFK&utm_medium=online_publisher&cmp=actu_conseils_visite_louvre', 'https://www.getyourguide.fr/paris-l16/musee-du-louvre-visite-guidee-de-15-h-des-incontournables-t186384/?partner_id=73QSLFK&utm_medium=online_publisher&cmp=actu_conseils_visite_louvre']",
         "[]",
         null
        ],
        [
         "27",
         "https://www.petitfute.com/v51354-naples/actualite/m17-top-10-insolites-voyage/a36862-visiter-herculanum-les-infos-pratiques-a-savoir.html",
         "['https://www.getyourguide.fr/herculanum-l687/ercolano-billet-d-entree-skip-the-line-avec-audioguide-t453717/?partner_id=73QSLFK&utm_medium=online_publisher&cmp=actu_conseils_herculanum', 'https://www.getyourguide.fr/herculanum-l687/ercolano-billet-d-entree-skip-the-line-avec-audioguide-t453717/?partner_id=73QSLFK&utm_medium=online_publisher&cmp=actu_conseils_herculanum', 'https://www.getyourguide.fr/naples-l162/naples-visite-coupe-file-de-l-ercolano-avec-un-archeologue-t204331/?partner_id=73QSLFK&utm_medium=online_publisher&cmp=actu_conseils_herculanum', 'https://www.getyourguide.fr/naples-l162/excursion-d-une-journee-au-depart-de-naples-pompei-herculanum-et-le-vesuve-t507872/?partner_id=73QSLFK&utm_medium=online_publisher&cmp=actu_conseils_herculanum']",
         "[]",
         null
        ],
        [
         "28",
         "https://www.petitfute.com/v58633-porto/actualite/m17-top-10-insolites-voyage/a36956-que-faire-que-visiter-a-porto-en-2-ou-3-jours-conseils-ditineraire.html",
         "['https://www.getyourguide.fr/porto-l151/porto-visite-guidee-de-3-h-en-velo-electrique-t181475/?partner_id=73QSLFK&utm_medium=online_publisher&cmp=actu_weekend_porto', 'https://www.getyourguide.fr/porto-l151/porto-card-avec-transport-1-2-3-ou-4-jours-t63774/?partner_id=73QSLFK&utm_medium=online_publisher&cmp=actu_weekend_porto', 'https://www.getyourguide.fr/porto-l151/porto-croisiere-des-6-ponts-t183308/?partner_id=73QSLFK&utm_medium=online_publisher&cmp=actu_weekend_porto', 'https://www.getyourguide.fr/porto-l151/porto-spectacle-de-fado-en-direct-avec-un-verre-de-vin-de-porto-t390159/?partner_id=73QSLFK&utm_medium=online_publisher&cmp=actu_weekend_porto', 'https://www.getyourguide.fr/cave-calem-l12082/caves-de-calem-visite-guidee-et-degustations-t175041/?partner_id=73QSLFK&utm_medium=online_publisher&cmp=actu_weekend_porto', 'https://www.getyourguide.fr/porto-l151/porto-billet-d-entree-a-la-tour-des-clercs-t57114/?partner_id=73QSLFK&utm_medium=online_publisher&cmp=actu_weekend_porto']",
         "['https://www.booking.com/hotel/pt/yotel-porto-porto.fr.html?aid=2324560&no_rooms=1&group_adults=2&label=actu-weekend_porto', 'https://www.booking.com/hotel/pt/the-passenger-hostel.fr.html?aid=2324560&no_rooms=1&group_adults=2&label=porto_3_jours', 'https://www.booking.com/hotel/pt/grande-paris-by-stay-hotels.fr.html?aid=2324560&no_rooms=1&group_adults=2&label=actu-weekend_porto']",
         null
        ],
        [
         "29",
         "https://www.petitfute.com/v73452-almada/actualite/m17-top-10-insolites-voyage/a36982-que-faire-que-visiter-a-lisbonne-en-2-ou-3-jours-conseils-ditineraire.html",
         "[]",
         "[]",
         null
        ],
        [
         "30",
         "https://www.petitfute.com/v50174-milan/actualite/m17-top-10-insolites-voyage/a37051-que-faire-que-visiter-a-milan-en-2-ou-3-jours-conseils-ditineraire.html",
         "['https://www.getyourguide.fr/milan-l139/milan-visite-audio-guidee-du-duomo-et-des-terrasses-t153354/?partner_id=73QSLFK&utm_medium=online_publisher&cmp=actu-3jours_milan', 'https://www.getyourguide.fr/milan-l139/milan-visite-du-theatre-et-du-musee-de-la-scala-t24640/?partner_id=73QSLFK&utm_medium=online_publisher&cmp=actu-3jours_milan', 'https://www.getyourguide.fr/milan-l139/milan-billet-d-entree-au-chateau-sforza-et-visite-audio-auto-guidee-t414400/?partner_id=73QSLFK&utm_medium=online_publisher&cmp=actu-3jours_milan', 'https://www.getyourguide.fr/musee-des-sciences-et-des-techniques-leonard-de-vinci-l21627/milan-science-et-technologie-entree-du-musee-leonardo-da-vinci-t367900/?partner_id=73QSLFK&utm_medium=online_publisher&cmp=actu-3jours_milan', 'https://www.getyourguide.fr/la-cene-l4955/milan-visite-guidee-a-la-decouverte-de-la-cene-de-de-vinci-t179522/?partner_id=73QSLFK&utm_medium=online_publisher&cmp=actu-3jours_milan']",
         "['https://www.booking.com/hotel/it/excelsior-hotel-gallia.fr.html?aid=2324560&no_rooms=1&group_adults=2&label=actu_3jours_milan', 'https://www.booking.com/hotel/it/westinpalacemilano.fr.html?aid=2324560&no_rooms=1&group_adults=2&label=actu_3jours_milan', 'https://www.booking.com/hotel/it/abacus-sesto-sasn-giovanni.fr.html?aid=2324560&no_rooms=1&group_adults=2&label=actu_3jours_milan']",
         null
        ],
        [
         "31",
         "https://www.petitfute.com/v39757-madrid/actualite/m17-top-10-insolites-voyage/a37057-que-faire-que-visiter-a-madrid-en-2-ou-3-jours-conseils-ditineraire.html   ",
         "['https://www.getyourguide.fr/palais-royal-madrid-l3611/madrid-billet-d-entree-rapide-au-palais-royal-t393230/?partner_id=73QSLFK&utm_medium=online_publisher&cmp=actu-3jours_madrid', 'https://www.getyourguide.fr/madrid-l46/madrid-1-ou-2-jours-d-excursion-en-bus-touristique-avec-montee-et-descente-rapides-t1251/?partner_id=73QSLFK&utm_medium=online_publisher&cmp=actu-3jours_madrid', 'https://www.getyourguide.fr/s?partner_id=73QSLFK&utm_medium=online_publisher&cmp=actu-3jours_madrid&q=Madrid&et=32264&lc=46', 'https://www.getyourguide.fr/madrid-l46/madrid-billet-d-entree-au-parc-warner-t400697/?partner_id=73QSLFK&utm_medium=online_publisher&cmp=actu-3jours_madrid']",
         "['https://www.booking.com/hotel/es/the-hat.fr.html?aid=2324560&no_rooms=1&group_adults=2&label=madrid_3_jours', 'https://www.booking.com/hotel/es/petit-palace-savoy-alfonso-xii.fr.html?aid=2324560&no_rooms=1&group_adults=2&label=actu_3jours_madrid', 'https://www.booking.com/hotel/es/hostal-regio.fr.html?aid=2324560&no_rooms=1&group_adults=2&label=actu_3jours_madrid', 'https://www.booking.com/hotel/es/the-hat.fr.html?aid=2324560&no_rooms=1&group_adults=2&label=madrid_3_jours', 'https://www.booking.com/hotel/es/petit-palace-savoy-alfonso-xii.fr.html?aid=2324560&no_rooms=1&group_adults=2&label=actu_3jours_madrid', 'https://www.booking.com/hotel/es/hostal-regio.fr.html?aid=2324560&no_rooms=1&group_adults=2&label=actu_3jours_madrid']",
         null
        ],
        [
         "32",
         "https://www.petitfute.com/v42793-dubrovnik/actualite/m17-top-10-insolites-voyage/a37062-que-faire-a-dubrovnik-en-2-ou-3-jours-le-temps-dun-week-end.html",
         "['https://www.getyourguide.fr/dubrovnik-l513/dubrovnik-visite-a-pied-des-remparts-au-coucher-du-soleil-t146235/?partner_id=73QSLFK&utm_medium=online_publisher&cmp=actu-3jours_dubrovnik', 'https://www.getyourguide.fr/dubrovnik-l513/depuis-dubrovnik-visite-game-of-thrones-et-ile-de-lokrum-t217212/?partner_id=73QSLFK&utm_medium=online_publisher&cmp=actu-3jours_dubrovnik', 'https://www.getyourguide.fr/dubrovnik-l513/ile-de-lokrum-plage-de-st-jacobs-et-grotte-de-betina-4h-de-bateau-t447389/?partner_id=73QSLFK&utm_medium=online_publisher&cmp=actu-3jours_dubrovnik', 'https://www.getyourguide.com/dubrovnik-l513/']",
         "['https://www.booking.com/hotel/hr/edi-sea-view-rooms.fr.html?aid=2324560&label=actu_3jours_dubrovnik', 'https://www.booking.com/hotel/hr/stari-grad.fr.html?aid=2324560&label=actu_3jours_dubrovnik']",
         null
        ],
        [
         "33",
         "https://www.petitfute.com/v50233-florence-firenze/actualite/m17-top-10-insolites-voyage/a37068-que-faire-que-visiter-a-florence-en-2-ou-3-jours-conseils-ditineraire.html",
         "['https://www.getyourguide.fr/florence-l32/florence-entree-au-david-de-michel-ange-t61153/?partner_id=73QSLFK&utm_medium=online_publisher&cmp=actu-3jours_florence', 'https://www.getyourguide.fr/florence-l32/florence-visite-guidee-de-la-cathedrale-duomo-t412688/?partner_id=73QSLFK&utm_medium=online_publisher&cmp=actu_3jours_florence', 'https://www.getyourguide.fr/florence-l32/florence-billet-coupe-file-pour-santa-maria-novella-t68294/?partner_id=73QSLFK&utm_medium=online_publisher&cmp=actu_3jours_florence', 'https://www.getyourguide.fr/chapelles-des-medicis-l5147/florence-billet-d-entree-reserve-aux-chapelles-des-medicis-t61210/?partner_id=73QSLFK&utm_medium=online_publisher&cmp=actu_3jours_florence', 'https://www.getyourguide.fr/florence-l32/florence-entree-reservee-a-la-galerie-des-offices-t57076/?partner_id=73QSLFK&utm_medium=online_publisher&cmp=actu-3jours_florence', 'https://www.getyourguide.fr/musee-national-du-bargello-l5146/florence-billet-d-entree-reserve-au-musee-du-bargello-t61213/?partner_id=73QSLFK&utm_medium=online_publisher&cmp=actu_3jours_florence', 'https://www.getyourguide.fr/florence-l32/visite-guidee-de-la-basilique-de-santa-croce-t632223/?partner_id=73QSLFK&utm_medium=online_publisher&cmp=actu_3jours_florence', 'https://www.getyourguide.fr/palais-pitti-l3957/florence-billet-d-entree-au-palais-pitti-t61191/?partner_id=73QSLFK&utm_medium=online_publisher&cmp=actu_3jours_florence', 'https://www.getyourguide.fr/jardin-de-boboli-l3959/florence-billet-d-entree-reserve-aux-jardins-de-boboli-t61154/?partner_id=73QSLFK&utm_medium=online_publisher&cmp=actu_3jours_florence', 'https://www.getyourguide.fr/jardin-de-boboli-l3959/florence-billet-d-entree-reserve-aux-jardins-de-boboli-t61154/?partner_id=73QSLFK&utm_medium=online_publisher&cmp=actu_3jours_florence']",
         "['https://www.booking.com/hotel/it/merlini.fr.html?aid=2324560&label=actu_3jours_florence', 'https://www.booking.com/hotel/it/hostel-santa-monaca.fr.html?aid=2324560&label=actu_3jours-florence', 'https://www.booking.com/hotel/it/axial.fr.html?aid=2324560&no_rooms=1&group_adults=2&label=actu_3jours_florence']",
         null
        ],
        [
         "34",
         "https://www.petitfute.com/v38377-seville/actualite/m17-top-10-insolites-voyage/a37095-que-faire-que-visiter-a-seville-en-2-ou-3-jours-conseils-ditineraire.html",
         "['https://www.getyourguide.fr/alcazar-de-seville-l4542/l-alcazar-de-seville-billet-coupe-file-t131232/?partner_id=73QSLFK&utm_medium=online_publisher&cmp=actu-3jours_seville', 'https://www.getyourguide.fr/la-cathedrale-de-seville-l4543/seville-billet-d-entree-pour-la-cathedrale-et-la-giralda-t131913/?partner_id=73QSLFK&utm_medium=online_publisher&cmp=seville_2_3_jours', 'https://www.getyourguide.fr/seville-l48/visite-de-seville-en-segway-t313493/?partner_id=73QSLFK&utm_medium=online_publisher&cmp=actu-3jours_seville', 'https://www.getyourguide.fr/seville-l48/seville-visite-guidee-du-musee-des-beaux-arts-t407350/?partner_id=73QSLFK&utm_medium=online_publisher&cmp=actu-3jours_seville', 'https://www.getyourguide.fr/seville-l48/seville-croisiere-ecologique-touristique-d-une-heure-sur-le-fleuve-guadalquivir-t418722/?partner_id=73QSLFK&utm_medium=online_publisher&cmp=seville_2_3_jours', 'https://www.getyourguide.com/seville-l48/']",
         "['https://www.booking.com/hotel/es/hotel-las-casas-de-la-juderia.fr.html?aid=2403366&no_rooms=1&group_adults=2&label=actu_3jours-seville', 'https://www.booking.com/hotel/es/patio-de-cruces.fr.html?aid=2324560&no_rooms=1&group_adults=2&label=seville_2_3_jours', 'https://www.booking.com/hotel/es/montetrianasevilla.fr.html?aid=2403366&no_rooms=1&group_adults=2&label=actu_3jours-seville']",
         null
        ],
        [
         "35",
         "https://www.petitfute.com/v43955-cagliari/actualite/m17-top-10-insolites-voyage/a37150-que-faire-que-visiter-a-cagliari-les-15-incontournables.html",
         "['https://www.getyourguide.fr/cagliari-l820/cagliari-visite-a-pied-de-la-vieille-ville-t214287/?partner_id=73QSLFK&utm_medium=online_publisher&cmp=actu-incontournables-cagliari', 'https://www.getyourguide.fr/cagliari-l820/cagliari-ville-souterraine-et-visite-a-pied-facultative-de-la-vieille-ville-t213225/?partner_id=73QSLFK&utm_medium=online_publisher&cmp=actu-incontournables-cagliari', 'https://www.getyourguide.fr/cagliari-l820/excursion-en-bateau-a-sella-del-diavolo-avec-aperitif-et-collations-t464694/?partner_id=73QSLFK&utm_medium=online_publisher&cmp=actu-incontournables-cagliari', 'https://www.getyourguide.fr/cagliari-l820/partage-d-une-demi-journee-de-visite-de-la-baie-de-cagliari-t438319/?partner_id=73QSLFK&utm_medium=online_publisher&cmp=actu-incontournables-cagliari', 'https://www.getyourguide.fr/cagliari-l820/cagliari-visite-en-segway-du-parc-naturel-de-molentargius-avec-cafe-t420329/?partner_id=73QSLFK&utm_medium=online_publisher&cmp=actu-incontournables-cagliari', 'https://www.getyourguide.com/cagliari-l820/']",
         "['https://www.booking.com/hotel/it/thotelcagliari.fr.html?aid=2324560&no_rooms=1&group_adults=2&label=actu_incontournables_cagliari', 'https://www.booking.com/hotel/it/hotelreginamargheritacagliari.fr.html?aid=2324560&no_rooms=1&group_adults=2&label=actu_incontournables_cagliari', 'https://www.booking.com/hotel/it/italia-cagliari.fr.html?aid=2324560&no_rooms=1&group_adults=2&label=actu_incontournables_cagliari']",
         null
        ],
        [
         "36",
         "https://www.petitfute.com/v42351-istanbul/actualite/m17-top-10-insolites-voyage/a37155-que-faire-a-istanbul-en-3-ou-4-jours-conseils-de-visite.html",
         "['https://www.getyourguide.fr/istanbul-l56/istanbul-sainte-sophie-et-mosquee-bleue-en-petit-groupe-t204412/?partner_id=73QSLFK&utm_medium=online_publisher&cmp=actu-3jours_istanbul', 'https://www.getyourguide.fr/istanbul-l56/billet-et-visite-du-palais-de-topkapi-et-du-harem-t127010/?partner_id=73QSLFK&utm_medium=online_publisher&cmp=actu-3jours_istanbul', 'https://www.getyourguide.fr/istanbul-l56/musee-d-art-turc-et-islamique-billet-d-entree-et-visite-guidee-t192921/?partner_id=73QSLFK&utm_medium=online_publisher&cmp=actu-3jours_istanbul', 'https://www.getyourguide.fr/istanbul-l56/istanbul-diner-croisiere-sur-le-bosphore-avec-divertissement-en-direct-t415437/?partner_id=73QSLFK&utm_medium=online_publisher&cmp=actu-3jours_istanbul', 'https://www.getyourguide.fr/istanbul-l56/spectacle-de-l-ordre-mevlevi-derviches-tourneurs-t21283/?partner_id=73QSLFK&utm_medium=online_publisher&cmp=actu-3jours_istanbul', 'https://www.getyourguide.fr/istanbul-l56/istanbul-billet-d-entree-aux-musees-archeologiques-et-visite-guidee-t406328/?partner_id=73QSLFK&utm_medium=online_publisher&cmp=actu-3jours_istanbul', 'https://www.getyourguide.com/istanbul-l56/']",
         "['https://www.booking.com/hotel/tr/sultanhan.fr.html?aid=2324560&no_rooms=1&group_adults=2&label=actu_incontournables_istanbul', 'https://www.booking.com/hotel/tr/yasmak.fr.html?aid=2324560&no_rooms=1&group_adults=2&label=actu_incontournables_istanbul', 'https://www.booking.com/hotel/tr/hypnos-istanbul.fr.html?aid=2324560&no_rooms=1&group_adults=2&label=actu_incontournables_istanbul']",
         null
        ],
        [
         "37",
         "https://www.petitfute.com/v49513-dublin/actualite/m17-top-10-insolites-voyage/a37354-que-faire-que-visiter-a-dublin-en-2-ou-3-jours-conseils-ditineraire.html ",
         "['https://www.getyourguide.fr/dublin-l31/pass-dublin-visite-en-bus-entree-gratuite-a-33-sites-t50032/?partner_id=73QSLFK&utm_medium=online_publisher&cmp=actu-3jours_dublin', 'https://www.getyourguide.fr/dublin-l31/original-dublin-walking-tour-points-forts-et-joyaux-caches-t436227/?partner_id=73QSLFK&utm_medium=online_publisher&cmp=actu-3jours_dublin', 'https://www.getyourguide.fr/cathedrale-saint-patrick-de-dublin-l5082/cathedrale-saint-patrick-visite-libre-t119026/?partner_id=73QSLFK&utm_medium=online_publisher&cmp=actu-3jours_dublin', 'https://www.getyourguide.fr/dublin-l31/guinness-storehouse-entree-prioritaire-et-pinte-t45105/?partner_id=73QSLFK&utm_medium=online_publisher&cmp=actu-3jours_dublin', 'https://www.getyourguide.fr/dublin-l31/livre-de-kells-et-visite-du-chateau-de-dublin-coupe-file-t53768/?partner_id=73QSLFK&utm_medium=online_publisher&cmp=actu-3jours_dublin', 'https://www.getyourguide.fr/dublin-l31/de-dublin-excursion-d-une-demi-journee-en-bus-sur-la-cote-de-howth-t419281/?partner_id=73QSLFK&utm_medium=online_publisher&cmp=actu-3jours_dublin', 'https://www.getyourguide.com/dublin-l31/']",
         "['https://www.booking.com/hotel/ie/jacobs-inn.fr.html?aid=2324560&no_rooms=1&group_adults=2&label=dublin_3_jours', 'https://www.booking.com/hotel/ie/beckett-locke.fr.html?aid=2324560&no_rooms=1&group_adults=2&label=dublin_3_jours', 'https://www.booking.com/hotel/ie/the-fitzwilliam.fr.html?aid=2324560&no_rooms=1&group_adults=2&label=actu_3jours-dublin', 'https://www.booking.com/hotel/ie/beckett-locke.fr.html?aid=2324560&no_rooms=1&group_adults=2&label=dublin_3_jours', 'https://www.booking.com/hotel/ie/jacobs-inn.fr.html?aid=2324560&no_rooms=1&group_adults=2&label=dublin_3_jours', 'https://www.booking.com/hotel/ie/the-fitzwilliam.fr.html?aid=2324560&no_rooms=1&group_adults=2&label=actu_3jours-dublin']",
         null
        ],
        [
         "38",
         "https://www.petitfute.com/v44683-budapest/actualite/m17-top-10-insolites-voyage/a37406-que-faire-que-visiter-a-budapest-en-2-ou-3-jours-conseils-ditineraire.html",
         "['https://www.getyourguide.fr/budapest-l29/budapest-visite-classique-a-pied-du-chateau-de-buda-t157275/?partner_id=73QSLFK&utm_medium=online_publisher&cmp=actu-3jours_budapest', 'https://www.getyourguide.fr/basilique-de-saint-etienne-l3697/budapest-basilique-saint-etienne-avec-acces-a-la-tour-t278292/?partner_id=73QSLFK&utm_medium=online_publisher&cmp=actu-3jours_budapest', 'https://www.getyourguide.fr/budapest-l29/billet-1-journee-les-bains-thermaux-de-szechenyi-t4139/?partner_id=73QSLFK&utm_medium=online_publisher&cmp=actu-3jours_budapest', 'https://www.getyourguide.fr/budapest-l29/croisiere-a-budapest-avec-cocktail-t73250/?partner_id=73QSLFK&utm_medium=online_publisher&cmp=actu-3jours_budapest']",
         "['https://www.booking.com/hotel/hu/corinthiaroyal.fr.html?aid=2324560&no_rooms=1&group_adults=2&label=actu_3jours_budapest', 'https://www.booking.com/hotel/hu/dormero-budapest.en.html?aid=2324560&no_rooms=1&group_adults=2', 'https://www.booking.com/hotel/hu/maverick-city-lodge.en.html?aid=2324560&no_rooms=1&group_adults=2']",
         null
        ],
        [
         "39",
         "https://www.petitfute.com/v41858-sofia/actualite/m17-top-10-insolites-voyage/a37595-que-faire-que-visiter-a-sofia-en-2-ou-3-jours-conseils-ditineraire.html",
         "['https://www.getyourguide.fr/sofia-l158/depuis-sofia-monastere-de-rila-et-eglise-de-bojana-t50410/?partner_id=73QSLFK&utm_medium=online_publisher&cmp=actu-3jours_sofia', 'https://www.getyourguide.fr/sofia-l158/excursion-d-une-journee-a-vitosha-a-l-eglise-de-boyana-et-au-monastere-de-dragalevtsi-t133935/?partner_id=73QSLFK&utm_medium=online_publisher&cmp=actu-3jours_sofia']",
         "['https://www.booking.com/hotel/bg/sense-sofia.fr.html?aid=2324560&no_rooms=1&group_adults=2&label=actu_3jours-sofia', 'https://www.booking.com/hotel/bg/triada.fr.html?aid=2324560&no_rooms=1&group_adults=2&label=actu_3jours-sofia', 'https://www.booking.com/hotel/bg/anel.fr.html?aid=2324560&no_rooms=1&group_adults=2&label=actu_3jours-sofia']",
         null
        ],
        [
         "40",
         "https://www.petitfute.com/v43431-prague/actualite/m17-top-10-insolites-voyage/a37644-que-faire-que-visiter-a-prague-en-2-ou-3-jours-conseils-ditineraire.html",
         "['https://www.getyourguide.fr/prague-l10/prague-city-card-2-3-ou-4-jours-t66055/?partner_id=73QSLFK&utm_medium=online_publisher&cmp=actu-3jours_prague', 'https://www.getyourguide.fr/prague-l10/vieille-ville-et-chateau-de-prague-visite-a-pied-t42322/?partner_id=73QSLFK&utm_medium=online_publisher&cmp=actu-3jours_prague', 'https://www.getyourguide.fr/prague-l10/prague-billet-hotel-de-ville-et-horloge-astronomique-t209055/?partner_id=73QSLFK&utm_medium=online_publisher&cmp=actu-3jours_prague', 'https://www.getyourguide.fr/prague-l10/prague-billet-hotel-de-ville-et-horloge-astronomique-t209055/?partner_id=73QSLFK&utm_medium=online_publisher&cmp=actu-3jours_prague', 'https://www.getyourguide.fr/prague-l10/prague-billets-d-entree-pour-le-quartier-juif-t51182/?partner_id=73QSLFK&utm_medium=online_publisher&cmp=actu-3jours_prague', 'https://www.getyourguide.com/prague-l10/', 'https://www.getyourguide.fr/prague-l10/chateau-de-prague-entree-et-visite-guidee-en-petit-groupe-t219531/?partner_id=73QSLFK&utm_medium=online_publisher&cmp=actu-3jours_prague', 'https://www.getyourguide.fr/prague-l10/prague-croisiere-de-50-mn-en-soiree-t357390/?partner_id=73QSLFK&utm_medium=online_publisher&cmp=actu-3jours_prague', 'https://www.getyourguide.com/prague-l10/']",
         "['https://www.booking.com/hotel/cz/corinthiapanorama.fr.html?aid=2324560&no_rooms=1&group_adults=2&label=actu-3jours-prague', 'https://www.booking.com/hotel/cz/rott.fr.html?aid=2324560&no_rooms=1&group_adults=2&label=actu-3jours-prague', 'https://www.booking.com/hotel/cz/hotelmelantrich.fr.html?aid=2324560&no_rooms=1&group_adults=2&label=actu-3jours-prague', 'https://www.booking.com/hotel/cz/corinthiapanorama.fr.html?aid=2324560&no_rooms=1&group_adults=2&label=actu-3jours-prague', 'https://www.booking.com/hotel/cz/rott.fr.html?aid=2324560&no_rooms=1&group_adults=2&label=actu-3jours-prague', 'https://www.booking.com/hotel/cz/hotelmelantrich.fr.html?aid=2324560&no_rooms=1&group_adults=2&label=actu-3jours-prague']",
         null
        ],
        [
         "41",
         "https://www.petitfute.com/v38469-cordoue-cordoba/actualite/m17-top-10-insolites-voyage/a37705-que-faire-que-visiter-a-cordoue-top-15-des-incontournables.html",
         "['https://www.getyourguide.fr/cordoue-l1689/cordoue-visite-guidee-de-l-alcazar-avec-billet-coupe-file-t57526/?partner_id=73QSLFK&utm_medium=online_publisher&cmp=actu-quefaire-cordoue&deeplink_id=2d96d6e1-3530-5ef0-a48c-e3728e765281&page_id=2c2ff77c-81f4-53d6-bada-5847ceb53165', 'https://www.getyourguide.fr/cordoue-l1689/cordoue-visite-en-bus-a-arrets-multiples-billet-24-h-t36318/?partner_id=73QSLFK&utm_medium=online_publisher&cmp=actu-incontournables-cordoue', 'https://www.getyourguide.fr/cordoue-l1689/cordoue-acces-coupe-file-visite-de-la-mosquee-cathedrale-t131952/?partner_id=73QSLFK&utm_medium=online_publisher&cmp=actu-incontournables-cordoue', 'https://www.getyourguide.fr/cordoue-l1689/visite-a-pied-des-monuments-de-cordoue-t28530/?partner_id=73QSLFK&utm_medium=online_publisher&cmp=actu-incontournables-cordoue', 'https://www.getyourguide.fr/cordoue-l1689/cordoue-visite-guidee-de-madinat-al-zahra-t40387/?ranking_uuid=8bf4417f-e465-40ba-8818-4254281f40a6', 'https://www.getyourguide.fr/cordoue-l1689/cordoue-billet-d-entree-au-palais-de-viana-t392790/?partner_id=73QSLFK&utm_medium=online_publisher&cmp=actu-incontournables-cordoue']",
         "['https://www.booking.com/hotel/es/los-omeyas.fr.html?aid=2324560&no_rooms=1&group_adults=2&label=actu_quefaire_cordoue', 'https://www.booking.com/hotel/es/las-casas-de-la-juderia.fr.html?aid=2324560&no_rooms=1&group_adults=2&label=actu_quefaire_cordoue', 'https://www.booking.com/hotel/es/mezquita-s-l.fr.html?aid=2324560&no_rooms=1&group_adults=2&label=actu_quefaire_cordoue']",
         null
        ],
        [
         "42",
         "https://www.petitfute.com/v42921-thessalonique-thessaloniki/actualite/m17-top-10-insolites-voyage/a37758-visiter-les-monasteres-des-meteores-en-grece-le-guide.html",
         "['https://www.getyourguide.fr/athenes-l91/au-depart-d-athenes-tour-des-meteores-en-une-journee-en-train-t227236/?partner_id=73QSLFK&utm_medium=online_publisher&cmp=actu-conseilsvisite-meteores', 'https://www.getyourguide.fr/thessalonique-l115/depuis-thessalonique-visite-guidee-des-meteores-t134685/?partner_id=73QSLFK&utm_medium=online_publisher&cmp=actu-conseilsvisite-meteores', 'https://www.getyourguide.com/athenes-l91/']",
         "[]",
         null
        ],
        [
         "43",
         "https://www.petitfute.com/v45404-albufeira/actualite/m17-top-10-insolites-voyage/a38018-que-faire-que-visiter-en-algarve-les-19-plus-beaux-endroits.html",
         "[]",
         "[]",
         null
        ],
        [
         "44",
         "https://www.petitfute.com/v57799-agadir/actualite/m17-top-10-insolites-voyage/a38703-que-faire-que-visiter-a-agadir-les-17-incontournables.html",
         "['https://www.getyourguide.fr/agadir-l1413/visite-touristique-a-la-decouverte-d-agadir-t28770/?partner_id=73QSLFK&utm_medium=online_publisher&cmp=actu-incontournables-agadir', 'https://www.getyourguide.fr/tiznit-l143195/visite-touristique-d-agadir-avec-l-oufella-et-le-souk-d-agadir-t651532/?partner_id=73QSLFK&utm_medium=online_publisher&cmp=actu-incontournables-agadir', 'https://www.getyourguide.fr/agadir-l1413/sautez-la-file-d-attente-billet-d-entree-a-crocoparc-t607895/?partner_id=73QSLFK&utm_medium=online_publisher&cmp=actu-incontournables-agadir', 'https://www.getyourguide.fr/agadir-l1413/agadir-billet-de-telepherique-sky-network-avec-transport-a-l-hotel-t421389/?partner_id=73QSLFK&utm_medium=online_publisher&cmp=actu-incontournables-agadir', 'https://www.getyourguide.fr/agadir-l1413/agadir-ou-taghazout-randonnee-dans-la-vallee-du-paradis-avec-dejeuner-t428380/?partner_id=73QSLFK&utm_medium=online_publisher&cmp=actu-incontournables-agadir', 'https://www.getyourguide.fr/agadir-l1413/excursion-d-une-journee-a-taroudant-et-tiout-avec-couscous-et-tajine-t454069/?partner_id=73QSLFK&utm_medium=online_publisher&cmp=actu-incontournables-agadir', 'https://www.getyourguide.fr/agadir-l1413/excursion-d-une-demi-journee-dans-le-parc-national-de-la-faune-et-de-la-flore-y-compris-le-dejeuner-t492325/?partner_id=73QSLFK&utm_medium=online_publisher&cmp=actu-incontournables-agadir', 'https://www.getyourguide.fr/agadir-l1413/tour-de-chameau-au-coucher-du-soleil-sur-la-plage-t245142/?partner_id=73QSLFK&utm_medium=online_publisher&cmp=actu-incontournables-agadir', 'https://www.getyourguide.com/agadir-l1413/']",
         "['https://www.booking.com/hotel/ma/maison-d-hotes-les-chtis-d-agadir.fr.html?aid=2324560&no_rooms=1&group_adults=2&label=actu-quefaire-agadir', 'https://www.booking.com/hotel/ma/atlas-kasbah.fr.html?aid=2324560&no_rooms=1&group_adults=2&label=actu-quefaire-agadir', 'https://www.booking.com/hotel/ma/sofitel-agadir-thalassa-sea.fr.html?aid=2324560&no_rooms=1&group_adults=2&label=actu-quefaire-agadir']",
         null
        ],
        [
         "45",
         "https://www.petitfute.com/v50596-alicante/actualite/m17-top-10-insolites-voyage/a38859-que-faire-que-visiter-a-alicante-les-15-incontournables.html",
         "['https://www.getyourguide.fr/alicante-l414/alicante-degustation-de-vins-du-chateau-de-santa-barbara-avec-charcuterie-t487547/?partner_id=73QSLFK&utm_medium=online_publisher&cmp=actu-incontournables-alicante', 'https://www.getyourguide.fr/alicante-l414/alicante-circuit-de-decouverte-des-sept-secrets-d-alicante-t371261/?partner_id=73QSLFK&utm_medium=online_publisher&cmp=actu-incontournables-alicante', 'https://www.getyourguide.fr/alicante-l414/visite-des-arenes-d-alicante-et-du-musee-de-la-tauromachie-t524767/?partner_id=73QSLFK&utm_medium=online_publisher&cmp=actu-incontournables-alicante', 'https://www.getyourguide.fr/alicante-l414/alicante-visite-gourmande-avec-tapas-t371281/?partner_id=73QSLFK&utm_medium=online_publisher&cmp=actu-incontournables-alicante', 'https://www.getyourguide.fr/alicante-l414/alicante-promenade-en-bateau-et-experience-de-parachutisme-avec-boisson-t414977/?partner_id=73QSLFK&utm_medium=online_publisher&cmp=actu-incontournables-alicante', 'https://www.getyourguide.fr/alicante-l414/depuis-alicante-aller-retour-a-l-ile-de-tabarca-t449685/?partner_id=73QSLFK&utm_medium=online_publisher&cmp=actu-incontournables-alicante', 'https://www.getyourguide.fr/alicante-l414/depuis-alicante-billet-de-ferry-aller-retour-pour-l-ile-de-tabarca-t449685/?partner_id=73QSLFK&utm_medium=online_publisher&cmp=actu-incontournables-alicante', 'https://www.getyourguide.fr/denia-l101088/denia-plongee-sous-marine-t450143/?partner_id=73QSLFK&utm_medium=online_publisher&cmp=actu-incontournables-alicante', 'https://www.getyourguide.com/alicante-l414/']",
         "['https://www.booking.com/hotel/es/hostel-la-milagrosa.fr.html?aid=2324560&no_rooms=1&group_adults=2&label=actu-quefaire-alicante', 'https://www.booking.com/hotel/es/hostal-les-monges-palace.fr.html?aid=2324560&no_rooms=1&group_adults=2&label=actu-quefaire-alicante', 'https://www.booking.com/hotel/es/eurostars-lucentum.fr.html?aid=2324560&no_rooms=1&group_adults=2&label=actu-quefaire-alicante']",
         null
        ],
        [
         "46",
         "https://www.petitfute.com/v43385-lefkada/actualite/m17-top-10-insolites-voyage/a39016-que-faire-que-visiter-a-leucade-lefkada-les-15-incontournables.html",
         "['https://www.getyourguide.fr/nydri-l146600/au-depart-de-lefkada-croisiere-de-snorkeling-en-groupe-ou-privee-et-dejeuner-t418658/?partner_id=73QSLFK&utm_medium=online_publisher&cmp=actu-incontournables-leucade', 'https://www.getyourguide.fr/lefkada-l89339/iles-oubliees-de-lefkada-croisiere-d-une-journee-avec-dejeuner-t143067/?partner_id=73QSLFK&utm_medium=online_publisher&cmp=actu-incontournables-leucade', 'https://www.getyourguide.fr/nydri-l146600/experience-privee-de-gastronomie-grecque-durable-t436984/?partner_id=73QSLFK&utm_medium=online_publisher&cmp=actu-incontournables-leucade', 'https://www.getyourguide.fr/lefkada-l89339/lefkada-visite-guidee-d-une-micro-ferme-avec-degustation-de-produits-t436975/?partner_id=73QSLFK&utm_medium=online_publisher&cmp=actu-incontournables-leucade']",
         "['https://www.booking.com/hotel/gr/red-tower.fr.html?aid=2324560&no_rooms=1&group_adults=2&label=actu-quefaire-leucade', 'https://www.booking.com/hotel/gr/athos.fr.html?aid=311089&label=athos-8TTa%2ARoib3V6cLYLiTWzIQS267495846935%3Apl%3Ata%3Ap1%3Ap2%3Aac%3Aap%3Aneg%3Afi%3Atikwd-307145310921%3Alp9056139%3Ali%3Adec%3Adm%3Appccp%3DUmFuZG9tSVYkc2RlIyh9Yf23yREhrOV9DIzdQnby_R8&sid=c900dadc5b80ae2d66c4c7d53072faa7&age=1;checkin=2024-07-07;checkout=2024-07-08;dest_id=-824809;dest_type=city;dist=0;group_adults=2;group_children=0;hapos=1;hpos=1;no_rooms=1;req_adults=2;req_children=0;room1=A%2CA;sb_price_type=total;soh=1;sr_order=popularity;srepoch=1720102808;srpvid=42c064cae3b100f8;type=total;ucfs=1&#map_opened-hotel_address', 'https://www.booking.com/hotel/gr/athos.fr.html?aid=2324560&no_rooms=1&group_adults=2&label=actu-quefaire-leucade', 'https://www.booking.com/hotel/gr/pavezzo-country-retreat.fr.html?aid=311089&label=pavezzo-country-retreat-WPoqSJyGsCDRg1lfEBO3gAS434588767622%3Apl%3Ata%3Ap1%3Ap2%3Aac%3Aap%3Aneg%3Afi%3Atikwd-3733780206%3Alp9056139%3Ali%3Adec%3Adm%3Appccp%3DUmFuZG9tSVYkc2RlIyh9Yf23yREhrOV9DIzdQnby_R8&sid=c900dadc5b80ae2d66c4c7d53072faa7&age=0;all_sr_blocks=38627706_88566893_2_1_0;checkin=2024-07-07;checkout=2024-07-08;dest_id=-819722;dest_type=city;dist=0;group_adults=2;group_children=0;hapos=1;highlighted_blocks=38627706_88566893_2_1_0;hpos=1;matching_block_id=38627706_88566893_2_1_0;no_rooms=1;req_adults=2;req_children=0;room1=A%2CA;sb_price_type=total;sr_order=popularity;sr_pri_blocks=38627706_88566893_2_1_0__17150;srepoch=1720102958;srpvid=1c07651449a70d6e;type=total;ucfs=1&#map_opened-hotel_address', 'https://www.booking.com/hotel/gr/pavezzo-country-retreat.fr.html?aid=2324560&no_rooms=1&group_adults=2&label=actu-quefaire-leucade']",
         null
        ],
        [
         "47",
         "https://www.petitfute.com/d524-tenerife/actualite/m17-top-10-insolites-voyage/a39324-que-faire-que-visiter-a-tenerife-les-17-incontournables.html",
         "['https://www.getyourguide.fr/tenerife-l350/tenerife-visite-du-parc-national-du-teide-t56481/?partner_id=73QSLFK&utm_medium=online_publisher&cmp=actu-incontournables-tenerife', 'https://www.getyourguide.fr/tenerife-l350/tenerife-experience-du-tour-en-buggy-du-teide-t369566/?partner_id=73QSLFK&utm_medium=online_publisher&cmp=actu-incontournables-tenerife', 'https://www.getyourguide.fr/tenerife-l350/tenerife-croisiere-en-catamaran-avec-brunch-et-boissons-illimitees-t439164/?partner_id=73QSLFK&utm_medium=online_publisher&cmp=actu-incontournables-tenerife', 'https://www.getyourguide.fr/tenerife-l350/tenerife-jet-ski-visite-guidee-decouverte-de-la-cote-t516154/?partner_id=73QSLFK&utm_medium=online_publisher&cmp=actu-incontournables-tenerife', 'https://www.getyourguide.fr/tenerife-l350/tenerife-plongee-sous-marine-de-3-h-pour-debutants-t105191/?partner_id=73QSLFK&utm_medium=online_publisher&cmp=actu-incontournables-tenerife', 'https://www.getyourguide.fr/tenerife-l350/vol-en-parapente-au-dessus-des-montagnes-et-des-cotes-du-sud-de-tenerife-t493960/?partner_id=73QSLFK&utm_medium=online_publisher&cmp=actu-incontournables-tenerife', 'https://www.getyourguide.fr/tenerife-l350/tenerife-billet-d-une-journee-pour-siam-park-t407436/?partner_id=73QSLFK&utm_medium=online_publisher&cmp=actu-incontournables-tenerife', 'https://www.getyourguide.fr/tenerife-l350/tenerife-parc-national-de-teide-coucher-de-soleil-et-observation-des-etoiles-t457265/?partner_id=73QSLFK&utm_medium=online_publisher&cmp=actu-incontournables-tenerife', 'https://www.getyourguide.com/tenerife-l350/']",
         "['https://www.booking.com/hotel/es/san-roque-garachico.fr.html?aid=2324560&no_rooms=1&group_adults=2&label=actu-quefaire-tenerife', 'https://www.booking.com/hotel/es/botanico-y-oriental-spa-garden.fr.html?aid=2324560&no_rooms=1&group_adults=2&label=actu-quefaire-tenerife', 'https://www.booking.com/hotel/es/buenavista-ibiza.fr.html?aid=2324560&no_rooms=1&group_adults=2&label=actu-quefaire-tenerife']",
         null
        ],
        [
         "48",
         "https://www.petitfute.com/v38930-cefalu/actualite/m17-top-10-insolites-voyage/a39488-que-faire-que-visiter-a-cefalu-les-17-incontournables.html",
         "['https://www.getyourguide.fr/cefalu-l2176/visite-des-coins-caches-et-des-legendes-de-cefalu-t637006/?partner_id=73QSLFK&utm_medium=online_publisher&cmp=que_faire_cefalu', 'https://www.getyourguide.fr/cefalu-l2176/excursion-en-bateau-le-long-de-la-cote-de-cefalu-t600715/?partner_id=73QSLFK&utm_medium=online_publisher&cmp=que_faire_cefalu']",
         "['https://www.booking.com/hotel/it/glialberidelparadiso.fr.html?aid=2324560&no_rooms=1&group_adults=2&label=que_faire_cefalu', 'https://www.booking.com/hotel/it/hotellecalette.fr.html?aid=2324560&no_rooms=1&group_adults=2&label=que_faire_cefalu', 'https://www.booking.com/hotel/it/al-pescatore.fr.html?aid=2324560&no_rooms=1&group_adults=2&label=que_faire_cefalu']",
         null
        ],
        [
         "49",
         "https://www.petitfute.com/v38864-syracuse-siracusa/actualite/m17-top-10-insolites-voyage/a39641-que-faire-que-visiter-a-syracuse-les-11-incontournables.html",
         "['https://www.getyourguide.fr/sicile-l65/syracuse-excursion-en-bateau-vers-l-ile-d-ortigia-avec-ses-grottes-t397117/?partner_id=73QSLFK&utm_medium=online_publisher&cmp=actu_incontournables-syracuse']",
         "['https://www.booking.com/hotel/it/lol-hostel-siracusa.fr.html?aid=2324560&label=actu_incontournables_syracuse', 'https://www.booking.com/hotel/it/roma-siracusa.fr.html?aid=2324560&label=actu_incontournables_syracuse', 'https://www.booking.com/hotel/it/domus-mariae-benessere.fr.html?aid=2324560&label=actu_incontournables_syracuse']",
         null
        ]
       ],
       "shape": {
        "columns": 4,
        "rows": 99
       }
      },
      "text/html": [
       "<div>\n",
       "<style scoped>\n",
       "    .dataframe tbody tr th:only-of-type {\n",
       "        vertical-align: middle;\n",
       "    }\n",
       "\n",
       "    .dataframe tbody tr th {\n",
       "        vertical-align: top;\n",
       "    }\n",
       "\n",
       "    .dataframe thead th {\n",
       "        text-align: right;\n",
       "    }\n",
       "</style>\n",
       "<table border=\"1\" class=\"dataframe\">\n",
       "  <thead>\n",
       "    <tr style=\"text-align: right;\">\n",
       "      <th></th>\n",
       "      <th>URL</th>\n",
       "      <th>getyourguide_links</th>\n",
       "      <th>booking_links</th>\n",
       "      <th>type</th>\n",
       "    </tr>\n",
       "  </thead>\n",
       "  <tbody>\n",
       "    <tr>\n",
       "      <th>0</th>\n",
       "      <td>https://www.petitfute.com/v62250-kew/actualite...</td>\n",
       "      <td>['https://www.getyourguide.fr/londres-l57/lond...</td>\n",
       "      <td>['https://www.booking.com/hotel/gb/ibis-london...</td>\n",
       "      <td>None</td>\n",
       "    </tr>\n",
       "    <tr>\n",
       "      <th>1</th>\n",
       "      <td>https://www.petitfute.com/v48299-bangli/actual...</td>\n",
       "      <td>['https://www.getyourguide.fr/seminyak-l95096/...</td>\n",
       "      <td>['https://www.booking.com/hotel/id/sanak-retre...</td>\n",
       "      <td>None</td>\n",
       "    </tr>\n",
       "    <tr>\n",
       "      <th>2</th>\n",
       "      <td>https://www.petitfute.com/v43490-caldera-de-ta...</td>\n",
       "      <td>['https://www.getyourguide.fr/tenerife-l350/vi...</td>\n",
       "      <td>[]</td>\n",
       "      <td>None</td>\n",
       "    </tr>\n",
       "    <tr>\n",
       "      <th>3</th>\n",
       "      <td>https://www.petitfute.com/v49846-genes/actuali...</td>\n",
       "      <td>['https://www.getyourguide.fr/genes-l1009/visi...</td>\n",
       "      <td>['https://www.booking.com/hotel/it/ostellin-ge...</td>\n",
       "      <td>None</td>\n",
       "    </tr>\n",
       "    <tr>\n",
       "      <th>4</th>\n",
       "      <td>https://www.petitfute.com/v48986-copenhague/ac...</td>\n",
       "      <td>['https://www.getyourguide.fr/faelledparken-l1...</td>\n",
       "      <td>['https://www.booking.com/hotel/dk/steel-house...</td>\n",
       "      <td>None</td>\n",
       "    </tr>\n",
       "    <tr>\n",
       "      <th>...</th>\n",
       "      <td>...</td>\n",
       "      <td>...</td>\n",
       "      <td>...</td>\n",
       "      <td>...</td>\n",
       "    </tr>\n",
       "    <tr>\n",
       "      <th>94</th>\n",
       "      <td>https://www.petitfute.com/v42470-bodrum/actual...</td>\n",
       "      <td>['https://www.getyourguide.fr/bodrum-l846/tour...</td>\n",
       "      <td>['https://www.booking.com/hotel/tr/seckin-kona...</td>\n",
       "      <td>None</td>\n",
       "    </tr>\n",
       "    <tr>\n",
       "      <th>95</th>\n",
       "      <td>https://www.petitfute.com/v42420-antalya/actua...</td>\n",
       "      <td>['https://www.getyourguide.fr/antalya-l172/ant...</td>\n",
       "      <td>['https://www.booking.com/hotel/tr/argos.fr.ht...</td>\n",
       "      <td>None</td>\n",
       "    </tr>\n",
       "    <tr>\n",
       "      <th>96</th>\n",
       "      <td>https://www.petitfute.com/v41475-chiang-rai/ac...</td>\n",
       "      <td>['https://www.getyourguide.fr/bangkok-l169/ban...</td>\n",
       "      <td>['https://www.booking.com/hotel/th/baan-noppaw...</td>\n",
       "      <td>None</td>\n",
       "    </tr>\n",
       "    <tr>\n",
       "      <th>97</th>\n",
       "      <td>https://www.petitfute.com/v48393-seoul/actuali...</td>\n",
       "      <td>['https://www.getyourguide.fr/seoul-l197/palai...</td>\n",
       "      <td>['https://www.booking.com/hotel/kr/grand-hyatt...</td>\n",
       "      <td>None</td>\n",
       "    </tr>\n",
       "    <tr>\n",
       "      <th>98</th>\n",
       "      <td>https://www.petitfute.com/v52913-varsovie-wars...</td>\n",
       "      <td>['https://www.getyourguide.fr/varsovie-l41/var...</td>\n",
       "      <td>['https://www.booking.com/hotel/pl/novotelwars...</td>\n",
       "      <td>None</td>\n",
       "    </tr>\n",
       "  </tbody>\n",
       "</table>\n",
       "<p>99 rows × 4 columns</p>\n",
       "</div>"
      ],
      "text/plain": [
       "                                                  URL  \\\n",
       "0   https://www.petitfute.com/v62250-kew/actualite...   \n",
       "1   https://www.petitfute.com/v48299-bangli/actual...   \n",
       "2   https://www.petitfute.com/v43490-caldera-de-ta...   \n",
       "3   https://www.petitfute.com/v49846-genes/actuali...   \n",
       "4   https://www.petitfute.com/v48986-copenhague/ac...   \n",
       "..                                                ...   \n",
       "94  https://www.petitfute.com/v42470-bodrum/actual...   \n",
       "95  https://www.petitfute.com/v42420-antalya/actua...   \n",
       "96  https://www.petitfute.com/v41475-chiang-rai/ac...   \n",
       "97  https://www.petitfute.com/v48393-seoul/actuali...   \n",
       "98  https://www.petitfute.com/v52913-varsovie-wars...   \n",
       "\n",
       "                                   getyourguide_links  \\\n",
       "0   ['https://www.getyourguide.fr/londres-l57/lond...   \n",
       "1   ['https://www.getyourguide.fr/seminyak-l95096/...   \n",
       "2   ['https://www.getyourguide.fr/tenerife-l350/vi...   \n",
       "3   ['https://www.getyourguide.fr/genes-l1009/visi...   \n",
       "4   ['https://www.getyourguide.fr/faelledparken-l1...   \n",
       "..                                                ...   \n",
       "94  ['https://www.getyourguide.fr/bodrum-l846/tour...   \n",
       "95  ['https://www.getyourguide.fr/antalya-l172/ant...   \n",
       "96  ['https://www.getyourguide.fr/bangkok-l169/ban...   \n",
       "97  ['https://www.getyourguide.fr/seoul-l197/palai...   \n",
       "98  ['https://www.getyourguide.fr/varsovie-l41/var...   \n",
       "\n",
       "                                        booking_links  type  \n",
       "0   ['https://www.booking.com/hotel/gb/ibis-london...  None  \n",
       "1   ['https://www.booking.com/hotel/id/sanak-retre...  None  \n",
       "2                                                  []  None  \n",
       "3   ['https://www.booking.com/hotel/it/ostellin-ge...  None  \n",
       "4   ['https://www.booking.com/hotel/dk/steel-house...  None  \n",
       "..                                                ...   ...  \n",
       "94  ['https://www.booking.com/hotel/tr/seckin-kona...  None  \n",
       "95  ['https://www.booking.com/hotel/tr/argos.fr.ht...  None  \n",
       "96  ['https://www.booking.com/hotel/th/baan-noppaw...  None  \n",
       "97  ['https://www.booking.com/hotel/kr/grand-hyatt...  None  \n",
       "98  ['https://www.booking.com/hotel/pl/novotelwars...  None  \n",
       "\n",
       "[99 rows x 4 columns]"
      ]
     },
     "execution_count": 34,
     "metadata": {},
     "output_type": "execute_result"
    }
   ],
   "source": [
    "df_liens"
   ]
  },
  {
   "cell_type": "code",
   "execution_count": 35,
   "metadata": {},
   "outputs": [
    {
     "data": {
      "text/plain": [
       "str"
      ]
     },
     "execution_count": 35,
     "metadata": {},
     "output_type": "execute_result"
    }
   ],
   "source": [
    "type(df_liens['booking_links'].iloc[0])\n"
   ]
  },
  {
   "cell_type": "code",
   "execution_count": 38,
   "metadata": {},
   "outputs": [
    {
     "data": {
      "application/vnd.microsoft.datawrangler.viewer.v0+json": {
       "columns": [
        {
         "name": "index",
         "rawType": "int64",
         "type": "integer"
        },
        {
         "name": "URL",
         "rawType": "object",
         "type": "string"
        },
        {
         "name": "booking_links",
         "rawType": "object",
         "type": "string"
        },
        {
         "name": "type",
         "rawType": "object",
         "type": "string"
        },
        {
         "name": "nom_hotel",
         "rawType": "object",
         "type": "string"
        }
       ],
       "ref": "7e19242b-c5a7-43f1-9a28-5ba82a8d70be",
       "rows": [
        [
         "0",
         "https://www.petitfute.com/v62250-kew/actualite/m17-top-10-insolites-voyage/a11635-que-faire-a-londres-a-noel-les-14-activites-incontournables.html",
         "https://www.booking.com/hotel/gb/ibis-london-blackfriars.fr.html?aid=356980&label=gog235jc-1FCAsoUEIXaWJpcy1sb25kb24tYmxhY2tmcmlhcnNIDVgDaE2IAQGYAQ24AQfIAQzYAQHoAQH4AQKIAgGoAgO4AqKo8LcGwAIB0gIkMjA5N2ZjNjgtZmRhYi00MzRlLThmOWYtOTYwMmFhOGRiNDk12AIF4AIB&sid=a0ed4f8119aafb08ddb2c34d69e8b88d&age=0;all_sr_blocks=42636801_94463129_2_42_0%2C42636801_94463129_2_42_0;checkin=2024-10-06;checkout=2024-10-07;dest_id=-2601889;dest_type=city;dist=0;group_adults=2;group_children=1;hapos=1;highlighted_blocks=42636801_94463129_2_42_0%2C42636801_94463129_2_42_0;hpos=1;matching_block_id=42636801_94463129_2_42_0;no_rooms=1;req_adults=2;req_age=0;req_children=1;room1=A%2CA%2C0;sb_price_type=total;sr_order=popularity;sr_pri_blocks=42636801_94463129_2_42_0__12834%2C42636801_94463129_2_42_0__12834;srepoch=1727796262;srpvid=6b066c51ed76067f;type=total;ucfs=1&#map_opened-hotel_address",
         "hotel",
         "ibis-london-blackfriars"
        ],
        [
         "1",
         "https://www.petitfute.com/v62250-kew/actualite/m17-top-10-insolites-voyage/a11635-que-faire-a-londres-a-noel-les-14-activites-incontournables.html",
         "https://www.booking.com/hotel/gb/ibis-london-blackfriars.fr.html?aid=2324560&no_rooms=1&group_adults=2&label=actu-londres-noel",
         "hotel",
         "ibis-london-blackfriars"
        ],
        [
         "2",
         "https://www.petitfute.com/v62250-kew/actualite/m17-top-10-insolites-voyage/a11635-que-faire-a-londres-a-noel-les-14-activites-incontournables.html",
         "https://www.booking.com/hotel/gb/therookery.fr.html?aid=2324560&no_rooms=1&group_adults=2&label=actu-londres-noel",
         "hotel",
         "therookery"
        ],
        [
         "3",
         "https://www.petitfute.com/v62250-kew/actualite/m17-top-10-insolites-voyage/a11635-que-faire-a-londres-a-noel-les-14-activites-incontournables.html",
         "https://www.booking.com/hotel/gb/sanderson.fr.html?aid=2324560&no_rooms=1&group_adults=2&label=actu-londres-noel",
         "hotel",
         "sanderson"
        ],
        [
         "4",
         "https://www.petitfute.com/v48299-bangli/actualite/m17-top-10-insolites-voyage/a11947-les-10-etapes-incontournables-pour-une-escapade-a-bali.html",
         "https://www.booking.com/hotel/id/sanak-retreat-bali.fr.html?aid=2324560&no_rooms=1&group_adults=2&label=que_faire_bali",
         "hotel",
         "sanak-retreat-bali"
        ]
       ],
       "shape": {
        "columns": 4,
        "rows": 5
       }
      },
      "text/html": [
       "<div>\n",
       "<style scoped>\n",
       "    .dataframe tbody tr th:only-of-type {\n",
       "        vertical-align: middle;\n",
       "    }\n",
       "\n",
       "    .dataframe tbody tr th {\n",
       "        vertical-align: top;\n",
       "    }\n",
       "\n",
       "    .dataframe thead th {\n",
       "        text-align: right;\n",
       "    }\n",
       "</style>\n",
       "<table border=\"1\" class=\"dataframe\">\n",
       "  <thead>\n",
       "    <tr style=\"text-align: right;\">\n",
       "      <th></th>\n",
       "      <th>URL</th>\n",
       "      <th>booking_links</th>\n",
       "      <th>type</th>\n",
       "      <th>nom_hotel</th>\n",
       "    </tr>\n",
       "  </thead>\n",
       "  <tbody>\n",
       "    <tr>\n",
       "      <th>0</th>\n",
       "      <td>https://www.petitfute.com/v62250-kew/actualite...</td>\n",
       "      <td>https://www.booking.com/hotel/gb/ibis-london-b...</td>\n",
       "      <td>hotel</td>\n",
       "      <td>ibis-london-blackfriars</td>\n",
       "    </tr>\n",
       "    <tr>\n",
       "      <th>1</th>\n",
       "      <td>https://www.petitfute.com/v62250-kew/actualite...</td>\n",
       "      <td>https://www.booking.com/hotel/gb/ibis-london-b...</td>\n",
       "      <td>hotel</td>\n",
       "      <td>ibis-london-blackfriars</td>\n",
       "    </tr>\n",
       "    <tr>\n",
       "      <th>2</th>\n",
       "      <td>https://www.petitfute.com/v62250-kew/actualite...</td>\n",
       "      <td>https://www.booking.com/hotel/gb/therookery.fr...</td>\n",
       "      <td>hotel</td>\n",
       "      <td>therookery</td>\n",
       "    </tr>\n",
       "    <tr>\n",
       "      <th>3</th>\n",
       "      <td>https://www.petitfute.com/v62250-kew/actualite...</td>\n",
       "      <td>https://www.booking.com/hotel/gb/sanderson.fr....</td>\n",
       "      <td>hotel</td>\n",
       "      <td>sanderson</td>\n",
       "    </tr>\n",
       "    <tr>\n",
       "      <th>4</th>\n",
       "      <td>https://www.petitfute.com/v48299-bangli/actual...</td>\n",
       "      <td>https://www.booking.com/hotel/id/sanak-retreat...</td>\n",
       "      <td>hotel</td>\n",
       "      <td>sanak-retreat-bali</td>\n",
       "    </tr>\n",
       "  </tbody>\n",
       "</table>\n",
       "</div>"
      ],
      "text/plain": [
       "                                                 URL  \\\n",
       "0  https://www.petitfute.com/v62250-kew/actualite...   \n",
       "1  https://www.petitfute.com/v62250-kew/actualite...   \n",
       "2  https://www.petitfute.com/v62250-kew/actualite...   \n",
       "3  https://www.petitfute.com/v62250-kew/actualite...   \n",
       "4  https://www.petitfute.com/v48299-bangli/actual...   \n",
       "\n",
       "                                       booking_links   type  \\\n",
       "0  https://www.booking.com/hotel/gb/ibis-london-b...  hotel   \n",
       "1  https://www.booking.com/hotel/gb/ibis-london-b...  hotel   \n",
       "2  https://www.booking.com/hotel/gb/therookery.fr...  hotel   \n",
       "3  https://www.booking.com/hotel/gb/sanderson.fr....  hotel   \n",
       "4  https://www.booking.com/hotel/id/sanak-retreat...  hotel   \n",
       "\n",
       "                 nom_hotel  \n",
       "0  ibis-london-blackfriars  \n",
       "1  ibis-london-blackfriars  \n",
       "2               therookery  \n",
       "3                sanderson  \n",
       "4       sanak-retreat-bali  "
      ]
     },
     "execution_count": 38,
     "metadata": {},
     "output_type": "execute_result"
    }
   ],
   "source": [
    "import pandas as pd\n",
    "import re\n",
    "import ast\n",
    "\n",
    "# --- 1️⃣ Charger uniquement les colonnes utiles ---\n",
    "df_liens_tmp = df_liens[['URL', 'booking_links']].copy()\n",
    "\n",
    "# --- 2️⃣ Convertir les chaînes en vraies listes (si besoin) ---\n",
    "df_liens_tmp['booking_links'] = df_liens_tmp['booking_links'].apply(\n",
    "    lambda x: ast.literal_eval(x) if isinstance(x, str) and x.startswith('[') else x\n",
    ")\n",
    "\n",
    "# --- 3️⃣ Exploser les listes pour avoir une ligne par lien ---\n",
    "df_tmp = df_liens_tmp.explode('booking_links').reset_index(drop=True)\n",
    "\n",
    "# --- 4️⃣ Supprimer les lignes sans lien ---\n",
    "df_tmp = df_tmp[df_tmp['booking_links'].notna()].copy()\n",
    "\n",
    "# --- 5️⃣ Extraire le type (ex : hotel, apartment, etc.) ---\n",
    "def extraire_type_booking(url):\n",
    "    if isinstance(url, str):\n",
    "        match = re.search(r'booking\\.com/([^/]+)/', url)\n",
    "        if match:\n",
    "            return match.group(1)\n",
    "    return None\n",
    "\n",
    "df_tmp['type'] = df_tmp['booking_links'].apply(extraire_type_booking)\n",
    "\n",
    "# --- 6️⃣ Extraire le nom d’établissement (ex : park-hyatt-zurich) ---\n",
    "def extraire_nom_hotel(url):\n",
    "    if isinstance(url, str):\n",
    "        match = re.search(r'booking\\.com/hotel/[a-z]{2}/([^/.]+)', url)\n",
    "        if match:\n",
    "            return match.group(1)\n",
    "    return None\n",
    "\n",
    "df_tmp['nom_hotel'] = df_tmp['booking_links'].apply(extraire_nom_hotel)\n",
    "\n",
    "# --- 7️⃣ Vérification du résultat ---\n",
    "df_tmp[['URL', 'booking_links', 'type', 'nom_hotel']].head()\n"
   ]
  },
  {
   "cell_type": "code",
   "execution_count": 19,
   "metadata": {},
   "outputs": [],
   "source": [
    "df_tmp = pd.read_excel(r'C:\\Users\\Hanaa\\Desktop\\PETITFUTE\\data\\outputs\\booking_h2_exploded.xlsx')"
   ]
  },
  {
   "cell_type": "code",
   "execution_count": 20,
   "metadata": {},
   "outputs": [
    {
     "data": {
      "application/vnd.microsoft.datawrangler.viewer.v0+json": {
       "columns": [
        {
         "name": "index",
         "rawType": "int64",
         "type": "integer"
        },
        {
         "name": "URL",
         "rawType": "object",
         "type": "string"
        },
        {
         "name": "booking_links",
         "rawType": "object",
         "type": "string"
        },
        {
         "name": "balise_h2",
         "rawType": "object",
         "type": "string"
        }
       ],
       "ref": "11b1e7a3-e135-4564-ac45-b16a45857494",
       "rows": [
        [
         "0",
         "https://www.petitfute.com/v62250-kew/actualite/m17-top-10-insolites-voyage/a11635-que-faire-a-londres-a-noel-les-14-activites-incontournables.html",
         "https://www.booking.com/hotel/gb/ibis-london-blackfriars.fr.html?aid=356980&label=gog235jc-1FCAsoUEIXaWJpcy1sb25kb24tYmxhY2tmcmlhcnNIDVgDaE2IAQGYAQ24AQfIAQzYAQHoAQH4AQKIAgGoAgO4AqKo8LcGwAIB0gIkMjA5N2ZjNjgtZmRhYi00MzRlLThmOWYtOTYwMmFhOGRiNDk12AIF4AIB&sid=a0ed4f8119aafb08ddb2c34d69e8b88d&age=0;all_sr_blocks=42636801_94463129_2_42_0%2C42636801_94463129_2_42_0;checkin=2024-10-06;checkout=2024-10-07;dest_id=-2601889;dest_type=city;dist=0;group_adults=2;group_children=1;hapos=1;highlighted_blocks=42636801_94463129_2_42_0%2C42636801_94463129_2_42_0;hpos=1;matching_block_id=42636801_94463129_2_42_0;no_rooms=1;req_adults=2;req_age=0;req_children=1;room1=A%2CA%2C0;sb_price_type=total;sr_order=popularity;sr_pri_blocks=42636801_94463129_2_42_0__12834%2C42636801_94463129_2_42_0__12834;srepoch=1727796262;srpvid=6b066c51ed76067f;type=total;ucfs=1&#map_opened-hotel_address",
         "ibis London Blackfriars"
        ],
        [
         "1",
         "https://www.petitfute.com/v62250-kew/actualite/m17-top-10-insolites-voyage/a11635-que-faire-a-londres-a-noel-les-14-activites-incontournables.html",
         "https://www.booking.com/hotel/gb/ibis-london-blackfriars.fr.html?aid=2324560&no_rooms=1&group_adults=2&label=actu-londres-noel",
         "ibis London Blackfriars"
        ],
        [
         "2",
         "https://www.petitfute.com/v62250-kew/actualite/m17-top-10-insolites-voyage/a11635-que-faire-a-londres-a-noel-les-14-activites-incontournables.html",
         "https://www.booking.com/hotel/gb/therookery.fr.html?aid=2324560&no_rooms=1&group_adults=2&label=actu-londres-noel",
         "The Rookery"
        ],
        [
         "3",
         "https://www.petitfute.com/v62250-kew/actualite/m17-top-10-insolites-voyage/a11635-que-faire-a-londres-a-noel-les-14-activites-incontournables.html",
         "https://www.booking.com/hotel/gb/sanderson.fr.html?aid=2324560&no_rooms=1&group_adults=2&label=actu-londres-noel",
         "Sanderson London"
        ],
        [
         "4",
         "https://www.petitfute.com/v48299-bangli/actualite/m17-top-10-insolites-voyage/a11947-les-10-etapes-incontournables-pour-une-escapade-a-bali.html",
         "https://www.booking.com/hotel/id/sanak-retreat-bali.fr.html?aid=2324560&no_rooms=1&group_adults=2&label=que_faire_bali",
         "Sanak Retreat Bali"
        ],
        [
         "5",
         "https://www.petitfute.com/v48299-bangli/actualite/m17-top-10-insolites-voyage/a11947-les-10-etapes-incontournables-pour-une-escapade-a-bali.html",
         "https://www.booking.com/hotel/id/pramana-watu-kurung-resort.fr.html?aid=2324560&no_rooms=1&group_adults=2&label=que_faire_bali",
         "Pramana Watu Kurung"
        ],
        [
         "6",
         "https://www.petitfute.com/v48299-bangli/actualite/m17-top-10-insolites-voyage/a11947-les-10-etapes-incontournables-pour-une-escapade-a-bali.html",
         "https://www.booking.com/hotel/id/the-sankara-suite-and-villa-ubud.fr.html?aid=2324560&no_rooms=1&group_adults=2&label=que_faire_bali",
         "The Sankara Suites and Villas"
        ],
        [
         "7",
         "https://www.petitfute.com/v49846-genes/actualite/m17-top-10-insolites-voyage/a13620-que-faire-a-genes-les-17-incontournables-a-visiter.html",
         "https://www.booking.com/hotel/it/ostellin-genova-hostel-genoa.fr.html?aid=2324560&label=actu_incontournables_genes",
         "OStellin Genova Hostel"
        ],
        [
         "8",
         "https://www.petitfute.com/v49846-genes/actualite/m17-top-10-insolites-voyage/a13620-que-faire-a-genes-les-17-incontournables-a-visiter.html",
         "https://www.booking.com/hotel/it/b-amp-b-genova.fr.html?aid=2324560&label=actu_incontournables_gene",
         "B&B Hotel Genova Principe"
        ],
        [
         "9",
         "https://www.petitfute.com/v49846-genes/actualite/m17-top-10-insolites-voyage/a13620-que-faire-a-genes-les-17-incontournables-a-visiter.html",
         "https://www.booking.com/hotel/it/palazzo-grillo.fr.html?aid=2324560&label=actu_incontournables_genes",
         "Hotel Palazzo Grillo"
        ],
        [
         "10",
         "https://www.petitfute.com/v48986-copenhague/actualite/m17-top-10-insolites-voyage/a18238-les-incontournables-de-copenhague.html",
         "https://www.booking.com/hotel/dk/steel-house-copenhagen.fr.html?aid=2324560&no_rooms=1&group_adults=2&label=actu_quefaire_copenhague",
         "Steel House Copenhagen"
        ],
        [
         "11",
         "https://www.petitfute.com/v48986-copenhague/actualite/m17-top-10-insolites-voyage/a18238-les-incontournables-de-copenhague.html",
         "https://www.booking.com/hotel/dk/christian-iv.fr.html?aid=2324560&no_rooms=1&group_adults=2&label=actu_quefaire_copenhague",
         "Hotel Petra"
        ],
        [
         "12",
         "https://www.petitfute.com/v48986-copenhague/actualite/m17-top-10-insolites-voyage/a18238-les-incontournables-de-copenhague.html",
         "https://www.booking.com/hotel/dk/alexandra.fr.html?aid=2324560&no_rooms=1&group_adults=2&label=actu_quefaire_copenhague",
         "Hotel Alexandra"
        ],
        [
         "13",
         "https://www.petitfute.com/v48159-marrakech/actualite/m17-top-10-insolites-voyage/a18462-que-faire-a-marrakech-les-15-incontournables.html",
         "https://www.booking.com/hotel/ma/riad-le-rihani.en.html?aid=2324560",
         "Riad Le Rihani"
        ],
        [
         "14",
         "https://www.petitfute.com/v48159-marrakech/actualite/m17-top-10-insolites-voyage/a18462-que-faire-a-marrakech-les-15-incontournables.html",
         "https://www.booking.com/hotel/ma/riad-dia.fr.html?aid=2324560&no_rooms=1&group_adults=2&label=que_faire_marrakech",
         "Riad Dia"
        ],
        [
         "15",
         "https://www.petitfute.com/v48159-marrakech/actualite/m17-top-10-insolites-voyage/a18462-que-faire-a-marrakech-les-15-incontournables.html",
         "https://www.booking.com/hotel/ma/riad-matham.fr.html?aid=2324560&no_rooms=1&group_adults=2&label=que_faire_marrakech",
         "Riad Matham"
        ],
        [
         "16",
         "https://www.petitfute.com/v50580-valence/actualite/m17-top-10-insolites-voyage/a29645-que-faire-a-valence-en-espagne-les-19-incontournables.html",
         "https://www.booking.com/hotel/es/hostal-antigua-morellana.en.html?aid=2324560&label=actu_quefaire_valence_espagne",
         "Hostal Antigua Morellana"
        ],
        [
         "17",
         "https://www.petitfute.com/v50580-valence/actualite/m17-top-10-insolites-voyage/a29645-que-faire-a-valence-en-espagne-les-19-incontournables.html",
         "https://www.booking.com/hotel/es/the-westin-alameda-valencia.en.html?aid=2324560&label=actu_quefaire_valence_espagne",
         "The Westin Valencia"
        ],
        [
         "18",
         "https://www.petitfute.com/v50580-valence/actualite/m17-top-10-insolites-voyage/a29645-que-faire-a-valence-en-espagne-les-19-incontournables.html",
         "https://www.booking.com/hotel/es/miramar-valencia.en.html?aid=2324560&label=actu_quefaire_valence_espagne",
         "Hotel Miramar Valencia"
        ],
        [
         "19",
         "https://www.petitfute.com/v50580-valence/actualite/m17-top-10-insolites-voyage/a29645-que-faire-a-valence-en-espagne-les-19-incontournables.html",
         "https://www.booking.com/hotel/es/miramar-valencia.en.html?aid=2324560",
         "Hotel Miramar Valencia"
        ],
        [
         "20",
         "https://www.petitfute.com/v39823-rome/actualite/m17-top-10-insolites-voyage/a30996-comment-visiter-rome-en-3-jours-conseils-ditineraire-a-faire.html ",
         "https://www.booking.com/hotel/it/locanda-carmel.fr.html?aid=2324560&label=rome-3jours",
         "Hotel Carmel"
        ],
        [
         "21",
         "https://www.petitfute.com/v39823-rome/actualite/m17-top-10-insolites-voyage/a30996-comment-visiter-rome-en-3-jours-conseils-ditineraire-a-faire.html ",
         "https://www.booking.com/hotel/it/hotelgardaroma.fr.html?aid=2324560",
         "Hotel Garda"
        ],
        [
         "22",
         "https://www.petitfute.com/v39823-rome/actualite/m17-top-10-insolites-voyage/a30996-comment-visiter-rome-en-3-jours-conseils-ditineraire-a-faire.html ",
         "https://www.booking.com/hotel/it/grifo.fr.html?aid=2324560&label=rome-3jours",
         "Hotel Grifo"
        ],
        [
         "23",
         "https://www.petitfute.com/v51354-naples/actualite/m17-top-10-insolites-voyage/a31152-comment-visiter-naples-en-3-jours-conseils-d-itineraire.html",
         "https://www.booking.com/hotel/it/hotelcasanova.fr.html?aid=2324560",
         "Hotel Casanova"
        ],
        [
         "24",
         "https://www.petitfute.com/v51354-naples/actualite/m17-top-10-insolites-voyage/a31152-comment-visiter-naples-en-3-jours-conseils-d-itineraire.html",
         "https://www.booking.com/hotel/it/hostelofthesunapoli.fr.html?aid=2324560&label=naples-3jours",
         "Hostel of the Sun"
        ],
        [
         "25",
         "https://www.petitfute.com/v51354-naples/actualite/m17-top-10-insolites-voyage/a31152-comment-visiter-naples-en-3-jours-conseils-d-itineraire.html",
         "https://www.booking.com/hotel/it/palazzo-alabardieri.fr.html?aid=2324560",
         "Palazzo Alabardieri"
        ],
        [
         "26",
         "https://www.petitfute.com/v42286-barcelone/actualite/m17-top-10-insolites-voyage/a31405-que-faire-a-barcelone-en-3-jours-conseils-d-itineraire.html",
         "https://www.booking.com/hotel/es/hostal-fernando.fr.html?aid=356980&label=gog235jc-1FCAsoRkIPaG9zdGFsLWZlcm5hbmRvSA1YA2hNiAEBmAENuAEHyAEM2AEB6AEB-AECiAIBqAIDuAK6_MjABsACAdICJDZmYjlmOWVlLTAyZjgtNGRjYi05NTg4LTRmMjBkZTI2MzhjY9gCBeACAQ&sid=6638e020b5a28e553d7f5e1410fafe86&age=1&all_sr_blocks=17314803_105612970_0_2_0&checkin=2025-06-26&checkout=2025-06-29&dest_id=-372490&dest_type=city&dist=0&group_adults=2&group_children=0&hapos=1&highlighted_blocks=17314803_105612970_0_2_0&hpos=1&matching_block_id=17314803_105612970_0_2_0&no_rooms=1&req_adults=2&req_children=0&room1=A%2CA&sb_price_type=total&sr_order=popularity&sr_pri_blocks=17314803_105612970_0_2_0__54897&srepoch=1746026053&srpvid=bb756b1dff04044a&type=total&ucfs=1&#map_opened-map_trigger_header_pin",
         "Hostal Fernando"
        ],
        [
         "27",
         "https://www.petitfute.com/v42286-barcelone/actualite/m17-top-10-insolites-voyage/a31405-que-faire-a-barcelone-en-3-jours-conseils-d-itineraire.html",
         "https://www.booking.com/hotel/es/hostal-fernando.fr.html?aid=2324560&label=3jours_barcelone",
         "Hostal Fernando"
        ],
        [
         "28",
         "https://www.petitfute.com/v42286-barcelone/actualite/m17-top-10-insolites-voyage/a31405-que-faire-a-barcelone-en-3-jours-conseils-d-itineraire.html",
         "https://www.booking.com/hotel/es/hostal-fernando.fr.html?aid=356980&label=gog235jc-1FCAsoRkIPaG9zdGFsLWZlcm5hbmRvSA1YA2hNiAEBmAENuAEHyAEM2AEB6AEB-AECiAIBqAIDuAK6_MjABsACAdICJDZmYjlmOWVlLTAyZjgtNGRjYi05NTg4LTRmMjBkZTI2MzhjY9gCBeACAQ&sid=6638e020b5a28e553d7f5e1410fafe86&age=1&all_sr_blocks=17314803_105612970_0_2_0&checkin=2025-06-26&checkout=2025-06-29&dest_id=-372490&dest_type=city&dist=0&group_adults=2&group_children=0&hapos=1&highlighted_blocks=17314803_105612970_0_2_0&hpos=1&matching_block_id=17314803_105612970_0_2_0&no_rooms=1&req_adults=2&req_children=0&room1=A%2CA&sb_price_type=total&sr_order=popularity&sr_pri_blocks=17314803_105612970_0_2_0__54897&srepoch=1746026053&srpvid=bb756b1dff04044a&type=total&ucfs=1&#map_opened-map_trigger_header_pin",
         "Hostal Fernando"
        ],
        [
         "29",
         "https://www.petitfute.com/v42286-barcelone/actualite/m17-top-10-insolites-voyage/a31405-que-faire-a-barcelone-en-3-jours-conseils-d-itineraire.html",
         "https://www.booking.com/hotel/es/yellow-nest-hostel.fr.html?aid=356980&label=gog235jc-1FCAsoRkISeWVsbG93LW5lc3QtaG9zdGVsSA1YA2hNiAEBmAENuAEHyAEM2AEB6AEB-AECiAIBqAIDuALl_cjABsACAdICJGY5MzA1YWI3LTI4YTctNDIyMy1iYjIwLWY5ZmFlOGYzZTc5Y9gCBeACAQ&sid=6638e020b5a28e553d7f5e1410fafe86&age=1&all_sr_blocks=31117701_170582352_0_0_0%2C31117701_170582352_0_0_0&checkin=2025-06-26&checkout=2025-06-29&dest_id=-372490&dest_type=city&dist=0&group_adults=2&group_children=0&hapos=1&highlighted_blocks=31117701_170582352_0_0_0%2C31117701_170582352_0_0_0&hpos=1&matching_block_id=31117701_170582352_0_0_0&no_rooms=1&req_adults=2&req_children=0&room1=A%2CA&sb_price_type=total&sr_order=popularity&sr_pri_blocks=31117701_170582352_0_0_0__14177%2C31117701_170582352_0_0_0__14177&srepoch=1746026224&srpvid=54b46b73b3630326&type=total&ucfs=1&#map_opened-map_trigger_header_pin",
         "Onefam Les Corts"
        ],
        [
         "30",
         "https://www.petitfute.com/v42286-barcelone/actualite/m17-top-10-insolites-voyage/a31405-que-faire-a-barcelone-en-3-jours-conseils-d-itineraire.html",
         "https://www.booking.com/hotel/es/yellow-nest-hostel.fr.html?aid=2324560&label=3jours_barcelone",
         "Onefam Les Corts"
        ],
        [
         "31",
         "https://www.petitfute.com/v42286-barcelone/actualite/m17-top-10-insolites-voyage/a31405-que-faire-a-barcelone-en-3-jours-conseils-d-itineraire.html",
         "https://www.booking.com/hotel/es/yellow-nest-hostel.fr.html?aid=356980&label=gog235jc-1FCAsoRkISeWVsbG93LW5lc3QtaG9zdGVsSA1YA2hNiAEBmAENuAEHyAEM2AEB6AEB-AECiAIBqAIDuALl_cjABsACAdICJGY5MzA1YWI3LTI4YTctNDIyMy1iYjIwLWY5ZmFlOGYzZTc5Y9gCBeACAQ&sid=6638e020b5a28e553d7f5e1410fafe86&age=1&all_sr_blocks=31117701_170582352_0_0_0%2C31117701_170582352_0_0_0&checkin=2025-06-26&checkout=2025-06-29&dest_id=-372490&dest_type=city&dist=0&group_adults=2&group_children=0&hapos=1&highlighted_blocks=31117701_170582352_0_0_0%2C31117701_170582352_0_0_0&hpos=1&matching_block_id=31117701_170582352_0_0_0&no_rooms=1&req_adults=2&req_children=0&room1=A%2CA&sb_price_type=total&sr_order=popularity&sr_pri_blocks=31117701_170582352_0_0_0__14177%2C31117701_170582352_0_0_0__14177&srepoch=1746026224&srpvid=54b46b73b3630326&type=total&ucfs=1&#map_opened-map_trigger_header_pin",
         "Onefam Les Corts"
        ],
        [
         "32",
         "https://www.petitfute.com/v42286-barcelone/actualite/m17-top-10-insolites-voyage/a31405-que-faire-a-barcelone-en-3-jours-conseils-d-itineraire.html",
         "https://www.booking.com/hotel/es/w-barcelona.fr.html?aid=2324560&label=3jours_barcelone",
         "W Barcelona"
        ],
        [
         "33",
         "https://www.petitfute.com/v50459-londres/actualite/m17-top-10-insolites-voyage/a31484-que-faire-a-londres-en-3-jours-conseils-ditineraire.html ",
         "https://www.booking.com/hotel/gb/ibis-london-city.fr.html?aid=2324560&no_rooms=1&group_adults=2&label=actu_3jours_londres",
         "ibis London City - Shoreditch"
        ],
        [
         "34",
         "https://www.petitfute.com/v50459-londres/actualite/m17-top-10-insolites-voyage/a31484-que-faire-a-londres-en-3-jours-conseils-ditineraire.html ",
         "https://www.booking.com/hotel/gb/blakemore.fr.html?aid=2324560&no_rooms=1&group_adults=2&label=actu_3jours_londres",
         "Blakemore Hyde Park"
        ],
        [
         "35",
         "https://www.petitfute.com/v50459-londres/actualite/m17-top-10-insolites-voyage/a31484-que-faire-a-londres-en-3-jours-conseils-ditineraire.html ",
         "https://www.booking.com/hotel/gb/notting-hill-hostel.fr.html?aid=2324560&no_rooms=1&group_adults=2&label=londres_3_jours",
         "Onefam Notting Hill"
        ],
        [
         "36",
         "https://www.petitfute.com/v48153-berlin/actualite/m17-top-10-insolites-voyage/a32105-que-faire-et-que-voir-a-berlin-en-3-jours.html",
         "https://www.booking.com/hotel/de/meininger-berlin-mitte.fr.html?aid=2324560&no_rooms=1&group_adults=2&label=actu_3joursberlin",
         "MEININGER Hotel Berlin Mitte"
        ],
        [
         "37",
         "https://www.petitfute.com/v48153-berlin/actualite/m17-top-10-insolites-voyage/a32105-que-faire-et-que-voir-a-berlin-en-3-jours.html",
         "https://www.booking.com/hotel/de/eastern-comfort-hostel-boat.fr.html?aid=2324560&no_rooms=1&group_adults=2&label=actu_3joursberlin",
         "Shipotel-Berlin GmbH, Shipotel Eastern & Shipotel Western"
        ],
        [
         "38",
         "https://www.petitfute.com/v48153-berlin/actualite/m17-top-10-insolites-voyage/a32105-que-faire-et-que-voir-a-berlin-en-3-jours.html",
         "https://www.booking.com/hotel/de/nhow-berlin.fr.html?aid=2324560&no_rooms=1&group_adults=2&label=actu_3joursberlin",
         "nhow Berlin"
        ],
        [
         "39",
         "https://www.petitfute.com/v48153-berlin/actualite/m17-top-10-insolites-voyage/a32105-que-faire-et-que-voir-a-berlin-en-3-jours.html",
         "https://www.booking.com/hotel/de/meininger-berlin-mitte.fr.html?aid=2324560&no_rooms=1&group_adults=2&label=actu_3joursberlin",
         "MEININGER Hotel Berlin Mitte"
        ],
        [
         "40",
         "https://www.petitfute.com/v48153-berlin/actualite/m17-top-10-insolites-voyage/a32105-que-faire-et-que-voir-a-berlin-en-3-jours.html",
         "https://www.booking.com/hotel/de/eastern-comfort-hostel-boat.fr.html?aid=2324560&no_rooms=1&group_adults=2&label=actu_3joursberlin",
         "Shipotel-Berlin GmbH, Shipotel Eastern & Shipotel Western"
        ],
        [
         "41",
         "https://www.petitfute.com/v48153-berlin/actualite/m17-top-10-insolites-voyage/a32105-que-faire-et-que-voir-a-berlin-en-3-jours.html",
         "https://www.booking.com/hotel/de/nhow-berlin.fr.html?aid=2324560&no_rooms=1&group_adults=2&label=actu_3joursberlin",
         "nhow Berlin"
        ],
        [
         "42",
         "https://www.petitfute.com/v41612-koh-phi-phi-leh/actualite/m17-top-10-insolites-voyage/a32655-que-faire-que-visiter-a-phuket-top-19-des-activites-incontournables.html",
         "https://www.booking.com/hotel/th/the-surin-phuket.fr.html?aid=2324560&no_rooms=1&group_adults=2&label=actu_incontournables_phuket",
         "The Surin Phuket"
        ],
        [
         "43",
         "https://www.petitfute.com/v41612-koh-phi-phi-leh/actualite/m17-top-10-insolites-voyage/a32655-que-faire-que-visiter-a-phuket-top-19-des-activites-incontournables.html",
         "https://www.booking.com/hotel/th/centara-grand-beach-resort-phuket.fr.html?aid=2324560&no_rooms=1&group_adults=2&label=actu_incontournables_phuket",
         "Centara Grand Beach Resort Phuket"
        ],
        [
         "44",
         "https://www.petitfute.com/v41612-koh-phi-phi-leh/actualite/m17-top-10-insolites-voyage/a32655-que-faire-que-visiter-a-phuket-top-19-des-activites-incontournables.html",
         "https://www.booking.com/hotel/th/cape-panwa.fr.html?aid=2324560&no_rooms=1&group_adults=2&label=actu_incontournables_phuket",
         "Cape Panwa Hotel Phuket"
        ],
        [
         "45",
         "https://www.petitfute.com/d1581-paros/actualite/m17-top-10-insolites-voyage/a36143-que-faire-que-visiter-a-paros-les-15-activites-incontournables.html",
         "https://www.booking.com/hotel/gr/akrotiri-akrotiri.fr.html?aid=2324560&no_rooms=1&group_adults=2&label=actu_incontournables_paros",
         "Akrotiri Hotel"
        ],
        [
         "46",
         "https://www.petitfute.com/d1581-paros/actualite/m17-top-10-insolites-voyage/a36143-que-faire-que-visiter-a-paros-les-15-activites-incontournables.html",
         "https://www.booking.com/hotel/gr/kanale-s-rooms-suites-naoussa.fr.html?aid=2324560&no_rooms=1&group_adults=2&label=actu_incontournables_paros",
         "Kanale's Rooms & Suites"
        ],
        [
         "47",
         "https://www.petitfute.com/d1581-paros/actualite/m17-top-10-insolites-voyage/a36143-que-faire-que-visiter-a-paros-les-15-activites-incontournables.html",
         "https://www.booking.com/hotel/gr/aloni.fr.html?aid=2324560&no_rooms=1&group_adults=2&label=actu_incontournables_paros",
         "Aloni Hotel & Suites"
        ],
        [
         "48",
         "https://www.petitfute.com/v44465-hammamet-8050/actualite/m17-top-10-insolites-voyage/a36296-que-visiter-a-hammamet-les-11-incontournables-a-faire-2.html",
         "https://www.booking.com/hotel/tn/le-sultan.fr.html?aid=2324560&no_rooms=1&group_adults=2&label=actu_incontournables_hammamet",
         "Le Sultan"
        ],
        [
         "49",
         "https://www.petitfute.com/v44465-hammamet-8050/actualite/m17-top-10-insolites-voyage/a36296-que-visiter-a-hammamet-les-11-incontournables-a-faire-2.html",
         "https://www.booking.com/hotel/tn/the-sindbad-hammamet.fr.html?aid=2324560&no_rooms=1&group_adults=2&label=actu_incontournables_hammamet",
         "The Sindbad"
        ]
       ],
       "shape": {
        "columns": 3,
        "rows": 279
       }
      },
      "text/html": [
       "<div>\n",
       "<style scoped>\n",
       "    .dataframe tbody tr th:only-of-type {\n",
       "        vertical-align: middle;\n",
       "    }\n",
       "\n",
       "    .dataframe tbody tr th {\n",
       "        vertical-align: top;\n",
       "    }\n",
       "\n",
       "    .dataframe thead th {\n",
       "        text-align: right;\n",
       "    }\n",
       "</style>\n",
       "<table border=\"1\" class=\"dataframe\">\n",
       "  <thead>\n",
       "    <tr style=\"text-align: right;\">\n",
       "      <th></th>\n",
       "      <th>URL</th>\n",
       "      <th>booking_links</th>\n",
       "      <th>balise_h2</th>\n",
       "    </tr>\n",
       "  </thead>\n",
       "  <tbody>\n",
       "    <tr>\n",
       "      <th>0</th>\n",
       "      <td>https://www.petitfute.com/v62250-kew/actualite...</td>\n",
       "      <td>https://www.booking.com/hotel/gb/ibis-london-b...</td>\n",
       "      <td>ibis London Blackfriars</td>\n",
       "    </tr>\n",
       "    <tr>\n",
       "      <th>1</th>\n",
       "      <td>https://www.petitfute.com/v62250-kew/actualite...</td>\n",
       "      <td>https://www.booking.com/hotel/gb/ibis-london-b...</td>\n",
       "      <td>ibis London Blackfriars</td>\n",
       "    </tr>\n",
       "    <tr>\n",
       "      <th>2</th>\n",
       "      <td>https://www.petitfute.com/v62250-kew/actualite...</td>\n",
       "      <td>https://www.booking.com/hotel/gb/therookery.fr...</td>\n",
       "      <td>The Rookery</td>\n",
       "    </tr>\n",
       "    <tr>\n",
       "      <th>3</th>\n",
       "      <td>https://www.petitfute.com/v62250-kew/actualite...</td>\n",
       "      <td>https://www.booking.com/hotel/gb/sanderson.fr....</td>\n",
       "      <td>Sanderson London</td>\n",
       "    </tr>\n",
       "    <tr>\n",
       "      <th>4</th>\n",
       "      <td>https://www.petitfute.com/v48299-bangli/actual...</td>\n",
       "      <td>https://www.booking.com/hotel/id/sanak-retreat...</td>\n",
       "      <td>Sanak Retreat Bali</td>\n",
       "    </tr>\n",
       "    <tr>\n",
       "      <th>...</th>\n",
       "      <td>...</td>\n",
       "      <td>...</td>\n",
       "      <td>...</td>\n",
       "    </tr>\n",
       "    <tr>\n",
       "      <th>274</th>\n",
       "      <td>https://www.petitfute.com/v52913-varsovie-wars...</td>\n",
       "      <td>https://www.booking.com/hotel/pl/novotelwarsza...</td>\n",
       "      <td>Novotel Warszawa Centrum</td>\n",
       "    </tr>\n",
       "    <tr>\n",
       "      <th>275</th>\n",
       "      <td>https://www.petitfute.com/v52913-varsovie-wars...</td>\n",
       "      <td>https://www.booking.com/hotel/pl/sofitelvictor...</td>\n",
       "      <td>Sofitel Warsaw Victoria</td>\n",
       "    </tr>\n",
       "    <tr>\n",
       "      <th>276</th>\n",
       "      <td>https://www.petitfute.com/v52913-varsovie-wars...</td>\n",
       "      <td>https://www.booking.com/hotel/pl/sofitelvictor...</td>\n",
       "      <td>Sofitel Warsaw Victoria</td>\n",
       "    </tr>\n",
       "    <tr>\n",
       "      <th>277</th>\n",
       "      <td>https://www.petitfute.com/v52913-varsovie-wars...</td>\n",
       "      <td>https://www.booking.com/hotel/pl/holiday-inn-w...</td>\n",
       "      <td>Mercure Warszawa Centrum</td>\n",
       "    </tr>\n",
       "    <tr>\n",
       "      <th>278</th>\n",
       "      <td>https://www.petitfute.com/v52913-varsovie-wars...</td>\n",
       "      <td>https://www.booking.com/hotel/pl/holiday-inn-w...</td>\n",
       "      <td>Mercure Warszawa Centrum</td>\n",
       "    </tr>\n",
       "  </tbody>\n",
       "</table>\n",
       "<p>279 rows × 3 columns</p>\n",
       "</div>"
      ],
      "text/plain": [
       "                                                   URL  \\\n",
       "0    https://www.petitfute.com/v62250-kew/actualite...   \n",
       "1    https://www.petitfute.com/v62250-kew/actualite...   \n",
       "2    https://www.petitfute.com/v62250-kew/actualite...   \n",
       "3    https://www.petitfute.com/v62250-kew/actualite...   \n",
       "4    https://www.petitfute.com/v48299-bangli/actual...   \n",
       "..                                                 ...   \n",
       "274  https://www.petitfute.com/v52913-varsovie-wars...   \n",
       "275  https://www.petitfute.com/v52913-varsovie-wars...   \n",
       "276  https://www.petitfute.com/v52913-varsovie-wars...   \n",
       "277  https://www.petitfute.com/v52913-varsovie-wars...   \n",
       "278  https://www.petitfute.com/v52913-varsovie-wars...   \n",
       "\n",
       "                                         booking_links  \\\n",
       "0    https://www.booking.com/hotel/gb/ibis-london-b...   \n",
       "1    https://www.booking.com/hotel/gb/ibis-london-b...   \n",
       "2    https://www.booking.com/hotel/gb/therookery.fr...   \n",
       "3    https://www.booking.com/hotel/gb/sanderson.fr....   \n",
       "4    https://www.booking.com/hotel/id/sanak-retreat...   \n",
       "..                                                 ...   \n",
       "274  https://www.booking.com/hotel/pl/novotelwarsza...   \n",
       "275  https://www.booking.com/hotel/pl/sofitelvictor...   \n",
       "276  https://www.booking.com/hotel/pl/sofitelvictor...   \n",
       "277  https://www.booking.com/hotel/pl/holiday-inn-w...   \n",
       "278  https://www.booking.com/hotel/pl/holiday-inn-w...   \n",
       "\n",
       "                    balise_h2  \n",
       "0     ibis London Blackfriars  \n",
       "1     ibis London Blackfriars  \n",
       "2                 The Rookery  \n",
       "3            Sanderson London  \n",
       "4          Sanak Retreat Bali  \n",
       "..                        ...  \n",
       "274  Novotel Warszawa Centrum  \n",
       "275   Sofitel Warsaw Victoria  \n",
       "276   Sofitel Warsaw Victoria  \n",
       "277  Mercure Warszawa Centrum  \n",
       "278  Mercure Warszawa Centrum  \n",
       "\n",
       "[279 rows x 3 columns]"
      ]
     },
     "execution_count": 20,
     "metadata": {},
     "output_type": "execute_result"
    }
   ],
   "source": [
    "df_tmp"
   ]
  },
  {
   "cell_type": "code",
   "execution_count": null,
   "metadata": {},
   "outputs": [],
   "source": [
    "https://www.booking.com/hotel/pl/novotelwarszawacentrumwarszawa.fr.html?aid=2324560&no_rooms=1&group_adults=2&label=actu-quefaire-varsovie"
   ]
  },
  {
   "cell_type": "code",
   "execution_count": 45,
   "metadata": {},
   "outputs": [
    {
     "data": {
      "application/vnd.microsoft.datawrangler.viewer.v0+json": {
       "columns": [
        {
         "name": "index",
         "rawType": "int64",
         "type": "integer"
        },
        {
         "name": "URL",
         "rawType": "object",
         "type": "string"
        },
        {
         "name": "booking_links",
         "rawType": "object",
         "type": "string"
        },
        {
         "name": "type",
         "rawType": "object",
         "type": "string"
        },
        {
         "name": "nom_hotel",
         "rawType": "object",
         "type": "string"
        }
       ],
       "ref": "6769794c-c986-4e3b-99dd-387152a394a9",
       "rows": [],
       "shape": {
        "columns": 4,
        "rows": 0
       }
      },
      "text/html": [
       "<div>\n",
       "<style scoped>\n",
       "    .dataframe tbody tr th:only-of-type {\n",
       "        vertical-align: middle;\n",
       "    }\n",
       "\n",
       "    .dataframe tbody tr th {\n",
       "        vertical-align: top;\n",
       "    }\n",
       "\n",
       "    .dataframe thead th {\n",
       "        text-align: right;\n",
       "    }\n",
       "</style>\n",
       "<table border=\"1\" class=\"dataframe\">\n",
       "  <thead>\n",
       "    <tr style=\"text-align: right;\">\n",
       "      <th></th>\n",
       "      <th>URL</th>\n",
       "      <th>booking_links</th>\n",
       "      <th>type</th>\n",
       "      <th>nom_hotel</th>\n",
       "    </tr>\n",
       "  </thead>\n",
       "  <tbody>\n",
       "  </tbody>\n",
       "</table>\n",
       "</div>"
      ],
      "text/plain": [
       "Empty DataFrame\n",
       "Columns: [URL, booking_links, type, nom_hotel]\n",
       "Index: []"
      ]
     },
     "execution_count": 45,
     "metadata": {},
     "output_type": "execute_result"
    }
   ],
   "source": [
    "df_tmp[df_tmp['nom_hotel'].str.lower().str.contains('conquistador')]"
   ]
  },
  {
   "cell_type": "code",
   "execution_count": null,
   "metadata": {},
   "outputs": [],
   "source": []
  },
  {
   "cell_type": "code",
   "execution_count": 30,
   "metadata": {},
   "outputs": [
    {
     "data": {
      "application/vnd.microsoft.datawrangler.viewer.v0+json": {
       "columns": [
        {
         "name": "index",
         "rawType": "int64",
         "type": "integer"
        },
        {
         "name": "Booking date",
         "rawType": "object",
         "type": "string"
        },
        {
         "name": "Booking number",
         "rawType": "int64",
         "type": "integer"
        },
        {
         "name": "Check-in date",
         "rawType": "object",
         "type": "string"
        },
        {
         "name": "Check-out date",
         "rawType": "object",
         "type": "string"
        },
        {
         "name": "Length of stay",
         "rawType": "int64",
         "type": "integer"
        },
        {
         "name": "Booking window",
         "rawType": "int64",
         "type": "integer"
        },
        {
         "name": "Status",
         "rawType": "object",
         "type": "string"
        },
        {
         "name": "Your commission",
         "rawType": "float64",
         "type": "float"
        },
        {
         "name": "Commission %",
         "rawType": "float64",
         "type": "float"
        },
        {
         "name": "Credit slip ",
         "rawType": "float64",
         "type": "float"
        },
        {
         "name": "Property name",
         "rawType": "object",
         "type": "string"
        },
        {
         "name": "Property type",
         "rawType": "object",
         "type": "string"
        },
        {
         "name": "Country",
         "rawType": "object",
         "type": "string"
        },
        {
         "name": "City",
         "rawType": "object",
         "type": "string"
        },
        {
         "name": "UFI",
         "rawType": "int64",
         "type": "integer"
        },
        {
         "name": "Affiliate ID",
         "rawType": "int64",
         "type": "integer"
        },
        {
         "name": "Label",
         "rawType": "object",
         "type": "string"
        },
        {
         "name": "Booker country",
         "rawType": "object",
         "type": "string"
        },
        {
         "name": "Booker language",
         "rawType": "object",
         "type": "string"
        },
        {
         "name": "User device",
         "rawType": "object",
         "type": "string"
        },
        {
         "name": "Travel purpose",
         "rawType": "object",
         "type": "string"
        }
       ],
       "ref": "cb8677ef-879d-41be-ba1b-216e9abb5925",
       "rows": [
        [
         "0",
         "10/8/2025",
         "5362867269",
         "10/27/2025",
         "10/28/2025",
         "1",
         "19",
         "Booked",
         "3.56",
         "40.0",
         null,
         "La petite danseuse",
         "Holiday home",
         "FR",
         "Franquevielle",
         "-1428038",
         "1180643",
         "petitfute-BoxOSV-POI",
         "France",
         "FR",
         "Mobile Browser",
         "LEISURE"
        ],
        [
         "1",
         "10/8/2025",
         "5223394350",
         "11/8/2025",
         "11/11/2025",
         "3",
         "31",
         "Booked",
         "20.13",
         "40.0",
         null,
         "Hotel Julian",
         "Hotel",
         "CZ",
         "Prague",
         "-553173",
         "2324560",
         "actu-3jours-prague",
         "Belgium",
         "FR",
         "Desktop",
         "LEISURE"
        ],
        [
         "2",
         "10/8/2025",
         "5784114772",
         "12/17/2025",
         "12/19/2025",
         "2",
         "70",
         "Booked",
         "9.81",
         "40.0",
         null,
         "Los Lagos Lodge",
         "Lodge",
         "CR",
         "San Gerardo de Dota",
         "900052668",
         "1180643",
         "conf_email_print",
         "France",
         "FR",
         "Desktop",
         "UNKNOWN"
        ],
        [
         "3",
         "10/8/2025",
         "5804108674",
         "12/12/2025",
         "12/14/2025",
         "2",
         "65",
         "Booked",
         "10.74",
         "40.0",
         null,
         "Hotel Villas Rio Mar",
         "Hotel",
         "CR",
         "Dominical",
         "-1107038",
         "1180643",
         "conf_email_print",
         "France",
         "FR",
         "Desktop",
         "UNKNOWN"
        ],
        [
         "4",
         "10/8/2025",
         "6162599111",
         "12/10/2025",
         "12/12/2025",
         "2",
         "63",
         "Booked",
         "7.07",
         "40.0",
         null,
         "Seaview studio's, free breakfast & park tour",
         "Bed and Breakfast",
         "CR",
         "Quepos",
         "-1108763",
         "1180643",
         "conf_email_print",
         "France",
         "FR",
         "Desktop",
         "UNKNOWN"
        ],
        [
         "5",
         "10/8/2025",
         "5011460994",
         "10/12/2025",
         "10/13/2025",
         "1",
         "4",
         "Booked",
         "4.01",
         "40.0",
         null,
         "La Suite Hotel Agadir Adults Only",
         "Hotel",
         "MA",
         "Agadir",
         "-20029",
         "1180643",
         "petitfute-BoxOSV-Actualites",
         "Morocco",
         "FR",
         "Mobile Browser",
         "LEISURE"
        ],
        [
         "6",
         "10/8/2025",
         "5702501333",
         "10/8/2025",
         "10/9/2025",
         "1",
         "0",
         "Booked",
         "5.7",
         "40.0",
         null,
         "La côte des Blancs - Domaine viticole & maison d'hôtes",
         "Guest house",
         "FR",
         "Vinzelles",
         "-1477479",
         "1180643",
         "petitfute-HeaderMobileOSV-ListingPOI",
         "Italy",
         "IT",
         "App",
         "BUSINESS"
        ],
        [
         "7",
         "10/8/2025",
         "6125539364",
         "2/1/2026",
         "2/7/2026",
         "6",
         "116",
         "Booked",
         "355.1",
         "40.0",
         null,
         "Appartements Berger Kitzbühel",
         "Apartment",
         "AT",
         "Kitzbühel",
         "-1982333",
         "1180643",
         "petitfute-bouton_reserver-Autres",
         "France",
         "FR",
         "Desktop",
         "UNKNOWN"
        ],
        [
         "8",
         "10/8/2025",
         "6832896284",
         "10/11/2025",
         "10/13/2025",
         "2",
         "3",
         "Booked",
         "17.49",
         "40.0",
         null,
         "NH Genova Centro",
         "Hotel",
         "IT",
         "Genova",
         "-118400",
         "2324560",
         "actu_incontournables_gene",
         "France",
         "FR",
         "Unknown",
         "LEISURE"
        ],
        [
         "9",
         "10/8/2025",
         "6162504463",
         "10/13/2025",
         "10/14/2025",
         "1",
         "5",
         "Booked",
         "6.0",
         "40.0",
         null,
         "The People Lyon",
         "Hostel",
         "FR",
         "Lyon",
         "-1448468",
         "1180643",
         "petitfute-bouton_reserver-Autres",
         "France",
         "FR",
         "Mobile Browser",
         "LEISURE"
        ],
        [
         "10",
         "10/8/2025",
         "5688952591",
         "11/20/2025",
         "11/22/2025",
         "0",
         "43",
         "Cancelled by guest",
         null,
         null,
         null,
         "Les Monges Palace Boutique",
         "Hotel",
         "ES",
         "Alicante",
         "-370210",
         "2324560",
         "actu-quefaire-alicante",
         "France",
         "FR",
         "App",
         "UNKNOWN"
        ],
        [
         "11",
         "10/7/2025",
         "5086479453",
         "8/22/2026",
         "8/29/2026",
         "0",
         "319",
         "Cancelled by guest",
         null,
         null,
         null,
         "Gîtes Equestres Lou Caloun - Les Saintes Maries de la Mer",
         "Holiday home",
         "FR",
         "Saintes-Maries-de-la-Mer",
         "-1465138",
         "2324560",
         "actu_quefaire-luchon",
         "France",
         "FR",
         "App",
         "LEISURE"
        ],
        [
         "12",
         "10/7/2025",
         "5804191540",
         "10/11/2025",
         "10/12/2025",
         "1",
         "4",
         "Booked",
         "5.83",
         "40.0",
         null,
         "Le Capitaine - LeParticulier Collection",
         "ApartHotel",
         "FR",
         "Chartres",
         "-1418879",
         "1180643",
         "petitfute-Bouton-ListingPOI",
         "France",
         "FR",
         "App",
         "LEISURE"
        ],
        [
         "13",
         "10/7/2025",
         "5446205236",
         "10/10/2025",
         "10/12/2025",
         "2",
         "3",
         "Booked",
         "7.46",
         "40.0",
         null,
         "LE NID 2 QUIMPER BY Nid'Ouest",
         "Apartment",
         "FR",
         "Quimper",
         "-1460750",
         "1180643",
         "petitfute-bouton_reserver-Autres",
         "France",
         "FR",
         "App",
         "LEISURE"
        ],
        [
         "14",
         "10/7/2025",
         "5804127177",
         "10/8/2025",
         "10/10/2025",
         "2",
         "1",
         "Booked",
         "7.56",
         "40.0",
         null,
         "\"Cap Riviera\" Hotel & Restaurant Saint Aygulf",
         "Hotel",
         "FR",
         "Saint-Aygulf",
         "-1463978",
         "1180643",
         "petitfute-BoxOSV-ListingPOI",
         "France",
         "FR",
         "App",
         "LEISURE"
        ],
        [
         "15",
         "10/7/2025",
         "5606613453",
         "12/8/2025",
         "12/10/2025",
         "2",
         "62",
         "Booked",
         "8.23",
         "40.0",
         null,
         "TucanTico Lodge - Monteverde",
         "Apartment",
         "CR",
         "Monteverde",
         "-1108139",
         "1180643",
         "vizity",
         "France",
         "FR",
         "Desktop",
         "UNKNOWN"
        ],
        [
         "16",
         "10/7/2025",
         "5096887815",
         "10/7/2025",
         "10/8/2025",
         "1",
         "0",
         "Booked",
         "6.65",
         "40.0",
         null,
         "Hotel Bhoma Troyes",
         "Hotel",
         "FR",
         "Troyes",
         "-1473937",
         "2324560",
         "mkt123sc-846cb8d8-ec22-4a9a-80d3-fb547009dc66",
         "France",
         "FR",
         "Mobile Browser",
         "LEISURE"
        ],
        [
         "17",
         "10/7/2025",
         "6012046579",
         "10/8/2025",
         "10/9/2025",
         "1",
         "1",
         "Booked",
         "6.12",
         "40.0",
         null,
         "Tizzy Apartment & Rooms",
         "Bed and Breakfast",
         "IT",
         "Bari",
         "-111255",
         "1180643",
         "petitfute-bouton_reserver-Autres",
         "France",
         "FR",
         "Mobile Browser",
         "LEISURE"
        ],
        [
         "18",
         "10/7/2025",
         "6039719533",
         "12/7/2025",
         "12/8/2025",
         "1",
         "61",
         "Booked",
         "5.6",
         "40.0",
         null,
         "Villa Mango B&B",
         "Bed and Breakfast",
         "CR",
         "Nosara",
         "-1108245",
         "1180643",
         "vizity",
         "France",
         "FR",
         "Desktop",
         "UNKNOWN"
        ],
        [
         "19",
         "10/7/2025",
         "6162551464",
         "10/15/2025",
         "10/16/2025",
         "1",
         "8",
         "Booked",
         "1.79",
         "40.0",
         null,
         "Chez Vallye",
         "Camping",
         "FR",
         "Maxent",
         "-1450464",
         "1180643",
         "petitfute-bouton_reserver-Autres",
         "France",
         "FR",
         "Mobile Browser",
         "LEISURE"
        ],
        [
         "20",
         "10/7/2025",
         "6832849970",
         "12/12/2025",
         "12/14/2025",
         "2",
         "66",
         "Booked",
         "24.24",
         "40.0",
         null,
         "Palacio Pinello",
         "Hotel",
         "ES",
         "Sevilla",
         "-402849",
         "2403366",
         "actu_3jours-seville",
         "Belgium",
         "FR",
         "App",
         "LEISURE"
        ],
        [
         "21",
         "10/7/2025",
         "6012056052",
         "10/10/2025",
         "10/11/2025",
         "1",
         "3",
         "Booked",
         "3.18",
         "40.0",
         null,
         "Le Vendôme - Shared Appartment",
         "Homestay",
         "FR",
         "Lyon",
         "-1448468",
         "1180643",
         "petitfute-bouton_reserver-Autres",
         "France",
         "FR",
         "Desktop",
         "UNKNOWN"
        ],
        [
         "22",
         "10/7/2025",
         "6776560820",
         "11/14/2025",
         "11/18/2025",
         "4",
         "38",
         "Booked",
         "24.93",
         "40.0",
         null,
         "Apartamentos Doña Concha",
         "Apartment",
         "ES",
         "Sevilla",
         "-402849",
         "2324560",
         "actu-incontournables_seville-gm1XV3@1759763790",
         "France",
         "FR",
         "App",
         "UNKNOWN"
        ],
        [
         "23",
         "10/7/2025",
         "5804105826",
         "12/1/2025",
         "12/3/2025",
         "2",
         "55",
         "Booked",
         "9.17",
         "40.0",
         null,
         "Villas Paradise Arenal Volcano Lake View",
         "Bed and Breakfast",
         "CR",
         "El Castillo de La Fortuna",
         "900051083",
         "1180643",
         "vizity",
         "France",
         "FR",
         "Desktop",
         "UNKNOWN"
        ],
        [
         "24",
         "10/7/2025",
         "6071682829",
         "12/3/2025",
         "12/4/2025",
         "1",
         "57",
         "Booked",
         "7.1",
         "40.0",
         null,
         "Villas Santa Maria - Private Bay Lake Arenal",
         "Bed and Breakfast",
         "CR",
         "Nuevo Arenal",
         "900050804",
         "1180643",
         "vizity",
         "France",
         "FR",
         "Desktop",
         "UNKNOWN"
        ],
        [
         "25",
         "10/7/2025",
         "6451145480",
         "3/23/2026",
         "3/26/2026",
         "3",
         "167",
         "Booked",
         "47.63",
         "40.0",
         null,
         "H2 Hotel Berlin-Alexanderplatz",
         "Hotel",
         "DE",
         "Berlin",
         "-1746443",
         "2324560",
         "actu_3joursberlin",
         "France",
         "FR",
         "App",
         "LEISURE"
        ],
        [
         "26",
         "10/7/2025",
         "5376425501",
         "4/13/2026",
         "4/14/2026",
         "1",
         "188",
         "Booked",
         "7.7",
         "40.0",
         null,
         "Apartamento Portbou",
         "Apartment",
         "ES",
         "Portbou",
         "-397205",
         "1180643",
         "petitfute-HeaderOSV-Homezone",
         "France",
         "FR",
         "Desktop",
         "UNKNOWN"
        ],
        [
         "27",
         "10/7/2025",
         "6051445750",
         "10/27/2025",
         "10/29/2025",
         "2",
         "21",
         "Booked",
         "24.84",
         "40.0",
         null,
         "Urban Spa Romantique Chic",
         "Apartment",
         "FR",
         "Troyes",
         "-1473937",
         "2324560",
         "mkt123sc-6fb941ca-a36d-4fb3-8b54-37100c3d4393",
         "France",
         "FR",
         "Mobile Browser",
         "UNKNOWN"
        ],
        [
         "28",
         "10/6/2025",
         "5271135590",
         "10/16/2025",
         "10/17/2025",
         "1",
         "10",
         "Booked",
         "10.33",
         "40.0",
         null,
         "Acta Antibes",
         "Hotel",
         "ES",
         "Barcelona",
         "-372490",
         "1180643",
         "petitfute-bouton_reserver-Autres",
         "France",
         "FR",
         "App",
         "UNKNOWN"
        ],
        [
         "29",
         "10/6/2025",
         "5883856195",
         "11/28/2025",
         "11/30/2025",
         "0",
         "53",
         "Cancelled by guest",
         null,
         null,
         null,
         "Hôtel Royal",
         "Hotel",
         "FR",
         "Montpellier",
         "-1453260",
         "2324560",
         "mkt123sc-ce8a6e94-3394-440e-a147-c69e528cabc3",
         "France",
         "FR",
         "Desktop",
         "LEISURE"
        ],
        [
         "30",
         "10/6/2025",
         "6249932400",
         "11/8/2025",
         "11/9/2025",
         "1",
         "33",
         "Booked",
         "6.0",
         "40.0",
         null,
         "Villa Cyriel",
         "Hotel",
         "FR",
         "Contes ",
         "-1421504",
         "1180643",
         "petitfute-bouton_reserver-Autres",
         "France",
         "FR",
         "App",
         "LEISURE"
        ],
        [
         "31",
         "10/6/2025",
         "6159624511",
         "10/18/2025",
         "10/19/2025",
         "1",
         "12",
         "Booked",
         "13.12",
         "40.0",
         null,
         "Hôtel Vice Versa",
         "Hotel",
         "FR",
         "Paris",
         "-1456928",
         "2324560",
         "hotels-insolites-paris",
         "France",
         "FR",
         "Desktop",
         "UNKNOWN"
        ],
        [
         "32",
         "10/6/2025",
         "6159630699",
         "1/17/2026",
         "1/19/2026",
         "2",
         "103",
         "Booked",
         "9.01",
         "40.0",
         null,
         "Hostel",
         "Hostel",
         "CL",
         "Cabo de Hornos",
         "-897524",
         "1180643",
         "petitfute-Bouton-ListingPOI",
         "France",
         "FR",
         "Desktop",
         "UNKNOWN"
        ],
        [
         "33",
         "10/6/2025",
         "5731969572",
         "10/7/2025",
         "10/11/2025",
         "4",
         "1",
         "Booked",
         "67.39",
         "40.0",
         null,
         "Petit Palace Vargas",
         "Hotel",
         "ES",
         "Sevilla",
         "-402849",
         "2324560",
         "actu-incontournables_seville",
         "France",
         "FR",
         "App",
         "LEISURE"
        ],
        [
         "34",
         "10/6/2025",
         "5271149508",
         "10/6/2025",
         "10/7/2025",
         "1",
         "0",
         "Booked",
         "6.06",
         "40.0",
         null,
         "Soho Boutique Columela",
         "Hotel",
         "ES",
         "Cádiz",
         "-374884",
         "1180643",
         "petitfute-BoxOSV-Homezone-OLI21g@1759757561",
         "France",
         "FR",
         "App",
         "LEISURE"
        ],
        [
         "35",
         "10/6/2025",
         "5883854297",
         "10/7/2025",
         "10/9/2025",
         "2",
         "1",
         "Booked",
         "6.86",
         "40.0",
         null,
         "KYRIAD ROUEN SUD - Sotteville les Rouen",
         "Hotel",
         "FR",
         "Sotteville-lès-Rouen",
         "-1462807",
         "1180643",
         "petitfute-bouton_reserver-Autres",
         "Belgium",
         "FR",
         "Mobile Browser",
         "LEISURE"
        ],
        [
         "36",
         "10/6/2025",
         "5885432210",
         "10/28/2025",
         "11/1/2025",
         "4",
         "22",
         "Booked",
         "26.08",
         "40.0",
         null,
         "Hostel Cosmos",
         "Guest house",
         "IT",
         "Roma",
         "-126693",
         "1180643",
         "petitfute-bouton_reserver-Autres",
         "France",
         "FR",
         "App",
         "LEISURE"
        ],
        [
         "37",
         "10/6/2025",
         "6537808153",
         "10/26/2025",
         "10/29/2025",
         "3",
         "20",
         "Booked",
         "12.62",
         "40.0",
         null,
         "Le Marronnier",
         "Apartment",
         "BE",
         "Bouillon",
         "-1955120",
         "1180643",
         "petitfute-HeaderMobileOSV-Autres",
         "Belgium",
         "FR",
         "App",
         "LEISURE"
        ],
        [
         "38",
         "10/6/2025",
         "6131923907",
         "10/6/2025",
         "10/9/2025",
         "3",
         "0",
         "Booked",
         "19.26",
         "40.0",
         null,
         "Gite de charme individuel à la campagne",
         "Holiday home",
         "FR",
         "Xanton-Chassenon",
         "-1478221",
         "1180643",
         "petitfute-Bouton-ListingPOI",
         "France",
         "FR",
         "Desktop",
         "BUSINESS"
        ],
        [
         "39",
         "10/5/2025",
         "5061858639",
         "11/13/2025",
         "11/16/2025",
         "3",
         "39",
         "Booked",
         "22.91",
         "40.0",
         null,
         "Sultan Suleyman Palace Hotel & Spa",
         "Hotel",
         "TR",
         "Fatih",
         "-755070",
         "2324560",
         "actu_incontournables_istanbul-kIaGjO@1759496588-iYC5ol4@1759674943-pYku9c@1759676484-Y5XpiOn@1759676675-Y8kG2Fd@1759676995-bXIY3d@1759677371",
         "France",
         "FR",
         "App",
         "LEISURE"
        ],
        [
         "40",
         "10/5/2025",
         "6731701470",
         "10/11/2025",
         "10/13/2025",
         "2",
         "6",
         "Booked",
         "8.4",
         "40.0",
         null,
         "Terrazas Malpaís - El Guincho, Garachico",
         "Apartment",
         "ES",
         "Garachico",
         "-383674",
         "2324560",
         "actu-quefaire-tenerife",
         "France",
         "FR",
         "Mobile Browser",
         "LEISURE"
        ],
        [
         "41",
         "10/5/2025",
         "6731799477",
         "11/8/2025",
         "11/11/2025",
         "3",
         "34",
         "Booked",
         "43.79",
         "40.0",
         null,
         "Radisson Blu Hotel & Resort, Abu Dhabi Corniche",
         "Resort",
         "AE",
         "Abu Dhabi",
         "-782066",
         "1180643",
         "petitfute-HeaderMobileOSV-ListingPOI",
         "France",
         "FR",
         "App",
         "LEISURE"
        ],
        [
         "42",
         "10/5/2025",
         "5246075123",
         "10/16/2025",
         "10/17/2025",
         "1",
         "11",
         "Booked",
         "11.9",
         "40.0",
         null,
         "Pourvoirie du Lac Blanc",
         "Lodge",
         "CA",
         "Saint-Alexis-des-Monts (Québec)",
         "900048931",
         "1180643",
         "petitfute-BoxOSV-ListingPOI",
         "France",
         "FR",
         "Desktop",
         "LEISURE"
        ],
        [
         "43",
         "10/5/2025",
         "6215470098",
         "10/27/2025",
         "10/30/2025",
         "3",
         "22",
         "Booked",
         "25.26",
         "40.0",
         null,
         "Travel Hotel Amsterdam",
         "Hotel",
         "NL",
         "Amsterdam",
         "-2140479",
         "2324560",
         "amsterdam_3_jours",
         "France",
         "FR",
         "Desktop",
         "UNKNOWN"
        ],
        [
         "44",
         "10/5/2025",
         "5340907616",
         "10/22/2025",
         "10/26/2025",
         "4",
         "17",
         "Booked",
         "51.71",
         "40.0",
         null,
         "Salvator Superior Apartments",
         "Apartment",
         "CZ",
         "Praha 1",
         "-553173",
         "2324560",
         "actu-3jours-prague",
         "France",
         "FR",
         "Desktop",
         "LEISURE"
        ],
        [
         "45",
         "10/4/2025",
         "6341154259",
         "10/4/2025",
         "10/5/2025",
         "1",
         "0",
         "Booked",
         "1.1",
         "40.0",
         null,
         "Apartmani 23",
         "Apartment",
         "RS",
         "Нови Пазар",
         "-90309",
         "1180643",
         "petitfute-Bouton-ListingPOI",
         "Serbia",
         "FR",
         "Mobile Browser",
         "UNKNOWN"
        ],
        [
         "46",
         "10/4/2025",
         "6571479570",
         "11/1/2025",
         "11/2/2025",
         "1",
         "28",
         "Booked",
         "3.2",
         "40.0",
         null,
         "Ty Avel",
         "Apartment",
         "FR",
         "Quiberon",
         "-1460710",
         "1180643",
         "petitfute-bouton_reserver-Autres",
         "France",
         "FR",
         "App",
         "LEISURE"
        ],
        [
         "47",
         "10/4/2025",
         "6923139637",
         "11/2/2025",
         "11/3/2025",
         "1",
         "29",
         "Booked",
         "2.78",
         "40.0",
         null,
         "Hotel Ronda Moments",
         "Hotel",
         "ES",
         "Ronda",
         "-399659",
         "1180643",
         "petitfute-bouton_reserver-Autres",
         "France",
         "FR",
         "App",
         "UNKNOWN"
        ],
        [
         "48",
         "10/4/2025",
         "6578606314",
         "3/10/2026",
         "3/14/2026",
         "4",
         "157",
         "Booked",
         "17.52",
         "40.0",
         null,
         "Hotel Novano",
         "Hotel",
         "TR",
         "Istanbul",
         "-755070",
         "2324560",
         "actu_incontournables_istanbul",
         "Belgium",
         "FR",
         "App",
         "LEISURE"
        ],
        [
         "49",
         "10/4/2025",
         "6191424354",
         "11/29/2025",
         "12/1/2025",
         "2",
         "56",
         "Booked",
         "7.3",
         "40.0",
         null,
         "Micheck beach house",
         "Apartment",
         "CR",
         "Tortuguero",
         "-1109719",
         "1180643",
         "vizity",
         "France",
         "FR",
         "Desktop",
         "LEISURE"
        ]
       ],
       "shape": {
        "columns": 21,
        "rows": 89
       }
      },
      "text/html": [
       "<div>\n",
       "<style scoped>\n",
       "    .dataframe tbody tr th:only-of-type {\n",
       "        vertical-align: middle;\n",
       "    }\n",
       "\n",
       "    .dataframe tbody tr th {\n",
       "        vertical-align: top;\n",
       "    }\n",
       "\n",
       "    .dataframe thead th {\n",
       "        text-align: right;\n",
       "    }\n",
       "</style>\n",
       "<table border=\"1\" class=\"dataframe\">\n",
       "  <thead>\n",
       "    <tr style=\"text-align: right;\">\n",
       "      <th></th>\n",
       "      <th>Booking date</th>\n",
       "      <th>Booking number</th>\n",
       "      <th>Check-in date</th>\n",
       "      <th>Check-out date</th>\n",
       "      <th>Length of stay</th>\n",
       "      <th>Booking window</th>\n",
       "      <th>Status</th>\n",
       "      <th>Your commission</th>\n",
       "      <th>Commission %</th>\n",
       "      <th>Credit slip</th>\n",
       "      <th>...</th>\n",
       "      <th>Property type</th>\n",
       "      <th>Country</th>\n",
       "      <th>City</th>\n",
       "      <th>UFI</th>\n",
       "      <th>Affiliate ID</th>\n",
       "      <th>Label</th>\n",
       "      <th>Booker country</th>\n",
       "      <th>Booker language</th>\n",
       "      <th>User device</th>\n",
       "      <th>Travel purpose</th>\n",
       "    </tr>\n",
       "  </thead>\n",
       "  <tbody>\n",
       "    <tr>\n",
       "      <th>0</th>\n",
       "      <td>10/8/2025</td>\n",
       "      <td>5362867269</td>\n",
       "      <td>10/27/2025</td>\n",
       "      <td>10/28/2025</td>\n",
       "      <td>1</td>\n",
       "      <td>19</td>\n",
       "      <td>Booked</td>\n",
       "      <td>3.56</td>\n",
       "      <td>40.0</td>\n",
       "      <td>NaN</td>\n",
       "      <td>...</td>\n",
       "      <td>Holiday home</td>\n",
       "      <td>FR</td>\n",
       "      <td>Franquevielle</td>\n",
       "      <td>-1428038</td>\n",
       "      <td>1180643</td>\n",
       "      <td>petitfute-BoxOSV-POI</td>\n",
       "      <td>France</td>\n",
       "      <td>FR</td>\n",
       "      <td>Mobile Browser</td>\n",
       "      <td>LEISURE</td>\n",
       "    </tr>\n",
       "    <tr>\n",
       "      <th>1</th>\n",
       "      <td>10/8/2025</td>\n",
       "      <td>5223394350</td>\n",
       "      <td>11/8/2025</td>\n",
       "      <td>11/11/2025</td>\n",
       "      <td>3</td>\n",
       "      <td>31</td>\n",
       "      <td>Booked</td>\n",
       "      <td>20.13</td>\n",
       "      <td>40.0</td>\n",
       "      <td>NaN</td>\n",
       "      <td>...</td>\n",
       "      <td>Hotel</td>\n",
       "      <td>CZ</td>\n",
       "      <td>Prague</td>\n",
       "      <td>-553173</td>\n",
       "      <td>2324560</td>\n",
       "      <td>actu-3jours-prague</td>\n",
       "      <td>Belgium</td>\n",
       "      <td>FR</td>\n",
       "      <td>Desktop</td>\n",
       "      <td>LEISURE</td>\n",
       "    </tr>\n",
       "    <tr>\n",
       "      <th>2</th>\n",
       "      <td>10/8/2025</td>\n",
       "      <td>5784114772</td>\n",
       "      <td>12/17/2025</td>\n",
       "      <td>12/19/2025</td>\n",
       "      <td>2</td>\n",
       "      <td>70</td>\n",
       "      <td>Booked</td>\n",
       "      <td>9.81</td>\n",
       "      <td>40.0</td>\n",
       "      <td>NaN</td>\n",
       "      <td>...</td>\n",
       "      <td>Lodge</td>\n",
       "      <td>CR</td>\n",
       "      <td>San Gerardo de Dota</td>\n",
       "      <td>900052668</td>\n",
       "      <td>1180643</td>\n",
       "      <td>conf_email_print</td>\n",
       "      <td>France</td>\n",
       "      <td>FR</td>\n",
       "      <td>Desktop</td>\n",
       "      <td>UNKNOWN</td>\n",
       "    </tr>\n",
       "    <tr>\n",
       "      <th>3</th>\n",
       "      <td>10/8/2025</td>\n",
       "      <td>5804108674</td>\n",
       "      <td>12/12/2025</td>\n",
       "      <td>12/14/2025</td>\n",
       "      <td>2</td>\n",
       "      <td>65</td>\n",
       "      <td>Booked</td>\n",
       "      <td>10.74</td>\n",
       "      <td>40.0</td>\n",
       "      <td>NaN</td>\n",
       "      <td>...</td>\n",
       "      <td>Hotel</td>\n",
       "      <td>CR</td>\n",
       "      <td>Dominical</td>\n",
       "      <td>-1107038</td>\n",
       "      <td>1180643</td>\n",
       "      <td>conf_email_print</td>\n",
       "      <td>France</td>\n",
       "      <td>FR</td>\n",
       "      <td>Desktop</td>\n",
       "      <td>UNKNOWN</td>\n",
       "    </tr>\n",
       "    <tr>\n",
       "      <th>4</th>\n",
       "      <td>10/8/2025</td>\n",
       "      <td>6162599111</td>\n",
       "      <td>12/10/2025</td>\n",
       "      <td>12/12/2025</td>\n",
       "      <td>2</td>\n",
       "      <td>63</td>\n",
       "      <td>Booked</td>\n",
       "      <td>7.07</td>\n",
       "      <td>40.0</td>\n",
       "      <td>NaN</td>\n",
       "      <td>...</td>\n",
       "      <td>Bed and Breakfast</td>\n",
       "      <td>CR</td>\n",
       "      <td>Quepos</td>\n",
       "      <td>-1108763</td>\n",
       "      <td>1180643</td>\n",
       "      <td>conf_email_print</td>\n",
       "      <td>France</td>\n",
       "      <td>FR</td>\n",
       "      <td>Desktop</td>\n",
       "      <td>UNKNOWN</td>\n",
       "    </tr>\n",
       "    <tr>\n",
       "      <th>...</th>\n",
       "      <td>...</td>\n",
       "      <td>...</td>\n",
       "      <td>...</td>\n",
       "      <td>...</td>\n",
       "      <td>...</td>\n",
       "      <td>...</td>\n",
       "      <td>...</td>\n",
       "      <td>...</td>\n",
       "      <td>...</td>\n",
       "      <td>...</td>\n",
       "      <td>...</td>\n",
       "      <td>...</td>\n",
       "      <td>...</td>\n",
       "      <td>...</td>\n",
       "      <td>...</td>\n",
       "      <td>...</td>\n",
       "      <td>...</td>\n",
       "      <td>...</td>\n",
       "      <td>...</td>\n",
       "      <td>...</td>\n",
       "      <td>...</td>\n",
       "    </tr>\n",
       "    <tr>\n",
       "      <th>84</th>\n",
       "      <td>10/1/2025</td>\n",
       "      <td>5299601560</td>\n",
       "      <td>10/1/2025</td>\n",
       "      <td>10/2/2025</td>\n",
       "      <td>1</td>\n",
       "      <td>0</td>\n",
       "      <td>Booked</td>\n",
       "      <td>10.54</td>\n",
       "      <td>40.0</td>\n",
       "      <td>NaN</td>\n",
       "      <td>...</td>\n",
       "      <td>Hotel</td>\n",
       "      <td>ES</td>\n",
       "      <td>Córdoba</td>\n",
       "      <td>-378765</td>\n",
       "      <td>2324560</td>\n",
       "      <td>actu_quefaire_cordoue</td>\n",
       "      <td>France</td>\n",
       "      <td>FR</td>\n",
       "      <td>App</td>\n",
       "      <td>UNKNOWN</td>\n",
       "    </tr>\n",
       "    <tr>\n",
       "      <th>85</th>\n",
       "      <td>10/1/2025</td>\n",
       "      <td>5128273214</td>\n",
       "      <td>10/5/2025</td>\n",
       "      <td>10/6/2025</td>\n",
       "      <td>1</td>\n",
       "      <td>4</td>\n",
       "      <td>Booked</td>\n",
       "      <td>7.75</td>\n",
       "      <td>40.0</td>\n",
       "      <td>NaN</td>\n",
       "      <td>...</td>\n",
       "      <td>Hotel</td>\n",
       "      <td>FR</td>\n",
       "      <td>Saumur</td>\n",
       "      <td>-1469710</td>\n",
       "      <td>1180643</td>\n",
       "      <td>petitfute-bouton_reserver-Autres</td>\n",
       "      <td>Canada</td>\n",
       "      <td>FR</td>\n",
       "      <td>Tablet</td>\n",
       "      <td>LEISURE</td>\n",
       "    </tr>\n",
       "    <tr>\n",
       "      <th>86</th>\n",
       "      <td>10/1/2025</td>\n",
       "      <td>5905593911</td>\n",
       "      <td>10/2/2025</td>\n",
       "      <td>10/5/2025</td>\n",
       "      <td>3</td>\n",
       "      <td>1</td>\n",
       "      <td>Booked</td>\n",
       "      <td>10.50</td>\n",
       "      <td>40.0</td>\n",
       "      <td>NaN</td>\n",
       "      <td>...</td>\n",
       "      <td>Hostel</td>\n",
       "      <td>NL</td>\n",
       "      <td>Amsterdam</td>\n",
       "      <td>-2140479</td>\n",
       "      <td>2324560</td>\n",
       "      <td>amsterdam_3_jours</td>\n",
       "      <td>France</td>\n",
       "      <td>FR</td>\n",
       "      <td>App</td>\n",
       "      <td>LEISURE</td>\n",
       "    </tr>\n",
       "    <tr>\n",
       "      <th>87</th>\n",
       "      <td>10/1/2025</td>\n",
       "      <td>6755683486</td>\n",
       "      <td>10/1/2025</td>\n",
       "      <td>10/2/2025</td>\n",
       "      <td>1</td>\n",
       "      <td>0</td>\n",
       "      <td>Booked</td>\n",
       "      <td>8.16</td>\n",
       "      <td>40.0</td>\n",
       "      <td>NaN</td>\n",
       "      <td>...</td>\n",
       "      <td>Hotel</td>\n",
       "      <td>FR</td>\n",
       "      <td>Vannes</td>\n",
       "      <td>-1474712</td>\n",
       "      <td>1180643</td>\n",
       "      <td>vizity</td>\n",
       "      <td>France</td>\n",
       "      <td>FR</td>\n",
       "      <td>Desktop</td>\n",
       "      <td>LEISURE</td>\n",
       "    </tr>\n",
       "    <tr>\n",
       "      <th>88</th>\n",
       "      <td>10/1/2025</td>\n",
       "      <td>6559487865</td>\n",
       "      <td>10/25/2025</td>\n",
       "      <td>10/26/2025</td>\n",
       "      <td>1</td>\n",
       "      <td>24</td>\n",
       "      <td>Booked</td>\n",
       "      <td>15.88</td>\n",
       "      <td>40.0</td>\n",
       "      <td>NaN</td>\n",
       "      <td>...</td>\n",
       "      <td>Hotel</td>\n",
       "      <td>BE</td>\n",
       "      <td>Brussels</td>\n",
       "      <td>-1955538</td>\n",
       "      <td>2324560</td>\n",
       "      <td>actu_3jours-bruxelles</td>\n",
       "      <td>France</td>\n",
       "      <td>FR</td>\n",
       "      <td>App</td>\n",
       "      <td>LEISURE</td>\n",
       "    </tr>\n",
       "  </tbody>\n",
       "</table>\n",
       "<p>89 rows × 21 columns</p>\n",
       "</div>"
      ],
      "text/plain": [
       "   Booking date  Booking number Check-in date Check-out date  Length of stay  \\\n",
       "0     10/8/2025      5362867269    10/27/2025     10/28/2025               1   \n",
       "1     10/8/2025      5223394350     11/8/2025     11/11/2025               3   \n",
       "2     10/8/2025      5784114772    12/17/2025     12/19/2025               2   \n",
       "3     10/8/2025      5804108674    12/12/2025     12/14/2025               2   \n",
       "4     10/8/2025      6162599111    12/10/2025     12/12/2025               2   \n",
       "..          ...             ...           ...            ...             ...   \n",
       "84    10/1/2025      5299601560     10/1/2025      10/2/2025               1   \n",
       "85    10/1/2025      5128273214     10/5/2025      10/6/2025               1   \n",
       "86    10/1/2025      5905593911     10/2/2025      10/5/2025               3   \n",
       "87    10/1/2025      6755683486     10/1/2025      10/2/2025               1   \n",
       "88    10/1/2025      6559487865    10/25/2025     10/26/2025               1   \n",
       "\n",
       "    Booking window  Status  Your commission  Commission %  Credit slip   ...  \\\n",
       "0               19  Booked             3.56          40.0           NaN  ...   \n",
       "1               31  Booked            20.13          40.0           NaN  ...   \n",
       "2               70  Booked             9.81          40.0           NaN  ...   \n",
       "3               65  Booked            10.74          40.0           NaN  ...   \n",
       "4               63  Booked             7.07          40.0           NaN  ...   \n",
       "..             ...     ...              ...           ...           ...  ...   \n",
       "84               0  Booked            10.54          40.0           NaN  ...   \n",
       "85               4  Booked             7.75          40.0           NaN  ...   \n",
       "86               1  Booked            10.50          40.0           NaN  ...   \n",
       "87               0  Booked             8.16          40.0           NaN  ...   \n",
       "88              24  Booked            15.88          40.0           NaN  ...   \n",
       "\n",
       "        Property type Country                 City        UFI  Affiliate ID  \\\n",
       "0        Holiday home      FR        Franquevielle   -1428038       1180643   \n",
       "1               Hotel      CZ               Prague    -553173       2324560   \n",
       "2               Lodge      CR  San Gerardo de Dota  900052668       1180643   \n",
       "3               Hotel      CR            Dominical   -1107038       1180643   \n",
       "4   Bed and Breakfast      CR               Quepos   -1108763       1180643   \n",
       "..                ...     ...                  ...        ...           ...   \n",
       "84              Hotel      ES              Córdoba    -378765       2324560   \n",
       "85              Hotel      FR               Saumur   -1469710       1180643   \n",
       "86             Hostel      NL            Amsterdam   -2140479       2324560   \n",
       "87              Hotel      FR               Vannes   -1474712       1180643   \n",
       "88              Hotel      BE             Brussels   -1955538       2324560   \n",
       "\n",
       "                               Label Booker country Booker language  \\\n",
       "0               petitfute-BoxOSV-POI         France              FR   \n",
       "1                 actu-3jours-prague        Belgium              FR   \n",
       "2                   conf_email_print         France              FR   \n",
       "3                   conf_email_print         France              FR   \n",
       "4                   conf_email_print         France              FR   \n",
       "..                               ...            ...             ...   \n",
       "84             actu_quefaire_cordoue         France              FR   \n",
       "85  petitfute-bouton_reserver-Autres         Canada              FR   \n",
       "86                 amsterdam_3_jours         France              FR   \n",
       "87                            vizity         France              FR   \n",
       "88             actu_3jours-bruxelles         France              FR   \n",
       "\n",
       "       User device Travel purpose  \n",
       "0   Mobile Browser        LEISURE  \n",
       "1          Desktop        LEISURE  \n",
       "2          Desktop        UNKNOWN  \n",
       "3          Desktop        UNKNOWN  \n",
       "4          Desktop        UNKNOWN  \n",
       "..             ...            ...  \n",
       "84             App        UNKNOWN  \n",
       "85          Tablet        LEISURE  \n",
       "86             App        LEISURE  \n",
       "87         Desktop        LEISURE  \n",
       "88             App        LEISURE  \n",
       "\n",
       "[89 rows x 21 columns]"
      ]
     },
     "execution_count": 30,
     "metadata": {},
     "output_type": "execute_result"
    }
   ],
   "source": [
    "booking"
   ]
  },
  {
   "cell_type": "code",
   "execution_count": 157,
   "metadata": {},
   "outputs": [
    {
     "data": {
      "application/vnd.microsoft.datawrangler.viewer.v0+json": {
       "columns": [
        {
         "name": "index",
         "rawType": "int64",
         "type": "integer"
        },
        {
         "name": "URL",
         "rawType": "object",
         "type": "string"
        },
        {
         "name": "getyourguide_links",
         "rawType": "object",
         "type": "unknown"
        },
        {
         "name": "booking_links",
         "rawType": "object",
         "type": "string"
        },
        {
         "name": "id_getyourguide_link",
         "rawType": "object",
         "type": "unknown"
        },
        {
         "name": "revenu_gyg",
         "rawType": "float64",
         "type": "float"
        }
       ],
       "ref": "60dfb34e-c546-4603-abbf-a4a783ec0bb1",
       "rows": [
        [
         "0",
         "https://www.petitfute.com/v62250-kew/actualite/m17-top-10-insolites-voyage/a11635-que-faire-a-londres-a-noel-les-14-activites-incontournables.html",
         "['https://www.getyourguide.fr/londres-l57/londres-et-les-illuminations-de-noel-visite-a-velo-t41419/?partner_id=73QSLFK&utm_medium=online_publisher&cmp=actu-incontournables-londres_noel', 'https://www.getyourguide.fr/londres-l57/londres-illuminations-de-noel-en-bus-vintage-ouvert-t129039/?partner_id=73QSLFK&utm_medium=online_publisher&cmp=actu-incontournables-londres_noel', 'https://www.getyourguide.fr/londres-l57/harry-potter-visite-des-studios-warner-bros-a-londres-t31392/?partner_id=73QSLFK&utm_medium=online_publisher&cmp=actu-incontournables-londres_noel', 'https://www.getyourguide.fr/londres-l57/londres-visite-des-illuminations-de-noel-en-bus-t310718/?partner_id=73QSLFK&utm_medium=online_publisher&cmp=actu-incontournables-londres_noel', 'https://www.getyourguide.fr/jardins-botaniques-royaux-de-kew-l5161/londres-jardins-botaniques-royaux-de-kew-t34660/?partner_id=73QSLFK&utm_medium=online_publisher&cmp=actu-incontournables-londres_noel', 'https://www.getyourguide.fr/londres-l57/londres-visite-guidee-en-bus-a-toit-ouvert-des-lumieres-de-noel-de-nuit-t388700/?partner_id=73QSLFK&utm_medium=online_publisher&cmp=actu-incontournables-londres_noel']",
         "['https://www.booking.com/hotel/gb/ibis-london-blackfriars.fr.html?aid=356980&label=gog235jc-1FCAsoUEIXaWJpcy1sb25kb24tYmxhY2tmcmlhcnNIDVgDaE2IAQGYAQ24AQfIAQzYAQHoAQH4AQKIAgGoAgO4AqKo8LcGwAIB0gIkMjA5N2ZjNjgtZmRhYi00MzRlLThmOWYtOTYwMmFhOGRiNDk12AIF4AIB&sid=a0ed4f8119aafb08ddb2c34d69e8b88d&age=0;all_sr_blocks=42636801_94463129_2_42_0%2C42636801_94463129_2_42_0;checkin=2024-10-06;checkout=2024-10-07;dest_id=-2601889;dest_type=city;dist=0;group_adults=2;group_children=1;hapos=1;highlighted_blocks=42636801_94463129_2_42_0%2C42636801_94463129_2_42_0;hpos=1;matching_block_id=42636801_94463129_2_42_0;no_rooms=1;req_adults=2;req_age=0;req_children=1;room1=A%2CA%2C0;sb_price_type=total;sr_order=popularity;sr_pri_blocks=42636801_94463129_2_42_0__12834%2C42636801_94463129_2_42_0__12834;srepoch=1727796262;srpvid=6b066c51ed76067f;type=total;ucfs=1&#map_opened-hotel_address', 'https://www.booking.com/hotel/gb/ibis-london-blackfriars.fr.html?aid=2324560&no_rooms=1&group_adults=2&label=actu-londres-noel', 'https://www.booking.com/hotel/gb/therookery.fr.html?aid=2324560&no_rooms=1&group_adults=2&label=actu-londres-noel', 'https://www.booking.com/hotel/gb/sanderson.fr.html?aid=2324560&no_rooms=1&group_adults=2&label=actu-londres-noel']",
         "['t41419', 't129039', 't31392', 't310718', 't34660', 't388700']",
         "6.45"
        ]
       ],
       "shape": {
        "columns": 5,
        "rows": 1
       }
      },
      "text/html": [
       "<div>\n",
       "<style scoped>\n",
       "    .dataframe tbody tr th:only-of-type {\n",
       "        vertical-align: middle;\n",
       "    }\n",
       "\n",
       "    .dataframe tbody tr th {\n",
       "        vertical-align: top;\n",
       "    }\n",
       "\n",
       "    .dataframe thead th {\n",
       "        text-align: right;\n",
       "    }\n",
       "</style>\n",
       "<table border=\"1\" class=\"dataframe\">\n",
       "  <thead>\n",
       "    <tr style=\"text-align: right;\">\n",
       "      <th></th>\n",
       "      <th>URL</th>\n",
       "      <th>getyourguide_links</th>\n",
       "      <th>booking_links</th>\n",
       "      <th>id_getyourguide_link</th>\n",
       "      <th>revenu_gyg</th>\n",
       "    </tr>\n",
       "  </thead>\n",
       "  <tbody>\n",
       "    <tr>\n",
       "      <th>0</th>\n",
       "      <td>https://www.petitfute.com/v62250-kew/actualite...</td>\n",
       "      <td>[https://www.getyourguide.fr/londres-l57/londr...</td>\n",
       "      <td>['https://www.booking.com/hotel/gb/ibis-london...</td>\n",
       "      <td>[t41419, t129039, t31392, t310718, t34660, t38...</td>\n",
       "      <td>6.45</td>\n",
       "    </tr>\n",
       "  </tbody>\n",
       "</table>\n",
       "</div>"
      ],
      "text/plain": [
       "                                                 URL  \\\n",
       "0  https://www.petitfute.com/v62250-kew/actualite...   \n",
       "\n",
       "                                  getyourguide_links  \\\n",
       "0  [https://www.getyourguide.fr/londres-l57/londr...   \n",
       "\n",
       "                                       booking_links  \\\n",
       "0  ['https://www.booking.com/hotel/gb/ibis-london...   \n",
       "\n",
       "                                id_getyourguide_link  revenu_gyg  \n",
       "0  [t41419, t129039, t31392, t310718, t34660, t38...        6.45  "
      ]
     },
     "execution_count": 157,
     "metadata": {},
     "output_type": "execute_result"
    }
   ],
   "source": [
    "df_final[df_final['URL']=='https://www.petitfute.com/v62250-kew/actualite/m17-top-10-insolites-voyage/a11635-que-faire-a-londres-a-noel-les-14-activites-incontournables.html']"
   ]
  },
  {
   "cell_type": "code",
   "execution_count": 23,
   "metadata": {},
   "outputs": [],
   "source": [
    "import unicodedata\n",
    "\n",
    "def normaliser_nom(nom):\n",
    "    if not isinstance(nom, str):\n",
    "        return \"\"\n",
    "    # mettre en minuscules\n",
    "    nom = nom.lower()\n",
    "    # remplacer les tirets par des espaces\n",
    "    nom = nom.replace(\"-\", \" \")\n",
    "    # retirer accents\n",
    "    nom = ''.join(\n",
    "        c for c in unicodedata.normalize('NFD', nom)\n",
    "        if unicodedata.category(c) != 'Mn'\n",
    "    )\n",
    "    # retirer espaces multiples\n",
    "    nom = re.sub(r'\\s+', ' ', nom).strip()\n",
    "    return nom\n",
    "\n",
    "df_tmp['nom_hotel_norm'] = df_tmp['balise_h2'].apply(normaliser_nom)\n",
    "booking['property_name_norm'] = booking['Property name'].apply(normaliser_nom)\n"
   ]
  },
  {
   "cell_type": "code",
   "execution_count": null,
   "metadata": {},
   "outputs": [],
   "source": [
    "df_jointure = df_tmp.merge(\n",
    "    booking,\n",
    "    left_on='nom_hotel_norm',\n",
    "    right_on='property_name_norm',\n",
    "    how='left',\n",
    "    indicator=True\n",
    ")\n",
    "df_jointure"
   ]
  },
  {
   "cell_type": "code",
   "execution_count": 47,
   "metadata": {},
   "outputs": [
    {
     "data": {
      "application/vnd.microsoft.datawrangler.viewer.v0+json": {
       "columns": [
        {
         "name": "index",
         "rawType": "int64",
         "type": "integer"
        },
        {
         "name": "URL",
         "rawType": "object",
         "type": "string"
        },
        {
         "name": "booking_links",
         "rawType": "object",
         "type": "string"
        },
        {
         "name": "balise_h2",
         "rawType": "object",
         "type": "string"
        },
        {
         "name": "nom_hotel_norm",
         "rawType": "object",
         "type": "string"
        },
        {
         "name": "match_booking",
         "rawType": "object",
         "type": "string"
        },
        {
         "name": "score_match",
         "rawType": "float64",
         "type": "float"
        }
       ],
       "ref": "cf521858-96fd-484b-8e2a-dde89f954953",
       "rows": [
        [
         "0",
         "https://www.petitfute.com/v62250-kew/actualite/m17-top-10-insolites-voyage/a11635-que-faire-a-londres-a-noel-les-14-activites-incontournables.html",
         "https://www.booking.com/hotel/gb/ibis-london-blackfriars.fr.html?aid=356980&label=gog235jc-1FCAsoUEIXaWJpcy1sb25kb24tYmxhY2tmcmlhcnNIDVgDaE2IAQGYAQ24AQfIAQzYAQHoAQH4AQKIAgGoAgO4AqKo8LcGwAIB0gIkMjA5N2ZjNjgtZmRhYi00MzRlLThmOWYtOTYwMmFhOGRiNDk12AIF4AIB&sid=a0ed4f8119aafb08ddb2c34d69e8b88d&age=0;all_sr_blocks=42636801_94463129_2_42_0%2C42636801_94463129_2_42_0;checkin=2024-10-06;checkout=2024-10-07;dest_id=-2601889;dest_type=city;dist=0;group_adults=2;group_children=1;hapos=1;highlighted_blocks=42636801_94463129_2_42_0%2C42636801_94463129_2_42_0;hpos=1;matching_block_id=42636801_94463129_2_42_0;no_rooms=1;req_adults=2;req_age=0;req_children=1;room1=A%2CA%2C0;sb_price_type=total;sr_order=popularity;sr_pri_blocks=42636801_94463129_2_42_0__12834%2C42636801_94463129_2_42_0__12834;srepoch=1727796262;srpvid=6b066c51ed76067f;type=total;ucfs=1&#map_opened-hotel_address",
         "ibis London Blackfriars",
         "ibis london blackfriars",
         "villas paradise arenal volcano lake view",
         "44.44444444444444"
        ],
        [
         "1",
         "https://www.petitfute.com/v62250-kew/actualite/m17-top-10-insolites-voyage/a11635-que-faire-a-londres-a-noel-les-14-activites-incontournables.html",
         "https://www.booking.com/hotel/gb/ibis-london-blackfriars.fr.html?aid=2324560&no_rooms=1&group_adults=2&label=actu-londres-noel",
         "ibis London Blackfriars",
         "ibis london blackfriars",
         "villas paradise arenal volcano lake view",
         "44.44444444444444"
        ],
        [
         "2",
         "https://www.petitfute.com/v62250-kew/actualite/m17-top-10-insolites-voyage/a11635-que-faire-a-londres-a-noel-les-14-activites-incontournables.html",
         "https://www.booking.com/hotel/gb/therookery.fr.html?aid=2324560&no_rooms=1&group_adults=2&label=actu-londres-noel",
         "The Rookery",
         "the rookery",
         "the people lyon",
         "53.84615384615385"
        ],
        [
         "3",
         "https://www.petitfute.com/v62250-kew/actualite/m17-top-10-insolites-voyage/a11635-que-faire-a-londres-a-noel-les-14-activites-incontournables.html",
         "https://www.booking.com/hotel/gb/sanderson.fr.html?aid=2324560&no_rooms=1&group_adults=2&label=actu-londres-noel",
         "Sanderson London",
         "sanderson london",
         "eurostars conquistador",
         "47.36842105263158"
        ],
        [
         "4",
         "https://www.petitfute.com/v48299-bangli/actualite/m17-top-10-insolites-voyage/a11947-les-10-etapes-incontournables-pour-une-escapade-a-bali.html",
         "https://www.booking.com/hotel/id/sanak-retreat-bali.fr.html?aid=2324560&no_rooms=1&group_adults=2&label=que_faire_bali",
         "Sanak Retreat Bali",
         "sanak retreat bali",
         "hotel blue sea",
         "50.0"
        ],
        [
         "5",
         "https://www.petitfute.com/v48299-bangli/actualite/m17-top-10-insolites-voyage/a11947-les-10-etapes-incontournables-pour-une-escapade-a-bali.html",
         "https://www.booking.com/hotel/id/pramana-watu-kurung-resort.fr.html?aid=2324560&no_rooms=1&group_adults=2&label=que_faire_bali",
         "Pramana Watu Kurung",
         "pramana watu kurung",
         "auberge manitonga",
         "44.44444444444444"
        ],
        [
         "6",
         "https://www.petitfute.com/v48299-bangli/actualite/m17-top-10-insolites-voyage/a11947-les-10-etapes-incontournables-pour-une-escapade-a-bali.html",
         "https://www.booking.com/hotel/id/the-sankara-suite-and-villa-ubud.fr.html?aid=2324560&no_rooms=1&group_adults=2&label=que_faire_bali",
         "The Sankara Suites and Villas",
         "the sankara suites and villas",
         "villas santa maria private bay lake arenal",
         "59.154929577464785"
        ],
        [
         "7",
         "https://www.petitfute.com/v49846-genes/actualite/m17-top-10-insolites-voyage/a13620-que-faire-a-genes-les-17-incontournables-a-visiter.html",
         "https://www.booking.com/hotel/it/ostellin-genova-hostel-genoa.fr.html?aid=2324560&label=actu_incontournables_genes",
         "OStellin Genova Hostel",
         "ostellin genova hostel",
         "hotel blue sea",
         "55.55555555555556"
        ],
        [
         "8",
         "https://www.petitfute.com/v49846-genes/actualite/m17-top-10-insolites-voyage/a13620-que-faire-a-genes-les-17-incontournables-a-visiter.html",
         "https://www.booking.com/hotel/it/b-amp-b-genova.fr.html?aid=2324560&label=actu_incontournables_gene",
         "B&B Hotel Genova Principe",
         "b&b hotel genova principe",
         "hotel bhoma troyes",
         "55.81395348837209"
        ],
        [
         "9",
         "https://www.petitfute.com/v49846-genes/actualite/m17-top-10-insolites-voyage/a13620-que-faire-a-genes-les-17-incontournables-a-visiter.html",
         "https://www.booking.com/hotel/it/palazzo-grillo.fr.html?aid=2324560&label=actu_incontournables_genes",
         "Hotel Palazzo Grillo",
         "hotel palazzo grillo",
         "lace hotel",
         "53.333333333333336"
        ],
        [
         "10",
         "https://www.petitfute.com/v48986-copenhague/actualite/m17-top-10-insolites-voyage/a18238-les-incontournables-de-copenhague.html",
         "https://www.booking.com/hotel/dk/steel-house-copenhagen.fr.html?aid=2324560&no_rooms=1&group_adults=2&label=actu_quefaire_copenhague",
         "Steel House Copenhagen",
         "steel house copenhagen",
         "copenaghen rooms",
         "63.1578947368421"
        ],
        [
         "11",
         "https://www.petitfute.com/v48986-copenhague/actualite/m17-top-10-insolites-voyage/a18238-les-incontournables-de-copenhague.html",
         "https://www.booking.com/hotel/dk/christian-iv.fr.html?aid=2324560&no_rooms=1&group_adults=2&label=actu_quefaire_copenhague",
         "Hotel Petra",
         "hotel petra",
         "hotel royal",
         "72.72727272727273"
        ],
        [
         "12",
         "https://www.petitfute.com/v48986-copenhague/actualite/m17-top-10-insolites-voyage/a18238-les-incontournables-de-copenhague.html",
         "https://www.booking.com/hotel/dk/alexandra.fr.html?aid=2324560&no_rooms=1&group_adults=2&label=actu_quefaire_copenhague",
         "Hotel Alexandra",
         "hotel alexandra",
         "h2 hotel berlin alexanderplatz",
         "66.66666666666667"
        ],
        [
         "13",
         "https://www.petitfute.com/v48159-marrakech/actualite/m17-top-10-insolites-voyage/a18462-que-faire-a-marrakech-les-15-incontournables.html",
         "https://www.booking.com/hotel/ma/riad-le-rihani.en.html?aid=2324560",
         "Riad Le Rihani",
         "riad le rihani",
         "le marronnier",
         "51.85185185185186"
        ],
        [
         "14",
         "https://www.petitfute.com/v48159-marrakech/actualite/m17-top-10-insolites-voyage/a18462-que-faire-a-marrakech-les-15-incontournables.html",
         "https://www.booking.com/hotel/ma/riad-dia.fr.html?aid=2324560&no_rooms=1&group_adults=2&label=que_faire_marrakech",
         "Riad Dia",
         "riad dia",
         "kyriad direct arles",
         "51.85185185185186"
        ],
        [
         "15",
         "https://www.petitfute.com/v48159-marrakech/actualite/m17-top-10-insolites-voyage/a18462-que-faire-a-marrakech-les-15-incontournables.html",
         "https://www.booking.com/hotel/ma/riad-matham.fr.html?aid=2324560&no_rooms=1&group_adults=2&label=que_faire_marrakech",
         "Riad Matham",
         "riad matham",
         "kyriad direct arles",
         "46.666666666666664"
        ],
        [
         "16",
         "https://www.petitfute.com/v50580-valence/actualite/m17-top-10-insolites-voyage/a29645-que-faire-a-valence-en-espagne-les-19-incontournables.html",
         "https://www.booking.com/hotel/es/hostal-antigua-morellana.en.html?aid=2324560&label=actu_quefaire_valence_espagne",
         "Hostal Antigua Morellana",
         "hostal antigua morellana",
         "travel hotel amsterdam",
         "52.17391304347826"
        ],
        [
         "17",
         "https://www.petitfute.com/v50580-valence/actualite/m17-top-10-insolites-voyage/a29645-que-faire-a-valence-en-espagne-les-19-incontournables.html",
         "https://www.booking.com/hotel/es/the-westin-alameda-valencia.en.html?aid=2324560&label=actu_quefaire_valence_espagne",
         "The Westin Valencia",
         "the westin valencia",
         "escale oceania orleans",
         "48.78048780487805"
        ],
        [
         "18",
         "https://www.petitfute.com/v50580-valence/actualite/m17-top-10-insolites-voyage/a29645-que-faire-a-valence-en-espagne-les-19-incontournables.html",
         "https://www.booking.com/hotel/es/miramar-valencia.en.html?aid=2324560&label=actu_quefaire_valence_espagne",
         "Hotel Miramar Valencia",
         "hotel miramar valencia",
         "hotel villas rio mar",
         "61.904761904761905"
        ],
        [
         "19",
         "https://www.petitfute.com/v50580-valence/actualite/m17-top-10-insolites-voyage/a29645-que-faire-a-valence-en-espagne-les-19-incontournables.html",
         "https://www.booking.com/hotel/es/miramar-valencia.en.html?aid=2324560",
         "Hotel Miramar Valencia",
         "hotel miramar valencia",
         "hotel villas rio mar",
         "61.904761904761905"
        ],
        [
         "20",
         "https://www.petitfute.com/v39823-rome/actualite/m17-top-10-insolites-voyage/a30996-comment-visiter-rome-en-3-jours-conseils-ditineraire-a-faire.html ",
         "https://www.booking.com/hotel/it/locanda-carmel.fr.html?aid=2324560&label=rome-3jours",
         "Hotel Carmel",
         "hotel carmel",
         "hostel cosmos",
         "64.0"
        ],
        [
         "21",
         "https://www.petitfute.com/v39823-rome/actualite/m17-top-10-insolites-voyage/a30996-comment-visiter-rome-en-3-jours-conseils-ditineraire-a-faire.html ",
         "https://www.booking.com/hotel/it/hotelgardaroma.fr.html?aid=2324560",
         "Hotel Garda",
         "hotel garda",
         "travel hotel amsterdam",
         "60.60606060606061"
        ],
        [
         "22",
         "https://www.petitfute.com/v39823-rome/actualite/m17-top-10-insolites-voyage/a30996-comment-visiter-rome-en-3-jours-conseils-ditineraire-a-faire.html ",
         "https://www.booking.com/hotel/it/grifo.fr.html?aid=2324560&label=rome-3jours",
         "Hotel Grifo",
         "hotel grifo",
         "hostel",
         "58.82352941176471"
        ],
        [
         "23",
         "https://www.petitfute.com/v51354-naples/actualite/m17-top-10-insolites-voyage/a31152-comment-visiter-naples-en-3-jours-conseils-d-itineraire.html",
         "https://www.booking.com/hotel/it/hotelcasanova.fr.html?aid=2324560",
         "Hotel Casanova",
         "hotel casanova",
         "hostel cosmos",
         "66.66666666666667"
        ],
        [
         "24",
         "https://www.petitfute.com/v51354-naples/actualite/m17-top-10-insolites-voyage/a31152-comment-visiter-naples-en-3-jours-conseils-d-itineraire.html",
         "https://www.booking.com/hotel/it/hostelofthesunapoli.fr.html?aid=2324560&label=naples-3jours",
         "Hostel of the Sun",
         "hostel of the sun",
         "hotel julian",
         "55.172413793103445"
        ],
        [
         "25",
         "https://www.petitfute.com/v51354-naples/actualite/m17-top-10-insolites-voyage/a31152-comment-visiter-naples-en-3-jours-conseils-d-itineraire.html",
         "https://www.booking.com/hotel/it/palazzo-alabardieri.fr.html?aid=2324560",
         "Palazzo Alabardieri",
         "palazzo alabardieri",
         "villas paradise arenal volcano lake view",
         "47.45762711864406"
        ],
        [
         "26",
         "https://www.petitfute.com/v42286-barcelone/actualite/m17-top-10-insolites-voyage/a31405-que-faire-a-barcelone-en-3-jours-conseils-d-itineraire.html",
         "https://www.booking.com/hotel/es/hostal-fernando.fr.html?aid=356980&label=gog235jc-1FCAsoRkIPaG9zdGFsLWZlcm5hbmRvSA1YA2hNiAEBmAENuAEHyAEM2AEB6AEB-AECiAIBqAIDuAK6_MjABsACAdICJDZmYjlmOWVlLTAyZjgtNGRjYi05NTg4LTRmMjBkZTI2MzhjY9gCBeACAQ&sid=6638e020b5a28e553d7f5e1410fafe86&age=1&all_sr_blocks=17314803_105612970_0_2_0&checkin=2025-06-26&checkout=2025-06-29&dest_id=-372490&dest_type=city&dist=0&group_adults=2&group_children=0&hapos=1&highlighted_blocks=17314803_105612970_0_2_0&hpos=1&matching_block_id=17314803_105612970_0_2_0&no_rooms=1&req_adults=2&req_children=0&room1=A%2CA&sb_price_type=total&sr_order=popularity&sr_pri_blocks=17314803_105612970_0_2_0__54897&srepoch=1746026053&srpvid=bb756b1dff04044a&type=total&ucfs=1&#map_opened-map_trigger_header_pin",
         "Hostal Fernando",
         "hostal fernando",
         "hostel cosmos",
         "50.0"
        ],
        [
         "27",
         "https://www.petitfute.com/v42286-barcelone/actualite/m17-top-10-insolites-voyage/a31405-que-faire-a-barcelone-en-3-jours-conseils-d-itineraire.html",
         "https://www.booking.com/hotel/es/hostal-fernando.fr.html?aid=2324560&label=3jours_barcelone",
         "Hostal Fernando",
         "hostal fernando",
         "hostel cosmos",
         "50.0"
        ],
        [
         "28",
         "https://www.petitfute.com/v42286-barcelone/actualite/m17-top-10-insolites-voyage/a31405-que-faire-a-barcelone-en-3-jours-conseils-d-itineraire.html",
         "https://www.booking.com/hotel/es/hostal-fernando.fr.html?aid=356980&label=gog235jc-1FCAsoRkIPaG9zdGFsLWZlcm5hbmRvSA1YA2hNiAEBmAENuAEHyAEM2AEB6AEB-AECiAIBqAIDuAK6_MjABsACAdICJDZmYjlmOWVlLTAyZjgtNGRjYi05NTg4LTRmMjBkZTI2MzhjY9gCBeACAQ&sid=6638e020b5a28e553d7f5e1410fafe86&age=1&all_sr_blocks=17314803_105612970_0_2_0&checkin=2025-06-26&checkout=2025-06-29&dest_id=-372490&dest_type=city&dist=0&group_adults=2&group_children=0&hapos=1&highlighted_blocks=17314803_105612970_0_2_0&hpos=1&matching_block_id=17314803_105612970_0_2_0&no_rooms=1&req_adults=2&req_children=0&room1=A%2CA&sb_price_type=total&sr_order=popularity&sr_pri_blocks=17314803_105612970_0_2_0__54897&srepoch=1746026053&srpvid=bb756b1dff04044a&type=total&ucfs=1&#map_opened-map_trigger_header_pin",
         "Hostal Fernando",
         "hostal fernando",
         "hostel cosmos",
         "50.0"
        ],
        [
         "29",
         "https://www.petitfute.com/v42286-barcelone/actualite/m17-top-10-insolites-voyage/a31405-que-faire-a-barcelone-en-3-jours-conseils-d-itineraire.html",
         "https://www.booking.com/hotel/es/yellow-nest-hostel.fr.html?aid=356980&label=gog235jc-1FCAsoRkISeWVsbG93LW5lc3QtaG9zdGVsSA1YA2hNiAEBmAENuAEHyAEM2AEB6AEB-AECiAIBqAIDuALl_cjABsACAdICJGY5MzA1YWI3LTI4YTctNDIyMy1iYjIwLWY5ZmFlOGYzZTc5Y9gCBeACAQ&sid=6638e020b5a28e553d7f5e1410fafe86&age=1&all_sr_blocks=31117701_170582352_0_0_0%2C31117701_170582352_0_0_0&checkin=2025-06-26&checkout=2025-06-29&dest_id=-372490&dest_type=city&dist=0&group_adults=2&group_children=0&hapos=1&highlighted_blocks=31117701_170582352_0_0_0%2C31117701_170582352_0_0_0&hpos=1&matching_block_id=31117701_170582352_0_0_0&no_rooms=1&req_adults=2&req_children=0&room1=A%2CA&sb_price_type=total&sr_order=popularity&sr_pri_blocks=31117701_170582352_0_0_0__14177%2C31117701_170582352_0_0_0__14177&srepoch=1746026224&srpvid=54b46b73b3630326&type=total&ucfs=1&#map_opened-map_trigger_header_pin",
         "Onefam Les Corts",
         "onefam les corts",
         "les monges palace boutique",
         "52.38095238095239"
        ],
        [
         "30",
         "https://www.petitfute.com/v42286-barcelone/actualite/m17-top-10-insolites-voyage/a31405-que-faire-a-barcelone-en-3-jours-conseils-d-itineraire.html",
         "https://www.booking.com/hotel/es/yellow-nest-hostel.fr.html?aid=2324560&label=3jours_barcelone",
         "Onefam Les Corts",
         "onefam les corts",
         "les monges palace boutique",
         "52.38095238095239"
        ],
        [
         "31",
         "https://www.petitfute.com/v42286-barcelone/actualite/m17-top-10-insolites-voyage/a31405-que-faire-a-barcelone-en-3-jours-conseils-d-itineraire.html",
         "https://www.booking.com/hotel/es/yellow-nest-hostel.fr.html?aid=356980&label=gog235jc-1FCAsoRkISeWVsbG93LW5lc3QtaG9zdGVsSA1YA2hNiAEBmAENuAEHyAEM2AEB6AEB-AECiAIBqAIDuALl_cjABsACAdICJGY5MzA1YWI3LTI4YTctNDIyMy1iYjIwLWY5ZmFlOGYzZTc5Y9gCBeACAQ&sid=6638e020b5a28e553d7f5e1410fafe86&age=1&all_sr_blocks=31117701_170582352_0_0_0%2C31117701_170582352_0_0_0&checkin=2025-06-26&checkout=2025-06-29&dest_id=-372490&dest_type=city&dist=0&group_adults=2&group_children=0&hapos=1&highlighted_blocks=31117701_170582352_0_0_0%2C31117701_170582352_0_0_0&hpos=1&matching_block_id=31117701_170582352_0_0_0&no_rooms=1&req_adults=2&req_children=0&room1=A%2CA&sb_price_type=total&sr_order=popularity&sr_pri_blocks=31117701_170582352_0_0_0__14177%2C31117701_170582352_0_0_0__14177&srepoch=1746026224&srpvid=54b46b73b3630326&type=total&ucfs=1&#map_opened-map_trigger_header_pin",
         "Onefam Les Corts",
         "onefam les corts",
         "les monges palace boutique",
         "52.38095238095239"
        ],
        [
         "32",
         "https://www.petitfute.com/v42286-barcelone/actualite/m17-top-10-insolites-voyage/a31405-que-faire-a-barcelone-en-3-jours-conseils-d-itineraire.html",
         "https://www.booking.com/hotel/es/w-barcelona.fr.html?aid=2324560&label=3jours_barcelone",
         "W Barcelona",
         "w barcelona",
         "nh genova centro",
         "44.44444444444444"
        ],
        [
         "33",
         "https://www.petitfute.com/v50459-londres/actualite/m17-top-10-insolites-voyage/a31484-que-faire-a-londres-en-3-jours-conseils-ditineraire.html ",
         "https://www.booking.com/hotel/gb/ibis-london-city.fr.html?aid=2324560&no_rooms=1&group_adults=2&label=actu_3jours_londres",
         "ibis London City - Shoreditch",
         "ibis london city shoreditch",
         "residhome dijon cite des vignes",
         "51.72413793103448"
        ],
        [
         "34",
         "https://www.petitfute.com/v50459-londres/actualite/m17-top-10-insolites-voyage/a31484-que-faire-a-londres-en-3-jours-conseils-ditineraire.html ",
         "https://www.booking.com/hotel/gb/blakemore.fr.html?aid=2324560&no_rooms=1&group_adults=2&label=actu_3jours_londres",
         "Blakemore Hyde Park",
         "blakemore hyde park",
         "hotel blue sea",
         "48.484848484848484"
        ],
        [
         "35",
         "https://www.petitfute.com/v50459-londres/actualite/m17-top-10-insolites-voyage/a31484-que-faire-a-londres-en-3-jours-conseils-ditineraire.html ",
         "https://www.booking.com/hotel/gb/notting-hill-hostel.fr.html?aid=2324560&no_rooms=1&group_adults=2&label=londres_3_jours",
         "Onefam Notting Hill",
         "onefam notting hill",
         "hotel ronda moments",
         "47.36842105263158"
        ],
        [
         "36",
         "https://www.petitfute.com/v48153-berlin/actualite/m17-top-10-insolites-voyage/a32105-que-faire-et-que-voir-a-berlin-en-3-jours.html",
         "https://www.booking.com/hotel/de/meininger-berlin-mitte.fr.html?aid=2324560&no_rooms=1&group_adults=2&label=actu_3joursberlin",
         "MEININGER Hotel Berlin Mitte",
         "meininger hotel berlin mitte",
         "easyhotel berlin hackescher markt",
         "62.295081967213115"
        ],
        [
         "37",
         "https://www.petitfute.com/v48153-berlin/actualite/m17-top-10-insolites-voyage/a32105-que-faire-et-que-voir-a-berlin-en-3-jours.html",
         "https://www.booking.com/hotel/de/eastern-comfort-hostel-boat.fr.html?aid=2324560&no_rooms=1&group_adults=2&label=actu_3joursberlin",
         "Shipotel-Berlin GmbH, Shipotel Eastern & Shipotel Western",
         "shipotel berlin gmbh, shipotel eastern & shipotel western",
         "easyhotel berlin hackescher markt",
         "51.11111111111111"
        ],
        [
         "38",
         "https://www.petitfute.com/v48153-berlin/actualite/m17-top-10-insolites-voyage/a32105-que-faire-et-que-voir-a-berlin-en-3-jours.html",
         "https://www.booking.com/hotel/de/nhow-berlin.fr.html?aid=2324560&no_rooms=1&group_adults=2&label=actu_3joursberlin",
         "nhow Berlin",
         "nhow berlin",
         "b&b salernow2",
         "50.0"
        ],
        [
         "39",
         "https://www.petitfute.com/v48153-berlin/actualite/m17-top-10-insolites-voyage/a32105-que-faire-et-que-voir-a-berlin-en-3-jours.html",
         "https://www.booking.com/hotel/de/meininger-berlin-mitte.fr.html?aid=2324560&no_rooms=1&group_adults=2&label=actu_3joursberlin",
         "MEININGER Hotel Berlin Mitte",
         "meininger hotel berlin mitte",
         "easyhotel berlin hackescher markt",
         "62.295081967213115"
        ],
        [
         "40",
         "https://www.petitfute.com/v48153-berlin/actualite/m17-top-10-insolites-voyage/a32105-que-faire-et-que-voir-a-berlin-en-3-jours.html",
         "https://www.booking.com/hotel/de/eastern-comfort-hostel-boat.fr.html?aid=2324560&no_rooms=1&group_adults=2&label=actu_3joursberlin",
         "Shipotel-Berlin GmbH, Shipotel Eastern & Shipotel Western",
         "shipotel berlin gmbh, shipotel eastern & shipotel western",
         "easyhotel berlin hackescher markt",
         "51.11111111111111"
        ],
        [
         "41",
         "https://www.petitfute.com/v48153-berlin/actualite/m17-top-10-insolites-voyage/a32105-que-faire-et-que-voir-a-berlin-en-3-jours.html",
         "https://www.booking.com/hotel/de/nhow-berlin.fr.html?aid=2324560&no_rooms=1&group_adults=2&label=actu_3joursberlin",
         "nhow Berlin",
         "nhow berlin",
         "b&b salernow2",
         "50.0"
        ],
        [
         "42",
         "https://www.petitfute.com/v41612-koh-phi-phi-leh/actualite/m17-top-10-insolites-voyage/a32655-que-faire-que-visiter-a-phuket-top-19-des-activites-incontournables.html",
         "https://www.booking.com/hotel/th/the-surin-phuket.fr.html?aid=2324560&no_rooms=1&group_adults=2&label=actu_incontournables_phuket",
         "The Surin Phuket",
         "the surin phuket",
         "rive gauche",
         "44.44444444444444"
        ],
        [
         "43",
         "https://www.petitfute.com/v41612-koh-phi-phi-leh/actualite/m17-top-10-insolites-voyage/a32655-que-faire-que-visiter-a-phuket-top-19-des-activites-incontournables.html",
         "https://www.booking.com/hotel/th/centara-grand-beach-resort-phuket.fr.html?aid=2324560&no_rooms=1&group_adults=2&label=actu_incontournables_phuket",
         "Centara Grand Beach Resort Phuket",
         "centara grand beach resort phuket",
         "pillows grand boutique hotel reylof ghent",
         "51.35135135135135"
        ],
        [
         "44",
         "https://www.petitfute.com/v41612-koh-phi-phi-leh/actualite/m17-top-10-insolites-voyage/a32655-que-faire-que-visiter-a-phuket-top-19-des-activites-incontournables.html",
         "https://www.booking.com/hotel/th/cape-panwa.fr.html?aid=2324560&no_rooms=1&group_adults=2&label=actu_incontournables_phuket",
         "Cape Panwa Hotel Phuket",
         "cape panwa hotel phuket",
         "sultan suleyman palace hotel & spa",
         "52.63157894736843"
        ],
        [
         "45",
         "https://www.petitfute.com/d1581-paros/actualite/m17-top-10-insolites-voyage/a36143-que-faire-que-visiter-a-paros-les-15-activites-incontournables.html",
         "https://www.booking.com/hotel/gr/akrotiri-akrotiri.fr.html?aid=2324560&no_rooms=1&group_adults=2&label=actu_incontournables_paros",
         "Akrotiri Hotel",
         "akrotiri hotel",
         "cabins hotel amsterdam",
         "55.55555555555556"
        ],
        [
         "46",
         "https://www.petitfute.com/d1581-paros/actualite/m17-top-10-insolites-voyage/a36143-que-faire-que-visiter-a-paros-les-15-activites-incontournables.html",
         "https://www.booking.com/hotel/gr/kanale-s-rooms-suites-naoussa.fr.html?aid=2324560&no_rooms=1&group_adults=2&label=actu_incontournables_paros",
         "Kanale's Rooms & Suites",
         "kanale's rooms & suites",
         "tizzy apartment & rooms",
         "56.52173913043479"
        ],
        [
         "47",
         "https://www.petitfute.com/d1581-paros/actualite/m17-top-10-insolites-voyage/a36143-que-faire-que-visiter-a-paros-les-15-activites-incontournables.html",
         "https://www.booking.com/hotel/gr/aloni.fr.html?aid=2324560&no_rooms=1&group_adults=2&label=actu_incontournables_paros",
         "Aloni Hotel & Suites",
         "aloni hotel & suites",
         "hotel blue sea",
         "58.82352941176471"
        ],
        [
         "48",
         "https://www.petitfute.com/v44465-hammamet-8050/actualite/m17-top-10-insolites-voyage/a36296-que-visiter-a-hammamet-les-11-incontournables-a-faire-2.html",
         "https://www.booking.com/hotel/tn/le-sultan.fr.html?aid=2324560&no_rooms=1&group_adults=2&label=actu_incontournables_hammamet",
         "Le Sultan",
         "le sultan",
         "le solaret",
         "63.1578947368421"
        ],
        [
         "49",
         "https://www.petitfute.com/v44465-hammamet-8050/actualite/m17-top-10-insolites-voyage/a36296-que-visiter-a-hammamet-les-11-incontournables-a-faire-2.html",
         "https://www.booking.com/hotel/tn/the-sindbad-hammamet.fr.html?aid=2324560&no_rooms=1&group_adults=2&label=actu_incontournables_hammamet",
         "The Sindbad",
         "the sindbad",
         "the people lyon",
         "38.46153846153846"
        ]
       ],
       "shape": {
        "columns": 6,
        "rows": 279
       }
      },
      "text/html": [
       "<div>\n",
       "<style scoped>\n",
       "    .dataframe tbody tr th:only-of-type {\n",
       "        vertical-align: middle;\n",
       "    }\n",
       "\n",
       "    .dataframe tbody tr th {\n",
       "        vertical-align: top;\n",
       "    }\n",
       "\n",
       "    .dataframe thead th {\n",
       "        text-align: right;\n",
       "    }\n",
       "</style>\n",
       "<table border=\"1\" class=\"dataframe\">\n",
       "  <thead>\n",
       "    <tr style=\"text-align: right;\">\n",
       "      <th></th>\n",
       "      <th>URL</th>\n",
       "      <th>booking_links</th>\n",
       "      <th>balise_h2</th>\n",
       "      <th>nom_hotel_norm</th>\n",
       "      <th>match_booking</th>\n",
       "      <th>score_match</th>\n",
       "    </tr>\n",
       "  </thead>\n",
       "  <tbody>\n",
       "    <tr>\n",
       "      <th>0</th>\n",
       "      <td>https://www.petitfute.com/v62250-kew/actualite...</td>\n",
       "      <td>https://www.booking.com/hotel/gb/ibis-london-b...</td>\n",
       "      <td>ibis London Blackfriars</td>\n",
       "      <td>ibis london blackfriars</td>\n",
       "      <td>villas paradise arenal volcano lake view</td>\n",
       "      <td>44.444444</td>\n",
       "    </tr>\n",
       "    <tr>\n",
       "      <th>1</th>\n",
       "      <td>https://www.petitfute.com/v62250-kew/actualite...</td>\n",
       "      <td>https://www.booking.com/hotel/gb/ibis-london-b...</td>\n",
       "      <td>ibis London Blackfriars</td>\n",
       "      <td>ibis london blackfriars</td>\n",
       "      <td>villas paradise arenal volcano lake view</td>\n",
       "      <td>44.444444</td>\n",
       "    </tr>\n",
       "    <tr>\n",
       "      <th>2</th>\n",
       "      <td>https://www.petitfute.com/v62250-kew/actualite...</td>\n",
       "      <td>https://www.booking.com/hotel/gb/therookery.fr...</td>\n",
       "      <td>The Rookery</td>\n",
       "      <td>the rookery</td>\n",
       "      <td>the people lyon</td>\n",
       "      <td>53.846154</td>\n",
       "    </tr>\n",
       "    <tr>\n",
       "      <th>3</th>\n",
       "      <td>https://www.petitfute.com/v62250-kew/actualite...</td>\n",
       "      <td>https://www.booking.com/hotel/gb/sanderson.fr....</td>\n",
       "      <td>Sanderson London</td>\n",
       "      <td>sanderson london</td>\n",
       "      <td>eurostars conquistador</td>\n",
       "      <td>47.368421</td>\n",
       "    </tr>\n",
       "    <tr>\n",
       "      <th>4</th>\n",
       "      <td>https://www.petitfute.com/v48299-bangli/actual...</td>\n",
       "      <td>https://www.booking.com/hotel/id/sanak-retreat...</td>\n",
       "      <td>Sanak Retreat Bali</td>\n",
       "      <td>sanak retreat bali</td>\n",
       "      <td>hotel blue sea</td>\n",
       "      <td>50.000000</td>\n",
       "    </tr>\n",
       "    <tr>\n",
       "      <th>...</th>\n",
       "      <td>...</td>\n",
       "      <td>...</td>\n",
       "      <td>...</td>\n",
       "      <td>...</td>\n",
       "      <td>...</td>\n",
       "      <td>...</td>\n",
       "    </tr>\n",
       "    <tr>\n",
       "      <th>274</th>\n",
       "      <td>https://www.petitfute.com/v52913-varsovie-wars...</td>\n",
       "      <td>https://www.booking.com/hotel/pl/novotelwarsza...</td>\n",
       "      <td>Novotel Warszawa Centrum</td>\n",
       "      <td>novotel warszawa centrum</td>\n",
       "      <td>hotel ibis cognac centre</td>\n",
       "      <td>54.166667</td>\n",
       "    </tr>\n",
       "    <tr>\n",
       "      <th>275</th>\n",
       "      <td>https://www.petitfute.com/v52913-varsovie-wars...</td>\n",
       "      <td>https://www.booking.com/hotel/pl/sofitelvictor...</td>\n",
       "      <td>Sofitel Warsaw Victoria</td>\n",
       "      <td>sofitel warsaw victoria</td>\n",
       "      <td>hotel villas rio mar</td>\n",
       "      <td>46.511628</td>\n",
       "    </tr>\n",
       "    <tr>\n",
       "      <th>276</th>\n",
       "      <td>https://www.petitfute.com/v52913-varsovie-wars...</td>\n",
       "      <td>https://www.booking.com/hotel/pl/sofitelvictor...</td>\n",
       "      <td>Sofitel Warsaw Victoria</td>\n",
       "      <td>sofitel warsaw victoria</td>\n",
       "      <td>hotel villas rio mar</td>\n",
       "      <td>46.511628</td>\n",
       "    </tr>\n",
       "    <tr>\n",
       "      <th>277</th>\n",
       "      <td>https://www.petitfute.com/v52913-varsovie-wars...</td>\n",
       "      <td>https://www.booking.com/hotel/pl/holiday-inn-w...</td>\n",
       "      <td>Mercure Warszawa Centrum</td>\n",
       "      <td>mercure warszawa centrum</td>\n",
       "      <td>eurostars conquistador</td>\n",
       "      <td>47.826087</td>\n",
       "    </tr>\n",
       "    <tr>\n",
       "      <th>278</th>\n",
       "      <td>https://www.petitfute.com/v52913-varsovie-wars...</td>\n",
       "      <td>https://www.booking.com/hotel/pl/holiday-inn-w...</td>\n",
       "      <td>Mercure Warszawa Centrum</td>\n",
       "      <td>mercure warszawa centrum</td>\n",
       "      <td>eurostars conquistador</td>\n",
       "      <td>47.826087</td>\n",
       "    </tr>\n",
       "  </tbody>\n",
       "</table>\n",
       "<p>279 rows × 6 columns</p>\n",
       "</div>"
      ],
      "text/plain": [
       "                                                   URL  \\\n",
       "0    https://www.petitfute.com/v62250-kew/actualite...   \n",
       "1    https://www.petitfute.com/v62250-kew/actualite...   \n",
       "2    https://www.petitfute.com/v62250-kew/actualite...   \n",
       "3    https://www.petitfute.com/v62250-kew/actualite...   \n",
       "4    https://www.petitfute.com/v48299-bangli/actual...   \n",
       "..                                                 ...   \n",
       "274  https://www.petitfute.com/v52913-varsovie-wars...   \n",
       "275  https://www.petitfute.com/v52913-varsovie-wars...   \n",
       "276  https://www.petitfute.com/v52913-varsovie-wars...   \n",
       "277  https://www.petitfute.com/v52913-varsovie-wars...   \n",
       "278  https://www.petitfute.com/v52913-varsovie-wars...   \n",
       "\n",
       "                                         booking_links  \\\n",
       "0    https://www.booking.com/hotel/gb/ibis-london-b...   \n",
       "1    https://www.booking.com/hotel/gb/ibis-london-b...   \n",
       "2    https://www.booking.com/hotel/gb/therookery.fr...   \n",
       "3    https://www.booking.com/hotel/gb/sanderson.fr....   \n",
       "4    https://www.booking.com/hotel/id/sanak-retreat...   \n",
       "..                                                 ...   \n",
       "274  https://www.booking.com/hotel/pl/novotelwarsza...   \n",
       "275  https://www.booking.com/hotel/pl/sofitelvictor...   \n",
       "276  https://www.booking.com/hotel/pl/sofitelvictor...   \n",
       "277  https://www.booking.com/hotel/pl/holiday-inn-w...   \n",
       "278  https://www.booking.com/hotel/pl/holiday-inn-w...   \n",
       "\n",
       "                    balise_h2            nom_hotel_norm  \\\n",
       "0     ibis London Blackfriars   ibis london blackfriars   \n",
       "1     ibis London Blackfriars   ibis london blackfriars   \n",
       "2                 The Rookery               the rookery   \n",
       "3            Sanderson London          sanderson london   \n",
       "4          Sanak Retreat Bali        sanak retreat bali   \n",
       "..                        ...                       ...   \n",
       "274  Novotel Warszawa Centrum  novotel warszawa centrum   \n",
       "275   Sofitel Warsaw Victoria   sofitel warsaw victoria   \n",
       "276   Sofitel Warsaw Victoria   sofitel warsaw victoria   \n",
       "277  Mercure Warszawa Centrum  mercure warszawa centrum   \n",
       "278  Mercure Warszawa Centrum  mercure warszawa centrum   \n",
       "\n",
       "                                match_booking  score_match  \n",
       "0    villas paradise arenal volcano lake view    44.444444  \n",
       "1    villas paradise arenal volcano lake view    44.444444  \n",
       "2                             the people lyon    53.846154  \n",
       "3                      eurostars conquistador    47.368421  \n",
       "4                              hotel blue sea    50.000000  \n",
       "..                                        ...          ...  \n",
       "274                  hotel ibis cognac centre    54.166667  \n",
       "275                      hotel villas rio mar    46.511628  \n",
       "276                      hotel villas rio mar    46.511628  \n",
       "277                    eurostars conquistador    47.826087  \n",
       "278                    eurostars conquistador    47.826087  \n",
       "\n",
       "[279 rows x 6 columns]"
      ]
     },
     "execution_count": 47,
     "metadata": {},
     "output_type": "execute_result"
    }
   ],
   "source": [
    "from rapidfuzz import process, fuzz\n",
    "\n",
    "# --- 1️⃣ Liste des noms Booking normalisés ---\n",
    "booking_names = booking['property_name_norm'].dropna().unique().tolist()\n",
    "\n",
    "# --- 2️⃣ Fonction de recherche du meilleur match ---\n",
    "def trouver_meilleur_match(nom):\n",
    "    if not isinstance(nom, str) or not nom:\n",
    "        return None, 0\n",
    "    match, score, _ = process.extractOne(\n",
    "        nom,\n",
    "        booking_names,\n",
    "        scorer=fuzz.token_sort_ratio  # bon pour les noms avec mots inversés\n",
    "    )\n",
    "    return match, score\n",
    "\n",
    "# --- 3️⃣ Application sur df_tmp ---\n",
    "df_tmp[['match_booking', 'score_match']] = df_tmp['nom_hotel_norm'].apply(\n",
    "    lambda x: pd.Series(trouver_meilleur_match(x))\n",
    ")\n",
    "\n",
    "# --- 4️⃣ Vérification ---\n",
    "df_tmp[['nom_hotel_norm', 'match_booking', 'score_match']].sort_values('score_match', ascending=False).head(20)\n",
    "df_tmp"
   ]
  },
  {
   "cell_type": "code",
   "execution_count": 46,
   "metadata": {},
   "outputs": [
    {
     "data": {
      "application/vnd.microsoft.datawrangler.viewer.v0+json": {
       "columns": [
        {
         "name": "index",
         "rawType": "int64",
         "type": "integer"
        },
        {
         "name": "URL",
         "rawType": "object",
         "type": "string"
        },
        {
         "name": "booking_links",
         "rawType": "object",
         "type": "string"
        },
        {
         "name": "balise_h2",
         "rawType": "object",
         "type": "string"
        },
        {
         "name": "nom_hotel_norm",
         "rawType": "object",
         "type": "string"
        },
        {
         "name": "match_booking",
         "rawType": "object",
         "type": "string"
        },
        {
         "name": "score_match",
         "rawType": "float64",
         "type": "float"
        }
       ],
       "ref": "9ecab831-b5a7-45ee-b840-63c136f52e9d",
       "rows": [
        [
         "0",
         "https://www.petitfute.com/v62250-kew/actualite/m17-top-10-insolites-voyage/a11635-que-faire-a-londres-a-noel-les-14-activites-incontournables.html",
         "https://www.booking.com/hotel/gb/ibis-london-blackfriars.fr.html?aid=356980&label=gog235jc-1FCAsoUEIXaWJpcy1sb25kb24tYmxhY2tmcmlhcnNIDVgDaE2IAQGYAQ24AQfIAQzYAQHoAQH4AQKIAgGoAgO4AqKo8LcGwAIB0gIkMjA5N2ZjNjgtZmRhYi00MzRlLThmOWYtOTYwMmFhOGRiNDk12AIF4AIB&sid=a0ed4f8119aafb08ddb2c34d69e8b88d&age=0;all_sr_blocks=42636801_94463129_2_42_0%2C42636801_94463129_2_42_0;checkin=2024-10-06;checkout=2024-10-07;dest_id=-2601889;dest_type=city;dist=0;group_adults=2;group_children=1;hapos=1;highlighted_blocks=42636801_94463129_2_42_0%2C42636801_94463129_2_42_0;hpos=1;matching_block_id=42636801_94463129_2_42_0;no_rooms=1;req_adults=2;req_age=0;req_children=1;room1=A%2CA%2C0;sb_price_type=total;sr_order=popularity;sr_pri_blocks=42636801_94463129_2_42_0__12834%2C42636801_94463129_2_42_0__12834;srepoch=1727796262;srpvid=6b066c51ed76067f;type=total;ucfs=1&#map_opened-hotel_address",
         "ibis London Blackfriars",
         "ibis london blackfriars",
         "hotel ibis cognac centre",
         "48.78048780487805"
        ],
        [
         "1",
         "https://www.petitfute.com/v62250-kew/actualite/m17-top-10-insolites-voyage/a11635-que-faire-a-londres-a-noel-les-14-activites-incontournables.html",
         "https://www.booking.com/hotel/gb/ibis-london-blackfriars.fr.html?aid=2324560&no_rooms=1&group_adults=2&label=actu-londres-noel",
         "ibis London Blackfriars",
         "ibis london blackfriars",
         "hotel ibis cognac centre",
         "48.78048780487805"
        ],
        [
         "2",
         "https://www.petitfute.com/v62250-kew/actualite/m17-top-10-insolites-voyage/a11635-que-faire-a-londres-a-noel-les-14-activites-incontournables.html",
         "https://www.booking.com/hotel/gb/therookery.fr.html?aid=2324560&no_rooms=1&group_adults=2&label=actu-londres-noel",
         "The Rookery",
         "the rookery",
         "hotel royal",
         "60.0"
        ],
        [
         "3",
         "https://www.petitfute.com/v62250-kew/actualite/m17-top-10-insolites-voyage/a11635-que-faire-a-londres-a-noel-les-14-activites-incontournables.html",
         "https://www.booking.com/hotel/gb/sanderson.fr.html?aid=2324560&no_rooms=1&group_adults=2&label=actu-londres-noel",
         "Sanderson London",
         "sanderson london",
         "tucantico lodge monteverde",
         "56.25"
        ],
        [
         "4",
         "https://www.petitfute.com/v48299-bangli/actualite/m17-top-10-insolites-voyage/a11947-les-10-etapes-incontournables-pour-une-escapade-a-bali.html",
         "https://www.booking.com/hotel/id/sanak-retreat-bali.fr.html?aid=2324560&no_rooms=1&group_adults=2&label=que_faire_bali",
         "Sanak Retreat Bali",
         "sanak retreat bali",
         "ty avel",
         "61.53846153846154"
        ],
        [
         "5",
         "https://www.petitfute.com/v48299-bangli/actualite/m17-top-10-insolites-voyage/a11947-les-10-etapes-incontournables-pour-une-escapade-a-bali.html",
         "https://www.booking.com/hotel/id/pramana-watu-kurung-resort.fr.html?aid=2324560&no_rooms=1&group_adults=2&label=que_faire_bali",
         "Pramana Watu Kurung",
         "pramana watu kurung",
         "apartmani 23",
         "60.0"
        ],
        [
         "6",
         "https://www.petitfute.com/v48299-bangli/actualite/m17-top-10-insolites-voyage/a11947-les-10-etapes-incontournables-pour-une-escapade-a-bali.html",
         "https://www.booking.com/hotel/id/the-sankara-suite-and-villa-ubud.fr.html?aid=2324560&no_rooms=1&group_adults=2&label=que_faire_bali",
         "The Sankara Suites and Villas",
         "the sankara suites and villas",
         "villa cyriel",
         "55.55555555555556"
        ],
        [
         "7",
         "https://www.petitfute.com/v49846-genes/actualite/m17-top-10-insolites-voyage/a13620-que-faire-a-genes-les-17-incontournables-a-visiter.html",
         "https://www.booking.com/hotel/it/ostellin-genova-hostel-genoa.fr.html?aid=2324560&label=actu_incontournables_genes",
         "OStellin Genova Hostel",
         "ostellin genova hostel",
         "hostel",
         "100.0"
        ],
        [
         "8",
         "https://www.petitfute.com/v49846-genes/actualite/m17-top-10-insolites-voyage/a13620-que-faire-a-genes-les-17-incontournables-a-visiter.html",
         "https://www.booking.com/hotel/it/b-amp-b-genova.fr.html?aid=2324560&label=actu_incontournables_gene",
         "B&B Hotel Genova Principe",
         "b&b hotel genova principe",
         "hostel",
         "83.33333333333334"
        ],
        [
         "9",
         "https://www.petitfute.com/v49846-genes/actualite/m17-top-10-insolites-voyage/a13620-que-faire-a-genes-les-17-incontournables-a-visiter.html",
         "https://www.booking.com/hotel/it/palazzo-grillo.fr.html?aid=2324560&label=actu_incontournables_genes",
         "Hotel Palazzo Grillo",
         "hotel palazzo grillo",
         "hostel",
         "90.9090909090909"
        ],
        [
         "10",
         "https://www.petitfute.com/v48986-copenhague/actualite/m17-top-10-insolites-voyage/a18238-les-incontournables-de-copenhague.html",
         "https://www.booking.com/hotel/dk/steel-house-copenhagen.fr.html?aid=2324560&no_rooms=1&group_adults=2&label=actu_quefaire_copenhague",
         "Steel House Copenhagen",
         "steel house copenhagen",
         "hostel",
         "72.72727272727273"
        ],
        [
         "11",
         "https://www.petitfute.com/v48986-copenhague/actualite/m17-top-10-insolites-voyage/a18238-les-incontournables-de-copenhague.html",
         "https://www.booking.com/hotel/dk/christian-iv.fr.html?aid=2324560&no_rooms=1&group_adults=2&label=actu_quefaire_copenhague",
         "Hotel Petra",
         "hotel petra",
         "hostel",
         "90.9090909090909"
        ],
        [
         "12",
         "https://www.petitfute.com/v48986-copenhague/actualite/m17-top-10-insolites-voyage/a18238-les-incontournables-de-copenhague.html",
         "https://www.booking.com/hotel/dk/alexandra.fr.html?aid=2324560&no_rooms=1&group_adults=2&label=actu_quefaire_copenhague",
         "Hotel Alexandra",
         "hotel alexandra",
         "hostel",
         "90.9090909090909"
        ],
        [
         "13",
         "https://www.petitfute.com/v48159-marrakech/actualite/m17-top-10-insolites-voyage/a18462-que-faire-a-marrakech-les-15-incontournables.html",
         "https://www.booking.com/hotel/ma/riad-le-rihani.en.html?aid=2324560",
         "Riad Le Rihani",
         "riad le rihani",
         "escale oceania orleans",
         "58.33333333333333"
        ],
        [
         "14",
         "https://www.petitfute.com/v48159-marrakech/actualite/m17-top-10-insolites-voyage/a18462-que-faire-a-marrakech-les-15-incontournables.html",
         "https://www.booking.com/hotel/ma/riad-dia.fr.html?aid=2324560&no_rooms=1&group_adults=2&label=que_faire_marrakech",
         "Riad Dia",
         "riad dia",
         "kyriad direct arles",
         "87.5"
        ],
        [
         "15",
         "https://www.petitfute.com/v48159-marrakech/actualite/m17-top-10-insolites-voyage/a18462-que-faire-a-marrakech-les-15-incontournables.html",
         "https://www.booking.com/hotel/ma/riad-matham.fr.html?aid=2324560&no_rooms=1&group_adults=2&label=que_faire_marrakech",
         "Riad Matham",
         "riad matham",
         "ensana grand margaret island",
         "63.63636363636363"
        ],
        [
         "16",
         "https://www.petitfute.com/v50580-valence/actualite/m17-top-10-insolites-voyage/a29645-que-faire-a-valence-en-espagne-les-19-incontournables.html",
         "https://www.booking.com/hotel/es/hostal-antigua-morellana.en.html?aid=2324560&label=actu_quefaire_valence_espagne",
         "Hostal Antigua Morellana",
         "hostal antigua morellana",
         "hostal roma",
         "84.21052631578947"
        ],
        [
         "17",
         "https://www.petitfute.com/v50580-valence/actualite/m17-top-10-insolites-voyage/a29645-que-faire-a-valence-en-espagne-les-19-incontournables.html",
         "https://www.booking.com/hotel/es/the-westin-alameda-valencia.en.html?aid=2324560&label=actu_quefaire_valence_espagne",
         "The Westin Valencia",
         "the westin valencia",
         "h2 hotel berlin alexanderplatz",
         "57.89473684210527"
        ],
        [
         "18",
         "https://www.petitfute.com/v50580-valence/actualite/m17-top-10-insolites-voyage/a29645-que-faire-a-valence-en-espagne-les-19-incontournables.html",
         "https://www.booking.com/hotel/es/miramar-valencia.en.html?aid=2324560&label=actu_quefaire_valence_espagne",
         "Hotel Miramar Valencia",
         "hotel miramar valencia",
         "hostel",
         "90.9090909090909"
        ],
        [
         "19",
         "https://www.petitfute.com/v50580-valence/actualite/m17-top-10-insolites-voyage/a29645-que-faire-a-valence-en-espagne-les-19-incontournables.html",
         "https://www.booking.com/hotel/es/miramar-valencia.en.html?aid=2324560",
         "Hotel Miramar Valencia",
         "hotel miramar valencia",
         "hostel",
         "90.9090909090909"
        ],
        [
         "20",
         "https://www.petitfute.com/v39823-rome/actualite/m17-top-10-insolites-voyage/a30996-comment-visiter-rome-en-3-jours-conseils-ditineraire-a-faire.html ",
         "https://www.booking.com/hotel/it/locanda-carmel.fr.html?aid=2324560&label=rome-3jours",
         "Hotel Carmel",
         "hotel carmel",
         "hostel",
         "90.9090909090909"
        ],
        [
         "21",
         "https://www.petitfute.com/v39823-rome/actualite/m17-top-10-insolites-voyage/a30996-comment-visiter-rome-en-3-jours-conseils-ditineraire-a-faire.html ",
         "https://www.booking.com/hotel/it/hotelgardaroma.fr.html?aid=2324560",
         "Hotel Garda",
         "hotel garda",
         "hostel",
         "90.9090909090909"
        ],
        [
         "22",
         "https://www.petitfute.com/v39823-rome/actualite/m17-top-10-insolites-voyage/a30996-comment-visiter-rome-en-3-jours-conseils-ditineraire-a-faire.html ",
         "https://www.booking.com/hotel/it/grifo.fr.html?aid=2324560&label=rome-3jours",
         "Hotel Grifo",
         "hotel grifo",
         "hostel",
         "90.9090909090909"
        ],
        [
         "23",
         "https://www.petitfute.com/v51354-naples/actualite/m17-top-10-insolites-voyage/a31152-comment-visiter-naples-en-3-jours-conseils-d-itineraire.html",
         "https://www.booking.com/hotel/it/hotelcasanova.fr.html?aid=2324560",
         "Hotel Casanova",
         "hotel casanova",
         "hostel",
         "90.9090909090909"
        ],
        [
         "24",
         "https://www.petitfute.com/v51354-naples/actualite/m17-top-10-insolites-voyage/a31152-comment-visiter-naples-en-3-jours-conseils-d-itineraire.html",
         "https://www.booking.com/hotel/it/hostelofthesunapoli.fr.html?aid=2324560&label=naples-3jours",
         "Hostel of the Sun",
         "hostel of the sun",
         "hostel",
         "100.0"
        ],
        [
         "25",
         "https://www.petitfute.com/v51354-naples/actualite/m17-top-10-insolites-voyage/a31152-comment-visiter-naples-en-3-jours-conseils-d-itineraire.html",
         "https://www.booking.com/hotel/it/palazzo-alabardieri.fr.html?aid=2324560",
         "Palazzo Alabardieri",
         "palazzo alabardieri",
         "palacio pinello",
         "56.00000000000001"
        ],
        [
         "26",
         "https://www.petitfute.com/v42286-barcelone/actualite/m17-top-10-insolites-voyage/a31405-que-faire-a-barcelone-en-3-jours-conseils-d-itineraire.html",
         "https://www.booking.com/hotel/es/hostal-fernando.fr.html?aid=356980&label=gog235jc-1FCAsoRkIPaG9zdGFsLWZlcm5hbmRvSA1YA2hNiAEBmAENuAEHyAEM2AEB6AEB-AECiAIBqAIDuAK6_MjABsACAdICJDZmYjlmOWVlLTAyZjgtNGRjYi05NTg4LTRmMjBkZTI2MzhjY9gCBeACAQ&sid=6638e020b5a28e553d7f5e1410fafe86&age=1&all_sr_blocks=17314803_105612970_0_2_0&checkin=2025-06-26&checkout=2025-06-29&dest_id=-372490&dest_type=city&dist=0&group_adults=2&group_children=0&hapos=1&highlighted_blocks=17314803_105612970_0_2_0&hpos=1&matching_block_id=17314803_105612970_0_2_0&no_rooms=1&req_adults=2&req_children=0&room1=A%2CA&sb_price_type=total&sr_order=popularity&sr_pri_blocks=17314803_105612970_0_2_0__54897&srepoch=1746026053&srpvid=bb756b1dff04044a&type=total&ucfs=1&#map_opened-map_trigger_header_pin",
         "Hostal Fernando",
         "hostal fernando",
         "hostel",
         "83.33333333333334"
        ],
        [
         "27",
         "https://www.petitfute.com/v42286-barcelone/actualite/m17-top-10-insolites-voyage/a31405-que-faire-a-barcelone-en-3-jours-conseils-d-itineraire.html",
         "https://www.booking.com/hotel/es/hostal-fernando.fr.html?aid=2324560&label=3jours_barcelone",
         "Hostal Fernando",
         "hostal fernando",
         "hostel",
         "83.33333333333334"
        ],
        [
         "28",
         "https://www.petitfute.com/v42286-barcelone/actualite/m17-top-10-insolites-voyage/a31405-que-faire-a-barcelone-en-3-jours-conseils-d-itineraire.html",
         "https://www.booking.com/hotel/es/hostal-fernando.fr.html?aid=356980&label=gog235jc-1FCAsoRkIPaG9zdGFsLWZlcm5hbmRvSA1YA2hNiAEBmAENuAEHyAEM2AEB6AEB-AECiAIBqAIDuAK6_MjABsACAdICJDZmYjlmOWVlLTAyZjgtNGRjYi05NTg4LTRmMjBkZTI2MzhjY9gCBeACAQ&sid=6638e020b5a28e553d7f5e1410fafe86&age=1&all_sr_blocks=17314803_105612970_0_2_0&checkin=2025-06-26&checkout=2025-06-29&dest_id=-372490&dest_type=city&dist=0&group_adults=2&group_children=0&hapos=1&highlighted_blocks=17314803_105612970_0_2_0&hpos=1&matching_block_id=17314803_105612970_0_2_0&no_rooms=1&req_adults=2&req_children=0&room1=A%2CA&sb_price_type=total&sr_order=popularity&sr_pri_blocks=17314803_105612970_0_2_0__54897&srepoch=1746026053&srpvid=bb756b1dff04044a&type=total&ucfs=1&#map_opened-map_trigger_header_pin",
         "Hostal Fernando",
         "hostal fernando",
         "hostel",
         "83.33333333333334"
        ],
        [
         "29",
         "https://www.petitfute.com/v42286-barcelone/actualite/m17-top-10-insolites-voyage/a31405-que-faire-a-barcelone-en-3-jours-conseils-d-itineraire.html",
         "https://www.booking.com/hotel/es/yellow-nest-hostel.fr.html?aid=356980&label=gog235jc-1FCAsoRkISeWVsbG93LW5lc3QtaG9zdGVsSA1YA2hNiAEBmAENuAEHyAEM2AEB6AEB-AECiAIBqAIDuALl_cjABsACAdICJGY5MzA1YWI3LTI4YTctNDIyMy1iYjIwLWY5ZmFlOGYzZTc5Y9gCBeACAQ&sid=6638e020b5a28e553d7f5e1410fafe86&age=1&all_sr_blocks=31117701_170582352_0_0_0%2C31117701_170582352_0_0_0&checkin=2025-06-26&checkout=2025-06-29&dest_id=-372490&dest_type=city&dist=0&group_adults=2&group_children=0&hapos=1&highlighted_blocks=31117701_170582352_0_0_0%2C31117701_170582352_0_0_0&hpos=1&matching_block_id=31117701_170582352_0_0_0&no_rooms=1&req_adults=2&req_children=0&room1=A%2CA&sb_price_type=total&sr_order=popularity&sr_pri_blocks=31117701_170582352_0_0_0__14177%2C31117701_170582352_0_0_0__14177&srepoch=1746026224&srpvid=54b46b73b3630326&type=total&ucfs=1&#map_opened-map_trigger_header_pin",
         "Onefam Les Corts",
         "onefam les corts",
         "le solaret",
         "63.1578947368421"
        ],
        [
         "30",
         "https://www.petitfute.com/v42286-barcelone/actualite/m17-top-10-insolites-voyage/a31405-que-faire-a-barcelone-en-3-jours-conseils-d-itineraire.html",
         "https://www.booking.com/hotel/es/yellow-nest-hostel.fr.html?aid=2324560&label=3jours_barcelone",
         "Onefam Les Corts",
         "onefam les corts",
         "le solaret",
         "63.1578947368421"
        ],
        [
         "31",
         "https://www.petitfute.com/v42286-barcelone/actualite/m17-top-10-insolites-voyage/a31405-que-faire-a-barcelone-en-3-jours-conseils-d-itineraire.html",
         "https://www.booking.com/hotel/es/yellow-nest-hostel.fr.html?aid=356980&label=gog235jc-1FCAsoRkISeWVsbG93LW5lc3QtaG9zdGVsSA1YA2hNiAEBmAENuAEHyAEM2AEB6AEB-AECiAIBqAIDuALl_cjABsACAdICJGY5MzA1YWI3LTI4YTctNDIyMy1iYjIwLWY5ZmFlOGYzZTc5Y9gCBeACAQ&sid=6638e020b5a28e553d7f5e1410fafe86&age=1&all_sr_blocks=31117701_170582352_0_0_0%2C31117701_170582352_0_0_0&checkin=2025-06-26&checkout=2025-06-29&dest_id=-372490&dest_type=city&dist=0&group_adults=2&group_children=0&hapos=1&highlighted_blocks=31117701_170582352_0_0_0%2C31117701_170582352_0_0_0&hpos=1&matching_block_id=31117701_170582352_0_0_0&no_rooms=1&req_adults=2&req_children=0&room1=A%2CA&sb_price_type=total&sr_order=popularity&sr_pri_blocks=31117701_170582352_0_0_0__14177%2C31117701_170582352_0_0_0__14177&srepoch=1746026224&srpvid=54b46b73b3630326&type=total&ucfs=1&#map_opened-map_trigger_header_pin",
         "Onefam Les Corts",
         "onefam les corts",
         "le solaret",
         "63.1578947368421"
        ],
        [
         "32",
         "https://www.petitfute.com/v42286-barcelone/actualite/m17-top-10-insolites-voyage/a31405-que-faire-a-barcelone-en-3-jours-conseils-d-itineraire.html",
         "https://www.booking.com/hotel/es/w-barcelona.fr.html?aid=2324560&label=3jours_barcelone",
         "W Barcelona",
         "w barcelona",
         "villas santa maria private bay lake arenal",
         "66.66666666666667"
        ],
        [
         "33",
         "https://www.petitfute.com/v50459-londres/actualite/m17-top-10-insolites-voyage/a31484-que-faire-a-londres-en-3-jours-conseils-ditineraire.html ",
         "https://www.booking.com/hotel/gb/ibis-london-city.fr.html?aid=2324560&no_rooms=1&group_adults=2&label=actu_3jours_londres",
         "ibis London City - Shoreditch",
         "ibis london city shoreditch",
         "le solaret",
         "60.0"
        ],
        [
         "34",
         "https://www.petitfute.com/v50459-londres/actualite/m17-top-10-insolites-voyage/a31484-que-faire-a-londres-en-3-jours-conseils-ditineraire.html ",
         "https://www.booking.com/hotel/gb/blakemore.fr.html?aid=2324560&no_rooms=1&group_adults=2&label=actu_3jours_londres",
         "Blakemore Hyde Park",
         "blakemore hyde park",
         "le dome",
         "57.14285714285714"
        ],
        [
         "35",
         "https://www.petitfute.com/v50459-londres/actualite/m17-top-10-insolites-voyage/a31484-que-faire-a-londres-en-3-jours-conseils-ditineraire.html ",
         "https://www.booking.com/hotel/gb/notting-hill-hostel.fr.html?aid=2324560&no_rooms=1&group_adults=2&label=londres_3_jours",
         "Onefam Notting Hill",
         "onefam notting hill",
         "urban spa romantique chic",
         "48.484848484848484"
        ],
        [
         "36",
         "https://www.petitfute.com/v48153-berlin/actualite/m17-top-10-insolites-voyage/a32105-que-faire-et-que-voir-a-berlin-en-3-jours.html",
         "https://www.booking.com/hotel/de/meininger-berlin-mitte.fr.html?aid=2324560&no_rooms=1&group_adults=2&label=actu_3joursberlin",
         "MEININGER Hotel Berlin Mitte",
         "meininger hotel berlin mitte",
         "hostel",
         "83.33333333333334"
        ],
        [
         "37",
         "https://www.petitfute.com/v48153-berlin/actualite/m17-top-10-insolites-voyage/a32105-que-faire-et-que-voir-a-berlin-en-3-jours.html",
         "https://www.booking.com/hotel/de/eastern-comfort-hostel-boat.fr.html?aid=2324560&no_rooms=1&group_adults=2&label=actu_3joursberlin",
         "Shipotel-Berlin GmbH, Shipotel Eastern & Shipotel Western",
         "shipotel berlin gmbh, shipotel eastern & shipotel western",
         "hotel julian",
         "66.66666666666667"
        ],
        [
         "38",
         "https://www.petitfute.com/v48153-berlin/actualite/m17-top-10-insolites-voyage/a32105-que-faire-et-que-voir-a-berlin-en-3-jours.html",
         "https://www.booking.com/hotel/de/nhow-berlin.fr.html?aid=2324560&no_rooms=1&group_adults=2&label=actu_3joursberlin",
         "nhow Berlin",
         "nhow berlin",
         "h2 hotel berlin alexanderplatz",
         "72.72727272727273"
        ],
        [
         "39",
         "https://www.petitfute.com/v48153-berlin/actualite/m17-top-10-insolites-voyage/a32105-que-faire-et-que-voir-a-berlin-en-3-jours.html",
         "https://www.booking.com/hotel/de/meininger-berlin-mitte.fr.html?aid=2324560&no_rooms=1&group_adults=2&label=actu_3joursberlin",
         "MEININGER Hotel Berlin Mitte",
         "meininger hotel berlin mitte",
         "hostel",
         "83.33333333333334"
        ],
        [
         "40",
         "https://www.petitfute.com/v48153-berlin/actualite/m17-top-10-insolites-voyage/a32105-que-faire-et-que-voir-a-berlin-en-3-jours.html",
         "https://www.booking.com/hotel/de/eastern-comfort-hostel-boat.fr.html?aid=2324560&no_rooms=1&group_adults=2&label=actu_3joursberlin",
         "Shipotel-Berlin GmbH, Shipotel Eastern & Shipotel Western",
         "shipotel berlin gmbh, shipotel eastern & shipotel western",
         "hotel julian",
         "66.66666666666667"
        ],
        [
         "41",
         "https://www.petitfute.com/v48153-berlin/actualite/m17-top-10-insolites-voyage/a32105-que-faire-et-que-voir-a-berlin-en-3-jours.html",
         "https://www.booking.com/hotel/de/nhow-berlin.fr.html?aid=2324560&no_rooms=1&group_adults=2&label=actu_3joursberlin",
         "nhow Berlin",
         "nhow berlin",
         "h2 hotel berlin alexanderplatz",
         "72.72727272727273"
        ],
        [
         "42",
         "https://www.petitfute.com/v41612-koh-phi-phi-leh/actualite/m17-top-10-insolites-voyage/a32655-que-faire-que-visiter-a-phuket-top-19-des-activites-incontournables.html",
         "https://www.booking.com/hotel/th/the-surin-phuket.fr.html?aid=2324560&no_rooms=1&group_adults=2&label=actu_incontournables_phuket",
         "The Surin Phuket",
         "the surin phuket",
         "easyhotel berlin hackescher markt",
         "62.5"
        ],
        [
         "43",
         "https://www.petitfute.com/v41612-koh-phi-phi-leh/actualite/m17-top-10-insolites-voyage/a32655-que-faire-que-visiter-a-phuket-top-19-des-activites-incontournables.html",
         "https://www.booking.com/hotel/th/centara-grand-beach-resort-phuket.fr.html?aid=2324560&no_rooms=1&group_adults=2&label=actu_incontournables_phuket",
         "Centara Grand Beach Resort Phuket",
         "centara grand beach resort phuket",
         "ensana grand margaret island",
         "58.82352941176471"
        ],
        [
         "44",
         "https://www.petitfute.com/v41612-koh-phi-phi-leh/actualite/m17-top-10-insolites-voyage/a32655-que-faire-que-visiter-a-phuket-top-19-des-activites-incontournables.html",
         "https://www.booking.com/hotel/th/cape-panwa.fr.html?aid=2324560&no_rooms=1&group_adults=2&label=actu_incontournables_phuket",
         "Cape Panwa Hotel Phuket",
         "cape panwa hotel phuket",
         "hostel",
         "83.33333333333334"
        ],
        [
         "45",
         "https://www.petitfute.com/d1581-paros/actualite/m17-top-10-insolites-voyage/a36143-que-faire-que-visiter-a-paros-les-15-activites-incontournables.html",
         "https://www.booking.com/hotel/gr/akrotiri-akrotiri.fr.html?aid=2324560&no_rooms=1&group_adults=2&label=actu_incontournables_paros",
         "Akrotiri Hotel",
         "akrotiri hotel",
         "hostel",
         "90.9090909090909"
        ],
        [
         "46",
         "https://www.petitfute.com/d1581-paros/actualite/m17-top-10-insolites-voyage/a36143-que-faire-que-visiter-a-paros-les-15-activites-incontournables.html",
         "https://www.booking.com/hotel/gr/kanale-s-rooms-suites-naoussa.fr.html?aid=2324560&no_rooms=1&group_adults=2&label=actu_incontournables_paros",
         "Kanale's Rooms & Suites",
         "kanale's rooms & suites",
         "copenaghen rooms",
         "60.0"
        ],
        [
         "47",
         "https://www.petitfute.com/d1581-paros/actualite/m17-top-10-insolites-voyage/a36143-que-faire-que-visiter-a-paros-les-15-activites-incontournables.html",
         "https://www.booking.com/hotel/gr/aloni.fr.html?aid=2324560&no_rooms=1&group_adults=2&label=actu_incontournables_paros",
         "Aloni Hotel & Suites",
         "aloni hotel & suites",
         "hostel",
         "83.33333333333334"
        ],
        [
         "48",
         "https://www.petitfute.com/v44465-hammamet-8050/actualite/m17-top-10-insolites-voyage/a36296-que-visiter-a-hammamet-les-11-incontournables-a-faire-2.html",
         "https://www.booking.com/hotel/tn/le-sultan.fr.html?aid=2324560&no_rooms=1&group_adults=2&label=actu_incontournables_hammamet",
         "Le Sultan",
         "le sultan",
         "sultan suleyman palace hotel & spa",
         "80.0"
        ],
        [
         "49",
         "https://www.petitfute.com/v44465-hammamet-8050/actualite/m17-top-10-insolites-voyage/a36296-que-visiter-a-hammamet-les-11-incontournables-a-faire-2.html",
         "https://www.booking.com/hotel/tn/the-sindbad-hammamet.fr.html?aid=2324560&no_rooms=1&group_adults=2&label=actu_incontournables_hammamet",
         "The Sindbad",
         "the sindbad",
         "la cote des blancs domaine viticole & maison d'hotes",
         "54.54545454545454"
        ]
       ],
       "shape": {
        "columns": 6,
        "rows": 279
       }
      },
      "text/html": [
       "<div>\n",
       "<style scoped>\n",
       "    .dataframe tbody tr th:only-of-type {\n",
       "        vertical-align: middle;\n",
       "    }\n",
       "\n",
       "    .dataframe tbody tr th {\n",
       "        vertical-align: top;\n",
       "    }\n",
       "\n",
       "    .dataframe thead th {\n",
       "        text-align: right;\n",
       "    }\n",
       "</style>\n",
       "<table border=\"1\" class=\"dataframe\">\n",
       "  <thead>\n",
       "    <tr style=\"text-align: right;\">\n",
       "      <th></th>\n",
       "      <th>URL</th>\n",
       "      <th>booking_links</th>\n",
       "      <th>balise_h2</th>\n",
       "      <th>nom_hotel_norm</th>\n",
       "      <th>match_booking</th>\n",
       "      <th>score_match</th>\n",
       "    </tr>\n",
       "  </thead>\n",
       "  <tbody>\n",
       "    <tr>\n",
       "      <th>0</th>\n",
       "      <td>https://www.petitfute.com/v62250-kew/actualite...</td>\n",
       "      <td>https://www.booking.com/hotel/gb/ibis-london-b...</td>\n",
       "      <td>ibis London Blackfriars</td>\n",
       "      <td>ibis london blackfriars</td>\n",
       "      <td>hotel ibis cognac centre</td>\n",
       "      <td>48.780488</td>\n",
       "    </tr>\n",
       "    <tr>\n",
       "      <th>1</th>\n",
       "      <td>https://www.petitfute.com/v62250-kew/actualite...</td>\n",
       "      <td>https://www.booking.com/hotel/gb/ibis-london-b...</td>\n",
       "      <td>ibis London Blackfriars</td>\n",
       "      <td>ibis london blackfriars</td>\n",
       "      <td>hotel ibis cognac centre</td>\n",
       "      <td>48.780488</td>\n",
       "    </tr>\n",
       "    <tr>\n",
       "      <th>2</th>\n",
       "      <td>https://www.petitfute.com/v62250-kew/actualite...</td>\n",
       "      <td>https://www.booking.com/hotel/gb/therookery.fr...</td>\n",
       "      <td>The Rookery</td>\n",
       "      <td>the rookery</td>\n",
       "      <td>hotel royal</td>\n",
       "      <td>60.000000</td>\n",
       "    </tr>\n",
       "    <tr>\n",
       "      <th>3</th>\n",
       "      <td>https://www.petitfute.com/v62250-kew/actualite...</td>\n",
       "      <td>https://www.booking.com/hotel/gb/sanderson.fr....</td>\n",
       "      <td>Sanderson London</td>\n",
       "      <td>sanderson london</td>\n",
       "      <td>tucantico lodge monteverde</td>\n",
       "      <td>56.250000</td>\n",
       "    </tr>\n",
       "    <tr>\n",
       "      <th>4</th>\n",
       "      <td>https://www.petitfute.com/v48299-bangli/actual...</td>\n",
       "      <td>https://www.booking.com/hotel/id/sanak-retreat...</td>\n",
       "      <td>Sanak Retreat Bali</td>\n",
       "      <td>sanak retreat bali</td>\n",
       "      <td>ty avel</td>\n",
       "      <td>61.538462</td>\n",
       "    </tr>\n",
       "    <tr>\n",
       "      <th>...</th>\n",
       "      <td>...</td>\n",
       "      <td>...</td>\n",
       "      <td>...</td>\n",
       "      <td>...</td>\n",
       "      <td>...</td>\n",
       "      <td>...</td>\n",
       "    </tr>\n",
       "    <tr>\n",
       "      <th>274</th>\n",
       "      <td>https://www.petitfute.com/v52913-varsovie-wars...</td>\n",
       "      <td>https://www.booking.com/hotel/pl/novotelwarsza...</td>\n",
       "      <td>Novotel Warszawa Centrum</td>\n",
       "      <td>novotel warszawa centrum</td>\n",
       "      <td>hostel</td>\n",
       "      <td>66.666667</td>\n",
       "    </tr>\n",
       "    <tr>\n",
       "      <th>275</th>\n",
       "      <td>https://www.petitfute.com/v52913-varsovie-wars...</td>\n",
       "      <td>https://www.booking.com/hotel/pl/sofitelvictor...</td>\n",
       "      <td>Sofitel Warsaw Victoria</td>\n",
       "      <td>sofitel warsaw victoria</td>\n",
       "      <td>hostel</td>\n",
       "      <td>66.666667</td>\n",
       "    </tr>\n",
       "    <tr>\n",
       "      <th>276</th>\n",
       "      <td>https://www.petitfute.com/v52913-varsovie-wars...</td>\n",
       "      <td>https://www.booking.com/hotel/pl/sofitelvictor...</td>\n",
       "      <td>Sofitel Warsaw Victoria</td>\n",
       "      <td>sofitel warsaw victoria</td>\n",
       "      <td>hostel</td>\n",
       "      <td>66.666667</td>\n",
       "    </tr>\n",
       "    <tr>\n",
       "      <th>277</th>\n",
       "      <td>https://www.petitfute.com/v52913-varsovie-wars...</td>\n",
       "      <td>https://www.booking.com/hotel/pl/holiday-inn-w...</td>\n",
       "      <td>Mercure Warszawa Centrum</td>\n",
       "      <td>mercure warszawa centrum</td>\n",
       "      <td>nh genova centro</td>\n",
       "      <td>56.000000</td>\n",
       "    </tr>\n",
       "    <tr>\n",
       "      <th>278</th>\n",
       "      <td>https://www.petitfute.com/v52913-varsovie-wars...</td>\n",
       "      <td>https://www.booking.com/hotel/pl/holiday-inn-w...</td>\n",
       "      <td>Mercure Warszawa Centrum</td>\n",
       "      <td>mercure warszawa centrum</td>\n",
       "      <td>nh genova centro</td>\n",
       "      <td>56.000000</td>\n",
       "    </tr>\n",
       "  </tbody>\n",
       "</table>\n",
       "<p>279 rows × 6 columns</p>\n",
       "</div>"
      ],
      "text/plain": [
       "                                                   URL  \\\n",
       "0    https://www.petitfute.com/v62250-kew/actualite...   \n",
       "1    https://www.petitfute.com/v62250-kew/actualite...   \n",
       "2    https://www.petitfute.com/v62250-kew/actualite...   \n",
       "3    https://www.petitfute.com/v62250-kew/actualite...   \n",
       "4    https://www.petitfute.com/v48299-bangli/actual...   \n",
       "..                                                 ...   \n",
       "274  https://www.petitfute.com/v52913-varsovie-wars...   \n",
       "275  https://www.petitfute.com/v52913-varsovie-wars...   \n",
       "276  https://www.petitfute.com/v52913-varsovie-wars...   \n",
       "277  https://www.petitfute.com/v52913-varsovie-wars...   \n",
       "278  https://www.petitfute.com/v52913-varsovie-wars...   \n",
       "\n",
       "                                         booking_links  \\\n",
       "0    https://www.booking.com/hotel/gb/ibis-london-b...   \n",
       "1    https://www.booking.com/hotel/gb/ibis-london-b...   \n",
       "2    https://www.booking.com/hotel/gb/therookery.fr...   \n",
       "3    https://www.booking.com/hotel/gb/sanderson.fr....   \n",
       "4    https://www.booking.com/hotel/id/sanak-retreat...   \n",
       "..                                                 ...   \n",
       "274  https://www.booking.com/hotel/pl/novotelwarsza...   \n",
       "275  https://www.booking.com/hotel/pl/sofitelvictor...   \n",
       "276  https://www.booking.com/hotel/pl/sofitelvictor...   \n",
       "277  https://www.booking.com/hotel/pl/holiday-inn-w...   \n",
       "278  https://www.booking.com/hotel/pl/holiday-inn-w...   \n",
       "\n",
       "                    balise_h2            nom_hotel_norm  \\\n",
       "0     ibis London Blackfriars   ibis london blackfriars   \n",
       "1     ibis London Blackfriars   ibis london blackfriars   \n",
       "2                 The Rookery               the rookery   \n",
       "3            Sanderson London          sanderson london   \n",
       "4          Sanak Retreat Bali        sanak retreat bali   \n",
       "..                        ...                       ...   \n",
       "274  Novotel Warszawa Centrum  novotel warszawa centrum   \n",
       "275   Sofitel Warsaw Victoria   sofitel warsaw victoria   \n",
       "276   Sofitel Warsaw Victoria   sofitel warsaw victoria   \n",
       "277  Mercure Warszawa Centrum  mercure warszawa centrum   \n",
       "278  Mercure Warszawa Centrum  mercure warszawa centrum   \n",
       "\n",
       "                  match_booking  score_match  \n",
       "0      hotel ibis cognac centre    48.780488  \n",
       "1      hotel ibis cognac centre    48.780488  \n",
       "2                   hotel royal    60.000000  \n",
       "3    tucantico lodge monteverde    56.250000  \n",
       "4                       ty avel    61.538462  \n",
       "..                          ...          ...  \n",
       "274                      hostel    66.666667  \n",
       "275                      hostel    66.666667  \n",
       "276                      hostel    66.666667  \n",
       "277            nh genova centro    56.000000  \n",
       "278            nh genova centro    56.000000  \n",
       "\n",
       "[279 rows x 6 columns]"
      ]
     },
     "execution_count": 46,
     "metadata": {},
     "output_type": "execute_result"
    }
   ],
   "source": [
    "from rapidfuzz import process, fuzz\n",
    "\n",
    "booking_names = booking['property_name_norm'].dropna().unique().tolist()\n",
    "\n",
    "def trouver_meilleur_match(nom):\n",
    "    if not isinstance(nom, str) or not nom:\n",
    "        return None, 0\n",
    "    match, score, _ = process.extractOne(\n",
    "        nom,\n",
    "        booking_names,\n",
    "        scorer=fuzz.partial_ratio  # bon pour les sous-chaînes\n",
    "    )\n",
    "    return match, score\n",
    "\n",
    "df_tmp[['match_booking', 'score_match']] = df_tmp['nom_hotel_norm'].apply(\n",
    "    lambda x: pd.Series(trouver_meilleur_match(x))\n",
    ")\n",
    "\n",
    "df_tmp[['nom_hotel_norm', 'match_booking', 'score_match']].sort_values('score_match', ascending=False).head(20)\n",
    "df_tmp\n"
   ]
  },
  {
   "cell_type": "code",
   "execution_count": null,
   "metadata": {},
   "outputs": [],
   "source": []
  },
  {
   "cell_type": "code",
   "execution_count": 48,
   "metadata": {},
   "outputs": [
    {
     "data": {
      "application/vnd.microsoft.datawrangler.viewer.v0+json": {
       "columns": [
        {
         "name": "index",
         "rawType": "int64",
         "type": "integer"
        },
        {
         "name": "URL",
         "rawType": "object",
         "type": "string"
        },
        {
         "name": "booking_links",
         "rawType": "object",
         "type": "string"
        },
        {
         "name": "balise_h2",
         "rawType": "object",
         "type": "string"
        },
        {
         "name": "nom_hotel_norm",
         "rawType": "object",
         "type": "string"
        },
        {
         "name": "match_booking",
         "rawType": "object",
         "type": "string"
        },
        {
         "name": "score_match",
         "rawType": "float64",
         "type": "float"
        }
       ],
       "ref": "3853ffb3-41f4-4b8f-8197-73a983964a6c",
       "rows": [
        [
         "0",
         "https://www.petitfute.com/v62250-kew/actualite/m17-top-10-insolites-voyage/a11635-que-faire-a-londres-a-noel-les-14-activites-incontournables.html",
         "https://www.booking.com/hotel/gb/ibis-london-blackfriars.fr.html?aid=356980&label=gog235jc-1FCAsoUEIXaWJpcy1sb25kb24tYmxhY2tmcmlhcnNIDVgDaE2IAQGYAQ24AQfIAQzYAQHoAQH4AQKIAgGoAgO4AqKo8LcGwAIB0gIkMjA5N2ZjNjgtZmRhYi00MzRlLThmOWYtOTYwMmFhOGRiNDk12AIF4AIB&sid=a0ed4f8119aafb08ddb2c34d69e8b88d&age=0;all_sr_blocks=42636801_94463129_2_42_0%2C42636801_94463129_2_42_0;checkin=2024-10-06;checkout=2024-10-07;dest_id=-2601889;dest_type=city;dist=0;group_adults=2;group_children=1;hapos=1;highlighted_blocks=42636801_94463129_2_42_0%2C42636801_94463129_2_42_0;hpos=1;matching_block_id=42636801_94463129_2_42_0;no_rooms=1;req_adults=2;req_age=0;req_children=1;room1=A%2CA%2C0;sb_price_type=total;sr_order=popularity;sr_pri_blocks=42636801_94463129_2_42_0__12834%2C42636801_94463129_2_42_0__12834;srepoch=1727796262;srpvid=6b066c51ed76067f;type=total;ucfs=1&#map_opened-hotel_address",
         "ibis London Blackfriars",
         "ibis london blackfriars",
         "los lagos lodge",
         "44.608695652173914"
        ],
        [
         "1",
         "https://www.petitfute.com/v62250-kew/actualite/m17-top-10-insolites-voyage/a11635-que-faire-a-londres-a-noel-les-14-activites-incontournables.html",
         "https://www.booking.com/hotel/gb/ibis-london-blackfriars.fr.html?aid=2324560&no_rooms=1&group_adults=2&label=actu-londres-noel",
         "ibis London Blackfriars",
         "ibis london blackfriars",
         "los lagos lodge",
         "44.608695652173914"
        ],
        [
         "2",
         "https://www.petitfute.com/v62250-kew/actualite/m17-top-10-insolites-voyage/a11635-que-faire-a-londres-a-noel-les-14-activites-incontournables.html",
         "https://www.booking.com/hotel/gb/therookery.fr.html?aid=2324560&no_rooms=1&group_adults=2&label=actu-londres-noel",
         "The Rookery",
         "the rookery",
         "hotel royal",
         "54.54545454545454"
        ],
        [
         "3",
         "https://www.petitfute.com/v62250-kew/actualite/m17-top-10-insolites-voyage/a11635-que-faire-a-londres-a-noel-les-14-activites-incontournables.html",
         "https://www.booking.com/hotel/gb/sanderson.fr.html?aid=2324560&no_rooms=1&group_adults=2&label=actu-londres-noel",
         "Sanderson London",
         "sanderson london",
         "tucantico lodge monteverde",
         "50.625"
        ],
        [
         "4",
         "https://www.petitfute.com/v48299-bangli/actualite/m17-top-10-insolites-voyage/a11947-les-10-etapes-incontournables-pour-une-escapade-a-bali.html",
         "https://www.booking.com/hotel/id/sanak-retreat-bali.fr.html?aid=2324560&no_rooms=1&group_adults=2&label=que_faire_bali",
         "Sanak Retreat Bali",
         "sanak retreat bali",
         "ty avel",
         "55.38461538461539"
        ],
        [
         "5",
         "https://www.petitfute.com/v48299-bangli/actualite/m17-top-10-insolites-voyage/a11947-les-10-etapes-incontournables-pour-une-escapade-a-bali.html",
         "https://www.booking.com/hotel/id/pramana-watu-kurung-resort.fr.html?aid=2324560&no_rooms=1&group_adults=2&label=que_faire_bali",
         "Pramana Watu Kurung",
         "pramana watu kurung",
         "apartmani 23",
         "54.0"
        ],
        [
         "6",
         "https://www.petitfute.com/v48299-bangli/actualite/m17-top-10-insolites-voyage/a11947-les-10-etapes-incontournables-pour-une-escapade-a-bali.html",
         "https://www.booking.com/hotel/id/the-sankara-suite-and-villa-ubud.fr.html?aid=2324560&no_rooms=1&group_adults=2&label=que_faire_bali",
         "The Sankara Suites and Villas",
         "the sankara suites and villas",
         "the people lyon",
         "85.5"
        ],
        [
         "7",
         "https://www.petitfute.com/v49846-genes/actualite/m17-top-10-insolites-voyage/a13620-que-faire-a-genes-les-17-incontournables-a-visiter.html",
         "https://www.booking.com/hotel/it/ostellin-genova-hostel-genoa.fr.html?aid=2324560&label=actu_incontournables_genes",
         "OStellin Genova Hostel",
         "ostellin genova hostel",
         "hostel",
         "90.0"
        ],
        [
         "8",
         "https://www.petitfute.com/v49846-genes/actualite/m17-top-10-insolites-voyage/a13620-que-faire-a-genes-les-17-incontournables-a-visiter.html",
         "https://www.booking.com/hotel/it/b-amp-b-genova.fr.html?aid=2324560&label=actu_incontournables_gene",
         "B&B Hotel Genova Principe",
         "b&b hotel genova principe",
         "hotel julian",
         "85.5"
        ],
        [
         "9",
         "https://www.petitfute.com/v49846-genes/actualite/m17-top-10-insolites-voyage/a13620-que-faire-a-genes-les-17-incontournables-a-visiter.html",
         "https://www.booking.com/hotel/it/palazzo-grillo.fr.html?aid=2324560&label=actu_incontournables_genes",
         "Hotel Palazzo Grillo",
         "hotel palazzo grillo",
         "hotel julian",
         "85.5"
        ],
        [
         "10",
         "https://www.petitfute.com/v48986-copenhague/actualite/m17-top-10-insolites-voyage/a18238-les-incontournables-de-copenhague.html",
         "https://www.booking.com/hotel/dk/steel-house-copenhagen.fr.html?aid=2324560&no_rooms=1&group_adults=2&label=actu_quefaire_copenhague",
         "Steel House Copenhagen",
         "steel house copenhagen",
         "hostel",
         "65.45454545454547"
        ],
        [
         "11",
         "https://www.petitfute.com/v48986-copenhague/actualite/m17-top-10-insolites-voyage/a18238-les-incontournables-de-copenhague.html",
         "https://www.booking.com/hotel/dk/christian-iv.fr.html?aid=2324560&no_rooms=1&group_adults=2&label=actu_quefaire_copenhague",
         "Hotel Petra",
         "hotel petra",
         "hotel villas rio mar",
         "85.5"
        ],
        [
         "12",
         "https://www.petitfute.com/v48986-copenhague/actualite/m17-top-10-insolites-voyage/a18238-les-incontournables-de-copenhague.html",
         "https://www.booking.com/hotel/dk/alexandra.fr.html?aid=2324560&no_rooms=1&group_adults=2&label=actu_quefaire_copenhague",
         "Hotel Alexandra",
         "hotel alexandra",
         "la suite hotel agadir adults only",
         "85.5"
        ],
        [
         "13",
         "https://www.petitfute.com/v48159-marrakech/actualite/m17-top-10-insolites-voyage/a18462-que-faire-a-marrakech-les-15-incontournables.html",
         "https://www.booking.com/hotel/ma/riad-le-rihani.en.html?aid=2324560",
         "Riad Le Rihani",
         "riad le rihani",
         "le capitaine leparticulier collection",
         "85.5"
        ],
        [
         "14",
         "https://www.petitfute.com/v48159-marrakech/actualite/m17-top-10-insolites-voyage/a18462-que-faire-a-marrakech-les-15-incontournables.html",
         "https://www.booking.com/hotel/ma/riad-dia.fr.html?aid=2324560&no_rooms=1&group_adults=2&label=que_faire_marrakech",
         "Riad Dia",
         "riad dia",
         "kyriad direct arles",
         "78.75"
        ],
        [
         "15",
         "https://www.petitfute.com/v48159-marrakech/actualite/m17-top-10-insolites-voyage/a18462-que-faire-a-marrakech-les-15-incontournables.html",
         "https://www.booking.com/hotel/ma/riad-matham.fr.html?aid=2324560&no_rooms=1&group_adults=2&label=que_faire_marrakech",
         "Riad Matham",
         "riad matham",
         "ensana grand margaret island",
         "57.27272727272727"
        ],
        [
         "16",
         "https://www.petitfute.com/v50580-valence/actualite/m17-top-10-insolites-voyage/a29645-que-faire-a-valence-en-espagne-les-19-incontournables.html",
         "https://www.booking.com/hotel/es/hostal-antigua-morellana.en.html?aid=2324560&label=actu_quefaire_valence_espagne",
         "Hostal Antigua Morellana",
         "hostal antigua morellana",
         "hostal roma",
         "85.5"
        ],
        [
         "17",
         "https://www.petitfute.com/v50580-valence/actualite/m17-top-10-insolites-voyage/a29645-que-faire-a-valence-en-espagne-les-19-incontournables.html",
         "https://www.booking.com/hotel/es/the-westin-alameda-valencia.en.html?aid=2324560&label=actu_quefaire_valence_espagne",
         "The Westin Valencia",
         "the westin valencia",
         "chez vallye",
         "63.0"
        ],
        [
         "18",
         "https://www.petitfute.com/v50580-valence/actualite/m17-top-10-insolites-voyage/a29645-que-faire-a-valence-en-espagne-les-19-incontournables.html",
         "https://www.booking.com/hotel/es/miramar-valencia.en.html?aid=2324560&label=actu_quefaire_valence_espagne",
         "Hotel Miramar Valencia",
         "hotel miramar valencia",
         "hotel julian",
         "85.5"
        ],
        [
         "19",
         "https://www.petitfute.com/v50580-valence/actualite/m17-top-10-insolites-voyage/a29645-que-faire-a-valence-en-espagne-les-19-incontournables.html",
         "https://www.booking.com/hotel/es/miramar-valencia.en.html?aid=2324560",
         "Hotel Miramar Valencia",
         "hotel miramar valencia",
         "hotel julian",
         "85.5"
        ],
        [
         "20",
         "https://www.petitfute.com/v39823-rome/actualite/m17-top-10-insolites-voyage/a30996-comment-visiter-rome-en-3-jours-conseils-ditineraire-a-faire.html ",
         "https://www.booking.com/hotel/it/locanda-carmel.fr.html?aid=2324560&label=rome-3jours",
         "Hotel Carmel",
         "hotel carmel",
         "hotel villas rio mar",
         "85.5"
        ],
        [
         "21",
         "https://www.petitfute.com/v39823-rome/actualite/m17-top-10-insolites-voyage/a30996-comment-visiter-rome-en-3-jours-conseils-ditineraire-a-faire.html ",
         "https://www.booking.com/hotel/it/hotelgardaroma.fr.html?aid=2324560",
         "Hotel Garda",
         "hotel garda",
         "hotel villas rio mar",
         "85.5"
        ],
        [
         "22",
         "https://www.petitfute.com/v39823-rome/actualite/m17-top-10-insolites-voyage/a30996-comment-visiter-rome-en-3-jours-conseils-ditineraire-a-faire.html ",
         "https://www.booking.com/hotel/it/grifo.fr.html?aid=2324560&label=rome-3jours",
         "Hotel Grifo",
         "hotel grifo",
         "hotel villas rio mar",
         "85.5"
        ],
        [
         "23",
         "https://www.petitfute.com/v51354-naples/actualite/m17-top-10-insolites-voyage/a31152-comment-visiter-naples-en-3-jours-conseils-d-itineraire.html",
         "https://www.booking.com/hotel/it/hotelcasanova.fr.html?aid=2324560",
         "Hotel Casanova",
         "hotel casanova",
         "la suite hotel agadir adults only",
         "85.5"
        ],
        [
         "24",
         "https://www.petitfute.com/v51354-naples/actualite/m17-top-10-insolites-voyage/a31152-comment-visiter-naples-en-3-jours-conseils-d-itineraire.html",
         "https://www.booking.com/hotel/it/hostelofthesunapoli.fr.html?aid=2324560&label=naples-3jours",
         "Hostel of the Sun",
         "hostel of the sun",
         "hostel",
         "90.0"
        ],
        [
         "25",
         "https://www.petitfute.com/v51354-naples/actualite/m17-top-10-insolites-voyage/a31152-comment-visiter-naples-en-3-jours-conseils-d-itineraire.html",
         "https://www.booking.com/hotel/it/palazzo-alabardieri.fr.html?aid=2324560",
         "Palazzo Alabardieri",
         "palazzo alabardieri",
         "h2 hotel berlin alexanderplatz",
         "51.81818181818182"
        ],
        [
         "26",
         "https://www.petitfute.com/v42286-barcelone/actualite/m17-top-10-insolites-voyage/a31405-que-faire-a-barcelone-en-3-jours-conseils-d-itineraire.html",
         "https://www.booking.com/hotel/es/hostal-fernando.fr.html?aid=356980&label=gog235jc-1FCAsoRkIPaG9zdGFsLWZlcm5hbmRvSA1YA2hNiAEBmAENuAEHyAEM2AEB6AEB-AECiAIBqAIDuAK6_MjABsACAdICJDZmYjlmOWVlLTAyZjgtNGRjYi05NTg4LTRmMjBkZTI2MzhjY9gCBeACAQ&sid=6638e020b5a28e553d7f5e1410fafe86&age=1&all_sr_blocks=17314803_105612970_0_2_0&checkin=2025-06-26&checkout=2025-06-29&dest_id=-372490&dest_type=city&dist=0&group_adults=2&group_children=0&hapos=1&highlighted_blocks=17314803_105612970_0_2_0&hpos=1&matching_block_id=17314803_105612970_0_2_0&no_rooms=1&req_adults=2&req_children=0&room1=A%2CA&sb_price_type=total&sr_order=popularity&sr_pri_blocks=17314803_105612970_0_2_0__54897&srepoch=1746026053&srpvid=bb756b1dff04044a&type=total&ucfs=1&#map_opened-map_trigger_header_pin",
         "Hostal Fernando",
         "hostal fernando",
         "hostel",
         "75.00000000000001"
        ],
        [
         "27",
         "https://www.petitfute.com/v42286-barcelone/actualite/m17-top-10-insolites-voyage/a31405-que-faire-a-barcelone-en-3-jours-conseils-d-itineraire.html",
         "https://www.booking.com/hotel/es/hostal-fernando.fr.html?aid=2324560&label=3jours_barcelone",
         "Hostal Fernando",
         "hostal fernando",
         "hostel",
         "75.00000000000001"
        ],
        [
         "28",
         "https://www.petitfute.com/v42286-barcelone/actualite/m17-top-10-insolites-voyage/a31405-que-faire-a-barcelone-en-3-jours-conseils-d-itineraire.html",
         "https://www.booking.com/hotel/es/hostal-fernando.fr.html?aid=356980&label=gog235jc-1FCAsoRkIPaG9zdGFsLWZlcm5hbmRvSA1YA2hNiAEBmAENuAEHyAEM2AEB6AEB-AECiAIBqAIDuAK6_MjABsACAdICJDZmYjlmOWVlLTAyZjgtNGRjYi05NTg4LTRmMjBkZTI2MzhjY9gCBeACAQ&sid=6638e020b5a28e553d7f5e1410fafe86&age=1&all_sr_blocks=17314803_105612970_0_2_0&checkin=2025-06-26&checkout=2025-06-29&dest_id=-372490&dest_type=city&dist=0&group_adults=2&group_children=0&hapos=1&highlighted_blocks=17314803_105612970_0_2_0&hpos=1&matching_block_id=17314803_105612970_0_2_0&no_rooms=1&req_adults=2&req_children=0&room1=A%2CA&sb_price_type=total&sr_order=popularity&sr_pri_blocks=17314803_105612970_0_2_0__54897&srepoch=1746026053&srpvid=bb756b1dff04044a&type=total&ucfs=1&#map_opened-map_trigger_header_pin",
         "Hostal Fernando",
         "hostal fernando",
         "hostel",
         "75.00000000000001"
        ],
        [
         "29",
         "https://www.petitfute.com/v42286-barcelone/actualite/m17-top-10-insolites-voyage/a31405-que-faire-a-barcelone-en-3-jours-conseils-d-itineraire.html",
         "https://www.booking.com/hotel/es/yellow-nest-hostel.fr.html?aid=356980&label=gog235jc-1FCAsoRkISeWVsbG93LW5lc3QtaG9zdGVsSA1YA2hNiAEBmAENuAEHyAEM2AEB6AEB-AECiAIBqAIDuALl_cjABsACAdICJGY5MzA1YWI3LTI4YTctNDIyMy1iYjIwLWY5ZmFlOGYzZTc5Y9gCBeACAQ&sid=6638e020b5a28e553d7f5e1410fafe86&age=1&all_sr_blocks=31117701_170582352_0_0_0%2C31117701_170582352_0_0_0&checkin=2025-06-26&checkout=2025-06-29&dest_id=-372490&dest_type=city&dist=0&group_adults=2&group_children=0&hapos=1&highlighted_blocks=31117701_170582352_0_0_0%2C31117701_170582352_0_0_0&hpos=1&matching_block_id=31117701_170582352_0_0_0&no_rooms=1&req_adults=2&req_children=0&room1=A%2CA&sb_price_type=total&sr_order=popularity&sr_pri_blocks=31117701_170582352_0_0_0__14177%2C31117701_170582352_0_0_0__14177&srepoch=1746026224&srpvid=54b46b73b3630326&type=total&ucfs=1&#map_opened-map_trigger_header_pin",
         "Onefam Les Corts",
         "onefam les corts",
         "les monges palace boutique",
         "85.5"
        ],
        [
         "30",
         "https://www.petitfute.com/v42286-barcelone/actualite/m17-top-10-insolites-voyage/a31405-que-faire-a-barcelone-en-3-jours-conseils-d-itineraire.html",
         "https://www.booking.com/hotel/es/yellow-nest-hostel.fr.html?aid=2324560&label=3jours_barcelone",
         "Onefam Les Corts",
         "onefam les corts",
         "les monges palace boutique",
         "85.5"
        ],
        [
         "31",
         "https://www.petitfute.com/v42286-barcelone/actualite/m17-top-10-insolites-voyage/a31405-que-faire-a-barcelone-en-3-jours-conseils-d-itineraire.html",
         "https://www.booking.com/hotel/es/yellow-nest-hostel.fr.html?aid=356980&label=gog235jc-1FCAsoRkISeWVsbG93LW5lc3QtaG9zdGVsSA1YA2hNiAEBmAENuAEHyAEM2AEB6AEB-AECiAIBqAIDuALl_cjABsACAdICJGY5MzA1YWI3LTI4YTctNDIyMy1iYjIwLWY5ZmFlOGYzZTc5Y9gCBeACAQ&sid=6638e020b5a28e553d7f5e1410fafe86&age=1&all_sr_blocks=31117701_170582352_0_0_0%2C31117701_170582352_0_0_0&checkin=2025-06-26&checkout=2025-06-29&dest_id=-372490&dest_type=city&dist=0&group_adults=2&group_children=0&hapos=1&highlighted_blocks=31117701_170582352_0_0_0%2C31117701_170582352_0_0_0&hpos=1&matching_block_id=31117701_170582352_0_0_0&no_rooms=1&req_adults=2&req_children=0&room1=A%2CA&sb_price_type=total&sr_order=popularity&sr_pri_blocks=31117701_170582352_0_0_0__14177%2C31117701_170582352_0_0_0__14177&srepoch=1746026224&srpvid=54b46b73b3630326&type=total&ucfs=1&#map_opened-map_trigger_header_pin",
         "Onefam Les Corts",
         "onefam les corts",
         "les monges palace boutique",
         "85.5"
        ],
        [
         "32",
         "https://www.petitfute.com/v42286-barcelone/actualite/m17-top-10-insolites-voyage/a31405-que-faire-a-barcelone-en-3-jours-conseils-d-itineraire.html",
         "https://www.booking.com/hotel/es/w-barcelona.fr.html?aid=2324560&label=3jours_barcelone",
         "W Barcelona",
         "w barcelona",
         "villas santa maria private bay lake arenal",
         "60.00000000000001"
        ],
        [
         "33",
         "https://www.petitfute.com/v50459-londres/actualite/m17-top-10-insolites-voyage/a31484-que-faire-a-londres-en-3-jours-conseils-ditineraire.html ",
         "https://www.booking.com/hotel/gb/ibis-london-city.fr.html?aid=2324560&no_rooms=1&group_adults=2&label=actu_3jours_londres",
         "ibis London City - Shoreditch",
         "ibis london city shoreditch",
         "le solaret",
         "54.0"
        ],
        [
         "34",
         "https://www.petitfute.com/v50459-londres/actualite/m17-top-10-insolites-voyage/a31484-que-faire-a-londres-en-3-jours-conseils-ditineraire.html ",
         "https://www.booking.com/hotel/gb/blakemore.fr.html?aid=2324560&no_rooms=1&group_adults=2&label=actu_3jours_londres",
         "Blakemore Hyde Park",
         "blakemore hyde park",
         "seaview studio's, free breakfast & park tour",
         "85.5"
        ],
        [
         "35",
         "https://www.petitfute.com/v50459-londres/actualite/m17-top-10-insolites-voyage/a31484-que-faire-a-londres-en-3-jours-conseils-ditineraire.html ",
         "https://www.booking.com/hotel/gb/notting-hill-hostel.fr.html?aid=2324560&no_rooms=1&group_adults=2&label=londres_3_jours",
         "Onefam Notting Hill",
         "onefam notting hill",
         "hotel novano",
         "45.00000000000001"
        ],
        [
         "36",
         "https://www.petitfute.com/v48153-berlin/actualite/m17-top-10-insolites-voyage/a32105-que-faire-et-que-voir-a-berlin-en-3-jours.html",
         "https://www.booking.com/hotel/de/meininger-berlin-mitte.fr.html?aid=2324560&no_rooms=1&group_adults=2&label=actu_3joursberlin",
         "MEININGER Hotel Berlin Mitte",
         "meininger hotel berlin mitte",
         "hotel julian",
         "85.5"
        ],
        [
         "37",
         "https://www.petitfute.com/v48153-berlin/actualite/m17-top-10-insolites-voyage/a32105-que-faire-et-que-voir-a-berlin-en-3-jours.html",
         "https://www.booking.com/hotel/de/eastern-comfort-hostel-boat.fr.html?aid=2324560&no_rooms=1&group_adults=2&label=actu_3joursberlin",
         "Shipotel-Berlin GmbH, Shipotel Eastern & Shipotel Western",
         "shipotel berlin gmbh, shipotel eastern & shipotel western",
         "tizzy apartment & rooms",
         "85.5"
        ],
        [
         "38",
         "https://www.petitfute.com/v48153-berlin/actualite/m17-top-10-insolites-voyage/a32105-que-faire-et-que-voir-a-berlin-en-3-jours.html",
         "https://www.booking.com/hotel/de/nhow-berlin.fr.html?aid=2324560&no_rooms=1&group_adults=2&label=actu_3joursberlin",
         "nhow Berlin",
         "nhow berlin",
         "h2 hotel berlin alexanderplatz",
         "85.5"
        ],
        [
         "39",
         "https://www.petitfute.com/v48153-berlin/actualite/m17-top-10-insolites-voyage/a32105-que-faire-et-que-voir-a-berlin-en-3-jours.html",
         "https://www.booking.com/hotel/de/meininger-berlin-mitte.fr.html?aid=2324560&no_rooms=1&group_adults=2&label=actu_3joursberlin",
         "MEININGER Hotel Berlin Mitte",
         "meininger hotel berlin mitte",
         "hotel julian",
         "85.5"
        ],
        [
         "40",
         "https://www.petitfute.com/v48153-berlin/actualite/m17-top-10-insolites-voyage/a32105-que-faire-et-que-voir-a-berlin-en-3-jours.html",
         "https://www.booking.com/hotel/de/eastern-comfort-hostel-boat.fr.html?aid=2324560&no_rooms=1&group_adults=2&label=actu_3joursberlin",
         "Shipotel-Berlin GmbH, Shipotel Eastern & Shipotel Western",
         "shipotel berlin gmbh, shipotel eastern & shipotel western",
         "tizzy apartment & rooms",
         "85.5"
        ],
        [
         "41",
         "https://www.petitfute.com/v48153-berlin/actualite/m17-top-10-insolites-voyage/a32105-que-faire-et-que-voir-a-berlin-en-3-jours.html",
         "https://www.booking.com/hotel/de/nhow-berlin.fr.html?aid=2324560&no_rooms=1&group_adults=2&label=actu_3joursberlin",
         "nhow Berlin",
         "nhow berlin",
         "h2 hotel berlin alexanderplatz",
         "85.5"
        ],
        [
         "42",
         "https://www.petitfute.com/v41612-koh-phi-phi-leh/actualite/m17-top-10-insolites-voyage/a32655-que-faire-que-visiter-a-phuket-top-19-des-activites-incontournables.html",
         "https://www.booking.com/hotel/th/the-surin-phuket.fr.html?aid=2324560&no_rooms=1&group_adults=2&label=actu_incontournables_phuket",
         "The Surin Phuket",
         "the surin phuket",
         "easyhotel berlin hackescher markt",
         "56.25"
        ],
        [
         "43",
         "https://www.petitfute.com/v41612-koh-phi-phi-leh/actualite/m17-top-10-insolites-voyage/a32655-que-faire-que-visiter-a-phuket-top-19-des-activites-incontournables.html",
         "https://www.booking.com/hotel/th/centara-grand-beach-resort-phuket.fr.html?aid=2324560&no_rooms=1&group_adults=2&label=actu_incontournables_phuket",
         "Centara Grand Beach Resort Phuket",
         "centara grand beach resort phuket",
         "micheck beach house",
         "85.5"
        ],
        [
         "44",
         "https://www.petitfute.com/v41612-koh-phi-phi-leh/actualite/m17-top-10-insolites-voyage/a32655-que-faire-que-visiter-a-phuket-top-19-des-activites-incontournables.html",
         "https://www.booking.com/hotel/th/cape-panwa.fr.html?aid=2324560&no_rooms=1&group_adults=2&label=actu_incontournables_phuket",
         "Cape Panwa Hotel Phuket",
         "cape panwa hotel phuket",
         "hotel julian",
         "85.5"
        ],
        [
         "45",
         "https://www.petitfute.com/d1581-paros/actualite/m17-top-10-insolites-voyage/a36143-que-faire-que-visiter-a-paros-les-15-activites-incontournables.html",
         "https://www.booking.com/hotel/gr/akrotiri-akrotiri.fr.html?aid=2324560&no_rooms=1&group_adults=2&label=actu_incontournables_paros",
         "Akrotiri Hotel",
         "akrotiri hotel",
         "la suite hotel agadir adults only",
         "85.5"
        ],
        [
         "46",
         "https://www.petitfute.com/d1581-paros/actualite/m17-top-10-insolites-voyage/a36143-que-faire-que-visiter-a-paros-les-15-activites-incontournables.html",
         "https://www.booking.com/hotel/gr/kanale-s-rooms-suites-naoussa.fr.html?aid=2324560&no_rooms=1&group_adults=2&label=actu_incontournables_paros",
         "Kanale's Rooms & Suites",
         "kanale's rooms & suites",
         "seaview studio's, free breakfast & park tour",
         "85.5"
        ],
        [
         "47",
         "https://www.petitfute.com/d1581-paros/actualite/m17-top-10-insolites-voyage/a36143-que-faire-que-visiter-a-paros-les-15-activites-incontournables.html",
         "https://www.booking.com/hotel/gr/aloni.fr.html?aid=2324560&no_rooms=1&group_adults=2&label=actu_incontournables_paros",
         "Aloni Hotel & Suites",
         "aloni hotel & suites",
         "hotel julian",
         "85.5"
        ],
        [
         "48",
         "https://www.petitfute.com/v44465-hammamet-8050/actualite/m17-top-10-insolites-voyage/a36296-que-visiter-a-hammamet-les-11-incontournables-a-faire-2.html",
         "https://www.booking.com/hotel/tn/le-sultan.fr.html?aid=2324560&no_rooms=1&group_adults=2&label=actu_incontournables_hammamet",
         "Le Sultan",
         "le sultan",
         "le capitaine leparticulier collection",
         "85.5"
        ],
        [
         "49",
         "https://www.petitfute.com/v44465-hammamet-8050/actualite/m17-top-10-insolites-voyage/a36296-que-visiter-a-hammamet-les-11-incontournables-a-faire-2.html",
         "https://www.booking.com/hotel/tn/the-sindbad-hammamet.fr.html?aid=2324560&no_rooms=1&group_adults=2&label=actu_incontournables_hammamet",
         "The Sindbad",
         "the sindbad",
         "hotel mundial",
         "50.0"
        ]
       ],
       "shape": {
        "columns": 6,
        "rows": 279
       }
      },
      "text/html": [
       "<div>\n",
       "<style scoped>\n",
       "    .dataframe tbody tr th:only-of-type {\n",
       "        vertical-align: middle;\n",
       "    }\n",
       "\n",
       "    .dataframe tbody tr th {\n",
       "        vertical-align: top;\n",
       "    }\n",
       "\n",
       "    .dataframe thead th {\n",
       "        text-align: right;\n",
       "    }\n",
       "</style>\n",
       "<table border=\"1\" class=\"dataframe\">\n",
       "  <thead>\n",
       "    <tr style=\"text-align: right;\">\n",
       "      <th></th>\n",
       "      <th>URL</th>\n",
       "      <th>booking_links</th>\n",
       "      <th>balise_h2</th>\n",
       "      <th>nom_hotel_norm</th>\n",
       "      <th>match_booking</th>\n",
       "      <th>score_match</th>\n",
       "    </tr>\n",
       "  </thead>\n",
       "  <tbody>\n",
       "    <tr>\n",
       "      <th>0</th>\n",
       "      <td>https://www.petitfute.com/v62250-kew/actualite...</td>\n",
       "      <td>https://www.booking.com/hotel/gb/ibis-london-b...</td>\n",
       "      <td>ibis London Blackfriars</td>\n",
       "      <td>ibis london blackfriars</td>\n",
       "      <td>los lagos lodge</td>\n",
       "      <td>44.608696</td>\n",
       "    </tr>\n",
       "    <tr>\n",
       "      <th>1</th>\n",
       "      <td>https://www.petitfute.com/v62250-kew/actualite...</td>\n",
       "      <td>https://www.booking.com/hotel/gb/ibis-london-b...</td>\n",
       "      <td>ibis London Blackfriars</td>\n",
       "      <td>ibis london blackfriars</td>\n",
       "      <td>los lagos lodge</td>\n",
       "      <td>44.608696</td>\n",
       "    </tr>\n",
       "    <tr>\n",
       "      <th>2</th>\n",
       "      <td>https://www.petitfute.com/v62250-kew/actualite...</td>\n",
       "      <td>https://www.booking.com/hotel/gb/therookery.fr...</td>\n",
       "      <td>The Rookery</td>\n",
       "      <td>the rookery</td>\n",
       "      <td>hotel royal</td>\n",
       "      <td>54.545455</td>\n",
       "    </tr>\n",
       "    <tr>\n",
       "      <th>3</th>\n",
       "      <td>https://www.petitfute.com/v62250-kew/actualite...</td>\n",
       "      <td>https://www.booking.com/hotel/gb/sanderson.fr....</td>\n",
       "      <td>Sanderson London</td>\n",
       "      <td>sanderson london</td>\n",
       "      <td>tucantico lodge monteverde</td>\n",
       "      <td>50.625000</td>\n",
       "    </tr>\n",
       "    <tr>\n",
       "      <th>4</th>\n",
       "      <td>https://www.petitfute.com/v48299-bangli/actual...</td>\n",
       "      <td>https://www.booking.com/hotel/id/sanak-retreat...</td>\n",
       "      <td>Sanak Retreat Bali</td>\n",
       "      <td>sanak retreat bali</td>\n",
       "      <td>ty avel</td>\n",
       "      <td>55.384615</td>\n",
       "    </tr>\n",
       "    <tr>\n",
       "      <th>...</th>\n",
       "      <td>...</td>\n",
       "      <td>...</td>\n",
       "      <td>...</td>\n",
       "      <td>...</td>\n",
       "      <td>...</td>\n",
       "      <td>...</td>\n",
       "    </tr>\n",
       "    <tr>\n",
       "      <th>274</th>\n",
       "      <td>https://www.petitfute.com/v52913-varsovie-wars...</td>\n",
       "      <td>https://www.booking.com/hotel/pl/novotelwarsza...</td>\n",
       "      <td>Novotel Warszawa Centrum</td>\n",
       "      <td>novotel warszawa centrum</td>\n",
       "      <td>hotel novotel brussels off grand place</td>\n",
       "      <td>85.500000</td>\n",
       "    </tr>\n",
       "    <tr>\n",
       "      <th>275</th>\n",
       "      <td>https://www.petitfute.com/v52913-varsovie-wars...</td>\n",
       "      <td>https://www.booking.com/hotel/pl/sofitelvictor...</td>\n",
       "      <td>Sofitel Warsaw Victoria</td>\n",
       "      <td>sofitel warsaw victoria</td>\n",
       "      <td>hostel</td>\n",
       "      <td>60.000000</td>\n",
       "    </tr>\n",
       "    <tr>\n",
       "      <th>276</th>\n",
       "      <td>https://www.petitfute.com/v52913-varsovie-wars...</td>\n",
       "      <td>https://www.booking.com/hotel/pl/sofitelvictor...</td>\n",
       "      <td>Sofitel Warsaw Victoria</td>\n",
       "      <td>sofitel warsaw victoria</td>\n",
       "      <td>hostel</td>\n",
       "      <td>60.000000</td>\n",
       "    </tr>\n",
       "    <tr>\n",
       "      <th>277</th>\n",
       "      <td>https://www.petitfute.com/v52913-varsovie-wars...</td>\n",
       "      <td>https://www.booking.com/hotel/pl/holiday-inn-w...</td>\n",
       "      <td>Mercure Warszawa Centrum</td>\n",
       "      <td>mercure warszawa centrum</td>\n",
       "      <td>nh genova centro</td>\n",
       "      <td>50.400000</td>\n",
       "    </tr>\n",
       "    <tr>\n",
       "      <th>278</th>\n",
       "      <td>https://www.petitfute.com/v52913-varsovie-wars...</td>\n",
       "      <td>https://www.booking.com/hotel/pl/holiday-inn-w...</td>\n",
       "      <td>Mercure Warszawa Centrum</td>\n",
       "      <td>mercure warszawa centrum</td>\n",
       "      <td>nh genova centro</td>\n",
       "      <td>50.400000</td>\n",
       "    </tr>\n",
       "  </tbody>\n",
       "</table>\n",
       "<p>279 rows × 6 columns</p>\n",
       "</div>"
      ],
      "text/plain": [
       "                                                   URL  \\\n",
       "0    https://www.petitfute.com/v62250-kew/actualite...   \n",
       "1    https://www.petitfute.com/v62250-kew/actualite...   \n",
       "2    https://www.petitfute.com/v62250-kew/actualite...   \n",
       "3    https://www.petitfute.com/v62250-kew/actualite...   \n",
       "4    https://www.petitfute.com/v48299-bangli/actual...   \n",
       "..                                                 ...   \n",
       "274  https://www.petitfute.com/v52913-varsovie-wars...   \n",
       "275  https://www.petitfute.com/v52913-varsovie-wars...   \n",
       "276  https://www.petitfute.com/v52913-varsovie-wars...   \n",
       "277  https://www.petitfute.com/v52913-varsovie-wars...   \n",
       "278  https://www.petitfute.com/v52913-varsovie-wars...   \n",
       "\n",
       "                                         booking_links  \\\n",
       "0    https://www.booking.com/hotel/gb/ibis-london-b...   \n",
       "1    https://www.booking.com/hotel/gb/ibis-london-b...   \n",
       "2    https://www.booking.com/hotel/gb/therookery.fr...   \n",
       "3    https://www.booking.com/hotel/gb/sanderson.fr....   \n",
       "4    https://www.booking.com/hotel/id/sanak-retreat...   \n",
       "..                                                 ...   \n",
       "274  https://www.booking.com/hotel/pl/novotelwarsza...   \n",
       "275  https://www.booking.com/hotel/pl/sofitelvictor...   \n",
       "276  https://www.booking.com/hotel/pl/sofitelvictor...   \n",
       "277  https://www.booking.com/hotel/pl/holiday-inn-w...   \n",
       "278  https://www.booking.com/hotel/pl/holiday-inn-w...   \n",
       "\n",
       "                    balise_h2            nom_hotel_norm  \\\n",
       "0     ibis London Blackfriars   ibis london blackfriars   \n",
       "1     ibis London Blackfriars   ibis london blackfriars   \n",
       "2                 The Rookery               the rookery   \n",
       "3            Sanderson London          sanderson london   \n",
       "4          Sanak Retreat Bali        sanak retreat bali   \n",
       "..                        ...                       ...   \n",
       "274  Novotel Warszawa Centrum  novotel warszawa centrum   \n",
       "275   Sofitel Warsaw Victoria   sofitel warsaw victoria   \n",
       "276   Sofitel Warsaw Victoria   sofitel warsaw victoria   \n",
       "277  Mercure Warszawa Centrum  mercure warszawa centrum   \n",
       "278  Mercure Warszawa Centrum  mercure warszawa centrum   \n",
       "\n",
       "                              match_booking  score_match  \n",
       "0                           los lagos lodge    44.608696  \n",
       "1                           los lagos lodge    44.608696  \n",
       "2                               hotel royal    54.545455  \n",
       "3                tucantico lodge monteverde    50.625000  \n",
       "4                                   ty avel    55.384615  \n",
       "..                                      ...          ...  \n",
       "274  hotel novotel brussels off grand place    85.500000  \n",
       "275                                  hostel    60.000000  \n",
       "276                                  hostel    60.000000  \n",
       "277                        nh genova centro    50.400000  \n",
       "278                        nh genova centro    50.400000  \n",
       "\n",
       "[279 rows x 6 columns]"
      ]
     },
     "execution_count": 48,
     "metadata": {},
     "output_type": "execute_result"
    }
   ],
   "source": [
    "from rapidfuzz import process, fuzz\n",
    "\n",
    "booking_names = booking['property_name_norm'].dropna().unique().tolist()\n",
    "\n",
    "def trouver_meilleur_match(nom):\n",
    "    if not isinstance(nom, str) or not nom:\n",
    "        return None, 0\n",
    "    match, score, _ = process.extractOne(\n",
    "        nom,\n",
    "        booking_names,\n",
    "        scorer=fuzz.WRatio  # mélange plusieurs logiques\n",
    "    )\n",
    "    return match, score\n",
    "\n",
    "df_tmp[['match_booking', 'score_match']] = df_tmp['nom_hotel_norm'].apply(\n",
    "    lambda x: pd.Series(trouver_meilleur_match(x))\n",
    ")\n",
    "\n",
    "df_tmp[['nom_hotel_norm', 'match_booking', 'score_match']].sort_values('score_match', ascending=False).head(20)\n",
    "df_tmp\n"
   ]
  },
  {
   "cell_type": "code",
   "execution_count": null,
   "metadata": {},
   "outputs": [
    {
     "data": {
      "application/vnd.microsoft.datawrangler.viewer.v0+json": {
       "columns": [
        {
         "name": "index",
         "rawType": "int64",
         "type": "integer"
        },
        {
         "name": "URL",
         "rawType": "object",
         "type": "string"
        },
        {
         "name": "booking_links",
         "rawType": "object",
         "type": "string"
        },
        {
         "name": "balise_h2",
         "rawType": "object",
         "type": "string"
        },
        {
         "name": "nom_hotel_norm",
         "rawType": "object",
         "type": "string"
        },
        {
         "name": "match_booking",
         "rawType": "object",
         "type": "string"
        },
        {
         "name": "score_match",
         "rawType": "float64",
         "type": "float"
        }
       ],
       "ref": "d8610b8a-2470-4b51-b944-713643262c18",
       "rows": [
        [
         "3",
         "https://www.petitfute.com/v62250-kew/actualite/m17-top-10-insolites-voyage/a11635-que-faire-a-londres-a-noel-les-14-activites-incontournables.html",
         "https://www.booking.com/hotel/gb/sanderson.fr.html?aid=2324560&no_rooms=1&group_adults=2&label=actu-londres-noel",
         "Sanderson London",
         "sanderson london",
         "eurostars conquistador",
         "47.36842105263158"
        ]
       ],
       "shape": {
        "columns": 6,
        "rows": 1
       }
      },
      "text/html": [
       "<div>\n",
       "<style scoped>\n",
       "    .dataframe tbody tr th:only-of-type {\n",
       "        vertical-align: middle;\n",
       "    }\n",
       "\n",
       "    .dataframe tbody tr th {\n",
       "        vertical-align: top;\n",
       "    }\n",
       "\n",
       "    .dataframe thead th {\n",
       "        text-align: right;\n",
       "    }\n",
       "</style>\n",
       "<table border=\"1\" class=\"dataframe\">\n",
       "  <thead>\n",
       "    <tr style=\"text-align: right;\">\n",
       "      <th></th>\n",
       "      <th>URL</th>\n",
       "      <th>booking_links</th>\n",
       "      <th>balise_h2</th>\n",
       "      <th>nom_hotel_norm</th>\n",
       "      <th>match_booking</th>\n",
       "      <th>score_match</th>\n",
       "    </tr>\n",
       "  </thead>\n",
       "  <tbody>\n",
       "    <tr>\n",
       "      <th>3</th>\n",
       "      <td>https://www.petitfute.com/v62250-kew/actualite...</td>\n",
       "      <td>https://www.booking.com/hotel/gb/sanderson.fr....</td>\n",
       "      <td>Sanderson London</td>\n",
       "      <td>sanderson london</td>\n",
       "      <td>eurostars conquistador</td>\n",
       "      <td>47.368421</td>\n",
       "    </tr>\n",
       "  </tbody>\n",
       "</table>\n",
       "</div>"
      ],
      "text/plain": [
       "                                                 URL  \\\n",
       "3  https://www.petitfute.com/v62250-kew/actualite...   \n",
       "\n",
       "                                       booking_links         balise_h2  \\\n",
       "3  https://www.booking.com/hotel/gb/sanderson.fr....  Sanderson London   \n",
       "\n",
       "     nom_hotel_norm           match_booking  score_match  \n",
       "3  sanderson london  eurostars conquistador    47.368421  "
      ]
     },
     "execution_count": 26,
     "metadata": {},
     "output_type": "execute_result"
    }
   ],
   "source": [
    "df_tmp[df_tmp['nom_hotel_norm'].str.contains('sanderson')]"
   ]
  },
  {
   "cell_type": "code",
   "execution_count": 32,
   "metadata": {},
   "outputs": [
    {
     "data": {
      "application/vnd.microsoft.datawrangler.viewer.v0+json": {
       "columns": [
        {
         "name": "index",
         "rawType": "int64",
         "type": "integer"
        },
        {
         "name": "Booking date",
         "rawType": "object",
         "type": "string"
        },
        {
         "name": "Booking number",
         "rawType": "int64",
         "type": "integer"
        },
        {
         "name": "Check-in date",
         "rawType": "object",
         "type": "string"
        },
        {
         "name": "Check-out date",
         "rawType": "object",
         "type": "string"
        },
        {
         "name": "Length of stay",
         "rawType": "int64",
         "type": "integer"
        },
        {
         "name": "Booking window",
         "rawType": "int64",
         "type": "integer"
        },
        {
         "name": "Status",
         "rawType": "object",
         "type": "string"
        },
        {
         "name": "Your commission",
         "rawType": "float64",
         "type": "float"
        },
        {
         "name": "Commission %",
         "rawType": "float64",
         "type": "float"
        },
        {
         "name": "Credit slip ",
         "rawType": "float64",
         "type": "float"
        },
        {
         "name": "Property name",
         "rawType": "object",
         "type": "string"
        },
        {
         "name": "Property type",
         "rawType": "object",
         "type": "string"
        },
        {
         "name": "Country",
         "rawType": "object",
         "type": "string"
        },
        {
         "name": "City",
         "rawType": "object",
         "type": "string"
        },
        {
         "name": "UFI",
         "rawType": "int64",
         "type": "integer"
        },
        {
         "name": "Affiliate ID",
         "rawType": "int64",
         "type": "integer"
        },
        {
         "name": "Label",
         "rawType": "object",
         "type": "string"
        },
        {
         "name": "Booker country",
         "rawType": "object",
         "type": "string"
        },
        {
         "name": "Booker language",
         "rawType": "object",
         "type": "string"
        },
        {
         "name": "User device",
         "rawType": "object",
         "type": "string"
        },
        {
         "name": "Travel purpose",
         "rawType": "object",
         "type": "string"
        },
        {
         "name": "property_name_norm",
         "rawType": "object",
         "type": "string"
        }
       ],
       "ref": "90a82dab-7b08-438d-b5db-a8fafb502c62",
       "rows": [],
       "shape": {
        "columns": 22,
        "rows": 0
       }
      },
      "text/html": [
       "<div>\n",
       "<style scoped>\n",
       "    .dataframe tbody tr th:only-of-type {\n",
       "        vertical-align: middle;\n",
       "    }\n",
       "\n",
       "    .dataframe tbody tr th {\n",
       "        vertical-align: top;\n",
       "    }\n",
       "\n",
       "    .dataframe thead th {\n",
       "        text-align: right;\n",
       "    }\n",
       "</style>\n",
       "<table border=\"1\" class=\"dataframe\">\n",
       "  <thead>\n",
       "    <tr style=\"text-align: right;\">\n",
       "      <th></th>\n",
       "      <th>Booking date</th>\n",
       "      <th>Booking number</th>\n",
       "      <th>Check-in date</th>\n",
       "      <th>Check-out date</th>\n",
       "      <th>Length of stay</th>\n",
       "      <th>Booking window</th>\n",
       "      <th>Status</th>\n",
       "      <th>Your commission</th>\n",
       "      <th>Commission %</th>\n",
       "      <th>Credit slip</th>\n",
       "      <th>...</th>\n",
       "      <th>Country</th>\n",
       "      <th>City</th>\n",
       "      <th>UFI</th>\n",
       "      <th>Affiliate ID</th>\n",
       "      <th>Label</th>\n",
       "      <th>Booker country</th>\n",
       "      <th>Booker language</th>\n",
       "      <th>User device</th>\n",
       "      <th>Travel purpose</th>\n",
       "      <th>property_name_norm</th>\n",
       "    </tr>\n",
       "  </thead>\n",
       "  <tbody>\n",
       "  </tbody>\n",
       "</table>\n",
       "<p>0 rows × 22 columns</p>\n",
       "</div>"
      ],
      "text/plain": [
       "Empty DataFrame\n",
       "Columns: [Booking date, Booking number, Check-in date, Check-out date, Length of stay, Booking window, Status, Your commission, Commission %, Credit slip , Property name, Property type, Country, City, UFI, Affiliate ID, Label, Booker country, Booker language, User device, Travel purpose, property_name_norm]\n",
       "Index: []\n",
       "\n",
       "[0 rows x 22 columns]"
      ]
     },
     "execution_count": 32,
     "metadata": {},
     "output_type": "execute_result"
    }
   ],
   "source": [
    "df_tmp[df_tmp['booking_links']=='https://www.booking.com/hotel/gb/sanderson.fr.html?aid=2324560&no_rooms=1&group_adults=2&label=actu-londres-noel']\n",
    "df_tmp[df_tmp['match_booking'].str.contains('sanderson')]\n",
    "booking[booking['Property name'].str.lower().str.contains('sanderson')]\n"
   ]
  },
  {
   "cell_type": "code",
   "execution_count": 33,
   "metadata": {},
   "outputs": [
    {
     "name": "stdout",
     "output_type": "stream",
     "text": [
      "_merge\n",
      "left_only     277\n",
      "both            2\n",
      "right_only      0\n",
      "Name: count, dtype: int64\n"
     ]
    }
   ],
   "source": [
    "print(df_jointure['_merge'].value_counts()\n",
    ")"
   ]
  }
 ],
 "metadata": {
  "kernelspec": {
   "display_name": "Python 3",
   "language": "python",
   "name": "python3"
  },
  "language_info": {
   "codemirror_mode": {
    "name": "ipython",
    "version": 3
   },
   "file_extension": ".py",
   "mimetype": "text/x-python",
   "name": "python",
   "nbconvert_exporter": "python",
   "pygments_lexer": "ipython3",
   "version": "3.12.5"
  }
 },
 "nbformat": 4,
 "nbformat_minor": 2
}
